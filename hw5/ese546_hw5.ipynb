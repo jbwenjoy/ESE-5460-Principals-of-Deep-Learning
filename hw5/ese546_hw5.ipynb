{
 "cells": [
  {
   "cell_type": "code",
   "id": "initial_id",
   "metadata": {
    "collapsed": true,
    "ExecuteTime": {
     "end_time": "2024-12-04T20:29:50.868792Z",
     "start_time": "2024-12-04T20:29:47.163785Z"
    }
   },
   "source": [
    "import torch\n",
    "import torchvision\n",
    "import torch.nn as nn\n",
    "import torch.nn.functional as F\n",
    "from torch.utils.tensorboard import SummaryWriter\n",
    "import torchvision.transforms as transforms\n",
    "import torch.optim as optim\n",
    "import matplotlib.pyplot as plt\n",
    "import numpy as np\n",
    "import os, sys, subprocess, json, argparse\n",
    "from itertools import product\n",
    "from collections import defaultdict"
   ],
   "outputs": [],
   "execution_count": 1
  },
  {
   "metadata": {
    "ExecuteTime": {
     "end_time": "2024-12-04T20:29:50.916665Z",
     "start_time": "2024-12-04T20:29:50.873Z"
    }
   },
   "cell_type": "code",
   "source": [
    "device = torch.device('cuda' if torch.cuda.is_available() else 'cpu')\n",
    "print(\"device:\", device)\n",
    "\n",
    "dir_root = '.'\n",
    "# If using google colab\n",
    "if 'google.colab' in str(get_ipython()):\n",
    "    from google.colab import drive\n",
    "    drive.mount('/content/drive/')\n",
    "    dir_root = '/content/drive/MyDrive/Colab Notebooks/ESE546/hw4'\n",
    "\n",
    "print(\"dir_root:\", dir_root)"
   ],
   "id": "325b963dc513aba1",
   "outputs": [
    {
     "name": "stdout",
     "output_type": "stream",
     "text": [
      "device: cuda\n",
      "dir_root: .\n"
     ]
    }
   ],
   "execution_count": 2
  },
  {
   "metadata": {
    "ExecuteTime": {
     "end_time": "2024-12-04T20:29:51.235559Z",
     "start_time": "2024-12-04T20:29:51.188504Z"
    }
   },
   "cell_type": "code",
   "source": [
    "# Download the MNIST dataset (skip if already exists)\n",
    "train_dataset = torchvision.datasets.MNIST(root='./data', train=True, transform=transforms.ToTensor(), download=True)\n",
    "test_dataset = torchvision.datasets.MNIST(root='./data', train=False, transform=transforms.ToTensor(), download=True)\n",
    "print(train_dataset.data.shape)\n",
    "print(test_dataset.data.shape)"
   ],
   "id": "1c67e453591ffac7",
   "outputs": [
    {
     "name": "stdout",
     "output_type": "stream",
     "text": [
      "torch.Size([60000, 28, 28])\n",
      "torch.Size([10000, 28, 28])\n"
     ]
    }
   ],
   "execution_count": 3
  },
  {
   "metadata": {
    "ExecuteTime": {
     "end_time": "2024-12-04T20:29:57.026597Z",
     "start_time": "2024-12-04T20:29:51.314266Z"
    }
   },
   "cell_type": "code",
   "source": [
    "# Create dictionaries to store indices for each digit\n",
    "digit_to_indices = defaultdict(list)\n",
    "\n",
    "# Get indices for each digit in the training set\n",
    "for idx, (_, label) in enumerate(train_dataset):\n",
    "    digit_to_indices[label].append(idx)\n",
    "\n",
    "# Extract 1000 images per digit and subsample to 14x14\n",
    "images_per_digit = 1000\n",
    "target_size = 14\n",
    "extracted_images = {}\n",
    "extracted_labels = {}\n",
    "\n",
    "for digit in range(10):\n",
    "    # Randomly sample 1000 indices for this digit\n",
    "    selected_indices = np.random.choice(digit_to_indices[digit], images_per_digit, replace=False)\n",
    "    \n",
    "    digit_images = []\n",
    "    digit_labels = []\n",
    "    \n",
    "    for idx in selected_indices:\n",
    "        image, label = train_dataset[idx]\n",
    "        # Subsample image to 14x14\n",
    "        # Add batch dimension for F.interpolate\n",
    "        image = image.unsqueeze(0)\n",
    "        image = F.interpolate(image, size=(target_size, target_size), mode='bilinear', align_corners=False)\n",
    "        image = image.squeeze(0)\n",
    "        \n",
    "        digit_images.append(image)\n",
    "        digit_labels.append(label)\n",
    "    \n",
    "    # Stack the images and labels\n",
    "    extracted_images[digit] = torch.stack(digit_images)\n",
    "    extracted_labels[digit] = torch.tensor(digit_labels)\n",
    "\n",
    "# Combine all digits into single tensors\n",
    "all_images = torch.cat([extracted_images[d] for d in range(10)])  # Shape: [10000, 1, 14, 14]\n",
    "all_labels = torch.cat([extracted_labels[d] for d in range(10)])  # Shape: [10000]"
   ],
   "id": "62d663b80b0b8241",
   "outputs": [],
   "execution_count": 4
  },
  {
   "metadata": {
    "ExecuteTime": {
     "end_time": "2024-12-04T20:30:00.218265Z",
     "start_time": "2024-12-04T20:29:57.076259Z"
    }
   },
   "cell_type": "code",
   "source": [
    "# Validate the dataset\n",
    "\n",
    "print(all_images.shape)  # Shape: [10000, 1, 14, 14]\n",
    "print(all_labels.shape)  # Shape: [10000]\n",
    "\n",
    "# Check if each digit has 1000 images\n",
    "for digit in range(10):\n",
    "    num_images = (all_labels == digit).sum().item()\n",
    "    print(f\"Digit {digit} has {num_images} images\")\n",
    "\n",
    "# Randomly visualize 10 images per label to check if labels and images correspond\n",
    "def visualize_random_images_per_label(images, labels, num_images=10):\n",
    "    fig, axs = plt.subplots(10, num_images, figsize=(num_images, 10))\n",
    "    \n",
    "    for digit in range(10):\n",
    "        digit_indices = (labels == digit).nonzero(as_tuple=True)[0]\n",
    "        # Randomly select num_images indices\n",
    "        selected_indices = np.random.choice(digit_indices, num_images, replace=False)\n",
    "        \n",
    "        for i, idx in enumerate(selected_indices):\n",
    "            axs[digit, i].imshow(images[idx].squeeze(0), cmap='gray')\n",
    "            axs[digit, i].axis('off')\n",
    "            axs[digit, i].set_title(labels[idx].item())\n",
    "    \n",
    "    plt.tight_layout()\n",
    "    plt.show()\n",
    "\n",
    "# Visualize the images and labels\n",
    "visualize_random_images_per_label(all_images, all_labels)"
   ],
   "id": "324758095e50c96e",
   "outputs": [
    {
     "name": "stdout",
     "output_type": "stream",
     "text": [
      "torch.Size([10000, 1, 14, 14])\n",
      "torch.Size([10000])\n",
      "Digit 0 has 1000 images\n",
      "Digit 1 has 1000 images\n",
      "Digit 2 has 1000 images\n",
      "Digit 3 has 1000 images\n",
      "Digit 4 has 1000 images\n",
      "Digit 5 has 1000 images\n",
      "Digit 6 has 1000 images\n",
      "Digit 7 has 1000 images\n",
      "Digit 8 has 1000 images\n",
      "Digit 9 has 1000 images\n"
     ]
    },
    {
     "data": {
      "text/plain": [
       "<Figure size 1000x1000 with 100 Axes>"
      ],
      "image/png": "[encoded data removed]"
     },
     "metadata": {},
     "output_type": "display_data"
    }
   ],
   "execution_count": 5
  },
  {
   "metadata": {
    "ExecuteTime": {
     "end_time": "2024-12-04T20:30:00.501909Z",
     "start_time": "2024-12-04T20:30:00.485891Z"
    }
   },
   "cell_type": "code",
   "source": [
    "class VAE(nn.Module):\n",
    "    def __init__(self):\n",
    "        super(VAE, self).__init__()\n",
    "        \n",
    "        # Encoder (14x14=196 inputs -> 128 -> 16 for mean and std dev)\n",
    "        self.encoder_fc1 = nn.Linear(14 * 14, 128)\n",
    "        self.encoder_fc2 = nn.Linear(128, 16)  # 8 for mean, 8 for std dev\n",
    "        \n",
    "        # Decoder (8 -> 128 -> 196 outputs)\n",
    "        self.decoder_fc1 = nn.Linear(8, 128)\n",
    "        self.decoder_fc2 = nn.Linear(128, 14 * 14)\n",
    "        \n",
    "    def encode(self, x):\n",
    "        # Flatten the input\n",
    "        x = x.view(-1, 14 * 14)\n",
    "        \n",
    "        h1 = torch.tanh(self.encoder_fc1(x))\n",
    "        h2 = self.encoder_fc2(h1)\n",
    "        \n",
    "        # Split into mean and log_var\n",
    "        mean = h2[:, :8]\n",
    "        log_var = h2[:, 8:]\n",
    "        return mean, log_var\n",
    "    \n",
    "    def reparameterize(self, mu, log_var):\n",
    "        std = torch.exp(0.5 * log_var)\n",
    "        eps = torch.randn_like(std)\n",
    "        return mu + eps * std\n",
    "    \n",
    "    def decode(self, z):\n",
    "        h3 = torch.tanh(self.decoder_fc1(z))\n",
    "        h4 = torch.sigmoid(self.decoder_fc2(h3))\n",
    "        \n",
    "        # Reshape to image dimensions\n",
    "        return h4.view(-1, 1, 14, 14)\n",
    "    \n",
    "    def forward(self, x):\n",
    "        mu, log_var = self.encode(x)\n",
    "        z = self.reparameterize(mu, log_var)\n",
    "        return self.decode(z), mu, log_var\n",
    "\n",
    "def loss_function(recon_x, x, mu, log_var):\n",
    "    # Reconstruction loss (binary cross entropy as we're using binarized MNIST)\n",
    "    BCE = F.binary_cross_entropy(recon_x.view(-1, 14*14), x.view(-1, 14*14), reduction='sum')\n",
    "    \n",
    "    # KL divergence\n",
    "    KLD = -0.5 * torch.sum(1 + log_var - mu.pow(2) - log_var.exp())\n",
    "    \n",
    "    return BCE + KLD\n",
    "\n",
    "# Training function\n",
    "def train_vae(model, train_loader, optimizer, epoch):\n",
    "    model.train()\n",
    "    train_loss = 0\n",
    "    \n",
    "    for batch_idx, data in enumerate(train_loader):\n",
    "        optimizer.zero_grad()\n",
    "        \n",
    "        recon_batch, mu, log_var = model(data)\n",
    "        loss = loss_function(recon_batch, data, mu, log_var)\n",
    "        \n",
    "        loss.backward()\n",
    "        train_loss += loss.item()\n",
    "        optimizer.step()\n",
    "        \n",
    "    return train_loss / len(train_loader.dataset)\n",
    "\n",
    "# Setup training\n",
    "batch_size = 128\n",
    "train_loader = torch.utils.data.DataLoader(\n",
    "    torch.utils.data.TensorDataset(all_images),\n",
    "    batch_size=batch_size, shuffle=True)\n",
    "\n",
    "model = VAE().to(device)\n",
    "optimizer = optim.Adam(model.parameters(), lr=1e-3)\n",
    "\n",
    "# Training loop\n",
    "n_epochs = 50\n",
    "for epoch in range(1, n_epochs + 1):\n",
    "    train_loss = train_vae(model, train_loader, optimizer, epoch)\n",
    "    if epoch % 10 == 0:\n",
    "        print(f'Epoch {epoch}: Average loss = {train_loss:.4f}')"
   ],
   "id": "17d97a6d4456c8a8",
   "outputs": [],
   "execution_count": null
  },
  {
   "metadata": {
    "ExecuteTime": {
     "end_time": "2024-12-04T20:30:00.565359Z",
     "start_time": "2024-12-04T20:30:00.549462Z"
    }
   },
   "cell_type": "code",
   "source": "",
   "id": "53a7abaf4892d90d",
   "outputs": [],
   "execution_count": null
  },
  {
   "metadata": {
    "ExecuteTime": {
     "end_time": "2024-12-04T20:30:00.617034Z",
     "start_time": "2024-12-04T20:30:00.601097Z"
    }
   },
   "cell_type": "code",
   "source": "",
   "id": "42b74e7a8f2ef4fa",
   "outputs": [],
   "execution_count": null
  },
  {
   "metadata": {
    "ExecuteTime": {
     "end_time": "2024-12-04T20:30:00.680418Z",
     "start_time": "2024-12-04T20:30:00.665681Z"
    }
   },
   "cell_type": "code",
   "source": "",
   "id": "2bfa29c9ef4b8deb",
   "outputs": [],
   "execution_count": null
  },
  {
   "metadata": {
    "ExecuteTime": {
     "end_time": "2024-12-04T20:30:00.744359Z",
     "start_time": "2024-12-04T20:30:00.730123Z"
    }
   },
   "cell_type": "code",
   "source": "",
   "id": "81a3e3e02593582a",
   "outputs": [],
   "execution_count": null
  },
  {
   "metadata": {
    "ExecuteTime": {
     "end_time": "2024-12-04T20:30:00.808160Z",
     "start_time": "2024-12-04T20:30:00.793712Z"
    }
   },
   "cell_type": "code",
   "source": "",
   "id": "5ec0526611fdf8ff",
   "outputs": [],
   "execution_count": null
  },
  {
   "metadata": {
    "ExecuteTime": {
     "end_time": "2024-12-04T20:30:00.871066Z",
     "start_time": "2024-12-04T20:30:00.855437Z"
    }
   },
   "cell_type": "code",
   "source": "",
   "id": "6ae0332922c795de",
   "outputs": [],
   "execution_count": null
  },
  {
   "metadata": {
    "ExecuteTime": {
     "end_time": "2024-12-04T20:31:00.939290Z",
     "start_time": "2024-12-04T20:30:00.918859Z"
    }
   },
   "cell_type": "code",
   "source": [
    "# Shut down if it's google colab\n",
    "# First sleep for a while so that changes to the notebook are saved\n",
    "import time\n",
    "time.sleep(30)\n",
    "\n",
    "if 'google.colab' in str(get_ipython()):\n",
    "    from google.colab import runtime\n",
    "    runtime.unassign()"
   ],
   "id": "462f367a4a1ef54",
   "outputs": [],
   "execution_count": 6
  }
 ],
 "metadata": {
  "kernelspec": {
   "display_name": "Python 3",
   "language": "python",
   "name": "python3"
  },
  "language_info": {
   "codemirror_mode": {
    "name": "ipython",
    "version": 2
   },
   "file_extension": ".py",
   "mimetype": "text/x-python",
   "name": "python",
   "nbconvert_exporter": "python",
   "pygments_lexer": "ipython2",
   "version": "2.7.6"
  }
 },
 "nbformat": 4,
 "nbformat_minor": 5
}
