{
 "cells": [
  {
   "cell_type": "code",
   "id": "initial_id",
   "metadata": {
    "collapsed": true,
    "ExecuteTime": {
     "end_time": "2024-12-08T04:26:59.442529Z",
     "start_time": "2024-12-08T04:26:55.388769Z"
    }
   },
   "source": [
    "import torch\n",
    "import torchvision\n",
    "import torch.nn as nn\n",
    "import torch.nn.functional as F\n",
    "from torch.utils.tensorboard import SummaryWriter\n",
    "import torchvision.transforms as transforms\n",
    "import torch.optim as optim\n",
    "import matplotlib.pyplot as plt\n",
    "import numpy as np\n",
    "import os, sys, subprocess, json, argparse\n",
    "from itertools import product\n",
    "from collections import defaultdict"
   ],
   "outputs": [],
   "execution_count": 1
  },
  {
   "metadata": {
    "ExecuteTime": {
     "end_time": "2024-12-08T04:27:00.333438Z",
     "start_time": "2024-12-08T04:26:59.447149Z"
    }
   },
   "cell_type": "code",
   "source": [
    "device = torch.device('cuda' if torch.cuda.is_available() else 'cpu')\n",
    "print(\"device:\", device)\n",
    "\n",
    "dir_root = ''\n",
    "# If using google colab\n",
    "if 'google.colab' in str(get_ipython()):\n",
    "    from google.colab import drive\n",
    "    drive.mount('/content/drive/')\n",
    "    dir_root = '/content/drive/MyDrive/Colab Notebooks/ESE546/hw4'\n",
    "\n",
    "print(\"dir_root:\", dir_root)"
   ],
   "id": "325b963dc513aba1",
   "outputs": [
    {
     "name": "stdout",
     "output_type": "stream",
     "text": [
      "device: cuda\n",
      "dir_root: \n"
     ]
    }
   ],
   "execution_count": 2
  },
  {
   "metadata": {
    "ExecuteTime": {
     "end_time": "2024-12-08T04:27:00.675850Z",
     "start_time": "2024-12-08T04:27:00.631657Z"
    }
   },
   "cell_type": "code",
   "source": [
    "# Download the MNIST dataset (skip if already exists)\n",
    "train_dataset = torchvision.datasets.MNIST(root='./data', train=True, transform=transforms.ToTensor(), download=True)\n",
    "test_dataset = torchvision.datasets.MNIST(root='./data', train=False, transform=transforms.ToTensor(), download=True)\n",
    "print(train_dataset.data.shape)\n",
    "print(test_dataset.data.shape)"
   ],
   "id": "1c67e453591ffac7",
   "outputs": [
    {
     "name": "stdout",
     "output_type": "stream",
     "text": [
      "torch.Size([60000, 28, 28])\n",
      "torch.Size([10000, 28, 28])\n"
     ]
    }
   ],
   "execution_count": 3
  },
  {
   "metadata": {
    "ExecuteTime": {
     "end_time": "2024-12-08T04:27:06.474434Z",
     "start_time": "2024-12-08T04:27:00.693941Z"
    }
   },
   "cell_type": "code",
   "source": [
    "# Create dictionaries to store indices for each digit\n",
    "digit_to_indices = defaultdict(list)\n",
    "\n",
    "# Get indices for each digit in the training set\n",
    "for idx, (_, label) in enumerate(train_dataset):\n",
    "    digit_to_indices[label].append(idx)\n",
    "\n",
    "# Extract 1000 images per digit and subsample to 14x14\n",
    "images_per_digit = 1000\n",
    "target_size = 14\n",
    "extracted_images = {}\n",
    "extracted_labels = {}\n",
    "\n",
    "for digit in range(10):\n",
    "    # Randomly sample 1000 indices for this digit\n",
    "    selected_indices = np.random.choice(digit_to_indices[digit], images_per_digit, replace=False)\n",
    "    \n",
    "    digit_images = []\n",
    "    digit_labels = []\n",
    "    \n",
    "    for idx in selected_indices:\n",
    "        image, label = train_dataset[idx]\n",
    "        # Subsample image to 14x14\n",
    "        # Add batch dimension for F.interpolate\n",
    "        image = image.unsqueeze(0)\n",
    "        image = F.interpolate(image, size=(target_size, target_size), mode='bilinear', align_corners=False)\n",
    "        image = image.squeeze(0)\n",
    "        \n",
    "        digit_images.append(image)\n",
    "        digit_labels.append(label)\n",
    "    \n",
    "    # Stack the images and labels\n",
    "    extracted_images[digit] = torch.stack(digit_images)\n",
    "    extracted_labels[digit] = torch.tensor(digit_labels)\n",
    "\n",
    "# Combine all digits into single tensors\n",
    "all_images = torch.cat([extracted_images[d] for d in range(10)])  # Shape: [10000, 1, 14, 14]\n",
    "all_images = (all_images > 0.5).float()  # Binarize the images\n",
    "all_labels = torch.cat([extracted_labels[d] for d in range(10)])  # Shape: [10000]"
   ],
   "id": "62d663b80b0b8241",
   "outputs": [],
   "execution_count": 4
  },
  {
   "metadata": {
    "ExecuteTime": {
     "end_time": "2024-12-08T04:27:09.782307Z",
     "start_time": "2024-12-08T04:27:06.521838Z"
    }
   },
   "cell_type": "code",
   "source": [
    "# Validate the dataset\n",
    "\n",
    "print(all_images.shape)  # Shape: [10000, 1, 14, 14]\n",
    "print(all_labels.shape)  # Shape: [10000]\n",
    "\n",
    "# Check if each digit has 1000 images\n",
    "for digit in range(10):\n",
    "    num_images = (all_labels == digit).sum().item()\n",
    "    print(f\"Digit {digit} has {num_images} images\")\n",
    "\n",
    "# Randomly visualize 10 images per label to check if labels and images correspond\n",
    "def visualize_random_images_per_label(images, labels, num_images=10):\n",
    "    fig, axs = plt.subplots(10, num_images, figsize=(num_images, 10))\n",
    "    \n",
    "    for digit in range(10):\n",
    "        digit_indices = (labels == digit).nonzero(as_tuple=True)[0]\n",
    "        # Randomly select num_images indices\n",
    "        selected_indices = np.random.choice(digit_indices, num_images, replace=False)\n",
    "        \n",
    "        for i, idx in enumerate(selected_indices):\n",
    "            axs[digit, i].imshow(images[idx].squeeze(0), cmap='gray')\n",
    "            axs[digit, i].axis('off')\n",
    "            axs[digit, i].set_title(labels[idx].item())\n",
    "    \n",
    "    plt.tight_layout()\n",
    "    plt.show()\n",
    "\n",
    "# Visualize the images and labels\n",
    "visualize_random_images_per_label(all_images, all_labels)"
   ],
   "id": "324758095e50c96e",
   "outputs": [
    {
     "name": "stdout",
     "output_type": "stream",
     "text": [
      "torch.Size([10000, 1, 14, 14])\n",
      "torch.Size([10000])\n",
      "Digit 0 has 1000 images\n",
      "Digit 1 has 1000 images\n",
      "Digit 2 has 1000 images\n",
      "Digit 3 has 1000 images\n",
      "Digit 4 has 1000 images\n",
      "Digit 5 has 1000 images\n",
      "Digit 6 has 1000 images\n",
      "Digit 7 has 1000 images\n",
      "Digit 8 has 1000 images\n",
      "Digit 9 has 1000 images\n"
     ]
    },
    {
     "data": {
      "text/plain": [
       "<Figure size 1000x1000 with 100 Axes>"
      ],
      "image/png": "[encoded data removed]"
     },
     "metadata": {},
     "output_type": "display_data"
    }
   ],
   "execution_count": 5
  },
  {
   "metadata": {
    "ExecuteTime": {
     "end_time": "2024-12-08T04:27:10.076533Z",
     "start_time": "2024-12-08T04:27:10.063696Z"
    }
   },
   "cell_type": "code",
   "source": [
    "class VAE(nn.Module):\n",
    "    def __init__(self):\n",
    "        super(VAE, self).__init__()\n",
    "        \n",
    "        # Encoder (14x14=196 inputs -> 128 -> 16 for mean and std dev)\n",
    "        self.encoder_fc1 = nn.Linear(14 * 14, 128)\n",
    "        self.encoder_fc2 = nn.Linear(128, 16)  # 8 for mean, 8 for std dev\n",
    "        \n",
    "        # Decoder (8 -> 128 -> 196 outputs)\n",
    "        self.decoder_fc1 = nn.Linear(8, 128)\n",
    "        self.decoder_fc2 = nn.Linear(128, 14 * 14)\n",
    "        \n",
    "    def encode(self, x):\n",
    "        # Flatten the input\n",
    "        x = x.view(-1, 14 * 14)\n",
    "        \n",
    "        h1 = torch.tanh(self.encoder_fc1(x))\n",
    "        h2 = self.encoder_fc2(h1)\n",
    "        \n",
    "        # Split into mean and log_var\n",
    "        mean = h2[:, :8]\n",
    "        log_var = h2[:, 8:]\n",
    "        return mean, log_var\n",
    "    \n",
    "    def reparameterize(self, mu, log_var):\n",
    "        std = torch.exp(0.5 * log_var)\n",
    "        eps = torch.randn_like(std)\n",
    "        return mu + eps * std\n",
    "    \n",
    "    def decode(self, z):\n",
    "        h3 = torch.tanh(self.decoder_fc1(z))\n",
    "        h4 = torch.sigmoid(self.decoder_fc2(h3))\n",
    "        \n",
    "        return h4.view(-1, 1, 14, 14)\n",
    "    \n",
    "    def forward(self, x):\n",
    "        mu, log_var = self.encode(x)\n",
    "        z = self.reparameterize(mu, log_var)\n",
    "        return self.decode(z), mu, log_var\n",
    "\n",
    "def loss_function(x, mu, log_var):\n",
    "    # Sample z twice and average the reconstruction loss\n",
    "    z1 = model.reparameterize(mu, log_var)\n",
    "    recon_x1 = model.decode(z1)\n",
    "    z2 = model.reparameterize(mu, log_var)\n",
    "    recon_x2 = model.decode(z2)\n",
    "    \n",
    "    # Compute log p_v(x|z) for both samples using Bernoulli log probability\n",
    "    log_p1 = torch.sum(\n",
    "        x.view(-1, 14*14) * torch.log(recon_x1.view(-1, 14*14) + 1e-8) + \n",
    "        (1-x.view(-1, 14*14)) * torch.log(1-recon_x1.view(-1, 14*14) + 1e-8),\n",
    "        dim=1\n",
    "    )\n",
    "    log_p2 = torch.sum(\n",
    "        x.view(-1, 14*14) * torch.log(recon_x2.view(-1, 14*14) + 1e-8) + \n",
    "        (1-x.view(-1, 14*14)) * torch.log(1-recon_x2.view(-1, 14*14) + 1e-8),\n",
    "        dim=1\n",
    "    )\n",
    "    expected_log_p = 0.5 * (log_p1 + log_p2).mean()\n",
    "    \n",
    "    # KL divergence\n",
    "    KLD = -0.5 * torch.sum(1 + log_var - mu.pow(2) - log_var.exp(), dim=1).mean()\n",
    "    \n",
    "    return -(expected_log_p - KLD)\n",
    "\n",
    "# Training function\n",
    "def train_vae(model, train_loader, optimizer, epoch):\n",
    "    model.train()\n",
    "    train_loss = 0\n",
    "    \n",
    "    for batch_idx, data in enumerate(train_loader):\n",
    "        data = data[0].to(device)\n",
    "        optimizer.zero_grad()\n",
    "        \n",
    "        recon_batch, mu, log_var = model(data)\n",
    "        loss = loss_function(data, mu, log_var)\n",
    "        \n",
    "        loss.backward()\n",
    "        train_loss += loss.item()\n",
    "        optimizer.step()\n",
    "        \n",
    "    return train_loss / len(train_loader.dataset)"
   ],
   "id": "198f994cec0f2a7e",
   "outputs": [],
   "execution_count": 6
  },
  {
   "metadata": {
    "ExecuteTime": {
     "end_time": "2024-12-08T04:27:52.498242Z",
     "start_time": "2024-12-08T04:27:10.125373Z"
    }
   },
   "cell_type": "code",
   "source": [
    "# Setup training\n",
    "batch_size = 128\n",
    "train_loader = torch.utils.data.DataLoader(\n",
    "    torch.utils.data.TensorDataset(all_images),\n",
    "    batch_size=batch_size, shuffle=True)\n",
    "\n",
    "model = VAE().to(device)\n",
    "optimizer = optim.Adam(model.parameters(), lr=1e-3)\n",
    "\n",
    "# Training loop\n",
    "n_epochs = 100\n",
    "for epoch in range(1, n_epochs + 1):\n",
    "    train_loss = train_vae(model, train_loader, optimizer, epoch)\n",
    "    if epoch % 10 == 0:\n",
    "        print(f'Epoch {epoch}: Average loss = {train_loss:.4f}')"
   ],
   "id": "af81de38b5b70d2f",
   "outputs": [
    {
     "name": "stdout",
     "output_type": "stream",
     "text": [
      "Epoch 10: Average loss = 0.3221\n",
      "Epoch 20: Average loss = 0.3005\n",
      "Epoch 30: Average loss = 0.2904\n",
      "Epoch 40: Average loss = 0.2833\n",
      "Epoch 50: Average loss = 0.2790\n",
      "Epoch 60: Average loss = 0.2751\n",
      "Epoch 70: Average loss = 0.2723\n",
      "Epoch 80: Average loss = 0.2702\n",
      "Epoch 90: Average loss = 0.2683\n",
      "Epoch 100: Average loss = 0.2671\n"
     ]
    }
   ],
   "execution_count": 7
  },
  {
   "metadata": {
    "ExecuteTime": {
     "end_time": "2024-12-08T04:27:52.845284Z",
     "start_time": "2024-12-08T04:27:52.531953Z"
    }
   },
   "cell_type": "code",
   "source": [
    "# Pick 8 MNIST images, run them through the encoder and the decoder to plot the original and reconstructed images side by side\n",
    "\n",
    "selected_indices = np.random.choice(len(all_images), 8, replace=False)\n",
    "selected_images = all_images[selected_indices]\n",
    "\n",
    "with torch.no_grad():\n",
    "    recon_images, _, _ = model(selected_images.to(device))\n",
    "    \n",
    "fig, axs = plt.subplots(2, 8, figsize=(16, 4))\n",
    "\n",
    "for i in range(8):\n",
    "    axs[0, i].imshow(selected_images[i].squeeze(0), cmap='gray')\n",
    "    axs[0, i].axis('off')\n",
    "    if i == 0:\n",
    "        axs[0, i].set_title('Original', fontsize=12)\n",
    "    \n",
    "    axs[1, i].imshow(recon_images[i].squeeze(0).cpu(), cmap='gray')\n",
    "    axs[1, i].axis('off')\n",
    "    if i == 0:\n",
    "        axs[1, i].set_title('Reconstructed', fontsize=12)\n",
    "    \n",
    "plt.tight_layout()\n",
    "plt.show()"
   ],
   "id": "53a7abaf4892d90d",
   "outputs": [
    {
     "data": {
      "text/plain": [
       "<Figure size 1600x400 with 16 Axes>"
      ],
      "image/png": "[encoded data removed]"
     },
     "metadata": {},
     "output_type": "display_data"
    }
   ],
   "execution_count": 8
  },
  {
   "metadata": {
    "ExecuteTime": {
     "end_time": "2024-12-08T04:27:52.967562Z",
     "start_time": "2024-12-08T04:27:52.954128Z"
    }
   },
   "cell_type": "code",
   "source": "",
   "id": "42b74e7a8f2ef4fa",
   "outputs": [],
   "execution_count": null
  },
  {
   "metadata": {
    "ExecuteTime": {
     "end_time": "2024-12-08T04:28:23.060222Z",
     "start_time": "2024-12-08T04:27:53.031984Z"
    }
   },
   "cell_type": "code",
   "source": [
    "# Shut down if it's google colab\n",
    "# First sleep for a while so that changes to the notebook are saved\n",
    "import time\n",
    "time.sleep(30)\n",
    "\n",
    "if 'google.colab' in str(get_ipython()):\n",
    "    from google.colab import runtime\n",
    "    runtime.unassign()"
   ],
   "id": "462f367a4a1ef54",
   "outputs": [],
   "execution_count": 9
  }
 ],
 "metadata": {
  "kernelspec": {
   "display_name": "Python 3",
   "language": "python",
   "name": "python3"
  },
  "language_info": {
   "codemirror_mode": {
    "name": "ipython",
    "version": 2
   },
   "file_extension": ".py",
   "mimetype": "text/x-python",
   "name": "python",
   "nbconvert_exporter": "python",
   "pygments_lexer": "ipython2",
   "version": "2.7.6"
  }
 },
 "nbformat": 4,
 "nbformat_minor": 5
}
