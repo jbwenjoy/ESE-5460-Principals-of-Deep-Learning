{
 "cells": [
  {
   "cell_type": "code",
   "id": "initial_id",
   "metadata": {
    "collapsed": true,
    "ExecuteTime": {
     "end_time": "2024-09-20T03:26:19.649623Z",
     "start_time": "2024-09-20T03:26:19.479770Z"
    }
   },
   "source": [
    "import numpy as np\n",
    "import pandas as pd\n",
    "from sklearn.datasets import fetch_openml\n",
    "from sklearn.metrics import accuracy_score, classification_report, confusion_matrix\n",
    "from sklearn.model_selection import train_test_split, GridSearchCV\n",
    "from sklearn.pipeline import Pipeline\n",
    "from sklearn.preprocessing import StandardScaler\n",
    "import matplotlib.pyplot as plt\n",
    "import cv2\n",
    "from sklearn import svm"
   ],
   "outputs": [],
   "execution_count": 11
  },
  {
   "metadata": {
    "ExecuteTime": {
     "end_time": "2024-09-19T21:46:55.502185Z",
     "start_time": "2024-09-19T21:46:39.365569Z"
    }
   },
   "cell_type": "code",
   "source": [
    "# Fetch the MNIST dataset\n",
    "ds = fetch_openml('mnist_784', as_frame=False)"
   ],
   "id": "9b936cd5a3a13afd",
   "outputs": [
    {
     "name": "stderr",
     "output_type": "stream",
     "text": [
      "E:\\ESE-5460\\pythonProject\\.venv\\lib\\site-packages\\sklearn\\datasets\\_openml.py:1022: FutureWarning: The default value of `parser` will change from `'liac-arff'` to `'auto'` in 1.4. You can set `parser='auto'` to silence this warning. Therefore, an `ImportError` will be raised from 1.4 if the dataset is dense and pandas is not installed. Note that the pandas parser may return different data types. See the Notes Section in fetch_openml's API doc for details.\n",
      "  warn(\n"
     ]
    }
   ],
   "execution_count": 2
  },
  {
   "metadata": {
    "ExecuteTime": {
     "end_time": "2024-09-19T21:46:56.517739Z",
     "start_time": "2024-09-19T21:46:55.804822Z"
    }
   },
   "cell_type": "code",
   "source": [
    "# Convert the data to a DataFrame\n",
    "data = pd.DataFrame(ds.data)\n",
    "labels = pd.Series(ds.target.astype(int))\n",
    "\n",
    "# Stores the final dataset (1000 for each digit)\n",
    "final_data = pd.DataFrame()\n",
    "final_labels = pd.Series()\n",
    "\n",
    "# Loop through each digit (0-9)\n",
    "for digit in range(10):\n",
    "    digit_samples = data[labels == digit]\n",
    "    sampled_digit = digit_samples.sample(n=1000, random_state=42)\n",
    "    final_data = pd.concat([final_data, sampled_digit])\n",
    "    final_labels = pd.concat([final_labels, pd.Series([digit] * 1000)])\n",
    "\n",
    "# Convert to arrays\n",
    "final_data = final_data.values\n",
    "final_labels = final_labels.values\n",
    "\n",
    "# Normalize the data (very important)\n",
    "final_data = final_data / 255.0\n",
    "\n",
    "# Split dataset\n",
    "x_train, x_test, y_train, y_test = train_test_split(final_data, final_labels, test_size=0.2, random_state=42)\n",
    "print(\"x_train shape:\", x_train.shape)\n",
    "print(\"y_train shape:\", y_train.shape)\n",
    "print(\"x_test shape:\", x_test.shape)\n",
    "print(\"y_test shape:\", y_test.shape)"
   ],
   "id": "43ff5660ded1e937",
   "outputs": [
    {
     "name": "stdout",
     "output_type": "stream",
     "text": [
      "x_train shape: (8000, 784)\n",
      "y_train shape: (8000,)\n",
      "x_test shape: (2000, 784)\n",
      "y_test shape: (2000,)\n"
     ]
    }
   ],
   "execution_count": 3
  },
  {
   "metadata": {
    "ExecuteTime": {
     "end_time": "2024-09-19T21:46:56.719077Z",
     "start_time": "2024-09-19T21:46:56.569041Z"
    }
   },
   "cell_type": "code",
   "source": [
    "# Display a image (28, 28)\n",
    "a = x_train[0].reshape((28,28))\n",
    "plt.imshow(a)"
   ],
   "id": "4f25dd20319e55de",
   "outputs": [
    {
     "data": {
      "text/plain": [
       "<matplotlib.image.AxesImage at 0x2329077da30>"
      ]
     },
     "execution_count": 4,
     "metadata": {},
     "output_type": "execute_result"
    },
    {
     "data": {
      "text/plain": [
       "<Figure size 640x480 with 1 Axes>"
      ],
      "image/png": "[encoded data removed]"
     },
     "metadata": {},
     "output_type": "display_data"
    }
   ],
   "execution_count": 4
  },
  {
   "metadata": {
    "ExecuteTime": {
     "end_time": "2024-09-19T21:46:56.975640Z",
     "start_time": "2024-09-19T21:46:56.779161Z"
    }
   },
   "cell_type": "code",
   "source": [
    "# Resize to (14, 14)\n",
    "a_resize = cv2.resize(a, (14,14))\n",
    "plt.imshow(a_resize)\n",
    "\n",
    "x_train_resize = np.zeros((x_train.shape[0], 196))\n",
    "for i in range(x_train.shape[0]):\n",
    "  x_train_resize[i] = cv2.resize(x_train[i].reshape((28,28)), (14,14)).reshape(196)\n",
    "\n",
    "x_test_resize = np.zeros((x_test.shape[0], 196))\n",
    "for i in range(x_test.shape[0]):\n",
    "  x_test_resize[i] = cv2.resize(x_test[i].reshape((28,28)), (14,14)).reshape(196)"
   ],
   "id": "d454e8debfded4de",
   "outputs": [
    {
     "data": {
      "text/plain": [
       "<Figure size 640x480 with 1 Axes>"
      ],
      "image/png": "[encoded data removed]"
     },
     "metadata": {},
     "output_type": "display_data"
    }
   ],
   "execution_count": 5
  },
  {
   "metadata": {
    "ExecuteTime": {
     "end_time": "2024-09-19T21:46:58.846822Z",
     "start_time": "2024-09-19T21:46:57.026823Z"
    }
   },
   "cell_type": "code",
   "source": [
    "# Define and fit the classifier\n",
    "classifier = svm.SVC(C=1.0, kernel='rbf', gamma='auto')\n",
    "classifier.fit(x_train_resize, y_train)"
   ],
   "id": "860ddfdaa413b82e",
   "outputs": [
    {
     "data": {
      "text/plain": [
       "SVC(gamma='auto')"
      ],
      "text/html": [
       "<style>#sk-container-id-1 {color: black;}#sk-container-id-1 pre{padding: 0;}#sk-container-id-1 div.sk-toggleable {background-color: white;}#sk-container-id-1 label.sk-toggleable__label {cursor: pointer;display: block;width: 100%;margin-bottom: 0;padding: 0.3em;box-sizing: border-box;text-align: center;}#sk-container-id-1 label.sk-toggleable__label-arrow:before {content: \"▸\";float: left;margin-right: 0.25em;color: #696969;}#sk-container-id-1 label.sk-toggleable__label-arrow:hover:before {color: black;}#sk-container-id-1 div.sk-estimator:hover label.sk-toggleable__label-arrow:before {color: black;}#sk-container-id-1 div.sk-toggleable__content {max-height: 0;max-width: 0;overflow: hidden;text-align: left;background-color: #f0f8ff;}#sk-container-id-1 div.sk-toggleable__content pre {margin: 0.2em;color: black;border-radius: 0.25em;background-color: #f0f8ff;}#sk-container-id-1 input.sk-toggleable__control:checked~div.sk-toggleable__content {max-height: 200px;max-width: 100%;overflow: auto;}#sk-container-id-1 input.sk-toggleable__control:checked~label.sk-toggleable__label-arrow:before {content: \"▾\";}#sk-container-id-1 div.sk-estimator input.sk-toggleable__control:checked~label.sk-toggleable__label {background-color: #d4ebff;}#sk-container-id-1 div.sk-label input.sk-toggleable__control:checked~label.sk-toggleable__label {background-color: #d4ebff;}#sk-container-id-1 input.sk-hidden--visually {border: 0;clip: rect(1px 1px 1px 1px);clip: rect(1px, 1px, 1px, 1px);height: 1px;margin: -1px;overflow: hidden;padding: 0;position: absolute;width: 1px;}#sk-container-id-1 div.sk-estimator {font-family: monospace;background-color: #f0f8ff;border: 1px dotted black;border-radius: 0.25em;box-sizing: border-box;margin-bottom: 0.5em;}#sk-container-id-1 div.sk-estimator:hover {background-color: #d4ebff;}#sk-container-id-1 div.sk-parallel-item::after {content: \"\";width: 100%;border-bottom: 1px solid gray;flex-grow: 1;}#sk-container-id-1 div.sk-label:hover label.sk-toggleable__label {background-color: #d4ebff;}#sk-container-id-1 div.sk-serial::before {content: \"\";position: absolute;border-left: 1px solid gray;box-sizing: border-box;top: 0;bottom: 0;left: 50%;z-index: 0;}#sk-container-id-1 div.sk-serial {display: flex;flex-direction: column;align-items: center;background-color: white;padding-right: 0.2em;padding-left: 0.2em;position: relative;}#sk-container-id-1 div.sk-item {position: relative;z-index: 1;}#sk-container-id-1 div.sk-parallel {display: flex;align-items: stretch;justify-content: center;background-color: white;position: relative;}#sk-container-id-1 div.sk-item::before, #sk-container-id-1 div.sk-parallel-item::before {content: \"\";position: absolute;border-left: 1px solid gray;box-sizing: border-box;top: 0;bottom: 0;left: 50%;z-index: -1;}#sk-container-id-1 div.sk-parallel-item {display: flex;flex-direction: column;z-index: 1;position: relative;background-color: white;}#sk-container-id-1 div.sk-parallel-item:first-child::after {align-self: flex-end;width: 50%;}#sk-container-id-1 div.sk-parallel-item:last-child::after {align-self: flex-start;width: 50%;}#sk-container-id-1 div.sk-parallel-item:only-child::after {width: 0;}#sk-container-id-1 div.sk-dashed-wrapped {border: 1px dashed gray;margin: 0 0.4em 0.5em 0.4em;box-sizing: border-box;padding-bottom: 0.4em;background-color: white;}#sk-container-id-1 div.sk-label label {font-family: monospace;font-weight: bold;display: inline-block;line-height: 1.2em;}#sk-container-id-1 div.sk-label-container {text-align: center;}#sk-container-id-1 div.sk-container {/* jupyter's `normalize.less` sets `[hidden] { display: none; }` but bootstrap.min.css set `[hidden] { display: none !important; }` so we also need the `!important` here to be able to override the default hidden behavior on the sphinx rendered scikit-learn.org. See: https://github.com/scikit-learn/scikit-learn/issues/21755 */display: inline-block !important;position: relative;}#sk-container-id-1 div.sk-text-repr-fallback {display: none;}</style><div id=\"sk-container-id-1\" class=\"sk-top-container\"><div class=\"sk-text-repr-fallback\"><pre>SVC(gamma=&#x27;auto&#x27;)</pre><b>In a Jupyter environment, please rerun this cell to show the HTML representation or trust the notebook. <br />On GitHub, the HTML representation is unable to render, please try loading this page with nbviewer.org.</b></div><div class=\"sk-container\" hidden><div class=\"sk-item\"><div class=\"sk-estimator sk-toggleable\"><input class=\"sk-toggleable__control sk-hidden--visually\" id=\"sk-estimator-id-1\" type=\"checkbox\" checked><label for=\"sk-estimator-id-1\" class=\"sk-toggleable__label sk-toggleable__label-arrow\">SVC</label><div class=\"sk-toggleable__content\"><pre>SVC(gamma=&#x27;auto&#x27;)</pre></div></div></div></div></div>"
      ]
     },
     "execution_count": 6,
     "metadata": {},
     "output_type": "execute_result"
    }
   ],
   "execution_count": 6
  },
  {
   "metadata": {
    "ExecuteTime": {
     "end_time": "2024-09-19T21:47:00.355785Z",
     "start_time": "2024-09-19T21:46:58.924692Z"
    }
   },
   "cell_type": "code",
   "source": [
    "# Use the classifier to predict the test data\n",
    "y_pred = classifier.predict(x_test_resize)"
   ],
   "id": "f5fa35c5c03888ce",
   "outputs": [],
   "execution_count": 7
  },
  {
   "metadata": {
    "ExecuteTime": {
     "end_time": "2024-09-19T21:47:00.413159Z",
     "start_time": "2024-09-19T21:47:00.405075Z"
    }
   },
   "cell_type": "code",
   "source": [
    "# Evaluate the model\n",
    "accuracy = accuracy_score(y_test, y_pred)\n",
    "print(\"Accuracy:\", accuracy)\n",
    "print(\"Error rate:\", 1 - accuracy)"
   ],
   "id": "d261075675f71fb2",
   "outputs": [
    {
     "name": "stdout",
     "output_type": "stream",
     "text": [
      "Accuracy: 0.911\n",
      "Error rate: 0.08899999999999997\n"
     ]
    }
   ],
   "execution_count": 8
  },
  {
   "metadata": {
    "ExecuteTime": {
     "end_time": "2024-09-19T21:47:00.524513Z",
     "start_time": "2024-09-19T21:47:00.505138Z"
    }
   },
   "cell_type": "code",
   "source": [
    "report = classification_report(y_test, y_pred)\n",
    "print(\"Classification Report:\\n\", report)"
   ],
   "id": "4add82882b870f68",
   "outputs": [
    {
     "name": "stdout",
     "output_type": "stream",
     "text": [
      "Classification Report:\n",
      "               precision    recall  f1-score   support\n",
      "\n",
      "           0       0.95      0.95      0.95       208\n",
      "           1       0.92      0.98      0.95       202\n",
      "           2       0.89      0.91      0.90       192\n",
      "           3       0.94      0.83      0.88       201\n",
      "           4       0.95      0.90      0.92       209\n",
      "           5       0.85      0.90      0.88       186\n",
      "           6       0.94      0.95      0.94       211\n",
      "           7       0.91      0.91      0.91       204\n",
      "           8       0.92      0.89      0.90       212\n",
      "           9       0.84      0.90      0.87       175\n",
      "\n",
      "    accuracy                           0.91      2000\n",
      "   macro avg       0.91      0.91      0.91      2000\n",
      "weighted avg       0.91      0.91      0.91      2000\n",
      "\n"
     ]
    }
   ],
   "execution_count": 9
  },
  {
   "metadata": {
    "ExecuteTime": {
     "end_time": "2024-09-19T21:47:00.632883Z",
     "start_time": "2024-09-19T21:47:00.621268Z"
    }
   },
   "cell_type": "code",
   "source": [
    "conf_matrix_result = confusion_matrix(y_test, y_pred)\n",
    "print(\"Confusion Matrix:\\n\", conf_matrix_result)"
   ],
   "id": "e68074d738841a91",
   "outputs": [
    {
     "name": "stdout",
     "output_type": "stream",
     "text": [
      "Confusion Matrix:\n",
      " [[198   0   1   0   1   1   2   1   4   0]\n",
      " [  0 197   1   2   0   0   0   1   1   0]\n",
      " [  5   0 174   1   1   0   2   5   4   0]\n",
      " [  1   2  10 166   1   9   0   3   7   2]\n",
      " [  0   0   2   0 188   0   3   1   1  14]\n",
      " [  2   3   3   2   2 168   4   0   0   2]\n",
      " [  3   1   1   0   3   3 200   0   0   0]\n",
      " [  0   2   1   0   1   4   0 185   0  11]\n",
      " [  0   6   1   1   0  11   2   1 188   2]\n",
      " [  0   2   2   4   1   1   0   7   0 158]]\n"
     ]
    }
   ],
   "execution_count": 10
  },
  {
   "metadata": {
    "ExecuteTime": {
     "end_time": "2024-09-20T03:36:34.686431Z",
     "start_time": "2024-09-20T03:36:18.193048Z"
    }
   },
   "cell_type": "code",
   "outputs": [
    {
     "name": "stdout",
     "output_type": "stream",
     "text": [
      "  param_C  mean_test_score  rank_test_score\n",
      "2     100         0.938125                1\n",
      "3     500         0.937000                2\n",
      "4    1000         0.935750                3\n",
      "1      10         0.929250                4\n",
      "0       1         0.908125                5\n",
      "Best hyper-parameters: {'C': 100}\n"
     ]
    }
   ],
   "execution_count": 22,
   "source": [
    "# Search for a better hyper-parameter C\n",
    "# Define the parameter grid\n",
    "param_grid = {\n",
    "    'C': [1, 10, 100, 500, 1000]  # Values of C to try\n",
    "}\n",
    "\n",
    "# Create the GridSearchCV object\n",
    "grid_search = GridSearchCV(classifier, param_grid, cv=5, scoring='accuracy', n_jobs=-1)\n",
    "\n",
    "# Fit the model\n",
    "grid_search.fit(x_train_resize, y_train)\n",
    "\n",
    "# Show all the results in a table\n",
    "results = pd.DataFrame(grid_search.cv_results_)\n",
    "results = results.sort_values(by='rank_test_score')\n",
    "print(results[['param_C', 'mean_test_score', 'rank_test_score']])\n",
    "\n",
    "# Print the best hyper-parameters\n",
    "print(\"Best hyper-parameters:\", grid_search.best_params_)"
   ],
   "id": "fe63c44e8937be02"
  },
  {
   "metadata": {
    "ExecuteTime": {
     "end_time": "2024-09-20T03:28:22.885053Z",
     "start_time": "2024-09-20T03:28:22.313411Z"
    }
   },
   "cell_type": "code",
   "source": [
    "# Use the best classifier to predict the test data\n",
    "y_pred = grid_search.best_estimator_.predict(x_test_resize)\n",
    "\n",
    "# Evaluate the model\n",
    "accuracy = accuracy_score(y_test, y_pred)\n",
    "print(\"Accuracy:\", accuracy)\n",
    "print(\"Error rate:\", 1 - accuracy)\n"
   ],
   "id": "3f9d3d5331d2dcf",
   "outputs": [
    {
     "name": "stdout",
     "output_type": "stream",
     "text": [
      "Accuracy: 0.9435\n",
      "Error rate: 0.056499999999999995\n"
     ]
    }
   ],
   "execution_count": 15
  }
 ],
 "metadata": {
  "kernelspec": {
   "display_name": "Python 3",
   "language": "python",
   "name": "python3"
  },
  "language_info": {
   "codemirror_mode": {
    "name": "ipython",
    "version": 2
   },
   "file_extension": ".py",
   "mimetype": "text/x-python",
   "name": "python",
   "nbconvert_exporter": "python",
   "pygments_lexer": "ipython2",
   "version": "2.7.6"
  }
 },
 "nbformat": 4,
 "nbformat_minor": 5
}
