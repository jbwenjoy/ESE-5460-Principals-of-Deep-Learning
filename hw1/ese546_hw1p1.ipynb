{
 "cells": [
  {
   "cell_type": "code",
   "execution_count": 1,
   "metadata": {
    "ExecuteTime": {
     "end_time": "2024-09-21T15:34:57.583772Z",
     "start_time": "2024-09-21T15:34:57.565713Z"
    },
    "colab": {
     "base_uri": "https://localhost:8080/"
    },
    "id": "mSf0sNj6jP9x",
    "outputId": "7f8bebf7-d4e9-4095-f2fc-aed1c11ce70c"
   },
   "outputs": [],
   "source": [
    "import sys\n",
    "\n",
    "if 'google.colab' in sys.modules:\n",
    "    !pip install scikit-learn scikit-image"
   ]
  },
  {
   "cell_type": "code",
   "execution_count": 2,
   "metadata": {
    "ExecuteTime": {
     "end_time": "2024-09-21T15:35:11.598724Z",
     "start_time": "2024-09-21T15:35:06.693343Z"
    }
   },
   "outputs": [],
   "source": [
    "import os\n",
    "import joblib\n",
    "import numpy as np\n",
    "import pandas as pd\n",
    "from sklearn import svm\n",
    "from sklearn.datasets import fetch_openml\n",
    "from sklearn.decomposition import PCA\n",
    "from sklearn.metrics import accuracy_score, classification_report, confusion_matrix\n",
    "from sklearn.model_selection import train_test_split, GridSearchCV\n",
    "from sklearn.pipeline import Pipeline\n",
    "from sklearn.preprocessing import StandardScaler\n",
    "from skimage.filters import gabor_kernel, gabor\n",
    "import matplotlib.pyplot as plt\n",
    "import cv2\n",
    "from tqdm import tqdm\n",
    "\n",
    "np.random.seed(42)"
   ]
  },
  {
   "cell_type": "code",
   "execution_count": 3,
   "metadata": {
    "ExecuteTime": {
     "end_time": "2024-09-21T15:35:19.143526Z",
     "start_time": "2024-09-21T15:35:14.602330Z"
    },
    "colab": {
     "base_uri": "https://localhost:8080/"
    },
    "id": "Gwc3gE_68nvb",
    "outputId": "01069799-0939-4945-eee3-1754ff2399d8"
   },
   "outputs": [
    {
     "name": "stdout",
     "output_type": "stream",
     "text": [
      "Loading the dataset from the local file...\n"
     ]
    }
   ],
   "source": [
    "# Define the path to save the dataset\n",
    "dataset_path = 'mnist_784.pkl'\n",
    "\n",
    "# Check if the dataset is already saved to the local file\n",
    "if os.path.exists(dataset_path):\n",
    "    print('Loading the dataset from the local file...')\n",
    "    ds = joblib.load(dataset_path)\n",
    "else:\n",
    "    print('Downloading the dataset from OpenML...')\n",
    "    ds = fetch_openml('mnist_784', as_frame=False)\n",
    "    print('Saving the dataset to the local file...')\n",
    "    joblib.dump(ds, dataset_path)"
   ]
  },
  {
   "cell_type": "code",
   "execution_count": 4,
   "metadata": {
    "ExecuteTime": {
     "end_time": "2024-09-21T15:35:19.747139Z",
     "start_time": "2024-09-21T15:35:19.145534Z"
    },
    "colab": {
     "base_uri": "https://localhost:8080/"
    },
    "id": "FR-FZZ98i4Tu",
    "outputId": "e2e4c9a1-b4d5-4d16-e810-39c72006a481"
   },
   "outputs": [
    {
     "name": "stdout",
     "output_type": "stream",
     "text": [
      "x_train shape: (8000, 784)\n",
      "y_train shape: (8000,)\n",
      "x_test shape: (2000, 784)\n",
      "y_test shape: (2000,)\n"
     ]
    }
   ],
   "source": [
    "# Convert the data to a DataFrame\n",
    "data = pd.DataFrame(ds.data)\n",
    "labels = pd.Series(ds.target.astype(int))\n",
    "\n",
    "# Stores the final dataset (1000 for each digit)\n",
    "final_data = pd.DataFrame()\n",
    "final_labels = pd.Series(dtype=int)\n",
    "\n",
    "# Loop through each digit (0-9)\n",
    "for digit in range(10):\n",
    "    digit_samples = data[labels == digit]\n",
    "    sampled_digit = digit_samples.sample(n=1000, random_state=42)\n",
    "    final_data = pd.concat([final_data, sampled_digit])\n",
    "    final_labels = pd.concat([final_labels, pd.Series([digit] * 1000, dtype=int)])\n",
    "\n",
    "# Convert to arrays\n",
    "final_data = final_data.values\n",
    "final_labels = final_labels.values\n",
    "\n",
    "# Normalize the data (very important)\n",
    "final_data = final_data / 255.0\n",
    "\n",
    "# Split dataset\n",
    "x_train, x_test, y_train, y_test = train_test_split(final_data, final_labels, test_size=0.2, random_state=42)\n",
    "print(\"x_train shape:\", x_train.shape)\n",
    "print(\"y_train shape:\", y_train.shape)\n",
    "print(\"x_test shape:\", x_test.shape)\n",
    "print(\"y_test shape:\", y_test.shape)"
   ]
  },
  {
   "cell_type": "code",
   "execution_count": 5,
   "metadata": {
    "ExecuteTime": {
     "end_time": "2024-09-21T15:35:19.894070Z",
     "start_time": "2024-09-21T15:35:19.769928Z"
    },
    "colab": {
     "base_uri": "https://localhost:8080/",
     "height": 448
    },
    "id": "qF6-KlnSjgid",
    "outputId": "78880bdf-2b90-4d49-e762-112173c10f13"
   },
   "outputs": [
    {
     "data": {
      "text/plain": [
       "<matplotlib.image.AxesImage at 0x202b2183130>"
      ]
     },
     "execution_count": 5,
     "metadata": {},
     "output_type": "execute_result"
    },
    {
     "data": {
      "image/png": "[encoded data removed]",
      "text/plain": [
       "<Figure size 640x480 with 1 Axes>"
      ]
     },
     "metadata": {},
     "output_type": "display_data"
    }
   ],
   "source": [
    "# Display a image (28, 28)\n",
    "a = x_train[0].reshape((28,28))\n",
    "plt.imshow(a)"
   ]
  },
  {
   "cell_type": "code",
   "execution_count": 6,
   "metadata": {
    "ExecuteTime": {
     "end_time": "2024-09-21T15:35:20.049655Z",
     "start_time": "2024-09-21T15:35:19.916684Z"
    },
    "colab": {
     "base_uri": "https://localhost:8080/",
     "height": 430
    },
    "id": "I116tWcjjoqX",
    "outputId": "96f30909-d167-4091-d1f1-62363614b0f0"
   },
   "outputs": [
    {
     "data": {
      "image/png": "[encoded data removed]",
      "text/plain": [
       "<Figure size 640x480 with 1 Axes>"
      ]
     },
     "metadata": {},
     "output_type": "display_data"
    }
   ],
   "source": [
    "# Resize to (14, 14)\n",
    "a_resize = cv2.resize(a, (14,14))\n",
    "plt.imshow(a_resize)\n",
    "\n",
    "x_train_resize = np.zeros((x_train.shape[0], 196))\n",
    "for i in range(x_train.shape[0]):\n",
    "  x_train_resize[i] = cv2.resize(x_train[i].reshape((28,28)), (14,14)).reshape(196)\n",
    "\n",
    "x_test_resize = np.zeros((x_test.shape[0], 196))\n",
    "for i in range(x_test.shape[0]):\n",
    "  x_test_resize[i] = cv2.resize(x_test[i].reshape((28,28)), (14,14)).reshape(196)"
   ]
  },
  {
   "cell_type": "code",
   "execution_count": 7,
   "metadata": {
    "ExecuteTime": {
     "end_time": "2024-09-21T15:35:21.831212Z",
     "start_time": "2024-09-21T15:35:20.073172Z"
    },
    "colab": {
     "base_uri": "https://localhost:8080/",
     "height": 74
    },
    "id": "S1WozKeBlUfj",
    "outputId": "ab69b684-6bb0-494c-91eb-3d5e73b80b41"
   },
   "outputs": [
    {
     "data": {
      "text/html": [
       "<style>#sk-container-id-1 {color: black;}#sk-container-id-1 pre{padding: 0;}#sk-container-id-1 div.sk-toggleable {background-color: white;}#sk-container-id-1 label.sk-toggleable__label {cursor: pointer;display: block;width: 100%;margin-bottom: 0;padding: 0.3em;box-sizing: border-box;text-align: center;}#sk-container-id-1 label.sk-toggleable__label-arrow:before {content: \"▸\";float: left;margin-right: 0.25em;color: #696969;}#sk-container-id-1 label.sk-toggleable__label-arrow:hover:before {color: black;}#sk-container-id-1 div.sk-estimator:hover label.sk-toggleable__label-arrow:before {color: black;}#sk-container-id-1 div.sk-toggleable__content {max-height: 0;max-width: 0;overflow: hidden;text-align: left;background-color: #f0f8ff;}#sk-container-id-1 div.sk-toggleable__content pre {margin: 0.2em;color: black;border-radius: 0.25em;background-color: #f0f8ff;}#sk-container-id-1 input.sk-toggleable__control:checked~div.sk-toggleable__content {max-height: 200px;max-width: 100%;overflow: auto;}#sk-container-id-1 input.sk-toggleable__control:checked~label.sk-toggleable__label-arrow:before {content: \"▾\";}#sk-container-id-1 div.sk-estimator input.sk-toggleable__control:checked~label.sk-toggleable__label {background-color: #d4ebff;}#sk-container-id-1 div.sk-label input.sk-toggleable__control:checked~label.sk-toggleable__label {background-color: #d4ebff;}#sk-container-id-1 input.sk-hidden--visually {border: 0;clip: rect(1px 1px 1px 1px);clip: rect(1px, 1px, 1px, 1px);height: 1px;margin: -1px;overflow: hidden;padding: 0;position: absolute;width: 1px;}#sk-container-id-1 div.sk-estimator {font-family: monospace;background-color: #f0f8ff;border: 1px dotted black;border-radius: 0.25em;box-sizing: border-box;margin-bottom: 0.5em;}#sk-container-id-1 div.sk-estimator:hover {background-color: #d4ebff;}#sk-container-id-1 div.sk-parallel-item::after {content: \"\";width: 100%;border-bottom: 1px solid gray;flex-grow: 1;}#sk-container-id-1 div.sk-label:hover label.sk-toggleable__label {background-color: #d4ebff;}#sk-container-id-1 div.sk-serial::before {content: \"\";position: absolute;border-left: 1px solid gray;box-sizing: border-box;top: 0;bottom: 0;left: 50%;z-index: 0;}#sk-container-id-1 div.sk-serial {display: flex;flex-direction: column;align-items: center;background-color: white;padding-right: 0.2em;padding-left: 0.2em;position: relative;}#sk-container-id-1 div.sk-item {position: relative;z-index: 1;}#sk-container-id-1 div.sk-parallel {display: flex;align-items: stretch;justify-content: center;background-color: white;position: relative;}#sk-container-id-1 div.sk-item::before, #sk-container-id-1 div.sk-parallel-item::before {content: \"\";position: absolute;border-left: 1px solid gray;box-sizing: border-box;top: 0;bottom: 0;left: 50%;z-index: -1;}#sk-container-id-1 div.sk-parallel-item {display: flex;flex-direction: column;z-index: 1;position: relative;background-color: white;}#sk-container-id-1 div.sk-parallel-item:first-child::after {align-self: flex-end;width: 50%;}#sk-container-id-1 div.sk-parallel-item:last-child::after {align-self: flex-start;width: 50%;}#sk-container-id-1 div.sk-parallel-item:only-child::after {width: 0;}#sk-container-id-1 div.sk-dashed-wrapped {border: 1px dashed gray;margin: 0 0.4em 0.5em 0.4em;box-sizing: border-box;padding-bottom: 0.4em;background-color: white;}#sk-container-id-1 div.sk-label label {font-family: monospace;font-weight: bold;display: inline-block;line-height: 1.2em;}#sk-container-id-1 div.sk-label-container {text-align: center;}#sk-container-id-1 div.sk-container {/* jupyter's `normalize.less` sets `[hidden] { display: none; }` but bootstrap.min.css set `[hidden] { display: none !important; }` so we also need the `!important` here to be able to override the default hidden behavior on the sphinx rendered scikit-learn.org. See: https://github.com/scikit-learn/scikit-learn/issues/21755 */display: inline-block !important;position: relative;}#sk-container-id-1 div.sk-text-repr-fallback {display: none;}</style><div id=\"sk-container-id-1\" class=\"sk-top-container\"><div class=\"sk-text-repr-fallback\"><pre>SVC(gamma=&#x27;auto&#x27;)</pre><b>In a Jupyter environment, please rerun this cell to show the HTML representation or trust the notebook. <br />On GitHub, the HTML representation is unable to render, please try loading this page with nbviewer.org.</b></div><div class=\"sk-container\" hidden><div class=\"sk-item\"><div class=\"sk-estimator sk-toggleable\"><input class=\"sk-toggleable__control sk-hidden--visually\" id=\"sk-estimator-id-1\" type=\"checkbox\" checked><label for=\"sk-estimator-id-1\" class=\"sk-toggleable__label sk-toggleable__label-arrow\">SVC</label><div class=\"sk-toggleable__content\"><pre>SVC(gamma=&#x27;auto&#x27;)</pre></div></div></div></div></div>"
      ],
      "text/plain": [
       "SVC(gamma='auto')"
      ]
     },
     "execution_count": 7,
     "metadata": {},
     "output_type": "execute_result"
    }
   ],
   "source": [
    "# Define and fit the classifier\n",
    "classifier = svm.SVC(C=1.0, kernel='rbf', gamma='auto')\n",
    "classifier.fit(x_train_resize, y_train)"
   ]
  },
  {
   "cell_type": "code",
   "execution_count": 8,
   "metadata": {
    "ExecuteTime": {
     "end_time": "2024-09-21T15:35:23.278573Z",
     "start_time": "2024-09-21T15:35:21.862394Z"
    },
    "id": "hGEhB7Jf_NQ9"
   },
   "outputs": [],
   "source": [
    "# Use the classifier to predict the test data\n",
    "y_pred = classifier.predict(x_test_resize)"
   ]
  },
  {
   "cell_type": "code",
   "execution_count": 9,
   "metadata": {
    "ExecuteTime": {
     "end_time": "2024-09-21T15:35:23.312321Z",
     "start_time": "2024-09-21T15:35:23.307568Z"
    },
    "colab": {
     "base_uri": "https://localhost:8080/"
    },
    "id": "6FJuVzolz3iw",
    "outputId": "091e2bd8-d9c4-4c50-92b4-50c102989204"
   },
   "outputs": [
    {
     "name": "stdout",
     "output_type": "stream",
     "text": [
      "Accuracy: 0.911\n",
      "Error rate: 0.08899999999999997\n"
     ]
    }
   ],
   "source": [
    "# Evaluate the model\n",
    "accuracy = accuracy_score(y_test, y_pred)\n",
    "print(\"Accuracy:\", accuracy)\n",
    "print(\"Error rate:\", 1 - accuracy)"
   ]
  },
  {
   "cell_type": "code",
   "execution_count": 10,
   "metadata": {
    "ExecuteTime": {
     "end_time": "2024-09-21T15:35:23.415706Z",
     "start_time": "2024-09-21T15:35:23.405476Z"
    },
    "colab": {
     "base_uri": "https://localhost:8080/"
    },
    "id": "U6eBZKNUz5mF",
    "outputId": "45ee783f-828e-4c85-ecb0-623e53fd54c4"
   },
   "outputs": [
    {
     "name": "stdout",
     "output_type": "stream",
     "text": [
      "Classification Report:\n",
      "               precision    recall  f1-score   support\n",
      "\n",
      "           0       0.95      0.95      0.95       208\n",
      "           1       0.92      0.98      0.95       202\n",
      "           2       0.89      0.91      0.90       192\n",
      "           3       0.94      0.83      0.88       201\n",
      "           4       0.95      0.90      0.92       209\n",
      "           5       0.85      0.90      0.88       186\n",
      "           6       0.94      0.95      0.94       211\n",
      "           7       0.91      0.91      0.91       204\n",
      "           8       0.92      0.89      0.90       212\n",
      "           9       0.84      0.90      0.87       175\n",
      "\n",
      "    accuracy                           0.91      2000\n",
      "   macro avg       0.91      0.91      0.91      2000\n",
      "weighted avg       0.91      0.91      0.91      2000\n",
      "\n"
     ]
    }
   ],
   "source": [
    "report = classification_report(y_test, y_pred)\n",
    "print(\"Classification Report:\\n\", report)"
   ]
  },
  {
   "cell_type": "code",
   "execution_count": 11,
   "metadata": {
    "ExecuteTime": {
     "end_time": "2024-09-21T15:35:23.598256Z",
     "start_time": "2024-09-21T15:35:23.590170Z"
    },
    "colab": {
     "base_uri": "https://localhost:8080/"
    },
    "id": "_SjxZipFz6ya",
    "outputId": "bf48f44e-0ff3-418a-991a-4fb71e63e8e7"
   },
   "outputs": [
    {
     "name": "stdout",
     "output_type": "stream",
     "text": [
      "Confusion Matrix:\n",
      " [[198   0   1   0   1   1   2   1   4   0]\n",
      " [  0 197   1   2   0   0   0   1   1   0]\n",
      " [  5   0 174   1   1   0   2   5   4   0]\n",
      " [  1   2  10 166   1   9   0   3   7   2]\n",
      " [  0   0   2   0 188   0   3   1   1  14]\n",
      " [  2   3   3   2   2 168   4   0   0   2]\n",
      " [  3   1   1   0   3   3 200   0   0   0]\n",
      " [  0   2   1   0   1   4   0 185   0  11]\n",
      " [  0   6   1   1   0  11   2   1 188   2]\n",
      " [  0   2   2   4   1   1   0   7   0 158]]\n"
     ]
    }
   ],
   "source": [
    "conf_matrix_result = confusion_matrix(y_test, y_pred)\n",
    "print(\"Confusion Matrix:\\n\", conf_matrix_result)"
   ]
  },
  {
   "cell_type": "code",
   "execution_count": 12,
   "metadata": {
    "ExecuteTime": {
     "end_time": "2024-09-21T15:35:43.848768Z",
     "start_time": "2024-09-21T15:35:25.264363Z"
    },
    "colab": {
     "base_uri": "https://localhost:8080/"
    },
    "id": "n8rOYUHSz84O",
    "outputId": "3106631f-2f80-4c4f-e74f-b73fd3152b35"
   },
   "outputs": [
    {
     "name": "stdout",
     "output_type": "stream",
     "text": [
      "  param_C  mean_test_score  rank_test_score\n",
      "2     100         0.938125                1\n",
      "3     500         0.937000                2\n",
      "4    1000         0.935750                3\n",
      "1      10         0.929250                4\n",
      "0       1         0.908125                5\n",
      "Best hyper-parameters: {'C': 100}\n"
     ]
    }
   ],
   "source": [
    "# Search for a better hyperparameter C\n",
    "# Define the parameter grid\n",
    "param_grid = {\n",
    "    'C': [1, 10, 100, 500, 1000]  # Values of C to try\n",
    "}\n",
    "\n",
    "# Create the GridSearchCV object\n",
    "grid_search = GridSearchCV(classifier, param_grid, cv=5, scoring='accuracy', n_jobs=-2)\n",
    "\n",
    "# Fit the model\n",
    "grid_search.fit(x_train_resize, y_train)\n",
    "\n",
    "# Show all the results in a table\n",
    "results = pd.DataFrame(grid_search.cv_results_)\n",
    "results = results.sort_values(by='rank_test_score')\n",
    "print(results[['param_C', 'mean_test_score', 'rank_test_score']])\n",
    "\n",
    "# Print the best hyperparameters\n",
    "print(\"Best hyper-parameters:\", grid_search.best_params_)"
   ]
  },
  {
   "cell_type": "code",
   "execution_count": 13,
   "metadata": {
    "ExecuteTime": {
     "end_time": "2024-09-21T15:35:48.412998Z",
     "start_time": "2024-09-21T15:35:47.818225Z"
    },
    "colab": {
     "base_uri": "https://localhost:8080/"
    },
    "id": "nkW6Gubgz-eJ",
    "outputId": "7cb71290-6a18-4ac9-870a-f037dd39cd89"
   },
   "outputs": [
    {
     "name": "stdout",
     "output_type": "stream",
     "text": [
      "Accuracy: 0.9435\n",
      "Error rate: 0.056499999999999995\n"
     ]
    }
   ],
   "source": [
    "# Use the best classifier to predict the test data\n",
    "y_pred = grid_search.best_estimator_.predict(x_test_resize)\n",
    "\n",
    "# Evaluate the model\n",
    "accuracy = accuracy_score(y_test, y_pred)\n",
    "print(\"Accuracy:\", accuracy)\n",
    "print(\"Error rate:\", 1 - accuracy)\n"
   ]
  },
  {
   "cell_type": "code",
   "execution_count": 14,
   "metadata": {
    "ExecuteTime": {
     "end_time": "2024-09-21T15:35:49.624034Z",
     "start_time": "2024-09-21T15:35:49.599883Z"
    },
    "id": "9yktj0cfz_xp"
   },
   "outputs": [],
   "source": [
    "# Create a smaller dataset for the next task\n",
    "# Training dataset - 100 samples, validation dataset - 100 samples, no test dataset\n",
    "# Previous training dataset has 8000 samples, validation dataset has 2000 samples\n",
    "# Randomly select 100 samples from the training dataset and 100 samples from the validation dataset\n",
    "\n",
    "num_train_samples = 100\n",
    "num_val_samples = 100\n",
    "\n",
    "# Training dataset\n",
    "x_train_small = np.zeros((num_train_samples, 196))\n",
    "y_train_small = np.zeros(num_train_samples)\n",
    "for i in range(num_train_samples):\n",
    "    idx = np.random.randint(0, 8000)\n",
    "    x_train_small[i] = x_train_resize[idx]\n",
    "    y_train_small[i] = y_train[idx]\n",
    "\n",
    "# Validation dataset\n",
    "x_val_small = np.zeros((num_val_samples, 196))\n",
    "y_val_small = np.zeros(num_val_samples)\n",
    "for i in range(num_val_samples):\n",
    "    idx = np.random.randint(0, 2000)\n",
    "    x_val_small[i] = x_test_resize[idx]\n",
    "    y_val_small[i] = y_test[idx]"
   ]
  },
  {
   "cell_type": "code",
   "execution_count": 15,
   "metadata": {
    "ExecuteTime": {
     "end_time": "2024-09-21T15:35:51.648008Z",
     "start_time": "2024-09-21T15:35:51.296338Z"
    },
    "colab": {
     "base_uri": "https://localhost:8080/",
     "height": 1000
    },
    "id": "Q4JkEwCv0BHI",
    "outputId": "5571ad30-f6c5-419e-ca15-19f3f6a6045c"
   },
   "outputs": [
    {
     "data": {
      "text/plain": [
       "<matplotlib.image.AxesImage at 0x202b442e970>"
      ]
     },
     "execution_count": 15,
     "metadata": {},
     "output_type": "execute_result"
    },
    {
     "data": {
      "image/png": "[encoded data removed]",
      "text/plain": [
       "<Figure size 640x480 with 1 Axes>"
      ]
     },
     "metadata": {},
     "output_type": "display_data"
    },
    {
     "data": {
      "image/png": "[encoded data removed]",
      "text/plain": [
       "<Figure size 640x480 with 1 Axes>"
      ]
     },
     "metadata": {},
     "output_type": "display_data"
    },
    {
     "data": {
      "image/png": "[encoded data removed]",
      "text/plain": [
       "<Figure size 640x480 with 1 Axes>"
      ]
     },
     "metadata": {},
     "output_type": "display_data"
    },
    {
     "data": {
      "image/png": "[encoded data removed]",
      "text/plain": [
       "<Figure size 640x480 with 1 Axes>"
      ]
     },
     "metadata": {},
     "output_type": "display_data"
    }
   ],
   "source": [
    "freq, theta, bandwidth = 0.1, np.pi / 4, 1\n",
    "# freq, theta, bandwidth = 0.05, 0, 0.3\n",
    "gk = gabor_kernel(frequency=freq, theta=theta, bandwidth=bandwidth)\n",
    "plt.figure(1); plt.clf(); plt.imshow(gk.real)\n",
    "plt.figure(2); plt.clf(); plt.imshow(gk.imag)\n",
    "\n",
    "# convolve the input image with the kernel and get co-efficients\n",
    "# we will use only the real part and throw away the imaginary\n",
    "# part of the co-efficients\n",
    "image = x_train_small[0].reshape((14,14))\n",
    "coeff_real, _ = gabor(image, frequency=freq, theta=theta, bandwidth=bandwidth)\n",
    "plt.figure(3); plt.clf(); plt.imshow(image)\n",
    "plt.figure(4); plt.clf(); plt.imshow(coeff_real)"
   ]
  },
  {
   "cell_type": "code",
   "execution_count": 16,
   "metadata": {
    "ExecuteTime": {
     "end_time": "2024-09-21T15:36:01.361280Z",
     "start_time": "2024-09-21T15:35:58.713558Z"
    },
    "colab": {
     "base_uri": "https://localhost:8080/",
     "height": 1000
    },
    "id": "9XN32BbV0COw",
    "outputId": "4b5bb96a-cb5a-4d8b-94f8-15f7ff2c8f31"
   },
   "outputs": [
    {
     "name": "stdout",
     "output_type": "stream",
     "text": [
      "Total filters stored: 36\n"
     ]
    },
    {
     "ename": "",
     "evalue": "",
     "output_type": "error",
     "traceback": [
      "\u001b[1;31m在当前单元格或上一个单元格中执行代码时 Kernel 崩溃。\n",
      "\u001b[1;31m请查看单元格中的代码，以确定故障的可能原因。\n",
      "\u001b[1;31m单击<a href='https://aka.ms/vscodeJupyterKernelCrash'>此处</a>了解详细信息。\n",
      "\u001b[1;31m有关更多详细信息，请查看 Jupyter <a href='command:jupyter.viewOutput'>log</a>。"
     ]
    }
   ],
   "source": [
    "theta_arr = np.arange(0, np.pi, np.pi / 4)\n",
    "frequency_arr = np.arange(0.05, 0.5, 0.15)\n",
    "bandwidth_arr =  np.arange(0.3, 1, 0.3)\n",
    "\n",
    "filter_bank = []\n",
    "\n",
    "class GaborFilter:\n",
    "    def __init__(self, fr, th, bdwidth, gkfilter):\n",
    "        self.frequency = fr\n",
    "        self.theta = th\n",
    "        self.bandwidth = bdwidth\n",
    "        self.gk = gkfilter\n",
    "\n",
    "plot_figure = False\n",
    "for t in theta_arr:\n",
    "    if plot_figure:\n",
    "        fig, axs = plt.subplots(len(frequency_arr), len(bandwidth_arr) * 2, figsize=(24, 8))\n",
    "        fig.suptitle(fr'Gabor Filters: $\\theta$={t/np.pi}$\\pi$')\n",
    "        plt.subplots_adjust(wspace=-0.5, hspace=0.2)  # Adjust the space between subplots\n",
    "    \n",
    "    for i, f in enumerate(frequency_arr):\n",
    "        for j, b in enumerate(bandwidth_arr):\n",
    "            gk = gabor_kernel(frequency=f, theta=t, bandwidth=b)\n",
    "            filter_bank.append(GaborFilter(f, t, b, gk))\n",
    "            # image = x_train_small[0].reshape((14, 14))\n",
    "            # coeff_real, _ = gabor(image, frequency=f, theta=t, bandwidth=b)\n",
    "\n",
    "            if plot_figure:\n",
    "                axs[i, j * 2].imshow(gk.real)\n",
    "                axs[i, j * 2].set_title(f'Real: Freq={f:.2f}, Band={b:.2f}')\n",
    "                axs[i, j * 2].axis('off')\n",
    "\n",
    "                axs[i, j * 2 + 1].imshow(gk.imag, cmap='jet')\n",
    "                axs[i, j * 2 + 1].set_title(f'Imag: Freq={f:.2f}, Band={b:.2f}')\n",
    "                axs[i, j * 2 + 1].axis('off')\n",
    "    if plot_figure:\n",
    "        plt.show(fig)\n",
    "        plt.close(fig)\n",
    "\n",
    "print(f\"Total filters stored: {len(filter_bank)}\")"
   ]
  },
  {
   "cell_type": "code",
   "execution_count": 17,
   "metadata": {
    "ExecuteTime": {
     "start_time": "2024-09-21T15:51:18.845302Z"
    },
    "colab": {
     "base_uri": "https://localhost:8080/"
    },
    "id": "V9aDqgwx0EAK",
    "outputId": "4b8563a3-9295-4d17-fbee-5ee7d11aa670"
   },
   "outputs": [
    {
     "name": "stderr",
     "output_type": "stream",
     "text": [
      "Processing x_train_small: 100%|██████████| 100/100 [01:20<00:00,  1.25it/s]\n",
      "Processing x_val_small:   0%|          | 0/100 [00:00<?, ?it/s]"
     ]
    }
   ],
   "source": [
    "# Use the Gabor filters to extract features from the images\n",
    "x_train_gabor = []\n",
    "for i in tqdm(range(num_train_samples), desc=\"Processing x_train_small\"):\n",
    "    image = x_train_small[i].reshape((14, 14))\n",
    "    features_real = []\n",
    "    for gk in filter_bank:\n",
    "        coeff_real, _ = gabor(image, frequency=gk.frequency, theta=gk.theta, bandwidth=gk.bandwidth)\n",
    "        features_real.append(coeff_real)\n",
    "    x_train_gabor.append(np.array(features_real).reshape(-1))\n",
    "    assert len(x_train_gabor[i]) == 196 * len(filter_bank)  # 7056\n",
    "\n",
    "x_val_gabor = []\n",
    "for i in tqdm(range(num_val_samples), desc=\"Processing x_val_small\"):\n",
    "    image = x_val_small[i].reshape((14, 14))\n",
    "    features_real = []\n",
    "    for gk in filter_bank:\n",
    "        coeff_real, _ = gabor(image, frequency=gk.frequency, theta=gk.theta, bandwidth=gk.bandwidth)\n",
    "        features_real.append(coeff_real)\n",
    "    x_val_gabor.append(np.array(features_real).reshape(-1))\n",
    "    assert len(x_val_gabor[i]) == 196 * len(filter_bank)  # 7056"
   ]
  },
  {
   "cell_type": "code",
   "execution_count": null,
   "metadata": {},
   "outputs": [],
   "source": [
    "print(np.isnan(x_train_gabor).any())\n",
    "print(np.isinf(x_train_gabor).any())\n",
    "print(np.isnan(x_val_gabor).any())\n",
    "print(np.isinf(x_val_gabor).any())"
   ]
  },
  {
   "cell_type": "code",
   "execution_count": 18,
   "metadata": {
    "ExecuteTime": {
     "end_time": "2024-09-21T15:49:23.600975Z",
     "start_time": "2024-09-21T15:48:32.066715Z"
    },
    "id": "zWakt7Nx0GGP"
   },
   "outputs": [],
   "source": [
    "# # Normalize the data\n",
    "# scaler = StandardScaler()\n",
    "# x_train_gabor = scaler.fit_transform(x_train_gabor)\n",
    "# x_val_gabor = scaler.transform(x_val_gabor)"
   ]
  },
  {
   "cell_type": "code",
   "execution_count": 19,
   "metadata": {
    "ExecuteTime": {
     "end_time": "2024-09-21T15:49:29.235234Z",
     "start_time": "2024-09-21T15:49:29.220217Z"
    },
    "id": "uEmFVAOT0HOv"
   },
   "outputs": [],
   "source": [
    "# # Initialize PCA with the desired number of components\n",
    "# n_components = 50  # You can adjust this number based on your needs\n",
    "# pca = PCA(n_components=n_components)\n",
    "#\n",
    "# # Fit PCA on the training data and transform both training and test data\n",
    "# x_train_gabor = pca.fit_transform(x_train_gabor)\n",
    "# x_val_gabor = pca.transform(x_val_gabor)\n",
    "#\n",
    "# # Print the shape of the transformed data\n",
    "# print(\"x train pca shape:\", x_train_gabor.shape)\n",
    "# print(\"x valid pca shape:\", x_val_gabor.shape)"
   ]
  },
  {
   "cell_type": "code",
   "execution_count": null,
   "metadata": {
    "ExecuteTime": {
     "end_time": "2024-09-21T15:49:31.896581Z",
     "start_time": "2024-09-21T15:49:30.823821Z"
    },
    "colab": {
     "base_uri": "https://localhost:8080/"
    },
    "id": "wpDGKrx10Iq3",
    "outputId": "1123e53c-e4e4-4f95-cf5c-c6e3eb57f3b5"
   },
   "outputs": [],
   "source": [
    "# Define and fit the classifier\n",
    "classifier_gk = svm.SVC(C=1.0, kernel='rbf', gamma='auto')\n",
    "classifier_gk.fit(x_train_gabor, y_train_small)"
   ]
  },
  {
   "cell_type": "code",
   "execution_count": null,
   "metadata": {},
   "outputs": [],
   "source": [
    "# Use the classifier to predict the validation data\n",
    "y_pred_gk = classifier_gk.predict(x_val_gabor)"
   ]
  },
  {
   "cell_type": "code",
   "execution_count": null,
   "metadata": {
    "colab": {
     "base_uri": "https://localhost:8080/"
    },
    "id": "lkgexmgq0Jn9",
    "outputId": "67c7408f-3aa4-4551-85b3-a8544a9da419"
   },
   "outputs": [],
   "source": [
    "# Evaluate the model\n",
    "accuracy_gk = accuracy_score(y_val_small, y_pred_gk)\n",
    "print(\"Accuracy:\", accuracy_gk)\n",
    "print(\"Error rate:\", 1 - accuracy_gk)\n"
   ]
  },
  {
   "cell_type": "code",
   "execution_count": null,
   "metadata": {
    "colab": {
     "base_uri": "https://localhost:8080/"
    },
    "id": "8QD-XUtE0Knh",
    "outputId": "9f715777-035d-4560-9de1-af863566393e"
   },
   "outputs": [],
   "source": [
    "# Search for better hyperparameters\n",
    "param_grid = {\n",
    "    'C': [0.01, 0.1, 1, 10, 100],\n",
    "    'gamma': ['scale', 'auto'],\n",
    "    'kernel': ['rbf', 'linear']\n",
    "}\n",
    "grid_search_gk = GridSearchCV(classifier_gk, param_grid, cv=5, scoring='accuracy', n_jobs=-2)\n",
    "grid_search_gk.fit(x_train_gabor, y_train_small)\n",
    "\n",
    "# Show all the results in a table\n",
    "results_gk = pd.DataFrame(grid_search_gk.cv_results_)\n",
    "results_gk = results_gk.sort_values(by='rank_test_score')\n",
    "print(results_gk[['param_C', 'param_gamma', 'param_kernel', 'mean_test_score', 'rank_test_score']])\n",
    "print(\"Best hyper-parameters:\", grid_search_gk.best_params_)"
   ]
  },
  {
   "cell_type": "code",
   "execution_count": null,
   "metadata": {
    "colab": {
     "base_uri": "https://localhost:8080/"
    },
    "id": "9HGCBCVv0L2j",
    "outputId": "2292955e-0a7f-4fcf-88d0-3394f1de2d86"
   },
   "outputs": [],
   "source": [
    "# Use the best classifier to predict the validation data\n",
    "y_pred_gk = grid_search_gk.best_estimator_.predict(x_val_gabor)\n",
    "accuracy_gk = accuracy_score(y_val_small, y_pred_gk)\n",
    "print(\"Accuracy:\", accuracy_gk)\n",
    "print(\"Error rate:\", 1 - accuracy_gk)"
   ]
  }
 ],
 "metadata": {
  "colab": {
   "provenance": []
  },
  "kernelspec": {
   "display_name": "Python 3 (ipykernel)",
   "language": "python",
   "name": "python3"
  },
  "language_info": {
   "codemirror_mode": {
    "name": "ipython",
    "version": 3
   },
   "file_extension": ".py",
   "mimetype": "text/x-python",
   "name": "python",
   "nbconvert_exporter": "python",
   "pygments_lexer": "ipython3",
   "version": "3.8.10"
  }
 },
 "nbformat": 4,
 "nbformat_minor": 0
}
