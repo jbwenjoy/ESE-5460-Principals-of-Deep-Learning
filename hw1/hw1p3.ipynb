{
 "cells": [
  {
   "cell_type": "markdown",
   "metadata": {},
   "source": [
    "## Load Dataset"
   ]
  },
  {
   "cell_type": "code",
   "execution_count": 1,
   "metadata": {
    "ExecuteTime": {
     "end_time": "2024-09-21T22:30:09.933656Z",
     "start_time": "2024-09-21T22:30:06.670867Z"
    }
   },
   "outputs": [],
   "source": [
    "import torchvision as thv\n",
    "import os\n",
    "import pickle\n",
    "from torch.utils.data import Subset\n",
    "import numpy as np\n",
    "\n",
    "def get_mnist_dataset(root='./mnist_data'):\n",
    "    # Check if the dataset already exists locally\n",
    "    if os.path.exists(f'{root}/train_data.pkl') and os.path.exists(f'{root}/val_data.pkl'):\n",
    "        print(\"Loading MNIST dataset from local storage...\")\n",
    "        with open(f'{root}/train_data.pkl', 'rb') as f:\n",
    "            train = pickle.load(f)\n",
    "        with open(f'{root}/val_data.pkl', 'rb') as f:\n",
    "            val = pickle.load(f)\n",
    "    else:\n",
    "        print(\"Downloading MNIST dataset...\")\n",
    "        # Download the dataset\n",
    "        train = thv.datasets.MNIST(root, download=True, train=True)\n",
    "        val = thv.datasets.MNIST(root, download=True, train=False)\n",
    "        \n",
    "        # Save the dataset locally\n",
    "        os.makedirs(root, exist_ok=True)\n",
    "        with open(f'{root}/train_data.pkl', 'wb') as f:\n",
    "            pickle.dump(train, f)\n",
    "        with open(f'{root}/val_data.pkl', 'wb') as f:\n",
    "            pickle.dump(val, f)\n",
    "\n",
    "    print(f\"Training dataset shape: {train.data.shape}, Number of targets: {len(train.targets)}\")\n",
    "    print(f\"Validation dataset shape: {val.data.shape}, Number of targets: {len(val.targets)}\")\n",
    "\n",
    "    return train, val\n",
    "    \n",
    "def split_dataset(train, val):\n",
    "    import torch\n",
    "    import numpy as np\n",
    "    from torch.utils.data import Subset\n",
    "\n",
    "    # Define the number of classes and target sizes\n",
    "    num_classes = 10\n",
    "    target_train_size = 30000\n",
    "    target_val_size = 5000\n",
    "\n",
    "    # Initialize lists to hold the indices for the refined datasets\n",
    "    train_indices = []\n",
    "    val_indices = []\n",
    "\n",
    "    # Iterate over each class and collect indices for the split\n",
    "    for i in range(num_classes):\n",
    "        # Get indices of all examples from class i in the training and validation sets\n",
    "        train_class_indices = (train.targets == i).nonzero(as_tuple=True)[0]\n",
    "        val_class_indices = (val.targets == i).nonzero(as_tuple=True)[0]\n",
    "\n",
    "        # Convert indices to numpy arrays for shuffling\n",
    "        train_class_indices_np = train_class_indices.numpy()\n",
    "        val_class_indices_np = val_class_indices.numpy()\n",
    "\n",
    "        # Shuffle indices\n",
    "        np.random.shuffle(train_class_indices_np)\n",
    "        np.random.shuffle(val_class_indices_np)\n",
    "\n",
    "        # Calculate split indices, initially aiming to round up\n",
    "        split_idx_train = (len(train_class_indices_np) + 1) // 2\n",
    "        split_idx_val = (len(val_class_indices_np) + 1) // 2\n",
    "\n",
    "        # Adjust split to avoid exceeding overall target sizes\n",
    "        if len(train_indices) + split_idx_train > target_train_size:\n",
    "            split_idx_train = target_train_size - len(train_indices)\n",
    "        if len(val_indices) + split_idx_val > target_val_size:\n",
    "            split_idx_val = target_val_size - len(val_indices)\n",
    "\n",
    "        # Add indices to lists\n",
    "        train_indices.extend(train_class_indices_np[:split_idx_train])\n",
    "        val_indices.extend(val_class_indices_np[:split_idx_val])\n",
    "\n",
    "        # Check if we have already reached the target sizes\n",
    "        if len(train_indices) == target_train_size and len(val_indices) == target_val_size:\n",
    "            break\n",
    "\n",
    "    # Create refined datasets\n",
    "    refined_train = Subset(train, train_indices)\n",
    "    refined_val = Subset(val, val_indices)\n",
    "\n",
    "    print(f\"Refined training dataset size: {len(refined_train)}\")\n",
    "    print(f\"Refined validation dataset size: {len(refined_val)}\")\n",
    "\n",
    "    return refined_train, refined_val"
   ]
  },
  {
   "cell_type": "code",
   "execution_count": 2,
   "metadata": {
    "ExecuteTime": {
     "end_time": "2024-09-21T22:30:09.994916Z",
     "start_time": "2024-09-21T22:30:09.933656Z"
    }
   },
   "outputs": [
    {
     "name": "stdout",
     "output_type": "stream",
     "text": [
      "Loading MNIST dataset from local storage...\n",
      "Training dataset shape: torch.Size([60000, 28, 28]), Number of targets: 60000\n",
      "Validation dataset shape: torch.Size([10000, 28, 28]), Number of targets: 10000\n",
      "Refined training dataset size: 30000\n",
      "Refined validation dataset size: 5000\n",
      "Train Dataset MNIST\n",
      "    Number of datapoints: 60000\n",
      "    Root location: ./prob3_mnist_data\n",
      "    Split: Train\n",
      "Val Dataset MNIST\n",
      "    Number of datapoints: 10000\n",
      "    Root location: ./prob3_mnist_data\n",
      "    Split: Test\n",
      "Refined Train <torch.utils.data.dataset.Subset object at 0x000002040BBE1070>\n",
      "Refined Val <torch.utils.data.dataset.Subset object at 0x000002040BBE1040>\n"
     ]
    }
   ],
   "source": [
    "data_path = \"./prob3_mnist_data\"\n",
    "\n",
    "train, val = get_mnist_dataset(data_path)\n",
    "refined_train, refined_val = split_dataset(train, val)\n",
    "\n",
    "print(\"Train\", train)\n",
    "print(\"Val\", val)\n",
    "print(\"Refined Train\", refined_train)\n",
    "print(\"Refined Val\", refined_val)"
   ]
  },
  {
   "cell_type": "markdown",
   "metadata": {},
   "source": [
    "## Plot and Validate Dataset"
   ]
  },
  {
   "cell_type": "code",
   "execution_count": 3,
   "metadata": {
    "ExecuteTime": {
     "end_time": "2024-09-21T22:30:10.781594Z",
     "start_time": "2024-09-21T22:30:10.241054Z"
    }
   },
   "outputs": [
    {
     "data": {
      "image/png": "[encoded data removed]",
      "text/plain": [
       "<Figure size 1000x300 with 5 Axes>"
      ]
     },
     "metadata": {},
     "output_type": "display_data"
    }
   ],
   "source": [
    "import matplotlib.pyplot as plt\n",
    "import torch\n",
    "\n",
    "def plot_images(dataset, num_images=6):\n",
    "    # Making sure the dataset can be indexed directly\n",
    "    assert hasattr(dataset, '__getitem__'), \"Dataset must support indexing\"\n",
    "\n",
    "    indices = np.random.choice(len(dataset), num_images, replace=False)\n",
    "\n",
    "    fig, axes = plt.subplots(1, num_images, figsize=(num_images * 2, 3))\n",
    "    \n",
    "    if num_images == 1:\n",
    "        axes = [axes]\n",
    "    \n",
    "    for ax, idx in zip(axes, indices):\n",
    "        image, label = dataset[idx]\n",
    "        \n",
    "        # MNIST images are 1-channel images, need to be reshaped if in tensor form\n",
    "        if isinstance(image, torch.Tensor):\n",
    "            image = image.numpy().squeeze()  # Convert to numpy and remove extra dimensions\n",
    "        \n",
    "        ax.imshow(image, cmap='gray')\n",
    "        ax.set_title(f\"Label: {label}\")\n",
    "        ax.axis('off')\n",
    "\n",
    "    plt.show()\n",
    "\n",
    "plot_images(refined_train, num_images=5)"
   ]
  },
  {
   "cell_type": "markdown",
   "metadata": {},
   "source": [
    "## Linear Layer\n",
    "\n",
    "### Forward function\n",
    "For $\\beta$ samples, $\\alpha$ input features, and $c$ output features, the forward function is \n",
    "$$h^{(l+1)} = h^{(l)} W^{\\top} + b$$\n",
    "where: $h^l \\in R^{\\beta \\times \\alpha}$, $W \\in R^{c \\times \\alpha}$, $b \\in R^c$, $h^{l+1} \\in R^{\\beta \\times c}$\n",
    "\n",
    "### Backward function:\n",
    "$$\\frac{\\partial L}{\\partial h^l} = \\frac{\\partial L}{\\partial h^{l+1}} W$$\n",
    "$$\\frac{\\partial L}{\\partial W} = \\frac{\\partial L}{\\partial h^{l+1}}^{\\top} h^l$$\n",
    "$$\\frac{\\partial L}{\\partial b} = \\sum_{i=1}^\\beta \\frac{\\partial L}{\\partial h_i^{l+1}}$$\n",
    "where: $\\frac{\\partial L}{\\partial h^{l+1}} \\in R^{\\beta \\times c}$, $\\frac{\\partial L}{\\partial W} \\in R^{c \\times \\alpha}$, $\\frac{\\partial L}{\\partial b} \\in R^c$\n",
    "\n"
   ]
  },
  {
   "cell_type": "code",
   "execution_count": 4,
   "metadata": {
    "ExecuteTime": {
     "end_time": "2024-09-21T22:30:10.794927Z",
     "start_time": "2024-09-21T22:30:10.787304Z"
    }
   },
   "outputs": [],
   "source": [
    "from layers import linear_t\n"
   ]
  },
  {
   "cell_type": "markdown",
   "metadata": {},
   "source": [
    "## ReLU Layer\n",
    "\n",
    "### Forward function\n",
    "$$h^{(l+1)} = \\max(0, h^{(l)})$$\n",
    "where: $h^l \\in R^{\\beta \\times \\alpha}$, $h^{(l+1)} \\in R^{\\beta \\times \\alpha}$\n",
    "\n",
    "### Backward function\n",
    "$$\\frac{\\partial L}{\\partial h^l} = \\frac{\\partial L}{\\partial h^{l+1}} \\odot \\mathbb{1}(h^l > 0)$$\n",
    "where: $\\odot$ is element-wise multiplication, $\\mathbb{1}$ is the indicator function"
   ]
  },
  {
   "cell_type": "code",
   "execution_count": 5,
   "metadata": {
    "ExecuteTime": {
     "end_time": "2024-09-21T22:30:10.807278Z",
     "start_time": "2024-09-21T22:30:10.802968Z"
    }
   },
   "outputs": [],
   "source": [
    "from layers import relu_t"
   ]
  },
  {
   "cell_type": "markdown",
   "metadata": {},
   "source": [
    "## Combined Softmax and Cross-entropy Loss Layer\n",
    "\n",
    "### Forward function\n",
    "$$h_k^{(l+1)} = \\frac{e^{h_k^{(l)}}}{\\sum_{k'} e^{h_{k'}^{(l)}}}$$\n",
    "$$l(y) = -\\log(h_y^{(l+1)})$$\n",
    "For a mini-batch of size $\\beta$, the loss is\n",
    "$$l({y_i}_{i=1,...,\\beta}) = -\\frac{1}{\\beta} \\sum_{i=1}^{\\beta} \\log(h_y^{(l+1)})$$\n",
    "\n",
    "Error is\n",
    "$$\\text{error} = \\frac{1}{\\beta} \\sum_{i=1}^{\\beta} \\mathbb{1}(y \\neq \\text{argmax}_k(h_k^{(l+1)}))$$\n",
    "\n",
    "### Backward function\n",
    "$$\\frac{\\partial L}{\\partial h^{(l)}} = \\frac{1}{\\beta} \\sum_{i=1}^{\\beta} \\frac{\\partial l(y_i)}{\\partial h^{(l)}}$$\n",
    "where: $\\frac{\\partial l(y_i)}{\\partial h^{(l)}} = h^{(l+1)} - \\mathbb{1}(y_i)$\n"
   ]
  },
  {
   "cell_type": "code",
   "execution_count": 6,
   "metadata": {
    "ExecuteTime": {
     "end_time": "2024-09-21T22:30:10.817565Z",
     "start_time": "2024-09-21T22:30:10.813554Z"
    }
   },
   "outputs": [],
   "source": [
    "from layers import softmax_cross_entropy_t"
   ]
  },
  {
   "cell_type": "markdown",
   "metadata": {},
   "source": [
    "## Check the backward pass of all three layers"
   ]
  },
  {
   "cell_type": "code",
   "execution_count": 7,
   "metadata": {
    "ExecuteTime": {
     "end_time": "2024-09-21T22:33:59.686448Z",
     "start_time": "2024-09-21T22:33:59.673843Z"
    }
   },
   "outputs": [
    {
     "name": "stdout",
     "output_type": "stream",
     "text": [
      "[[ 11.30988871  24.99237965  37.53063319  52.16424849]\n",
      " [-10.69011129 -24.00762035 -38.46936681 -50.83575151]]\n",
      "[[118.1 131.2 144.3]\n",
      " [118.1 131.2 144.3]]\n",
      "[[  0.05   0.15   0.25  -0.05  -0.15  -0.25]\n",
      " [  0.5    1.5    2.5   -0.5   -1.5   -2.5 ]\n",
      " [  1.     3.     5.    -1.    -3.    -5.  ]\n",
      " [  5.    15.    25.    -5.   -15.   -25.  ]\n",
      " [  0.05   0.15   0.25  -0.05  -0.15  -0.25]\n",
      " [  0.5    1.5    2.5   -0.5   -1.5   -2.5 ]\n",
      " [  1.     3.     5.    -1.    -3.    -5.  ]\n",
      " [  5.    15.    25.    -5.   -15.   -25.  ]]\n",
      "[ 0.2  2.   4.  20. ]\n"
     ]
    }
   ],
   "source": [
    "from layers import linear_t\n",
    "\n",
    "lin = linear_t(alpha=3, c=4)\n",
    "h_l = np.array([[0.5, 1.5, 2.5], [-0.5, -1.5, -2.5]])  # alpha = 3, beta = 2\n",
    "dh_lp1 = np.array([[0.1, 1, 2, 10], [0.1, 1, 2, 10]])  # c = 4, beta = 2\n",
    "lin.W = np.array([[1, 2, 3], [4, 5, 6], [7, 8, 9], [10, 11, 12]])  # c = 4, alpha = 3\n",
    "\n",
    "h_lp1 = lin.forward(h_l)\n",
    "lin.zero_grad()\n",
    "dh_l = lin.backward(dh_lp1)\n",
    "\n",
    "print(h_lp1)\n",
    "print(dh_l)\n",
    "print(lin.dW)\n",
    "print(lin.db)"
   ]
  },
  {
   "cell_type": "code",
   "execution_count": 8,
   "metadata": {
    "ExecuteTime": {
     "end_time": "2024-09-21T22:31:12.951204Z",
     "start_time": "2024-09-21T22:31:12.934899Z"
    }
   },
   "outputs": [
    {
     "name": "stdout",
     "output_type": "stream",
     "text": [
      "[[0.5 1.5 0. ]\n",
      " [0.5 0.  2.5]]\n",
      "[[ 0.3  2.   0. ]\n",
      " [-1.  -0.  -1. ]]\n"
     ]
    }
   ],
   "source": [
    "from layers import relu_t\n",
    "\n",
    "relu = relu_t()\n",
    "h_l = np.array([[0.5, 1.5, -2.5], [0.5, -1.5, 2.5]])  # alpha = 3, beta = 2\n",
    "dh_lp1 = np.array([[0.3, 2, 1], [-1, -1, -1]])  \n",
    "\n",
    "h_lp1 = relu.forward(h_l)\n",
    "dh_l = relu.backward(dh_lp1)\n",
    "\n",
    "print(h_lp1)\n",
    "print(dh_l)"
   ]
  },
  {
   "cell_type": "code",
   "execution_count": 10,
   "metadata": {
    "ExecuteTime": {
     "start_time": "2024-09-21T22:35:31.208064Z"
    }
   },
   "outputs": [
    {
     "name": "stdout",
     "output_type": "stream",
     "text": [
      "\n",
      "Single sample\n",
      "[[0.09003057 0.24472847 0.66524096]]\n",
      "0.4076059644443803\n",
      "0.0\n",
      "[[ 0.09003057  0.24472847 -0.33475904]]\n",
      "\n",
      "Batched\n",
      "[[0.09003057 0.24472847 0.66524096]\n",
      " [0.26538793 0.01321289 0.72139918]]\n",
      "2.3670843028559254\n",
      "0.5\n",
      "[[ 0.04501529  0.12236424 -0.16737952]\n",
      " [ 0.13269396 -0.49339356  0.36069959]]\n"
     ]
    }
   ],
   "source": [
    "from layers import softmax_cross_entropy_t\n",
    "import torch\n",
    "import torch.nn.functional as F\n",
    "\n",
    "# Single sample\n",
    "sce = softmax_cross_entropy_t()\n",
    "h_l = np.array([1, 2, 3])\n",
    "y = np.array([2])\n",
    "dh_lp1 = np.array([0.1, 1, 2])\n",
    "\n",
    "h_lp1, ell, error = sce.forward(h_l, y)\n",
    "dh_l = sce.backward(dh_lp1, y)\n",
    "\n",
    "print(\"\\nSingle sample\")\n",
    "print(h_lp1)\n",
    "print(ell)\n",
    "print(error)\n",
    "print(dh_l)\n",
    "\n",
    "# Batched samples\n",
    "sce = softmax_cross_entropy_t()\n",
    "h_l = np.array([[1, 2, 3], [2, -1, 3]])\n",
    "y = np.array([2, 1])\n",
    "dh_lp1 = np.array([[0.1, 1, 2], [0.1, 1, 2]])\n",
    "\n",
    "h_lp1, ell, error = sce.forward(h_l, y)\n",
    "dh_l = sce.backward(dh_lp1, y)\n",
    "\n",
    "print(\"\\nBatched\")\n",
    "print(h_lp1)\n",
    "print(ell)\n",
    "print(error)\n",
    "print(dh_l)"
   ]
  },
  {
   "cell_type": "markdown",
   "metadata": {},
   "source": [
    "### Since all three layers have been validated and compared with PyTorch, we can continue to (f)"
   ]
  },
  {
   "cell_type": "markdown",
   "metadata": {},
   "source": [
    "## Training"
   ]
  },
  {
   "cell_type": "code",
   "execution_count": null,
   "metadata": {},
   "outputs": [],
   "source": [
    "# Load dataset\n",
    "...\n",
    "\n",
    "# Initialize all the layers\n",
    "l1, l2, l3 = linear_t(), relu_t(), softmax_cross_entropy_t()\n",
    "net = [l1, l2, l3]\n",
    "\n",
    "lr = 0.1\n",
    "\n",
    "# Train for at least 1000 iterations\n",
    "import tqdm\n",
    "for t in tqdm.tqdm(range(1000)):\n",
    "    # 1. Sample a mini-batch of size = 32\n",
    "    # Each image in the mini-batch is chosen uniformly randomly from the training dataset\n",
    "    x, y = ...\n",
    "    \n",
    "    # 2. Zero gradient buffer\n",
    "    for l in net:\n",
    "        l.zero_grad()\n",
    "    \n",
    "    # 3. Forward pass\n",
    "    h1 = l1.forward(x)\n",
    "    h2 = l2.forward(h1)\n",
    "    ell, error = l3.forward(h2, y)\n",
    "    \n",
    "    # 4. Backward pass\n",
    "    dh2 = l3.backward()\n",
    "    dh1 = l2.backward(dh2)\n",
    "    dx = l1.backward(dh1)\n",
    "    \n",
    "    # 5. Gather backprop gradients\n",
    "    dW, db = l1.dW, l1.db\n",
    "    \n",
    "    # 6. Print some quantities for logging and debugging\n",
    "    print(t, ell, error)\n",
    "    print(t, np.linalg.norm(dW/l1.W), np.linalg.norm(db/l1.b))\n",
    "    \n",
    "    # 7. One step of SGD\n",
    "    l1.W = l1.W - lr * dW\n",
    "    l1.b = l1.b - lr * db"
   ]
  }
 ],
 "metadata": {
  "kernelspec": {
   "display_name": ".venv",
   "language": "python",
   "name": "python3"
  },
  "language_info": {
   "codemirror_mode": {
    "name": "ipython",
    "version": 3
   },
   "file_extension": ".py",
   "mimetype": "text/x-python",
   "name": "python",
   "nbconvert_exporter": "python",
   "pygments_lexer": "ipython3",
   "version": "3.8.10"
  }
 },
 "nbformat": 4,
 "nbformat_minor": 2
}
