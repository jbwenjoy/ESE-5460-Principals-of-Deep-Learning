{
 "cells": [
  {
   "cell_type": "markdown",
   "metadata": {},
   "source": [
    "## Load Dataset"
   ]
  },
  {
   "cell_type": "code",
   "execution_count": 1,
   "metadata": {},
   "outputs": [],
   "source": [
    "import torchvision as thv\n",
    "import os\n",
    "import pickle\n",
    "from torch.utils.data import Subset\n",
    "import numpy as np\n",
    "\n",
    "def get_mnist_dataset(root='./mnist_data'):\n",
    "    # Check if the dataset already exists locally\n",
    "    if os.path.exists(f'{root}/train_data.pkl') and os.path.exists(f'{root}/val_data.pkl'):\n",
    "        print(\"Loading MNIST dataset from local storage...\")\n",
    "        with open(f'{root}/train_data.pkl', 'rb') as f:\n",
    "            train = pickle.load(f)\n",
    "        with open(f'{root}/val_data.pkl', 'rb') as f:\n",
    "            val = pickle.load(f)\n",
    "    else:\n",
    "        print(\"Downloading MNIST dataset...\")\n",
    "        # Download the dataset\n",
    "        train = thv.datasets.MNIST(root, download=True, train=True)\n",
    "        val = thv.datasets.MNIST(root, download=True, train=False)\n",
    "        \n",
    "        # Save the dataset locally\n",
    "        os.makedirs(root, exist_ok=True)\n",
    "        with open(f'{root}/train_data.pkl', 'wb') as f:\n",
    "            pickle.dump(train, f)\n",
    "        with open(f'{root}/val_data.pkl', 'wb') as f:\n",
    "            pickle.dump(val, f)\n",
    "\n",
    "    print(f\"Training dataset shape: {train.data.shape}, Number of targets: {len(train.targets)}\")\n",
    "    print(f\"Validation dataset shape: {val.data.shape}, Number of targets: {len(val.targets)}\")\n",
    "\n",
    "    return train, val\n",
    "    \n",
    "def split_dataset(train, val):\n",
    "    import torch\n",
    "    import numpy as np\n",
    "    from torch.utils.data import Subset\n",
    "\n",
    "    # Define the number of classes and target sizes\n",
    "    num_classes = 10\n",
    "    target_train_size = 30000\n",
    "    target_val_size = 5000\n",
    "\n",
    "    # Initialize lists to hold the indices for the refined datasets\n",
    "    train_indices = []\n",
    "    val_indices = []\n",
    "\n",
    "    # Iterate over each class and collect indices for the split\n",
    "    for i in range(num_classes):\n",
    "        # Get indices of all examples from class i in the training and validation sets\n",
    "        train_class_indices = (train.targets == i).nonzero(as_tuple=True)[0]\n",
    "        val_class_indices = (val.targets == i).nonzero(as_tuple=True)[0]\n",
    "\n",
    "        # Convert indices to numpy arrays for shuffling\n",
    "        train_class_indices_np = train_class_indices.numpy()\n",
    "        val_class_indices_np = val_class_indices.numpy()\n",
    "\n",
    "        # Shuffle indices\n",
    "        np.random.shuffle(train_class_indices_np)\n",
    "        np.random.shuffle(val_class_indices_np)\n",
    "\n",
    "        # Calculate split indices, initially aiming to round up\n",
    "        split_idx_train = (len(train_class_indices_np) + 1) // 2\n",
    "        split_idx_val = (len(val_class_indices_np) + 1) // 2\n",
    "\n",
    "        # Adjust split to avoid exceeding overall target sizes\n",
    "        if len(train_indices) + split_idx_train > target_train_size:\n",
    "            split_idx_train = target_train_size - len(train_indices)\n",
    "        if len(val_indices) + split_idx_val > target_val_size:\n",
    "            split_idx_val = target_val_size - len(val_indices)\n",
    "\n",
    "        # Add indices to lists\n",
    "        train_indices.extend(train_class_indices_np[:split_idx_train])\n",
    "        val_indices.extend(val_class_indices_np[:split_idx_val])\n",
    "\n",
    "        # Check if we have already reached the target sizes\n",
    "        if len(train_indices) == target_train_size and len(val_indices) == target_val_size:\n",
    "            break\n",
    "\n",
    "    # Create refined datasets\n",
    "    refined_train = Subset(train, train_indices)\n",
    "    refined_val = Subset(val, val_indices)\n",
    "\n",
    "    print(f\"Refined training dataset size: {len(refined_train)}\")\n",
    "    print(f\"Refined validation dataset size: {len(refined_val)}\")\n",
    "\n",
    "    return refined_train, refined_val\n"
   ]
  },
  {
   "cell_type": "code",
   "execution_count": 2,
   "metadata": {},
   "outputs": [
    {
     "name": "stdout",
     "output_type": "stream",
     "text": [
      "Loading MNIST dataset from local storage...\n",
      "Training dataset shape: torch.Size([60000, 28, 28]), Number of targets: 60000\n",
      "Validation dataset shape: torch.Size([10000, 28, 28]), Number of targets: 10000\n",
      "Refined training dataset size: 30000\n",
      "Refined validation dataset size: 5000\n"
     ]
    }
   ],
   "source": [
    "data_path = \"./prob3_mnist_data\"\n",
    "\n",
    "train, val = get_mnist_dataset(data_path)\n",
    "refined_train, refined_val = split_dataset(train, val)\n",
    "\n",
    "# print(\"Train\", train)\n",
    "# print(\"Val\", val)\n",
    "# print(\"Refined Train\", refined_train)\n",
    "# print(\"Refined Val\", refined_val)"
   ]
  },
  {
   "cell_type": "code",
   "execution_count": 3,
   "metadata": {},
   "outputs": [
    {
     "name": "stdout",
     "output_type": "stream",
     "text": [
      "Computed Mean: 0.1305, Computed Std: 0.3079\n",
      "After Normalization - Train Images: min -0.4238, max 2.8244\n",
      "After Normalization - Val Images: min -0.4238, max 2.8244\n",
      "Train Normalized Shape: (30000, 28, 28)\n",
      "Train Labels Shape: (30000,)\n",
      "Validation Normalized Shape: (5000, 28, 28)\n",
      "Validation Labels Shape: (5000,)\n",
      "Normalized datasets have been saved successfully.\n"
     ]
    }
   ],
   "source": [
    "# Normalize the datasets\n",
    "def normalize_dataset(refined_train, refined_val):\n",
    "    \"\"\"\n",
    "    (X / 255.0 - mean) / std\n",
    "    \"\"\"\n",
    "    \n",
    "    # Convert all training images to a single NumPy array\n",
    "    train_images = np.array([\n",
    "        refined_train.dataset.data[idx].float().cpu().numpy() for idx in refined_train.indices\n",
    "    ])\n",
    "    train_labels = np.array([\n",
    "        refined_train.dataset.targets[idx].item() for idx in refined_train.indices\n",
    "    ])\n",
    "    \n",
    "    # Convert all validation images to a single NumPy array\n",
    "    val_images = np.array([\n",
    "        refined_val.dataset.data[idx].float().cpu().numpy() for idx in refined_val.indices\n",
    "    ])\n",
    "    val_labels = np.array([\n",
    "        refined_val.dataset.targets[idx].item() for idx in refined_val.indices\n",
    "    ])\n",
    "    \n",
    "    # Scale pixel values to [0, 1]\n",
    "    train_images /= 255.0\n",
    "    val_images /= 255.0\n",
    "    \n",
    "    # Compute mean and std from the training data\n",
    "    mean = train_images.mean()\n",
    "    std = train_images.std()\n",
    "    print(f\"Computed Mean: {mean:.4f}, Computed Std: {std:.4f}\")  # ~0.1307, ~0.3081 for MNIST\n",
    "    \n",
    "    # Normalize the training and validation images using training mean and std\n",
    "    train_images_normalized = (train_images - mean) / std\n",
    "    val_images_normalized = (val_images - mean) / std  # Use training mean and std for validation\n",
    "    \n",
    "    print(f\"After Normalization - Train Images: min {train_images_normalized.min():.4f}, max {train_images_normalized.max():.4f}\")\n",
    "    print(f\"After Normalization - Val Images: min {val_images_normalized.min():.4f}, max {val_images_normalized.max():.4f}\")\n",
    "    \n",
    "    return (train_images, train_labels), (val_images, val_labels), mean, std\n",
    "    # return (train_images_normalized, train_labels), (val_images_normalized, val_labels), mean, std\n",
    "\n",
    "\n",
    "(train_normalized, train_labels), (val_normalized, val_labels), mean, std = normalize_dataset(refined_train, refined_val)\n",
    "\n",
    "print(\"Train Normalized Shape:\", train_normalized.shape)\n",
    "print(\"Train Labels Shape:\", train_labels.shape)\n",
    "print(\"Validation Normalized Shape:\", val_normalized.shape)\n",
    "print(\"Validation Labels Shape:\", val_labels.shape)\n",
    "\n",
    "# Optionally, save the normalized datasets for future use\n",
    "with open(f'{data_path}/train_normalized.pkl', 'wb') as f:\n",
    "    pickle.dump((train_normalized, train_labels), f)\n",
    "\n",
    "with open(f'{data_path}/val_normalized.pkl', 'wb') as f:\n",
    "    pickle.dump((val_normalized, val_labels), f)\n",
    "\n",
    "print(\"Normalized datasets have been saved successfully.\")\n"
   ]
  },
  {
   "cell_type": "code",
   "execution_count": 4,
   "metadata": {},
   "outputs": [
    {
     "name": "stdout",
     "output_type": "stream",
     "text": [
      "Mean: 0.13066047430038452, Std: 0.30810779333114624\n",
      "Min pixel value: 0, Max pixel value: 255\n",
      "Min pixel value: 0, Max pixel value: 255\n",
      "Min pixel value: 0, Max pixel value: 255\n",
      "Min pixel value: 0, Max pixel value: 255\n"
     ]
    }
   ],
   "source": [
    "# Original version of normalizing\n",
    "mean = train.data.float().mean() / 255.0\n",
    "std = train.data.float().std() / 255.0\n",
    "print(f\"Mean: {mean}, Std: {std}\")\n",
    "\n",
    "transform = thv.transforms.Compose([\n",
    "    thv.transforms.ToTensor(),\n",
    "    thv.transforms.Normalize(mean=(mean,), std=(std,))\n",
    "])\n",
    "\n",
    "train = thv.datasets.MNIST(data_path, download=True, train=True, transform=transform)\n",
    "val = thv.datasets.MNIST(data_path, download=True, train=False, transform=transform)\n",
    "refined_train = thv.datasets.MNIST(data_path, download=True, train=True, transform=transform)\n",
    "refined_val = thv.datasets.MNIST(data_path, download=True, train=False, transform=transform)\n",
    "\n",
    "# Check data range\n",
    "print(f\"Min pixel value: {train.data.min()}, Max pixel value: {train.data.max()}\")\n",
    "print(f\"Min pixel value: {val.data.min()}, Max pixel value: {val.data.max()}\")\n",
    "print(f\"Min pixel value: {refined_train.data.min()}, Max pixel value: {refined_train.data.max()}\")\n",
    "print(f\"Min pixel value: {refined_val.data.min()}, Max pixel value: {refined_val.data.max()}\")"
   ]
  },
  {
   "cell_type": "markdown",
   "metadata": {},
   "source": [
    "## Plot and Validate Dataset"
   ]
  },
  {
   "cell_type": "code",
   "execution_count": 5,
   "metadata": {},
   "outputs": [
    {
     "data": {
      "image/png": "[encoded data removed]",
      "text/plain": [
       "<Figure size 1000x300 with 5 Axes>"
      ]
     },
     "metadata": {},
     "output_type": "display_data"
    }
   ],
   "source": [
    "import matplotlib.pyplot as plt\n",
    "import torch\n",
    "\n",
    "def plot_images(dataset, num_images=6):\n",
    "    # Making sure the dataset can be indexed directly\n",
    "    assert hasattr(dataset, '__getitem__'), \"Dataset must support indexing\"\n",
    "\n",
    "    indices = np.random.choice(len(dataset), num_images, replace=False)\n",
    "\n",
    "    fig, axes = plt.subplots(1, num_images, figsize=(num_images * 2, 3))\n",
    "    \n",
    "    if num_images == 1:\n",
    "        axes = [axes]\n",
    "    \n",
    "    for ax, idx in zip(axes, indices):\n",
    "        image, label = dataset[idx]\n",
    "        \n",
    "        # MNIST images are 1-channel images, need to be reshaped if in tensor form\n",
    "        if isinstance(image, torch.Tensor):\n",
    "            image = image.numpy().squeeze()  # Convert to numpy and remove extra dimensions\n",
    "        \n",
    "        ax.imshow(image, cmap='gray')\n",
    "        ax.set_title(f\"Label: {label}\")\n",
    "        ax.axis('off')\n",
    "\n",
    "    plt.show()\n",
    "\n",
    "plot_images(refined_train, num_images=5)"
   ]
  },
  {
   "cell_type": "markdown",
   "metadata": {},
   "source": [
    "## Linear Layer\n",
    "\n",
    "### Forward function\n",
    "For $\\beta$ samples, $\\alpha$ input features, and $c$ output features, the forward function is \n",
    "$$h^{(l+1)} = h^{(l)} W^{\\top} + b$$\n",
    "where: $h^l \\in R^{\\beta \\times \\alpha}$, $W \\in R^{c \\times \\alpha}$, $b \\in R^c$, $h^{l+1} \\in R^{\\beta \\times c}$\n",
    "\n",
    "### Backward function:\n",
    "$$\\frac{\\partial L}{\\partial h^l} = \\frac{\\partial L}{\\partial h^{l+1}} W$$\n",
    "$$\\frac{\\partial L}{\\partial W} = \\frac{\\partial L}{\\partial h^{l+1}}^{\\top} h^l$$\n",
    "$$\\frac{\\partial L}{\\partial b} = \\sum_{i=1}^\\beta \\frac{\\partial L}{\\partial h_i^{l+1}}$$\n",
    "where: $\\frac{\\partial L}{\\partial h^{l+1}} \\in R^{\\beta \\times c}$, $\\frac{\\partial L}{\\partial W} \\in R^{c \\times \\alpha}$, $\\frac{\\partial L}{\\partial b} \\in R^c$\n",
    "\n"
   ]
  },
  {
   "cell_type": "markdown",
   "metadata": {},
   "source": [
    "## ReLU Layer\n",
    "\n",
    "### Forward function\n",
    "$$h^{(l+1)} = \\max(0, h^{(l)})$$\n",
    "where: $h^l \\in R^{\\beta \\times \\alpha}$, $h^{(l+1)} \\in R^{\\beta \\times \\alpha}$\n",
    "\n",
    "### Backward function\n",
    "$$\\frac{\\partial L}{\\partial h^l} = \\frac{\\partial L}{\\partial h^{l+1}} \\odot \\mathbb{1}(h^l > 0)$$\n",
    "where: $\\odot$ is element-wise multiplication, $\\mathbb{1}$ is the indicator function"
   ]
  },
  {
   "cell_type": "markdown",
   "metadata": {},
   "source": [
    "## Combined Softmax and Cross-entropy Loss Layer\n",
    "\n",
    "### Forward function\n",
    "$$h_k^{(l+1)} = \\frac{e^{h_k^{(l)}}}{\\sum_{k'} e^{h_{k'}^{(l)}}}$$\n",
    "$$l(y) = -\\log(h_y^{(l+1)})$$\n",
    "For a mini-batch of size $\\beta$, the loss is\n",
    "$$l({y_i}_{i=1,...,\\beta}) = -\\frac{1}{\\beta} \\sum_{i=1}^{\\beta} \\log(h_y^{(l+1)})$$\n",
    "\n",
    "Error is\n",
    "$$\\text{error} = \\frac{1}{\\beta} \\sum_{i=1}^{\\beta} \\mathbb{1}(y \\neq \\text{argmax}_k(h_k^{(l+1)}))$$\n",
    "\n",
    "### Backward function\n",
    "$$\\frac{\\partial L}{\\partial h^{(l)}} = \\frac{1}{\\beta} \\sum_{i=1}^{\\beta} \\frac{\\partial l(y_i)}{\\partial h^{(l)}}$$\n",
    "where: $\\frac{\\partial l(y_i)}{\\partial h^{(l)}} = h^{(l+1)} - \\mathbb{1}(y_i)$\n"
   ]
  },
  {
   "cell_type": "markdown",
   "metadata": {},
   "source": [
    "## Check the backward pass of all three layers"
   ]
  },
  {
   "cell_type": "code",
   "execution_count": 6,
   "metadata": {},
   "outputs": [
    {
     "name": "stdout",
     "output_type": "stream",
     "text": [
      "[[ 11.   24.5  38.   51.5]\n",
      " [-11.  -24.5 -38.  -51.5]]\n",
      "[[118.1 131.2 144.3]\n",
      " [118.1 131.2 144.3]]\n",
      "[[ 0.00000000e+00  1.38777878e-17 -1.38777878e-17]\n",
      " [ 0.00000000e+00  0.00000000e+00  0.00000000e+00]\n",
      " [ 0.00000000e+00  0.00000000e+00  0.00000000e+00]\n",
      " [ 0.00000000e+00  0.00000000e+00  0.00000000e+00]]\n",
      "[ 0.2  2.   4.  20. ]\n"
     ]
    }
   ],
   "source": [
    "from layers import linear_t\n",
    "\n",
    "lin = linear_t(alpha=3, c=4)\n",
    "h_l = np.array([[0.5, 1.5, 2.5], [-0.5, -1.5, -2.5]])  # alpha = 3, beta = 2\n",
    "dh_lp1 = np.array([[0.1, 1, 2, 10], [0.1, 1, 2, 10]])  # c = 4, beta = 2\n",
    "lin.W = np.array([[1, 2, 3], [4, 5, 6], [7, 8, 9], [10, 11, 12]])  # c = 4, alpha = 3\n",
    "\n",
    "h_lp1 = lin.forward(h_l)\n",
    "lin.zero_grad()\n",
    "dh_l = lin.backward(dh_lp1)\n",
    "\n",
    "print(h_lp1)\n",
    "print(dh_l)\n",
    "print(lin.dW)\n",
    "print(lin.db)"
   ]
  },
  {
   "cell_type": "code",
   "execution_count": 7,
   "metadata": {},
   "outputs": [
    {
     "name": "stdout",
     "output_type": "stream",
     "text": [
      "[[0.5 1.5 0. ]\n",
      " [0.5 0.  2.5]]\n",
      "[[ 0.3  2.   0. ]\n",
      " [-1.  -0.  -1. ]]\n"
     ]
    }
   ],
   "source": [
    "from layers import relu_t\n",
    "\n",
    "relu = relu_t()\n",
    "h_l = np.array([[0.5, 1.5, -2.5], [0.5, -1.5, 2.5]])  # alpha = 3, beta = 2\n",
    "dh_lp1 = np.array([[0.3, 2, 1], [-1, -1, -1]])  \n",
    "\n",
    "h_lp1 = relu.forward(h_l)\n",
    "dh_l = relu.backward(dh_lp1)\n",
    "\n",
    "print(h_lp1)\n",
    "print(dh_l)"
   ]
  },
  {
   "cell_type": "code",
   "execution_count": 8,
   "metadata": {},
   "outputs": [
    {
     "name": "stdout",
     "output_type": "stream",
     "text": [
      "\n",
      "Single sample\n",
      "[[0.09003057 0.24472847 0.66524096]]\n",
      "0.40760596444437897\n",
      "0.0\n",
      "[[ 0.09003057  0.24472847 -0.33475904]]\n",
      "\n",
      "Batched\n",
      "[[0.09003057 0.24472847 0.66524096]\n",
      " [0.26538793 0.01321289 0.72139918]]\n",
      "2.367084302855887\n",
      "0.5\n",
      "[[ 0.04501529  0.12236424 -0.16737952]\n",
      " [ 0.13269396 -0.49339356  0.36069959]]\n"
     ]
    }
   ],
   "source": [
    "from layers import softmax_cross_entropy_t\n",
    "\n",
    "# Single sample\n",
    "sce = softmax_cross_entropy_t()\n",
    "h_l = np.array([1, 2, 3])\n",
    "y = np.array([2])\n",
    "dh_lp1 = np.array([0.1, 1, 2])\n",
    "\n",
    "h_lp1, ell, error = sce.forward(h_l, y)\n",
    "dh_l = sce.backward(dh_lp1, y)\n",
    "\n",
    "print(\"\\nSingle sample\")\n",
    "print(h_lp1)\n",
    "print(ell)\n",
    "print(error)\n",
    "print(dh_l)\n",
    "\n",
    "# Batched samples\n",
    "sce = softmax_cross_entropy_t()\n",
    "h_l = np.array([[1, 2, 3], [2, -1, 3]])\n",
    "y = np.array([2, 1])\n",
    "dh_lp1 = np.array([[0.1, 1, 2], [0.1, 1, 2]])\n",
    "\n",
    "h_lp1, ell, error = sce.forward(h_l, y)\n",
    "dh_l = sce.backward(dh_lp1, y)\n",
    "\n",
    "print(\"\\nBatched\")\n",
    "print(h_lp1)\n",
    "print(ell)\n",
    "print(error)\n",
    "print(dh_l)"
   ]
  },
  {
   "cell_type": "markdown",
   "metadata": {},
   "source": [
    "### Since all three layers have been validated and compared with PyTorch, we can continue to (f)"
   ]
  },
  {
   "cell_type": "markdown",
   "metadata": {},
   "source": [
    "## Training"
   ]
  },
  {
   "cell_type": "code",
   "execution_count": 9,
   "metadata": {},
   "outputs": [],
   "source": [
    "# Helper functions for visualization\n",
    "\n",
    "import matplotlib.pyplot as plt\n",
    "from ipywidgets import Output\n",
    "\n",
    "# Helper functions to plot loss and error using a separate Output widget\n",
    "def plot_loss_error(train_error_results, train_loss_results, val_error_results, val_loss_results, plot_output):\n",
    "    \"\"\"\n",
    "    Plots the validation error and validation loss over iterations.\n",
    "    Updates the plot in the provided Output widget.\n",
    "\n",
    "    Args:\n",
    "        val_error_results (list): List of validation error values over iterations.\n",
    "        val_loss_results (list): List of validation loss values over iterations.\n",
    "        plot_output (Output): IPython Output widget to render the plots.\n",
    "    \"\"\"\n",
    "    iterations = list(range(0, len(val_loss_results) * 1000, 1000))  # Assuming evaluation every 1000 steps\n",
    "\n",
    "    with plot_output:\n",
    "        # Clear the previous plot to avoid stacking\n",
    "        clear_output(wait=True)\n",
    "        plt.figure(figsize=(12, 10))\n",
    "\n",
    "        # Training loss\n",
    "        plt.subplot(2, 2, 1)\n",
    "        plt.plot(iterations, train_loss_results, label='Training Loss', color='blue', marker='o')\n",
    "        plt.xlabel('Iterations')\n",
    "        plt.ylabel('Loss')\n",
    "        plt.title('Training Loss over Iterations')\n",
    "        plt.grid(True)\n",
    "        plt.legend()\n",
    "\n",
    "        # Training error\n",
    "        plt.subplot(2, 2, 2)\n",
    "        plt.plot(iterations, train_error_results, label='Training Error', color='red', marker='o')\n",
    "        plt.xlabel('Iterations')\n",
    "        plt.ylabel('Error')\n",
    "        plt.title('Training Error over Iterations')\n",
    "        plt.grid(True)\n",
    "        plt.legend()\n",
    "\n",
    "        # Validation loss\n",
    "        plt.subplot(2, 2, 3)\n",
    "        plt.plot(iterations, val_loss_results, label='Validation Loss', color='blue', marker='o')\n",
    "        plt.xlabel('Iterations')\n",
    "        plt.ylabel('Loss')\n",
    "        plt.title('Validation Loss over Iterations')\n",
    "        plt.grid(True)\n",
    "        plt.legend()\n",
    "\n",
    "        # Validation error\n",
    "        plt.subplot(2, 2, 4)\n",
    "        plt.plot(iterations, val_error_results, label='Validation Error', color='red', marker='o')\n",
    "        plt.xlabel('Iterations')\n",
    "        plt.ylabel('Error')\n",
    "        plt.title('Validation Error over Iterations')\n",
    "        plt.grid(True)\n",
    "        plt.legend()\n",
    "\n",
    "        # Adjust layout and show the updated plots\n",
    "        plt.tight_layout()\n",
    "        plt.show()\n",
    "        \n",
    "# Function to print validation metrics using a separate Output widget\n",
    "def print_validation_metrics(iteration, train_loss, train_error, val_loss, val_error, validation_output):\n",
    "    with validation_output:\n",
    "        print(f\"Iter: {iteration}\\tTrain Loss: {train_loss:.4f}, Train Err: {train_error:.4f}\\tVal Loss: {val_loss:.4f}, Val Err: {val_error:.4f}\")"
   ]
  },
  {
   "cell_type": "markdown",
   "metadata": {},
   "source": [
    "### NumPy Implementation"
   ]
  },
  {
   "cell_type": "code",
   "execution_count": 12,
   "metadata": {},
   "outputs": [
    {
     "name": "stdout",
     "output_type": "stream",
     "text": [
      "Train Normalized Data - Mean: 0.1305, Std: 0.3079\n",
      "Validation Normalized Data - Mean: 0.1326, Std: 0.3105\n"
     ]
    },
    {
     "data": {
      "application/vnd.jupyter.widget-view+json": {
       "model_id": "40957958d7a5492a85300406422c0731",
       "version_major": 2,
       "version_minor": 0
      },
      "text/plain": [
       "Output()"
      ]
     },
     "metadata": {},
     "output_type": "display_data"
    },
    {
     "data": {
      "application/vnd.jupyter.widget-view+json": {
       "model_id": "8f1cf00f86a64cdbb9ab9f55fb2f2e82",
       "version_major": 2,
       "version_minor": 0
      },
      "text/plain": [
       "Output()"
      ]
     },
     "metadata": {},
     "output_type": "display_data"
    },
    {
     "data": {
      "application/vnd.jupyter.widget-view+json": {
       "model_id": "41f19c4c499a4f2eab353aec6fce8381",
       "version_major": 2,
       "version_minor": 0
      },
      "text/plain": [
       "  0%|          | 0/50000 [00:00<?, ?it/s]"
      ]
     },
     "metadata": {},
     "output_type": "display_data"
    },
    {
     "name": "stderr",
     "output_type": "stream",
     "text": [
      "C:\\Users\\Bw Jiang\\AppData\\Local\\Temp\\ipykernel_22956\\4051750720.py:76: RuntimeWarning: divide by zero encountered in divide\n",
      "  f\"Iter: {t:4d}, LR: {lr:.6f}, Loss: {ell.item():.4f}, Error: {error:.4f}, \"\n"
     ]
    },
    {
     "ename": "KeyboardInterrupt",
     "evalue": "",
     "output_type": "error",
     "traceback": [
      "\u001b[1;31m---------------------------------------------------------------------------\u001b[0m",
      "\u001b[1;31mKeyboardInterrupt\u001b[0m                         Traceback (most recent call last)",
      "Cell \u001b[1;32mIn[12], line 66\u001b[0m\n\u001b[0;32m     64\u001b[0m dh2 \u001b[38;5;241m=\u001b[39m l3\u001b[38;5;241m.\u001b[39mbackward()  \u001b[38;5;66;03m# (32, 10)\u001b[39;00m\n\u001b[0;32m     65\u001b[0m dh1 \u001b[38;5;241m=\u001b[39m l2\u001b[38;5;241m.\u001b[39mbackward(dh2)  \u001b[38;5;66;03m# (32, 10)\u001b[39;00m\n\u001b[1;32m---> 66\u001b[0m dx \u001b[38;5;241m=\u001b[39m \u001b[43ml1\u001b[49m\u001b[38;5;241;43m.\u001b[39;49m\u001b[43mbackward\u001b[49m\u001b[43m(\u001b[49m\u001b[43mdh1\u001b[49m\u001b[43m)\u001b[49m  \u001b[38;5;66;03m# (32, 784)\u001b[39;00m\n\u001b[0;32m     68\u001b[0m \u001b[38;5;66;03m# 5. Gather backprop gradients\u001b[39;00m\n\u001b[0;32m     69\u001b[0m dW, db \u001b[38;5;241m=\u001b[39m l1\u001b[38;5;241m.\u001b[39mdW, l1\u001b[38;5;241m.\u001b[39mdb  \u001b[38;5;66;03m# (10, 784), (10,)\u001b[39;00m\n",
      "File \u001b[1;32me:\\ESE-5460\\pythonProject\\hw1\\layers.py:31\u001b[0m, in \u001b[0;36mlinear_t.backward\u001b[1;34m(self, dh_lp1)\u001b[0m\n\u001b[0;32m     28\u001b[0m     dh_lp1 \u001b[38;5;241m=\u001b[39m dh_lp1\u001b[38;5;241m.\u001b[39mreshape(\u001b[38;5;241m1\u001b[39m, \u001b[38;5;241m-\u001b[39m\u001b[38;5;241m1\u001b[39m)\n\u001b[0;32m     29\u001b[0m \u001b[38;5;28;01massert\u001b[39;00m dh_lp1\u001b[38;5;241m.\u001b[39mshape[\u001b[38;5;241m1\u001b[39m] \u001b[38;5;241m==\u001b[39m \u001b[38;5;28mself\u001b[39m\u001b[38;5;241m.\u001b[39mW\u001b[38;5;241m.\u001b[39mshape[\u001b[38;5;241m0\u001b[39m], \u001b[38;5;124m\"\u001b[39m\u001b[38;5;124mOutput gradient shape does not match the weight matrix shape\u001b[39m\u001b[38;5;124m\"\u001b[39m\n\u001b[1;32m---> 31\u001b[0m dh_l \u001b[38;5;241m=\u001b[39m \u001b[43mdh_lp1\u001b[49m\u001b[43m \u001b[49m\u001b[38;5;241;43m@\u001b[39;49m\u001b[43m \u001b[49m\u001b[38;5;28;43mself\u001b[39;49m\u001b[38;5;241;43m.\u001b[39;49m\u001b[43mW\u001b[49m\n\u001b[0;32m     32\u001b[0m dW \u001b[38;5;241m=\u001b[39m dh_lp1\u001b[38;5;241m.\u001b[39mT \u001b[38;5;241m@\u001b[39m \u001b[38;5;28mself\u001b[39m\u001b[38;5;241m.\u001b[39mh_l\n\u001b[0;32m     33\u001b[0m db \u001b[38;5;241m=\u001b[39m np\u001b[38;5;241m.\u001b[39msum(dh_lp1, axis\u001b[38;5;241m=\u001b[39m\u001b[38;5;241m0\u001b[39m)\n",
      "\u001b[1;31mKeyboardInterrupt\u001b[0m: "
     ]
    }
   ],
   "source": [
    "## NumPy Implementation\n",
    "from IPython.display import clear_output\n",
    "from tqdm.notebook import tqdm\n",
    "from IPython.display import clear_output, display\n",
    "from IPython.display import display, HTML\n",
    "from layers import linear_t, relu_t, softmax_cross_entropy_t\n",
    "\n",
    "\n",
    "# Load the normalized datasets\n",
    "with open(f'{data_path}/train_normalized.pkl', 'rb') as f:\n",
    "    (train_normalized, train_labels) = pickle.load(f)\n",
    "with open(f'{data_path}/val_normalized.pkl', 'rb') as f:\n",
    "    (val_normalized, val_labels) = pickle.load(f)\n",
    "\n",
    "# Verify dataset\n",
    "print(f\"Train Normalized Data - Mean: {train_normalized.mean():.4f}, Std: {train_normalized.std():.4f}\")  # Should be ~0.0, ~1.0\n",
    "print(f\"Validation Normalized Data - Mean: {val_normalized.mean():.4f}, Std: {val_normalized.std():.4f}\")  # Should be close to 0.0, 1.0\n",
    "\n",
    "# Random seed for reproducibility\n",
    "np.random.seed(42)\n",
    "\n",
    "# Initialize all the layers\n",
    "l1, l2, l3 = linear_t(), relu_t(), softmax_cross_entropy_t()\n",
    "net = [l1, l2, l3]\n",
    "\n",
    "# Define training parameters\n",
    "lr = 0.1\n",
    "lr_decay_rate = 0.99995\n",
    "max_iters = 10000\n",
    "batch_size = 32\n",
    "# np.random.seed(42)\n",
    "\n",
    "# Create separate Output widgets for plotting and printing validation metrics\n",
    "plot_output = Output()\n",
    "validation_output = Output()\n",
    "display(plot_output)\n",
    "display(validation_output)\n",
    "\n",
    "process_bar = tqdm(range(max_iters))\n",
    "val_error_results = []\n",
    "val_loss_results = []\n",
    "train_error_results = []\n",
    "train_loss_results = []\n",
    "\n",
    "# Train for at least 1000 iterations\n",
    "for t in range(max_iters):\n",
    "    # 1. Sample a mini-batch of size = 32\n",
    "    # Each image in the mini-batch is chosen uniformly randomly from the training dataset\n",
    "    indices = np.random.choice(len(train_normalized), batch_size, replace=False)\n",
    "    x = train_normalized[indices]\n",
    "    x = x.reshape(x.shape[0], -1)  # (32, 28, 28) reshaped to (32, 784)\n",
    "    y = train_labels[indices]  # (32,)\n",
    "    \n",
    "    # 2. Zero gradient buffer\n",
    "    for l in net:\n",
    "        l.zero_grad()\n",
    "    \n",
    "    # 3. Forward pass\n",
    "    h1 = l1.forward(x)  # (32, 10), l1.W: (10, 784), l1.b: (10,)\n",
    "    h2 = l2.forward(h1)  # (32, 10)\n",
    "    _, ell, error = l3.forward(h2, y)  # (32, 10), scalar, scalar, l3.y: (32, 1), l3.h and l3.h_lp1: (32, 10)\n",
    "    \n",
    "    # 4. Backward pass\n",
    "    dh2 = l3.backward()  # (32, 10)\n",
    "    dh1 = l2.backward(dh2)  # (32, 10)\n",
    "    dx = l1.backward(dh1)  # (32, 784)\n",
    "    \n",
    "    # 5. Gather backprop gradients\n",
    "    dW, db = l1.dW, l1.db  # (10, 784), (10,)\n",
    "    \n",
    "    # 6. Print some quantities for logging and debugging\n",
    "    process_bar.update(1)\n",
    "    # print(t, ell, error)\n",
    "    # print(t, np.linalg.norm(dW/l1.W), np.linalg.norm(db/l1.b))\n",
    "    process_bar.set_description(\n",
    "        f\"Iter: {t:4d}, LR: {lr:.6f}, Loss: {ell.item():.4f}, Error: {error:.4f}, \"\n",
    "        f\"dW/W Norm: {np.linalg.norm(dW/l1.W):.4f}, \"\n",
    "        f\"db/b Norm: {np.linalg.norm(db/l1.b):.4f}\"\n",
    "    )\n",
    "    \n",
    "    # 7. One step of SGD\n",
    "    l1.W -= lr * dW\n",
    "    l1.b -= lr * db\n",
    "\n",
    "    # 8. Learning rate decay\n",
    "    lr *= lr_decay_rate\n",
    "\n",
    "    # 9. Every 1000 iterations, evaluate the model on the validation set\n",
    "    if t % 1000 == 0 or t == max_iters - 1:\n",
    "        # Evaluate the model on the validation set\n",
    "        val_losses = []\n",
    "        val_errors = []\n",
    "        train_losses = []\n",
    "        train_errors = []\n",
    "        for idx in range(len(val_normalized)):\n",
    "            x_val = val_normalized[idx].reshape(1, -1)  # Shape: (1, 784)\n",
    "            x_train = train_normalized[idx].reshape(1, -1)  # Shape: (1, 784)\n",
    "            y_val = val_labels[idx].reshape(1,)        # Shape: (1,)\n",
    "            y_train = train_labels[idx].reshape(1,)    # Shape: (1,)\n",
    "\n",
    "            h1_val = l1.forward(x_val)\n",
    "            h1_train = l1.forward(x_train)\n",
    "            h2_val = l2.forward(h1_val)\n",
    "            h2_train = l2.forward(h1_train)\n",
    "            _, ell_val, error_val = l3.forward(h2_val, y_val)\n",
    "            _, ell_train, error_train = l3.forward(h2_train, y_train)\n",
    "\n",
    "            val_losses.append(ell_val.item())\n",
    "            val_errors.append(error_val)\n",
    "            train_losses.append(ell_train.item())\n",
    "            train_errors.append(error_train)\n",
    "\n",
    "        # Compute the average loss and error\n",
    "        val_loss = np.mean(val_losses)\n",
    "        val_error = np.mean(val_errors)\n",
    "        val_error_results.append(val_error)\n",
    "        val_loss_results.append(val_loss)\n",
    "        train_loss = np.mean(train_losses)\n",
    "        train_error = np.mean(train_errors)\n",
    "        train_error_results.append(train_error)\n",
    "        train_loss_results.append(train_loss)\n",
    "\n",
    "        # Plot the validation loss and error\n",
    "        plot_loss_error(train_error_results, train_loss_results, val_error_results, val_loss_results, plot_output)\n",
    "\n",
    "        # Print the validation loss and error below the progress bar\n",
    "        print_validation_metrics(t, train_loss, train_error, val_loss, val_error, validation_output)\n",
    "\n",
    "        # Early stopping conditions\n",
    "        if val_loss < 0.1:\n",
    "            with validation_output:\n",
    "                print(\"\\nStopping training as validation loss is below 0.1\")\n",
    "            break\n",
    "        if val_error < 0.05:\n",
    "            with validation_output:\n",
    "                print(\"\\nStopping training as validation error is below 0.05\")\n",
    "            break\n",
    "\n",
    "# Close the progress bar when done\n",
    "process_bar.close()\n"
   ]
  },
  {
   "cell_type": "markdown",
   "metadata": {},
   "source": [
    "### PyTorch Implementation\n"
   ]
  },
  {
   "cell_type": "code",
   "execution_count": 18,
   "metadata": {},
   "outputs": [
    {
     "data": {
      "application/vnd.jupyter.widget-view+json": {
       "model_id": "f833412dc5814fefb99d8c921bfc2146",
       "version_major": 2,
       "version_minor": 0
      },
      "text/plain": [
       "Output()"
      ]
     },
     "metadata": {},
     "output_type": "display_data"
    },
    {
     "data": {
      "application/vnd.jupyter.widget-view+json": {
       "model_id": "9980b6177116499d942955d639ea8a5e",
       "version_major": 2,
       "version_minor": 0
      },
      "text/plain": [
       "Output()"
      ]
     },
     "metadata": {},
     "output_type": "display_data"
    },
    {
     "data": {
      "application/vnd.jupyter.widget-view+json": {
       "model_id": "d604c47175194ebc8997dd5003c29e5c",
       "version_major": 2,
       "version_minor": 0
      },
      "text/plain": [
       "  0%|          | 0/20000 [00:00<?, ?it/s]"
      ]
     },
     "metadata": {},
     "output_type": "display_data"
    }
   ],
   "source": [
    "# PyTorch Comparison\n",
    "import torch\n",
    "import torch.nn as nn\n",
    "from tqdm.notebook import tqdm\n",
    "from torch.optim.lr_scheduler import ExponentialLR\n",
    "from IPython.display import clear_output, display\n",
    "from IPython.display import display, HTML\n",
    "\n",
    "\n",
    "# Convert NumPy arrays to PyTorch tensors\n",
    "train_normalized_tensor = torch.from_numpy(train_normalized).float()  # Shape: (30000, 28, 28)\n",
    "train_labels_tensor = torch.from_numpy(train_labels).long()           # Shape: (30000,)\n",
    "val_normalized_tensor = torch.from_numpy(val_normalized).float()      # Shape: (5000, 28, 28)\n",
    "val_labels_tensor = torch.from_numpy(val_labels).long()               # Shape: (5000,)\n",
    "train_normalized_tensor = train_normalized_tensor.view(train_normalized_tensor.size(0), -1)  # Shape: (30000, 784)\n",
    "val_normalized_tensor = val_normalized_tensor.view(val_normalized_tensor.size(0), -1)        # Shape: (5000, 784)\n",
    "\n",
    "# Random seed for reproducibility\n",
    "torch.manual_seed(42)\n",
    "np.random.seed(42)\n",
    "\n",
    "# Initialize layers\n",
    "l1_torch, l2_torch, l3_torch = nn.Linear(784, 10), nn.ReLU(), nn.CrossEntropyLoss()\n",
    "net_torch = [l1_torch, l2_torch, l3_torch]\n",
    "\n",
    "# Learning settings\n",
    "lr = 0.1\n",
    "lr_decay_rate = 0.99995\n",
    "max_iters = 10000\n",
    "batch_size = 32\n",
    "optimizer = torch.optim.SGD(l1_torch.parameters(), lr=lr)\n",
    "scheduler = ExponentialLR(optimizer, gamma=lr_decay_rate)\n",
    "\n",
    "# Create separate Output widgets for plotting and printing validation metrics\n",
    "plot_output = Output()\n",
    "validation_output = Output()\n",
    "display(plot_output)\n",
    "display(validation_output)\n",
    "\n",
    "process_bar = tqdm(range(max_iters))\n",
    "\n",
    "val_error_results = []\n",
    "val_loss_results = []\n",
    "train_error_results = []\n",
    "train_loss_results = []\n",
    "\n",
    "# Train iteration\n",
    "for t in range(max_iters):\n",
    "    process_bar.update(1)\n",
    "    # 1. Sample a mini-batch of size = 32\n",
    "    indices = np.random.choice(len(train_normalized_tensor), batch_size, replace=False)\n",
    "    x = train_normalized_tensor[indices]\n",
    "    x = x.reshape(x.shape[0], -1)  # (32, 28, 28) reshaped to (32, 784)\n",
    "    y = train_labels_tensor[indices]  # (32,)\n",
    "    \n",
    "    # 2. Zero gradient buffer\n",
    "    optimizer.zero_grad()\n",
    "    \n",
    "    # 3. Forward pass\n",
    "    h1 = l1_torch(x)  # (32, 10)\n",
    "    h2 = l2_torch(h1)  # (32, 10)\n",
    "    ell = l3_torch(h2, y)  # scalar\n",
    "    \n",
    "    # 4. Backward pass\n",
    "    ell.backward()\n",
    "    \n",
    "    # 5. Print some quantities for logging and debugging\n",
    "    current_lr = optimizer.param_groups[0]['lr']\n",
    "    process_bar.set_description(\n",
    "        f\"Iter: {t:4d}, LR: {current_lr:.6f}, Loss: {ell.item():.4f}, \"\n",
    "        f\"dW/W Norm: {torch.norm(l1_torch.weight.grad / l1_torch.weight).item():.4f}, \"\n",
    "        f\"db/b Norm: {torch.norm(l1_torch.bias.grad / l1_torch.bias).item():.4f}\"\n",
    "    )\n",
    "    \n",
    "    # 6. One step of SGD\n",
    "    optimizer.step()\n",
    "\n",
    "    # 7. Step the scheduler to adjust the learning rate\n",
    "    scheduler.step()\n",
    "\n",
    "    # 8. Every 1000 iterations, evaluate the model on the validation set\n",
    "    if t % 1000 == 0 or t == max_iters - 1:\n",
    "        # Evaluate the model on the validation set\n",
    "        train_losses = []\n",
    "        train_errors = []\n",
    "        val_losses = []\n",
    "        val_errors = []\n",
    "        with torch.no_grad():\n",
    "            # Process validation data in batches to speed up evaluation\n",
    "            val_batch_size = 1000  # Adjust based on memory constraints\n",
    "            num_val_batches = len(val_normalized_tensor) // val_batch_size\n",
    "            for i in range(num_val_batches):\n",
    "                start_idx = i * val_batch_size\n",
    "                end_idx = start_idx + val_batch_size\n",
    "                x_val = val_normalized_tensor[start_idx:end_idx]  # Shape: (batch_size, 784)\n",
    "                y_val = val_labels_tensor[start_idx:end_idx]      # Shape: (batch_size,)\n",
    "                x_train = train_normalized_tensor[start_idx:end_idx]  # Shape: (batch_size, 784)\n",
    "                y_train = train_labels_tensor[start_idx:end_idx]      # Shape: (batch_size,)\n",
    "\n",
    "                h1_val = l1_torch(x_val)\n",
    "                h1_train = l1_torch(x_train)\n",
    "                h2_val = l2_torch(h1_val)\n",
    "                h2_train = l2_torch(h1_train)\n",
    "                ell_val = l3_torch(h2_val, y_val)\n",
    "                ell_train = l3_torch(h2_train, y_train)\n",
    "\n",
    "                train_losses.append(ell_train.item())\n",
    "                train_errors.append((h2_train.argmax(dim=1) != y_train).float().mean().item())\n",
    "                val_losses.append(ell_val.item())\n",
    "                val_errors.append((h2_val.argmax(dim=1) != y_val).float().mean().item())\n",
    "\n",
    "        # Compute the average loss and error\n",
    "        val_loss = np.mean(val_losses)\n",
    "        val_error = np.mean(val_errors)\n",
    "        val_error_results.append(val_error)\n",
    "        val_loss_results.append(val_loss)\n",
    "        train_loss = np.mean(train_losses)\n",
    "        train_error = np.mean(train_errors)\n",
    "        train_error_results.append(train_error)\n",
    "        train_loss_results.append(train_loss)\n",
    "\n",
    "        # Plot the validation loss and error\n",
    "        plot_loss_error(train_error_results, train_loss_results, val_error_results, val_loss_results, plot_output)\n",
    "\n",
    "        # Print the validation loss and error below the progress bar\n",
    "        print_validation_metrics(t, train_loss, train_error, val_loss, val_error, validation_output)\n",
    "\n",
    "        # Early stopping conditions\n",
    "        if val_loss < 0.1:\n",
    "            with validation_output:\n",
    "                print(\"\\nStopping training as validation loss is below 0.1\")\n",
    "            break\n",
    "        if val_error < 0.05:\n",
    "            with validation_output:\n",
    "                print(\"\\nStopping training as validation error is below 0.05\")\n",
    "            break\n",
    "\n",
    "# Close the progress bar when done\n",
    "process_bar.close()\n",
    "    "
   ]
  },
  {
   "cell_type": "markdown",
   "metadata": {},
   "source": [
    "## Validation"
   ]
  },
  {
   "cell_type": "code",
   "execution_count": 13,
   "metadata": {
    "ExecuteTime": {
     "end_time": "2024-09-24T02:40:37.023771Z",
     "start_time": "2024-09-24T02:40:37.018648Z"
    }
   },
   "outputs": [],
   "source": [
    "# For NumPy Implementation\n",
    "def validate_numpy(w, b):\n",
    "    # TODO\n",
    "    # 1. Iterate over mini-batches from the validation dataset\n",
    "    # Note that this should not be done randomly , we want to check every image only once\n",
    "    loss, tot_error = 0, 0\n",
    "    for i in range(0, 5000, 32):\n",
    "        x, y = refined_val.data[i:i+32], refined_val.targets[i:i+32]\n",
    "    \n",
    "    # 2. Compute forward pass and error\n",
    "    h1 = l1.forward(x)  # (32, 10)\n",
    "    h2 = l2.forward(h1)  # (32, 10)\n",
    "    _, ell, error = l3.forward(h2, y)  # (32, 10), scalar, scalar, l3.y: (32, 1), l3.h and l3.h_lp1: (32, 10)\n",
    "\n",
    "    # 3. Accumulate loss and error\n",
    "    loss += ell\n",
    "    tot_error += error\n",
    "\n",
    "    return loss, tot_error\n"
   ]
  },
  {
   "cell_type": "code",
   "execution_count": null,
   "metadata": {},
   "outputs": [],
   "source": [
    "\n",
    "# For PyTorch Implementation\n",
    "def validate_pytorch(w, b):\n",
    "    # TODO\n",
    "    # 1. Iterate over mini-batches from the validation dataset\n",
    "    # Note that this should not be done randomly , we want to check every image only once\n",
    "    loss, tot_error = 0, 0\n",
    "    for i in range(0, 5000, 32):\n",
    "        x, y = refined_val.data[i:i+32], refined_val.targets[i:i+32]\n",
    "    \n",
    "    # 2. Compute forward pass and error\n",
    "    h1 = l1_torch.forward(x)  # (32, 10)\n",
    "    h2 = l2_torch.forward(h1)  # (32, 10)\n",
    "    _, ell, error = l3_torch.forward(h2, y)  # (32, 10), scalar, scalar, l3.y: (32, 1), l3.h and l3.h_lp1: (32, 10)\n",
    "\n",
    "    # 3. Accumulate loss and error\n",
    "    loss += ell\n",
    "    tot_error += error\n",
    "\n",
    "    return loss, tot_error\n"
   ]
  }
 ],
 "metadata": {
  "kernelspec": {
   "display_name": ".venv",
   "language": "python",
   "name": "python3"
  },
  "language_info": {
   "codemirror_mode": {
    "name": "ipython",
    "version": 3
   },
   "file_extension": ".py",
   "mimetype": "text/x-python",
   "name": "python",
   "nbconvert_exporter": "python",
   "pygments_lexer": "ipython3",
   "version": "3.8.10"
  }
 },
 "nbformat": 4,
 "nbformat_minor": 2
}
