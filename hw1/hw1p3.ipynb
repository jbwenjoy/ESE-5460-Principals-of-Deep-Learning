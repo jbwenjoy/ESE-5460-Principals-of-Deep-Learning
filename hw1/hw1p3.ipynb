{
 "cells": [
  {
   "cell_type": "code",
   "execution_count": null,
   "metadata": {},
   "outputs": [],
   "source": [
    "import torchvision as thv\n",
    "train = thv.datasets.MNIST('./', download=True , train=True)\n",
    "val = thv.datasets.MNIST('./', download=True , train=False)\n",
    "print(train.data.shape , len(train.targets))"
   ]
  },
  {
   "cell_type": "code",
   "execution_count": null,
   "metadata": {},
   "outputs": [],
   "source": []
  }
 ],
 "metadata": {
  "language_info": {
   "name": "python"
  }
 },
 "nbformat": 4,
 "nbformat_minor": 2
}
