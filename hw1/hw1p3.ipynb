{
 "cells": [
  {
   "cell_type": "markdown",
   "metadata": {},
   "source": [
    "## Load Dataset"
   ]
  },
  {
   "cell_type": "code",
   "execution_count": 1,
   "metadata": {
    "ExecuteTime": {
     "end_time": "2024-09-21T22:30:09.933656Z",
     "start_time": "2024-09-21T22:30:06.670867Z"
    }
   },
   "outputs": [],
   "source": [
    "import torchvision as thv\n",
    "import os\n",
    "import pickle\n",
    "from torch.utils.data import Subset\n",
    "import numpy as np\n",
    "\n",
    "def get_mnist_dataset(root='./mnist_data'):\n",
    "    # Check if the dataset already exists locally\n",
    "    if os.path.exists(f'{root}/train_data.pkl') and os.path.exists(f'{root}/val_data.pkl'):\n",
    "        print(\"Loading MNIST dataset from local storage...\")\n",
    "        with open(f'{root}/train_data.pkl', 'rb') as f:\n",
    "            train = pickle.load(f)\n",
    "        with open(f'{root}/val_data.pkl', 'rb') as f:\n",
    "            val = pickle.load(f)\n",
    "    else:\n",
    "        print(\"Downloading MNIST dataset...\")\n",
    "        # Download the dataset\n",
    "        train = thv.datasets.MNIST(root, download=True, train=True)\n",
    "        val = thv.datasets.MNIST(root, download=True, train=False)\n",
    "        \n",
    "        # Save the dataset locally\n",
    "        os.makedirs(root, exist_ok=True)\n",
    "        with open(f'{root}/train_data.pkl', 'wb') as f:\n",
    "            pickle.dump(train, f)\n",
    "        with open(f'{root}/val_data.pkl', 'wb') as f:\n",
    "            pickle.dump(val, f)\n",
    "\n",
    "    print(f\"Training dataset shape: {train.data.shape}, Number of targets: {len(train.targets)}\")\n",
    "    print(f\"Validation dataset shape: {val.data.shape}, Number of targets: {len(val.targets)}\")\n",
    "\n",
    "    return train, val\n",
    "    \n",
    "def split_dataset(train, val):\n",
    "    import torch\n",
    "    import numpy as np\n",
    "    from torch.utils.data import Subset\n",
    "\n",
    "    # Define the number of classes and target sizes\n",
    "    num_classes = 10\n",
    "    target_train_size = 30000\n",
    "    target_val_size = 5000\n",
    "\n",
    "    # Initialize lists to hold the indices for the refined datasets\n",
    "    train_indices = []\n",
    "    val_indices = []\n",
    "\n",
    "    # Iterate over each class and collect indices for the split\n",
    "    for i in range(num_classes):\n",
    "        # Get indices of all examples from class i in the training and validation sets\n",
    "        train_class_indices = (train.targets == i).nonzero(as_tuple=True)[0]\n",
    "        val_class_indices = (val.targets == i).nonzero(as_tuple=True)[0]\n",
    "\n",
    "        # Convert indices to numpy arrays for shuffling\n",
    "        train_class_indices_np = train_class_indices.numpy()\n",
    "        val_class_indices_np = val_class_indices.numpy()\n",
    "\n",
    "        # Shuffle indices\n",
    "        np.random.shuffle(train_class_indices_np)\n",
    "        np.random.shuffle(val_class_indices_np)\n",
    "\n",
    "        # Calculate split indices, initially aiming to round up\n",
    "        split_idx_train = (len(train_class_indices_np) + 1) // 2\n",
    "        split_idx_val = (len(val_class_indices_np) + 1) // 2\n",
    "\n",
    "        # Adjust split to avoid exceeding overall target sizes\n",
    "        if len(train_indices) + split_idx_train > target_train_size:\n",
    "            split_idx_train = target_train_size - len(train_indices)\n",
    "        if len(val_indices) + split_idx_val > target_val_size:\n",
    "            split_idx_val = target_val_size - len(val_indices)\n",
    "\n",
    "        # Add indices to lists\n",
    "        train_indices.extend(train_class_indices_np[:split_idx_train])\n",
    "        val_indices.extend(val_class_indices_np[:split_idx_val])\n",
    "\n",
    "        # Check if we have already reached the target sizes\n",
    "        if len(train_indices) == target_train_size and len(val_indices) == target_val_size:\n",
    "            break\n",
    "\n",
    "    # Create refined datasets\n",
    "    refined_train = Subset(train, train_indices)\n",
    "    refined_val = Subset(val, val_indices)\n",
    "\n",
    "    print(f\"Refined training dataset size: {len(refined_train)}\")\n",
    "    print(f\"Refined validation dataset size: {len(refined_val)}\")\n",
    "\n",
    "    return refined_train, refined_val"
   ]
  },
  {
   "cell_type": "code",
   "execution_count": null,
   "metadata": {
    "ExecuteTime": {
     "end_time": "2024-09-21T22:30:09.994916Z",
     "start_time": "2024-09-21T22:30:09.933656Z"
    }
   },
   "outputs": [],
   "source": [
    "data_path = \"./prob3_mnist_data\"\n",
    "\n",
    "train, val = get_mnist_dataset(data_path)\n",
    "refined_train, refined_val = split_dataset(train, val)\n",
    "\n",
    "print(\"Train\", train)\n",
    "print(\"Val\", val)\n",
    "print(\"Refined Train\", refined_train)\n",
    "print(\"Refined Val\", refined_val)"
   ]
  },
  {
   "cell_type": "code",
   "execution_count": 32,
   "metadata": {},
   "outputs": [
    {
     "name": "stdout",
     "output_type": "stream",
     "text": [
      "Mean: 0.13066047430038452, Std: 0.30810779333114624\n"
     ]
    }
   ],
   "source": [
    "# Normalize the data\n",
    "mean = train.data.float().mean() / 255.0\n",
    "std = train.data.float().std() / 255.0\n",
    "print(f\"Mean: {mean}, Std: {std}\")\n",
    "\n",
    "transform = thv.transforms.Compose([\n",
    "    thv.transforms.ToTensor(),\n",
    "    thv.transforms.Normalize(mean=(mean,), std=(std,))\n",
    "])\n",
    "\n",
    "train = thv.datasets.MNIST(data_path, download=True, train=True, transform=transform)\n",
    "val = thv.datasets.MNIST(data_path, download=True, train=False, transform=transform)\n",
    "refined_train = thv.datasets.MNIST(data_path, download=True, train=True, transform=transform)\n",
    "refined_val = thv.datasets.MNIST(data_path, download=True, train=False, transform=transform)\n"
   ]
  },
  {
   "cell_type": "markdown",
   "metadata": {},
   "source": [
    "## Plot and Validate Dataset"
   ]
  },
  {
   "cell_type": "code",
   "execution_count": null,
   "metadata": {
    "ExecuteTime": {
     "end_time": "2024-09-21T22:30:10.781594Z",
     "start_time": "2024-09-21T22:30:10.241054Z"
    }
   },
   "outputs": [],
   "source": [
    "import matplotlib.pyplot as plt\n",
    "import torch\n",
    "\n",
    "def plot_images(dataset, num_images=6):\n",
    "    # Making sure the dataset can be indexed directly\n",
    "    assert hasattr(dataset, '__getitem__'), \"Dataset must support indexing\"\n",
    "\n",
    "    indices = np.random.choice(len(dataset), num_images, replace=False)\n",
    "\n",
    "    fig, axes = plt.subplots(1, num_images, figsize=(num_images * 2, 3))\n",
    "    \n",
    "    if num_images == 1:\n",
    "        axes = [axes]\n",
    "    \n",
    "    for ax, idx in zip(axes, indices):\n",
    "        image, label = dataset[idx]\n",
    "        \n",
    "        # MNIST images are 1-channel images, need to be reshaped if in tensor form\n",
    "        if isinstance(image, torch.Tensor):\n",
    "            image = image.numpy().squeeze()  # Convert to numpy and remove extra dimensions\n",
    "        \n",
    "        ax.imshow(image, cmap='gray')\n",
    "        ax.set_title(f\"Label: {label}\")\n",
    "        ax.axis('off')\n",
    "\n",
    "    plt.show()\n",
    "\n",
    "plot_images(refined_train, num_images=5)"
   ]
  },
  {
   "cell_type": "markdown",
   "metadata": {},
   "source": [
    "## Linear Layer\n",
    "\n",
    "### Forward function\n",
    "For $\\beta$ samples, $\\alpha$ input features, and $c$ output features, the forward function is \n",
    "$$h^{(l+1)} = h^{(l)} W^{\\top} + b$$\n",
    "where: $h^l \\in R^{\\beta \\times \\alpha}$, $W \\in R^{c \\times \\alpha}$, $b \\in R^c$, $h^{l+1} \\in R^{\\beta \\times c}$\n",
    "\n",
    "### Backward function:\n",
    "$$\\frac{\\partial L}{\\partial h^l} = \\frac{\\partial L}{\\partial h^{l+1}} W$$\n",
    "$$\\frac{\\partial L}{\\partial W} = \\frac{\\partial L}{\\partial h^{l+1}}^{\\top} h^l$$\n",
    "$$\\frac{\\partial L}{\\partial b} = \\sum_{i=1}^\\beta \\frac{\\partial L}{\\partial h_i^{l+1}}$$\n",
    "where: $\\frac{\\partial L}{\\partial h^{l+1}} \\in R^{\\beta \\times c}$, $\\frac{\\partial L}{\\partial W} \\in R^{c \\times \\alpha}$, $\\frac{\\partial L}{\\partial b} \\in R^c$\n",
    "\n"
   ]
  },
  {
   "cell_type": "code",
   "execution_count": 4,
   "metadata": {
    "ExecuteTime": {
     "end_time": "2024-09-21T22:30:10.794927Z",
     "start_time": "2024-09-21T22:30:10.787304Z"
    }
   },
   "outputs": [],
   "source": [
    "from layers import linear_t\n"
   ]
  },
  {
   "cell_type": "markdown",
   "metadata": {},
   "source": [
    "## ReLU Layer\n",
    "\n",
    "### Forward function\n",
    "$$h^{(l+1)} = \\max(0, h^{(l)})$$\n",
    "where: $h^l \\in R^{\\beta \\times \\alpha}$, $h^{(l+1)} \\in R^{\\beta \\times \\alpha}$\n",
    "\n",
    "### Backward function\n",
    "$$\\frac{\\partial L}{\\partial h^l} = \\frac{\\partial L}{\\partial h^{l+1}} \\odot \\mathbb{1}(h^l > 0)$$\n",
    "where: $\\odot$ is element-wise multiplication, $\\mathbb{1}$ is the indicator function"
   ]
  },
  {
   "cell_type": "code",
   "execution_count": 5,
   "metadata": {
    "ExecuteTime": {
     "end_time": "2024-09-21T22:30:10.807278Z",
     "start_time": "2024-09-21T22:30:10.802968Z"
    }
   },
   "outputs": [],
   "source": [
    "from layers import relu_t"
   ]
  },
  {
   "cell_type": "markdown",
   "metadata": {},
   "source": [
    "## Combined Softmax and Cross-entropy Loss Layer\n",
    "\n",
    "### Forward function\n",
    "$$h_k^{(l+1)} = \\frac{e^{h_k^{(l)}}}{\\sum_{k'} e^{h_{k'}^{(l)}}}$$\n",
    "$$l(y) = -\\log(h_y^{(l+1)})$$\n",
    "For a mini-batch of size $\\beta$, the loss is\n",
    "$$l({y_i}_{i=1,...,\\beta}) = -\\frac{1}{\\beta} \\sum_{i=1}^{\\beta} \\log(h_y^{(l+1)})$$\n",
    "\n",
    "Error is\n",
    "$$\\text{error} = \\frac{1}{\\beta} \\sum_{i=1}^{\\beta} \\mathbb{1}(y \\neq \\text{argmax}_k(h_k^{(l+1)}))$$\n",
    "\n",
    "### Backward function\n",
    "$$\\frac{\\partial L}{\\partial h^{(l)}} = \\frac{1}{\\beta} \\sum_{i=1}^{\\beta} \\frac{\\partial l(y_i)}{\\partial h^{(l)}}$$\n",
    "where: $\\frac{\\partial l(y_i)}{\\partial h^{(l)}} = h^{(l+1)} - \\mathbb{1}(y_i)$\n"
   ]
  },
  {
   "cell_type": "code",
   "execution_count": 6,
   "metadata": {
    "ExecuteTime": {
     "end_time": "2024-09-21T22:30:10.817565Z",
     "start_time": "2024-09-21T22:30:10.813554Z"
    }
   },
   "outputs": [],
   "source": [
    "from layers import softmax_cross_entropy_t"
   ]
  },
  {
   "cell_type": "markdown",
   "metadata": {},
   "source": [
    "## Check the backward pass of all three layers"
   ]
  },
  {
   "cell_type": "code",
   "execution_count": null,
   "metadata": {
    "ExecuteTime": {
     "end_time": "2024-09-21T22:33:59.686448Z",
     "start_time": "2024-09-21T22:33:59.673843Z"
    }
   },
   "outputs": [],
   "source": [
    "from layers import linear_t\n",
    "\n",
    "lin = linear_t(alpha=3, c=4)\n",
    "h_l = np.array([[0.5, 1.5, 2.5], [-0.5, -1.5, -2.5]])  # alpha = 3, beta = 2\n",
    "dh_lp1 = np.array([[0.1, 1, 2, 10], [0.1, 1, 2, 10]])  # c = 4, beta = 2\n",
    "lin.W = np.array([[1, 2, 3], [4, 5, 6], [7, 8, 9], [10, 11, 12]])  # c = 4, alpha = 3\n",
    "\n",
    "h_lp1 = lin.forward(h_l)\n",
    "lin.zero_grad()\n",
    "dh_l = lin.backward(dh_lp1)\n",
    "\n",
    "print(h_lp1)\n",
    "print(dh_l)\n",
    "print(lin.dW)\n",
    "print(lin.db)"
   ]
  },
  {
   "cell_type": "code",
   "execution_count": null,
   "metadata": {
    "ExecuteTime": {
     "end_time": "2024-09-21T22:31:12.951204Z",
     "start_time": "2024-09-21T22:31:12.934899Z"
    }
   },
   "outputs": [],
   "source": [
    "from layers import relu_t\n",
    "\n",
    "relu = relu_t()\n",
    "h_l = np.array([[0.5, 1.5, -2.5], [0.5, -1.5, 2.5]])  # alpha = 3, beta = 2\n",
    "dh_lp1 = np.array([[0.3, 2, 1], [-1, -1, -1]])  \n",
    "\n",
    "h_lp1 = relu.forward(h_l)\n",
    "dh_l = relu.backward(dh_lp1)\n",
    "\n",
    "print(h_lp1)\n",
    "print(dh_l)"
   ]
  },
  {
   "cell_type": "code",
   "execution_count": null,
   "metadata": {
    "ExecuteTime": {
     "start_time": "2024-09-21T22:35:31.208064Z"
    }
   },
   "outputs": [],
   "source": [
    "from layers import softmax_cross_entropy_t\n",
    "import torch\n",
    "import torch.nn.functional as F\n",
    "\n",
    "# Single sample\n",
    "sce = softmax_cross_entropy_t()\n",
    "h_l = np.array([1, 2, 3])\n",
    "y = np.array([2])\n",
    "dh_lp1 = np.array([0.1, 1, 2])\n",
    "\n",
    "h_lp1, ell, error = sce.forward(h_l, y)\n",
    "dh_l = sce.backward(dh_lp1, y)\n",
    "\n",
    "print(\"\\nSingle sample\")\n",
    "print(h_lp1)\n",
    "print(ell)\n",
    "print(error)\n",
    "print(dh_l)\n",
    "\n",
    "# Batched samples\n",
    "sce = softmax_cross_entropy_t()\n",
    "h_l = np.array([[1, 2, 3], [2, -1, 3]])\n",
    "y = np.array([2, 1])\n",
    "dh_lp1 = np.array([[0.1, 1, 2], [0.1, 1, 2]])\n",
    "\n",
    "h_lp1, ell, error = sce.forward(h_l, y)\n",
    "dh_l = sce.backward(dh_lp1, y)\n",
    "\n",
    "print(\"\\nBatched\")\n",
    "print(h_lp1)\n",
    "print(ell)\n",
    "print(error)\n",
    "print(dh_l)"
   ]
  },
  {
   "cell_type": "markdown",
   "metadata": {},
   "source": [
    "### Since all three layers have been validated and compared with PyTorch, we can continue to (f)"
   ]
  },
  {
   "cell_type": "markdown",
   "metadata": {},
   "source": [
    "## Training"
   ]
  },
  {
   "cell_type": "code",
   "execution_count": 49,
   "metadata": {},
   "outputs": [
    {
     "data": {
      "application/vnd.jupyter.widget-view+json": {
       "model_id": "0f685849fa1d4f7faff2cbe9b0ba1f18",
       "version_major": 2,
       "version_minor": 0
      },
      "text/plain": [
       "  0%|          | 0/10000 [00:00<?, ?it/s]"
      ]
     },
     "metadata": {},
     "output_type": "display_data"
    },
    {
     "name": "stdout",
     "output_type": "stream",
     "text": [
      "Iteration:   32, Loss: nan, Error: 0.9062, dW/W Norm: nan, db/b Norm: nan                                   "
     ]
    },
    {
     "name": "stderr",
     "output_type": "stream",
     "text": [
      "e:\\ESE-5460\\pythonProject\\hw1\\layers.py:85: RuntimeWarning: overflow encountered in exp\n",
      "  # Subtract the max for numerical stability\n",
      "e:\\ESE-5460\\pythonProject\\hw1\\layers.py:85: RuntimeWarning: invalid value encountered in divide\n",
      "  # Subtract the max for numerical stability\n",
      "e:\\ESE-5460\\pythonProject\\hw1\\layers.py:92: RuntimeWarning: divide by zero encountered in log\n",
      "  \n"
     ]
    },
    {
     "name": "stdout",
     "output_type": "stream",
     "text": [
      "Iteration:  371, Loss: nan, Error: 0.9688, dW/W Norm: nan, db/b Norm: nan                    "
     ]
    },
    {
     "ename": "KeyboardInterrupt",
     "evalue": "",
     "output_type": "error",
     "traceback": [
      "\u001b[1;31m---------------------------------------------------------------------------\u001b[0m",
      "\u001b[1;31mKeyboardInterrupt\u001b[0m                         Traceback (most recent call last)",
      "Cell \u001b[1;32mIn[49], line 26\u001b[0m\n\u001b[0;32m     24\u001b[0m \u001b[38;5;66;03m# Extract the images and labels\u001b[39;00m\n\u001b[0;32m     25\u001b[0m images_list \u001b[38;5;241m=\u001b[39m [np\u001b[38;5;241m.\u001b[39marray(refined_train[idx][\u001b[38;5;241m0\u001b[39m]) \u001b[38;5;28;01mfor\u001b[39;00m idx \u001b[38;5;129;01min\u001b[39;00m indices]  \u001b[38;5;66;03m# PIL imgs to numpy arrays (28x28 each)\u001b[39;00m\n\u001b[1;32m---> 26\u001b[0m labels_list \u001b[38;5;241m=\u001b[39m [refined_train[idx][\u001b[38;5;241m1\u001b[39m] \u001b[38;5;28;01mfor\u001b[39;00m idx \u001b[38;5;129;01min\u001b[39;00m indices]\n\u001b[0;32m     28\u001b[0m \u001b[38;5;66;03m# Convert to numpy arrays\u001b[39;00m\n\u001b[0;32m     29\u001b[0m x \u001b[38;5;241m=\u001b[39m np\u001b[38;5;241m.\u001b[39marray(images_list)\u001b[38;5;241m.\u001b[39mreshape(\u001b[38;5;241m32\u001b[39m, \u001b[38;5;241m-\u001b[39m\u001b[38;5;241m1\u001b[39m)  \u001b[38;5;66;03m# numpy array of shape (32, 784)\u001b[39;00m\n",
      "Cell \u001b[1;32mIn[49], line 26\u001b[0m, in \u001b[0;36m<listcomp>\u001b[1;34m(.0)\u001b[0m\n\u001b[0;32m     24\u001b[0m \u001b[38;5;66;03m# Extract the images and labels\u001b[39;00m\n\u001b[0;32m     25\u001b[0m images_list \u001b[38;5;241m=\u001b[39m [np\u001b[38;5;241m.\u001b[39marray(refined_train[idx][\u001b[38;5;241m0\u001b[39m]) \u001b[38;5;28;01mfor\u001b[39;00m idx \u001b[38;5;129;01min\u001b[39;00m indices]  \u001b[38;5;66;03m# PIL imgs to numpy arrays (28x28 each)\u001b[39;00m\n\u001b[1;32m---> 26\u001b[0m labels_list \u001b[38;5;241m=\u001b[39m [\u001b[43mrefined_train\u001b[49m\u001b[43m[\u001b[49m\u001b[43midx\u001b[49m\u001b[43m]\u001b[49m[\u001b[38;5;241m1\u001b[39m] \u001b[38;5;28;01mfor\u001b[39;00m idx \u001b[38;5;129;01min\u001b[39;00m indices]\n\u001b[0;32m     28\u001b[0m \u001b[38;5;66;03m# Convert to numpy arrays\u001b[39;00m\n\u001b[0;32m     29\u001b[0m x \u001b[38;5;241m=\u001b[39m np\u001b[38;5;241m.\u001b[39marray(images_list)\u001b[38;5;241m.\u001b[39mreshape(\u001b[38;5;241m32\u001b[39m, \u001b[38;5;241m-\u001b[39m\u001b[38;5;241m1\u001b[39m)  \u001b[38;5;66;03m# numpy array of shape (32, 784)\u001b[39;00m\n",
      "File \u001b[1;32me:\\ESE-5460\\pythonProject\\.venv\\lib\\site-packages\\torchvision\\datasets\\mnist.py:146\u001b[0m, in \u001b[0;36mMNIST.__getitem__\u001b[1;34m(self, index)\u001b[0m\n\u001b[0;32m    143\u001b[0m img \u001b[38;5;241m=\u001b[39m Image\u001b[38;5;241m.\u001b[39mfromarray(img\u001b[38;5;241m.\u001b[39mnumpy(), mode\u001b[38;5;241m=\u001b[39m\u001b[38;5;124m\"\u001b[39m\u001b[38;5;124mL\u001b[39m\u001b[38;5;124m\"\u001b[39m)\n\u001b[0;32m    145\u001b[0m \u001b[38;5;28;01mif\u001b[39;00m \u001b[38;5;28mself\u001b[39m\u001b[38;5;241m.\u001b[39mtransform \u001b[38;5;129;01mis\u001b[39;00m \u001b[38;5;129;01mnot\u001b[39;00m \u001b[38;5;28;01mNone\u001b[39;00m:\n\u001b[1;32m--> 146\u001b[0m     img \u001b[38;5;241m=\u001b[39m \u001b[38;5;28;43mself\u001b[39;49m\u001b[38;5;241;43m.\u001b[39;49m\u001b[43mtransform\u001b[49m\u001b[43m(\u001b[49m\u001b[43mimg\u001b[49m\u001b[43m)\u001b[49m\n\u001b[0;32m    148\u001b[0m \u001b[38;5;28;01mif\u001b[39;00m \u001b[38;5;28mself\u001b[39m\u001b[38;5;241m.\u001b[39mtarget_transform \u001b[38;5;129;01mis\u001b[39;00m \u001b[38;5;129;01mnot\u001b[39;00m \u001b[38;5;28;01mNone\u001b[39;00m:\n\u001b[0;32m    149\u001b[0m     target \u001b[38;5;241m=\u001b[39m \u001b[38;5;28mself\u001b[39m\u001b[38;5;241m.\u001b[39mtarget_transform(target)\n",
      "File \u001b[1;32me:\\ESE-5460\\pythonProject\\.venv\\lib\\site-packages\\torchvision\\transforms\\transforms.py:95\u001b[0m, in \u001b[0;36mCompose.__call__\u001b[1;34m(self, img)\u001b[0m\n\u001b[0;32m     93\u001b[0m \u001b[38;5;28;01mdef\u001b[39;00m \u001b[38;5;21m__call__\u001b[39m(\u001b[38;5;28mself\u001b[39m, img):\n\u001b[0;32m     94\u001b[0m     \u001b[38;5;28;01mfor\u001b[39;00m t \u001b[38;5;129;01min\u001b[39;00m \u001b[38;5;28mself\u001b[39m\u001b[38;5;241m.\u001b[39mtransforms:\n\u001b[1;32m---> 95\u001b[0m         img \u001b[38;5;241m=\u001b[39m \u001b[43mt\u001b[49m\u001b[43m(\u001b[49m\u001b[43mimg\u001b[49m\u001b[43m)\u001b[49m\n\u001b[0;32m     96\u001b[0m     \u001b[38;5;28;01mreturn\u001b[39;00m img\n",
      "File \u001b[1;32me:\\ESE-5460\\pythonProject\\.venv\\lib\\site-packages\\torch\\nn\\modules\\module.py:1553\u001b[0m, in \u001b[0;36mModule._wrapped_call_impl\u001b[1;34m(self, *args, **kwargs)\u001b[0m\n\u001b[0;32m   1551\u001b[0m     \u001b[38;5;28;01mreturn\u001b[39;00m \u001b[38;5;28mself\u001b[39m\u001b[38;5;241m.\u001b[39m_compiled_call_impl(\u001b[38;5;241m*\u001b[39margs, \u001b[38;5;241m*\u001b[39m\u001b[38;5;241m*\u001b[39mkwargs)  \u001b[38;5;66;03m# type: ignore[misc]\u001b[39;00m\n\u001b[0;32m   1552\u001b[0m \u001b[38;5;28;01melse\u001b[39;00m:\n\u001b[1;32m-> 1553\u001b[0m     \u001b[38;5;28;01mreturn\u001b[39;00m \u001b[38;5;28;43mself\u001b[39;49m\u001b[38;5;241;43m.\u001b[39;49m\u001b[43m_call_impl\u001b[49m\u001b[43m(\u001b[49m\u001b[38;5;241;43m*\u001b[39;49m\u001b[43margs\u001b[49m\u001b[43m,\u001b[49m\u001b[43m \u001b[49m\u001b[38;5;241;43m*\u001b[39;49m\u001b[38;5;241;43m*\u001b[39;49m\u001b[43mkwargs\u001b[49m\u001b[43m)\u001b[49m\n",
      "File \u001b[1;32me:\\ESE-5460\\pythonProject\\.venv\\lib\\site-packages\\torch\\nn\\modules\\module.py:1562\u001b[0m, in \u001b[0;36mModule._call_impl\u001b[1;34m(self, *args, **kwargs)\u001b[0m\n\u001b[0;32m   1557\u001b[0m \u001b[38;5;66;03m# If we don't have any hooks, we want to skip the rest of the logic in\u001b[39;00m\n\u001b[0;32m   1558\u001b[0m \u001b[38;5;66;03m# this function, and just call forward.\u001b[39;00m\n\u001b[0;32m   1559\u001b[0m \u001b[38;5;28;01mif\u001b[39;00m \u001b[38;5;129;01mnot\u001b[39;00m (\u001b[38;5;28mself\u001b[39m\u001b[38;5;241m.\u001b[39m_backward_hooks \u001b[38;5;129;01mor\u001b[39;00m \u001b[38;5;28mself\u001b[39m\u001b[38;5;241m.\u001b[39m_backward_pre_hooks \u001b[38;5;129;01mor\u001b[39;00m \u001b[38;5;28mself\u001b[39m\u001b[38;5;241m.\u001b[39m_forward_hooks \u001b[38;5;129;01mor\u001b[39;00m \u001b[38;5;28mself\u001b[39m\u001b[38;5;241m.\u001b[39m_forward_pre_hooks\n\u001b[0;32m   1560\u001b[0m         \u001b[38;5;129;01mor\u001b[39;00m _global_backward_pre_hooks \u001b[38;5;129;01mor\u001b[39;00m _global_backward_hooks\n\u001b[0;32m   1561\u001b[0m         \u001b[38;5;129;01mor\u001b[39;00m _global_forward_hooks \u001b[38;5;129;01mor\u001b[39;00m _global_forward_pre_hooks):\n\u001b[1;32m-> 1562\u001b[0m     \u001b[38;5;28;01mreturn\u001b[39;00m \u001b[43mforward_call\u001b[49m\u001b[43m(\u001b[49m\u001b[38;5;241;43m*\u001b[39;49m\u001b[43margs\u001b[49m\u001b[43m,\u001b[49m\u001b[43m \u001b[49m\u001b[38;5;241;43m*\u001b[39;49m\u001b[38;5;241;43m*\u001b[39;49m\u001b[43mkwargs\u001b[49m\u001b[43m)\u001b[49m\n\u001b[0;32m   1564\u001b[0m \u001b[38;5;28;01mtry\u001b[39;00m:\n\u001b[0;32m   1565\u001b[0m     result \u001b[38;5;241m=\u001b[39m \u001b[38;5;28;01mNone\u001b[39;00m\n",
      "File \u001b[1;32me:\\ESE-5460\\pythonProject\\.venv\\lib\\site-packages\\torchvision\\transforms\\transforms.py:277\u001b[0m, in \u001b[0;36mNormalize.forward\u001b[1;34m(self, tensor)\u001b[0m\n\u001b[0;32m    269\u001b[0m \u001b[38;5;28;01mdef\u001b[39;00m \u001b[38;5;21mforward\u001b[39m(\u001b[38;5;28mself\u001b[39m, tensor: Tensor) \u001b[38;5;241m-\u001b[39m\u001b[38;5;241m>\u001b[39m Tensor:\n\u001b[0;32m    270\u001b[0m \u001b[38;5;250m    \u001b[39m\u001b[38;5;124;03m\"\"\"\u001b[39;00m\n\u001b[0;32m    271\u001b[0m \u001b[38;5;124;03m    Args:\u001b[39;00m\n\u001b[0;32m    272\u001b[0m \u001b[38;5;124;03m        tensor (Tensor): Tensor image to be normalized.\u001b[39;00m\n\u001b[1;32m   (...)\u001b[0m\n\u001b[0;32m    275\u001b[0m \u001b[38;5;124;03m        Tensor: Normalized Tensor image.\u001b[39;00m\n\u001b[0;32m    276\u001b[0m \u001b[38;5;124;03m    \"\"\"\u001b[39;00m\n\u001b[1;32m--> 277\u001b[0m     \u001b[38;5;28;01mreturn\u001b[39;00m \u001b[43mF\u001b[49m\u001b[38;5;241;43m.\u001b[39;49m\u001b[43mnormalize\u001b[49m\u001b[43m(\u001b[49m\u001b[43mtensor\u001b[49m\u001b[43m,\u001b[49m\u001b[43m \u001b[49m\u001b[38;5;28;43mself\u001b[39;49m\u001b[38;5;241;43m.\u001b[39;49m\u001b[43mmean\u001b[49m\u001b[43m,\u001b[49m\u001b[43m \u001b[49m\u001b[38;5;28;43mself\u001b[39;49m\u001b[38;5;241;43m.\u001b[39;49m\u001b[43mstd\u001b[49m\u001b[43m,\u001b[49m\u001b[43m \u001b[49m\u001b[38;5;28;43mself\u001b[39;49m\u001b[38;5;241;43m.\u001b[39;49m\u001b[43minplace\u001b[49m\u001b[43m)\u001b[49m\n",
      "File \u001b[1;32me:\\ESE-5460\\pythonProject\\.venv\\lib\\site-packages\\torchvision\\transforms\\functional.py:350\u001b[0m, in \u001b[0;36mnormalize\u001b[1;34m(tensor, mean, std, inplace)\u001b[0m\n\u001b[0;32m    347\u001b[0m \u001b[38;5;28;01mif\u001b[39;00m \u001b[38;5;129;01mnot\u001b[39;00m \u001b[38;5;28misinstance\u001b[39m(tensor, torch\u001b[38;5;241m.\u001b[39mTensor):\n\u001b[0;32m    348\u001b[0m     \u001b[38;5;28;01mraise\u001b[39;00m \u001b[38;5;167;01mTypeError\u001b[39;00m(\u001b[38;5;124mf\u001b[39m\u001b[38;5;124m\"\u001b[39m\u001b[38;5;124mimg should be Tensor Image. Got \u001b[39m\u001b[38;5;132;01m{\u001b[39;00m\u001b[38;5;28mtype\u001b[39m(tensor)\u001b[38;5;132;01m}\u001b[39;00m\u001b[38;5;124m\"\u001b[39m)\n\u001b[1;32m--> 350\u001b[0m \u001b[38;5;28;01mreturn\u001b[39;00m \u001b[43mF_t\u001b[49m\u001b[38;5;241;43m.\u001b[39;49m\u001b[43mnormalize\u001b[49m\u001b[43m(\u001b[49m\u001b[43mtensor\u001b[49m\u001b[43m,\u001b[49m\u001b[43m \u001b[49m\u001b[43mmean\u001b[49m\u001b[38;5;241;43m=\u001b[39;49m\u001b[43mmean\u001b[49m\u001b[43m,\u001b[49m\u001b[43m \u001b[49m\u001b[43mstd\u001b[49m\u001b[38;5;241;43m=\u001b[39;49m\u001b[43mstd\u001b[49m\u001b[43m,\u001b[49m\u001b[43m \u001b[49m\u001b[43minplace\u001b[49m\u001b[38;5;241;43m=\u001b[39;49m\u001b[43minplace\u001b[49m\u001b[43m)\u001b[49m\n",
      "File \u001b[1;32me:\\ESE-5460\\pythonProject\\.venv\\lib\\site-packages\\torchvision\\transforms\\_functional_tensor.py:926\u001b[0m, in \u001b[0;36mnormalize\u001b[1;34m(tensor, mean, std, inplace)\u001b[0m\n\u001b[0;32m    924\u001b[0m \u001b[38;5;28;01mif\u001b[39;00m std\u001b[38;5;241m.\u001b[39mndim \u001b[38;5;241m==\u001b[39m \u001b[38;5;241m1\u001b[39m:\n\u001b[0;32m    925\u001b[0m     std \u001b[38;5;241m=\u001b[39m std\u001b[38;5;241m.\u001b[39mview(\u001b[38;5;241m-\u001b[39m\u001b[38;5;241m1\u001b[39m, \u001b[38;5;241m1\u001b[39m, \u001b[38;5;241m1\u001b[39m)\n\u001b[1;32m--> 926\u001b[0m \u001b[38;5;28;01mreturn\u001b[39;00m \u001b[43mtensor\u001b[49m\u001b[38;5;241;43m.\u001b[39;49m\u001b[43msub_\u001b[49m\u001b[43m(\u001b[49m\u001b[43mmean\u001b[49m\u001b[43m)\u001b[49m\u001b[38;5;241m.\u001b[39mdiv_(std)\n",
      "\u001b[1;31mKeyboardInterrupt\u001b[0m: "
     ]
    }
   ],
   "source": [
    "## NumPy Implementation\n",
    "from IPython.display import clear_output\n",
    "from tqdm.notebook import tqdm\n",
    "\n",
    "# Initialize all the layers\n",
    "l1, l2, l3 = linear_t(), relu_t(), softmax_cross_entropy_t()\n",
    "net = [l1, l2, l3]\n",
    "\n",
    "lr = 0.1\n",
    "max_iters = 10000\n",
    "# np.random.seed(42)\n",
    "\n",
    "process_bar = tqdm(range(max_iters))\n",
    "\n",
    "# Train for at least 1000 iterations\n",
    "for t in range(max_iters):\n",
    "    # 1. Sample a mini-batch of size = 32\n",
    "    # Each image in the mini-batch is chosen uniformly randomly from the training dataset\n",
    "    # Access an image and its label using: image, label = refined_train[idx]\n",
    "\n",
    "    # Extract 32 random indices\n",
    "    indices = np.random.choice(len(refined_train), 32, replace=False)\n",
    "\n",
    "    # Extract the images and labels\n",
    "    images_list = [np.array(refined_train[idx][0]) for idx in indices]  # PIL imgs to numpy arrays (28x28 each)\n",
    "    labels_list = [refined_train[idx][1] for idx in indices]\n",
    "\n",
    "    # Convert to numpy arrays\n",
    "    x = np.array(images_list).reshape(32, -1)  # numpy array of shape (32, 784)\n",
    "    y = np.array(labels_list).reshape(32, -1)  # numpy array of shape (32,)\n",
    "    \n",
    "    # 2. Zero gradient buffer\n",
    "    for l in net:\n",
    "        l.zero_grad()\n",
    "    \n",
    "    # 3. Forward pass\n",
    "    h1 = l1.forward(x)  # (32, 10), l1.W: (10, 784), l1.b: (10,)\n",
    "    h2 = l2.forward(h1)  # (32, 10)\n",
    "    _, ell, error = l3.forward(h2, y)  # (32, 10), scalar, scalar, l3.y: (32, 1), l3.h and l3.h_lp1: (32, 10)\n",
    "    \n",
    "    # 4. Backward pass\n",
    "    dh2 = l3.backward()  # (32, 10)\n",
    "    dh1 = l2.backward(dh2)  # (32, 10)\n",
    "    dx = l1.backward(dh1)  # (32, 784)\n",
    "    \n",
    "    # 5. Gather backprop gradients\n",
    "    dW, db = l1.dW, l1.db  # (10, 784), (10,)\n",
    "    \n",
    "    # 6. Print some quantities for logging and debugging\n",
    "    process_bar.update(1)\n",
    "    # print(t, ell, error)\n",
    "    # print(t, np.linalg.norm(dW/l1.W), np.linalg.norm(db/l1.b))\n",
    "    print(f\"\\rIteration: {t:4d}, Loss: {ell:.4f}, Error: {error:.4f}, \"\n",
    "          f\"dW/W Norm: {np.linalg.norm(dW/l1.W):.4f}, db/b Norm: {np.linalg.norm(db/l1.b):.4f}\" + \" \"*20, end=\"\")\n",
    "    \n",
    "    # 7. One step of SGD\n",
    "    l1.W = l1.W - lr * dW\n",
    "    l1.b = l1.b - lr * db"
   ]
  },
  {
   "cell_type": "code",
   "execution_count": 48,
   "metadata": {},
   "outputs": [
    {
     "data": {
      "application/vnd.jupyter.widget-view+json": {
       "model_id": "b035d31a6a084ac3ab01b551ccbae8c8",
       "version_major": 2,
       "version_minor": 0
      },
      "text/plain": [
       "  0%|          | 0/10000 [00:00<?, ?it/s]"
      ]
     },
     "metadata": {},
     "output_type": "display_data"
    },
    {
     "name": "stdout",
     "output_type": "stream",
     "text": [
      "Iteration: 9999, Loss: 0.2503, dW/W Norm: 2396.0852, db/b Norm: 3.4081                         "
     ]
    }
   ],
   "source": [
    "# PyTorch Comparison\n",
    "import torch\n",
    "import torch.nn as nn\n",
    "from tqdm.notebook import tqdm\n",
    "\n",
    "# Initialize layers\n",
    "l1, l2, l3 = nn.Linear(784, 10), nn.ReLU(), nn.CrossEntropyLoss()\n",
    "net = [l1, l2, l3]\n",
    "\n",
    "# Initialize optimizer\n",
    "optimizer = torch.optim.SGD(l1.parameters(), lr=lr)\n",
    "\n",
    "lr = 0.1\n",
    "max_iters = 10000\n",
    "\n",
    "process_bar = tqdm(range(max_iters))\n",
    "\n",
    "# Train iteration\n",
    "for t in range(max_iters):\n",
    "    process_bar.update(1)\n",
    "    # 1. Sample a mini-batch of size = 32\n",
    "    indices = np.random.choice(len(refined_train), 32, replace=False)\n",
    "    images_list = [torch.tensor(np.array(refined_train[idx][0]).reshape(-1), dtype=torch.float32) for idx in indices]\n",
    "    labels_list = [torch.tensor(refined_train[idx][1], dtype=torch.long) for idx in indices]\n",
    "    x = torch.stack(images_list)  # (32, 784)\n",
    "    y = torch.stack(labels_list)  # (32,)\n",
    "    \n",
    "    # 2. Zero gradient buffer\n",
    "    optimizer.zero_grad()\n",
    "    \n",
    "    # 3. Forward pass\n",
    "    h1 = l1(x)  # (32, 10)\n",
    "    h2 = l2(h1)  # (32, 10)\n",
    "    ell = l3(h2, y)  # scalar\n",
    "    \n",
    "    # 4. Backward pass\n",
    "    ell.backward()\n",
    "    \n",
    "    # 5. Print some quantities for logging and debugging\n",
    "    \n",
    "    # print(t, ell.item())\n",
    "    # print(t, torch.norm(l1.weight.grad / l1.weight), torch.norm(l1.bias.grad / l1.bias))\n",
    "    print(f\"\\rIteration: {t:4d}, Loss: {ell.item():.4f}, \"\n",
    "          f\"dW/W Norm: {torch.norm(l1.weight.grad / l1.weight):.4f}, \"\n",
    "          f\"db/b Norm: {torch.norm(l1.bias.grad / l1.bias):.4f}\" + \" \"*20, end=\"\")\n",
    "    \n",
    "    # 6. One step of SGD\n",
    "    optimizer.step()\n",
    "\n"
   ]
  },
  {
   "cell_type": "code",
   "execution_count": null,
   "metadata": {},
   "outputs": [],
   "source": [
    "def validate(w, b):\n",
    "    # 1. iterate over mini -batches from the validation dataset\n",
    "    # note that this should not be done randomly , we want to check\n",
    "    # every image only once\n",
    "    loss, tot_error = 0, 0\n",
    "    for i in range(0, 5000, 32):\n",
    "        x, y = val.data[i:i+32], val.targets[i:i+32]\n",
    "    # 2. compute forward pass and error\n",
    "    "
   ]
  }
 ],
 "metadata": {
  "kernelspec": {
   "display_name": ".venv",
   "language": "python",
   "name": "python3"
  },
  "language_info": {
   "codemirror_mode": {
    "name": "ipython",
    "version": 3
   },
   "file_extension": ".py",
   "mimetype": "text/x-python",
   "name": "python",
   "nbconvert_exporter": "python",
   "pygments_lexer": "ipython3",
   "version": "3.8.10"
  }
 },
 "nbformat": 4,
 "nbformat_minor": 2
}
