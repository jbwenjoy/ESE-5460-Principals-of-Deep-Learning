{
 "cells": [
  {
   "cell_type": "code",
   "execution_count": 1,
   "id": "1462a7a5d638814e",
   "metadata": {},
   "outputs": [
    {
     "name": "stdout",
     "output_type": "stream",
     "text": [
      ".\n"
     ]
    }
   ],
   "source": [
    "dir_root = '.'\n",
    "# If using google colab\n",
    "if 'google.colab' in str(get_ipython()):\n",
    "    from google.colab import drive\n",
    "    drive.mount('/content/drive/')\n",
    "    dir_root = '/content/drive/MyDrive/Colab Notebooks/ESE546/hw3'\n",
    "\n",
    "print(dir_root)"
   ]
  },
  {
   "cell_type": "code",
   "execution_count": 2,
   "id": "302b430103d02bbe",
   "metadata": {
    "colab": {
     "base_uri": "https://localhost:8080/"
    },
    "id": "302b430103d02bbe",
    "outputId": "baaf358c-4e61-453a-b1f6-262d1a218350"
   },
   "outputs": [
    {
     "name": "stdout",
     "output_type": "stream",
     "text": [
      "Loading text from file: pg100.txt\n",
      "Loading text from file: pg2600.txt\n",
      "Loading text from file: pg766.txt\n",
      "Vocabulary size for each text: [107, 112, 90]\n",
      "Unique characters for each text: [{'j', '\\t', ';', \"'\", 'ê', '9', 'k', 'R', '%', 'T', '#', '‘', 'i', 'l', 'p', 'À', ' ', 'è', 'A', '*', 'V', 'P', '’', 'J', 'm', 'E', ',', '.', 'æ', 'K', 'â', '[', 'D', '—', 'Ç', 'w', ')', 'n', 'b', 'U', '”', 'Æ', '7', 'É', 'L', '!', 'Z', '/', '5', 'ë', '1', 'x', '“', 'e', '3', 'X', 'z', '_', 'd', 't', '8', '2', 'r', 'N', 'é', 'O', 'C', 'f', '$', 's', '(', 'W', 'o', 'Q', 'c', '\\n', 'y', 'I', '…', '0', 'B', 'v', 'S', '\\ufeff', 'M', '&', 'g', 'Y', '6', 'î', '•', 'h', 'à', 'H', 'u', '-', '?', 'G', 'F', ':', '4', '™', 'ç', ']', 'œ', 'q', 'a'}, {'j', ';', 'ê', '9', 'ö', 'k', 'R', 'á', '%', 'T', '#', '‘', 'i', 'l', 'p', 'À', ' ', 'è', 'A', '*', 'V', 'P', '’', 'ú', 'J', 'm', 'E', ',', '.', 'æ', 'K', 'â', '[', 'Á', 'ý', 'D', '—', 'w', ')', 'n', 'b', 'U', '”', '7', 'í', 'É', 'L', '!', 'ô', 'Z', '/', '5', 'ë', '1', 'x', '“', 'e', '3', 'X', 'z', 'd', 't', '2', '8', 'r', 'N', 'é', 'O', 'ï', 'C', '=', 'f', '$', 's', '(', 'W', 'o', 'Q', 'c', '\\n', 'y', 'I', 'ä', '0', 'B', 'v', 'S', '\\ufeff', 'ó', 'M', 'g', 'Y', '6', 'î', 'ü', '•', 'h', 'à', 'H', 'u', '-', '?', 'G', 'F', ':', '4', '™', 'ç', ']', 'œ', 'q', 'a'}, {'j', ';', '9', 'k', 'R', '%', 'T', '#', '‘', 'i', 'l', 'p', ' ', 'A', '*', 'V', 'P', '’', 'J', 'm', 'E', ',', '.', 'K', '[', 'D', '—', 'w', ')', 'n', 'b', 'U', '”', '7', 'L', '!', 'Z', '/', '5', '1', 'x', '“', 'e', '3', 'X', 'z', '_', 'd', 't', '2', '8', 'r', 'N', 'O', 'C', 'f', '$', 's', '(', 'W', 'o', 'Q', 'c', '\\n', 'y', 'I', '0', 'B', 'v', 'S', '\\ufeff', 'M', '&', 'g', 'Y', '6', '•', 'h', 'H', 'u', '-', '?', 'G', 'F', ':', '4', '™', ']', 'q', 'a'}]\n"
     ]
    }
   ],
   "source": [
    "import requests\n",
    "\n",
    "# Load the text from a local file\n",
    "def load_text_from_file(file_path):\n",
    "    with open(file_path, 'r', encoding='utf-8') as file:\n",
    "        text = file.read()\n",
    "    return text\n",
    "\n",
    "# Load the text from a URL\n",
    "def load_text_from_url(url):\n",
    "    response = requests.get(url)\n",
    "    text = response.text.replace('\\r\\n', '\\n')  # Normalize line endings\n",
    "    return text\n",
    "\n",
    "# Count unique characters in the text\n",
    "def count_unique_chars(text):\n",
    "    unique_chars = set(text)\n",
    "    # Num of unique characters\n",
    "    vocab_size = len(unique_chars)\n",
    "    return vocab_size, unique_chars\n",
    "\n",
    "# List of file paths or URLs\n",
    "local_file_1 = 'pg100.txt'\n",
    "local_file_2 = 'pg2600.txt'\n",
    "local_file_3 = 'pg766.txt'\n",
    "url_file_1 = 'https://www.gutenberg.org/cache/epub/100/pg100.txt'\n",
    "url_file_2 = 'https://www.gutenberg.org/cache/epub/2600/pg2600.txt'\n",
    "url_file_3 = 'https://www.gutenberg.org/cache/epub/766/pg766.txt'\n",
    "\n",
    "if 'google.colab' in str(get_ipython()):\n",
    "    file_path_list = [url_file_1, url_file_2, url_file_3]\n",
    "else:\n",
    "    file_path_list = [local_file_1, local_file_2, local_file_3]\n",
    "text_list = []\n",
    "vocab_size_list = []\n",
    "unique_chars_list = []\n",
    "\n",
    "for file_path in file_path_list:\n",
    "    if file_path.startswith('http'):\n",
    "        print(f'Loading text from URL: {file_path}')\n",
    "        text = load_text_from_url(file_path)\n",
    "    else:\n",
    "        print(f'Loading text from file: {file_path}')\n",
    "        text = load_text_from_file(file_path)\n",
    "    vocab_size, unique_chars = count_unique_chars(text)\n",
    "    text_list.append(text)\n",
    "    vocab_size_list.append(vocab_size)\n",
    "    unique_chars_list.append(unique_chars)\n",
    "\n",
    "print(f'Vocabulary size for each text: {vocab_size_list}')\n",
    "print(f'Unique characters for each text: {unique_chars_list}')"
   ]
  },
  {
   "cell_type": "code",
   "execution_count": 3,
   "id": "29800fb8",
   "metadata": {},
   "outputs": [
    {
     "name": "stdout",
     "output_type": "stream",
     "text": [
      "The Project Gutenberg eBook of The Complete Works of William Shakespeare\n",
      "    \n",
      "This ebook is for the\n",
      "﻿The Project Gutenberg eBook of War and Peace\n",
      "    \n",
      "This ebook is for the use of anyone anywhere in t\n",
      "﻿The Project Gutenberg eBook of David Copperfield\n",
      "    \n",
      "This ebook is for the use of anyone anywhere \n"
     ]
    }
   ],
   "source": [
    "print(text_list[0][:100])\n",
    "print(text_list[1][:100])\n",
    "print(text_list[2][:100])"
   ]
  },
  {
   "cell_type": "code",
   "execution_count": 4,
   "id": "b1ba040297cb3e10",
   "metadata": {
    "id": "b1ba040297cb3e10"
   },
   "outputs": [],
   "source": [
    "# # Compare unique characters from local and URL text files\n",
    "# local_file_path = 'pg2600.txt'\n",
    "# url_file_path = 'https://www.gutenberg.org/cache/epub/2600/pg2600.txt'\n",
    "#\n",
    "# local_text = load_text_from_file(local_file_path)\n",
    "# local_vocab_size, local_unique_chars = count_unique_chars(local_text)\n",
    "# url_text = load_text_from_url(url_file_path)\n",
    "# url_vocab_size, url_unique_chars = count_unique_chars(url_text)\n",
    "#\n",
    "# # Find the extra character(s)\n",
    "# extra_chars_in_url = url_unique_chars - local_unique_chars\n",
    "# extra_chars_in_local = local_unique_chars - url_unique_chars\n",
    "# print(f'Extra characters in URL text: {extra_chars_in_url}')\n",
    "# print(f'Extra characters in local text: {extra_chars_in_local}')"
   ]
  },
  {
   "cell_type": "code",
   "execution_count": 5,
   "id": "9e595766dd8deb1b",
   "metadata": {
    "colab": {
     "base_uri": "https://localhost:8080/"
    },
    "id": "9e595766dd8deb1b",
    "outputId": "e4bba092-0ed1-4fb8-f5bb-712821c6766a"
   },
   "outputs": [
    {
     "name": "stdout",
     "output_type": "stream",
     "text": [
      "Character to index mapping for first text: {'j': 0, '\\t': 1, ';': 2, \"'\": 3, 'ê': 4, '9': 5, 'k': 6, 'R': 7, '%': 8, 'T': 9, '#': 10, '‘': 11, 'i': 12, 'l': 13, 'p': 14, 'À': 15, ' ': 16, 'è': 17, 'A': 18, '*': 19, 'V': 20, 'P': 21, '’': 22, 'J': 23, 'm': 24, 'E': 25, ',': 26, '.': 27, 'æ': 28, 'K': 29, 'â': 30, '[': 31, 'D': 32, '—': 33, 'Ç': 34, 'w': 35, ')': 36, 'n': 37, 'b': 38, 'U': 39, '”': 40, 'Æ': 41, '7': 42, 'É': 43, 'L': 44, '!': 45, 'Z': 46, '/': 47, '5': 48, 'ë': 49, '1': 50, 'x': 51, '“': 52, 'e': 53, '3': 54, 'X': 55, 'z': 56, '_': 57, 'd': 58, 't': 59, '8': 60, '2': 61, 'r': 62, 'N': 63, 'é': 64, 'O': 65, 'C': 66, 'f': 67, '$': 68, 's': 69, '(': 70, 'W': 71, 'o': 72, 'Q': 73, 'c': 74, '\\n': 75, 'y': 76, 'I': 77, '…': 78, '0': 79, 'B': 80, 'v': 81, 'S': 82, '\\ufeff': 83, 'M': 84, '&': 85, 'g': 86, 'Y': 87, '6': 88, 'î': 89, '•': 90, 'h': 91, 'à': 92, 'H': 93, 'u': 94, '-': 95, '?': 96, 'G': 97, 'F': 98, ':': 99, '4': 100, '™': 101, 'ç': 102, ']': 103, 'œ': 104, 'q': 105, 'a': 106}\n",
      "Index to character mapping for first text: {0: 'j', 1: '\\t', 2: ';', 3: \"'\", 4: 'ê', 5: '9', 6: 'k', 7: 'R', 8: '%', 9: 'T', 10: '#', 11: '‘', 12: 'i', 13: 'l', 14: 'p', 15: 'À', 16: ' ', 17: 'è', 18: 'A', 19: '*', 20: 'V', 21: 'P', 22: '’', 23: 'J', 24: 'm', 25: 'E', 26: ',', 27: '.', 28: 'æ', 29: 'K', 30: 'â', 31: '[', 32: 'D', 33: '—', 34: 'Ç', 35: 'w', 36: ')', 37: 'n', 38: 'b', 39: 'U', 40: '”', 41: 'Æ', 42: '7', 43: 'É', 44: 'L', 45: '!', 46: 'Z', 47: '/', 48: '5', 49: 'ë', 50: '1', 51: 'x', 52: '“', 53: 'e', 54: '3', 55: 'X', 56: 'z', 57: '_', 58: 'd', 59: 't', 60: '8', 61: '2', 62: 'r', 63: 'N', 64: 'é', 65: 'O', 66: 'C', 67: 'f', 68: '$', 69: 's', 70: '(', 71: 'W', 72: 'o', 73: 'Q', 74: 'c', 75: '\\n', 76: 'y', 77: 'I', 78: '…', 79: '0', 80: 'B', 81: 'v', 82: 'S', 83: '\\ufeff', 84: 'M', 85: '&', 86: 'g', 87: 'Y', 88: '6', 89: 'î', 90: '•', 91: 'h', 92: 'à', 93: 'H', 94: 'u', 95: '-', 96: '?', 97: 'G', 98: 'F', 99: ':', 100: '4', 101: '™', 102: 'ç', 103: ']', 104: 'œ', 105: 'q', 106: 'a'}\n"
     ]
    }
   ],
   "source": [
    "# Create a dictionary to map characters to indices and vice-versa\n",
    "def create_char_mappings(unique_chars):\n",
    "    char_to_index = {char: idx for idx, char in enumerate(unique_chars)}\n",
    "    index_to_char = {idx: char for idx, char in enumerate(unique_chars)}\n",
    "    return char_to_index, index_to_char\n",
    "\n",
    "vocab_size, unique_chars = vocab_size_list[0], unique_chars_list[0]\n",
    "char_to_index, index_to_char = create_char_mappings(unique_chars)\n",
    "\n",
    "print(f\"Character to index mapping for first text: {char_to_index}\")\n",
    "print(f\"Index to character mapping for first text: {index_to_char}\")"
   ]
  },
  {
   "cell_type": "code",
   "execution_count": 6,
   "id": "cff240b4b6efa2ea",
   "metadata": {
    "colab": {
     "base_uri": "https://localhost:8080/"
    },
    "id": "cff240b4b6efa2ea",
    "outputId": "6b2b808a-d632-4e34-e632-cadd9f71be6e"
   },
   "outputs": [
    {
     "name": "stdout",
     "output_type": "stream",
     "text": [
      "One-hot encoding for 'a': [0. 0. 0. 0. 0. 0. 0. 0. 0. 0. 0. 0. 0. 0. 0. 0. 0. 0. 0. 0. 0. 0. 0. 0.\n",
      " 0. 0. 0. 0. 0. 0. 0. 0. 0. 0. 0. 0. 0. 0. 0. 0. 0. 0. 0. 0. 0. 0. 0. 0.\n",
      " 0. 0. 0. 0. 0. 0. 0. 0. 0. 0. 0. 0. 0. 0. 0. 0. 0. 0. 0. 0. 0. 0. 0. 0.\n",
      " 0. 0. 0. 0. 0. 0. 0. 0. 0. 0. 0. 0. 0. 0. 0. 0. 0. 0. 0. 0. 0. 0. 0. 0.\n",
      " 0. 0. 0. 0. 0. 0. 0. 0. 0. 0. 1.]\n"
     ]
    }
   ],
   "source": [
    "import numpy as np\n",
    "\n",
    "# One-hot encode a character based on the character index\n",
    "def one_hot_encode(char, char_to_index, vocab_size):\n",
    "    one_hot_vector = np.zeros(vocab_size)\n",
    "    one_hot_vector[char_to_index[char]] = 1\n",
    "    return one_hot_vector\n",
    "\n",
    "test_char_a = 'a'\n",
    "one_hot_vector = one_hot_encode(test_char_a, char_to_index, vocab_size)\n",
    "print(f\"One-hot encoding for '{test_char_a}': {one_hot_vector}\")"
   ]
  },
  {
   "cell_type": "code",
   "execution_count": 7,
   "id": "5ac26dff8806f1e0",
   "metadata": {
    "colab": {
     "base_uri": "https://localhost:8080/"
    },
    "id": "5ac26dff8806f1e0",
    "outputId": "2b139668-1682-45d1-aaf9-029a8f729b6f"
   },
   "outputs": [
    {
     "name": "stdout",
     "output_type": "stream",
     "text": [
      " ill:\n",
      "Some in their hawks and hounds, some in their horse.\n",
      "And every humour hath his adjunct pleasure,\n",
      "Wherein it finds a joy above the rest,\n",
      "But these particulars are not my measure,\n",
      "All these I better in one general best.\n",
      "Thy love is better than high birth to me,\n",
      "Richer than wealth, prouder than garments’ costs,\n",
      "Of more delight than hawks and horses be:\n",
      "And having thee, of all men’s pride I boast.\n",
      "  Wretched in this alone, that thou mayst take,\n",
      "  All this away, and me most wretched make.\n",
      "\n",
      "\n",
      "   \n"
     ]
    }
   ],
   "source": [
    "# Sample a short portion from the first book\n",
    "text = text_list[0][60000:60500]\n",
    "print(text)"
   ]
  },
  {
   "cell_type": "code",
   "execution_count": 8,
   "id": "da41e402067fbaf5",
   "metadata": {},
   "outputs": [],
   "source": [
    "from tqdm import tqdm\n",
    "\n",
    "# Generate sequences of 32 characters and the next character as the target\n",
    "def generate_sequences(text, char_to_index, sequence_length=32, stride=1):\n",
    "    input_sequences = []\n",
    "    target_characters = []\n",
    "\n",
    "    # for i in range(0, len(text) - sequence_length, stride):\n",
    "    for i in tqdm(range(0, len(text) - sequence_length - 1, stride), desc=\"Generating sequences\"):\n",
    "        input_seq = text[i:i+sequence_length]\n",
    "        # Target/next character\n",
    "        target_char = text[i+sequence_length]\n",
    "\n",
    "        # Convert input sequence to one-hot encoded vectors\n",
    "        input_seq_encoded = [one_hot_encode(c, char_to_index, len(char_to_index)) for c in input_seq]\n",
    "        input_sequences.append(input_seq_encoded)\n",
    "\n",
    "        # One-hot encoding for the target character\n",
    "        target_char_encoded = one_hot_encode(target_char, char_to_index, len(char_to_index))\n",
    "        target_characters.append(target_char_encoded)\n",
    "\n",
    "    return np.array(input_sequences), np.array(target_characters)\n"
   ]
  },
  {
   "cell_type": "code",
   "execution_count": 9,
   "id": "b61dfa3f256a14a8",
   "metadata": {
    "colab": {
     "base_uri": "https://localhost:8080/"
    },
    "id": "b61dfa3f256a14a8",
    "outputId": "b88f80aa-823f-48d0-b5d4-3322bb313126"
   },
   "outputs": [
    {
     "name": "stderr",
     "output_type": "stream",
     "text": [
      "Generating sequences: 100%|██████████| 467/467 [00:00<00:00, 29185.27it/s]"
     ]
    },
    {
     "name": "stdout",
     "output_type": "stream",
     "text": [
      "Input sequences shape: (467, 32, 107)\n",
      "Target characters shape: (467, 107)\n",
      "[[0. 0. 0. ... 0. 0. 0.]\n",
      " [0. 0. 0. ... 0. 0. 0.]\n",
      " [0. 0. 0. ... 0. 0. 0.]\n",
      " ...\n",
      " [0. 0. 0. ... 0. 0. 0.]\n",
      " [0. 0. 0. ... 0. 0. 0.]\n",
      " [0. 0. 0. ... 0. 0. 0.]]\n",
      "[0. 0. 0. 0. 0. 0. 0. 0. 0. 0. 0. 0. 0. 0. 0. 0. 0. 0. 0. 0. 0. 0. 0. 0.\n",
      " 0. 0. 0. 0. 0. 0. 0. 0. 0. 0. 0. 0. 0. 0. 0. 0. 0. 0. 0. 0. 0. 0. 0. 0.\n",
      " 0. 0. 0. 0. 0. 0. 0. 0. 0. 0. 0. 0. 0. 0. 0. 0. 0. 0. 0. 0. 0. 0. 0. 0.\n",
      " 0. 0. 0. 0. 1. 0. 0. 0. 0. 0. 0. 0. 0. 0. 0. 0. 0. 0. 0. 0. 0. 0. 0. 0.\n",
      " 0. 0. 0. 0. 0. 0. 0. 0. 0. 0. 0.]\n"
     ]
    },
    {
     "name": "stderr",
     "output_type": "stream",
     "text": [
      "\n"
     ]
    }
   ],
   "source": [
    "input_sequences, target_characters = generate_sequences(text, char_to_index)\n",
    "print(f\"Input sequences shape: {input_sequences.shape}\")\n",
    "print(f\"Target characters shape: {target_characters.shape}\")\n",
    "print(input_sequences[2])\n",
    "print(target_characters[35])"
   ]
  },
  {
   "cell_type": "code",
   "execution_count": 10,
   "id": "6b61aff6c6ca7909",
   "metadata": {
    "colab": {
     "base_uri": "https://localhost:8080/"
    },
    "id": "6b61aff6c6ca7909",
    "outputId": "c9a4ddaa-39c9-4fb7-cf16-2b90e015c042"
   },
   "outputs": [
    {
     "name": "stdout",
     "output_type": "stream",
     "text": [
      "Device: cuda\n"
     ]
    }
   ],
   "source": [
    "import torch\n",
    "import torch.nn as nn\n",
    "import torch.nn.functional as F\n",
    "import torch.optim as optim\n",
    "import numpy as np\n",
    "from torch.utils.data import DataLoader, TensorDataset, random_split\n",
    "from tqdm import tqdm\n",
    "\n",
    "if torch.cuda.is_available():\n",
    "    device = torch.device(\"cuda\")\n",
    "else:\n",
    "    device = torch.device(\"cpu\")\n",
    "\n",
    "print(f\"Device: {device}\")\n",
    "\n",
    "class CharRNN(nn.Module):\n",
    "    def __init__(self, vocab_size, input_size, hidden_size, dropout=0.2):\n",
    "        super(CharRNN, self).__init__()\n",
    "        self.input_size = input_size\n",
    "        self.hidden_size = hidden_size\n",
    "        self.vocab_size = vocab_size\n",
    "        \n",
    "        self.rnn = nn.RNN(self.input_size, self.hidden_size, nonlinearity='tanh', batch_first=True)\n",
    "        self.dropout = nn.Dropout(dropout)\n",
    "        self.fc = nn.Linear(self.hidden_size, self.vocab_size)\n",
    "\n",
    "    def forward(self, x, hidden):\n",
    "        out, hidden = self.rnn(x, hidden)\n",
    "        out = self.dropout(out)\n",
    "        out = self.fc(out[:, -1, :])\n",
    "        return F.log_softmax(out, dim=1), hidden\n",
    "\n",
    "    def init_hidden(self, batch_size):\n",
    "        return torch.zeros(1, batch_size, self.hidden_size).to(device)\n",
    "\n",
    "def repackage_hidden(hidden_layer):\n",
    "    # Detach hidden states from their history\n",
    "    if isinstance(hidden_layer, torch.Tensor):\n",
    "        return hidden_layer.detach()\n",
    "    else:\n",
    "        return tuple(repackage_hidden(v) for v in hidden_layer)\n"
   ]
  },
  {
   "cell_type": "code",
   "execution_count": 11,
   "id": "2b2895b85ad94231",
   "metadata": {},
   "outputs": [
    {
     "name": "stdout",
     "output_type": "stream",
     "text": [
      "Vocabulary size: 107\n"
     ]
    },
    {
     "name": "stderr",
     "output_type": "stream",
     "text": [
      "Generating sequences: 100%|██████████| 85376/85376 [00:02<00:00, 30911.62it/s]\n"
     ]
    },
    {
     "name": "stdout",
     "output_type": "stream",
     "text": [
      "Input sequences shape: torch.Size([85376, 32, 107])\n",
      "Target characters shape: torch.Size([85376, 107])\n"
     ]
    }
   ],
   "source": [
    "USE_ALL_BOOKS = False\n",
    "\n",
    "if 'google.colab' in str(get_ipython()):\n",
    "    USE_ALL_BOOKS = True\n",
    "\n",
    "sequence_length = 32\n",
    "\n",
    "if USE_ALL_BOOKS:\n",
    "    # Load text and prepare data\n",
    "    all_texts = ''.join(text_list)  # Concatenate all texts\n",
    "    vocab_size, unique_chars = count_unique_chars(all_texts)\n",
    "    char_to_index, index_to_char = create_char_mappings(unique_chars)\n",
    "    print(f\"Vocabulary size: {vocab_size}\")\n",
    "    \n",
    "    # Generate sequences\n",
    "    input_sequences, target_characters = generate_sequences(all_texts, char_to_index, sequence_length=sequence_length, stride=24)\n",
    "    input_sequences = torch.tensor(input_sequences, dtype=torch.float32)\n",
    "    target_characters = torch.tensor(target_characters, dtype=torch.long)\n",
    "    \n",
    "    input_sequences = input_sequences.to(device)\n",
    "    target_characters = target_characters.to(device)\n",
    "    \n",
    "    # Create TensorDataset and DataLoader\n",
    "    dataset = TensorDataset(input_sequences, target_characters)\n",
    "    train_size = int(0.8 * len(dataset))\n",
    "    val_size = len(dataset) - train_size\n",
    "    train_dataset, val_dataset = random_split(dataset, [train_size, val_size])\n",
    "    \n",
    "    print(\"Input sequences shape:\", input_sequences.shape)\n",
    "    print(\"Target characters shape:\", target_characters.shape)\n",
    "else:\n",
    "    text = text_list[0]\n",
    "    vocab_size, unique_chars = vocab_size_list[0], unique_chars_list[0]\n",
    "    char_to_index, index_to_char = create_char_mappings(unique_chars)\n",
    "    print(f\"Vocabulary size: {vocab_size}\")\n",
    "    \n",
    "    input_sequences, target_characters = generate_sequences(text, char_to_index, sequence_length=sequence_length, stride=63)\n",
    "    input_sequences = torch.tensor(input_sequences, dtype=torch.float32)\n",
    "    target_characters = torch.tensor(target_characters, dtype=torch.long)\n",
    "    \n",
    "    input_sequences = input_sequences.to(device)\n",
    "    target_characters = target_characters.to(device)\n",
    "    \n",
    "    dataset = TensorDataset(input_sequences, target_characters)\n",
    "    train_size = int(0.8 * len(dataset))\n",
    "    val_size = len(dataset) - train_size\n",
    "    train_dataset, val_dataset = random_split(dataset, [train_size, val_size])\n",
    "    \n",
    "    print(\"Input sequences shape:\", input_sequences.shape)\n",
    "    print(\"Target characters shape:\", target_characters.shape)\n"
   ]
  },
  {
   "cell_type": "code",
   "execution_count": 12,
   "id": "600385dd",
   "metadata": {},
   "outputs": [
    {
     "name": "stdout",
     "output_type": "stream",
     "text": [
      "Sequence: \n",
      "t._]\\n\\nLUCIANA.\\nFie,\\show\\simpatien\n",
      "Target character: c\n",
      "Find the sequence in book 1, original complete sequence:\n",
      "t._]\\n\\nLUCIANA.\\nFie,\\show\\simpatienc\n"
     ]
    }
   ],
   "source": [
    "def escape_sequence(seq):\n",
    "    return seq.replace(' ', '\\\\s').replace('\\n', '\\\\n')\n",
    "\n",
    "# Randomly pick a sequence and target character\n",
    "# convert them back to characters\n",
    "# and check if the conversion is correct\n",
    "sequence_idx = np.random.randint(0, len(input_sequences))\n",
    "sequence = input_sequences[sequence_idx]\n",
    "target = target_characters[sequence_idx]\n",
    "\n",
    "sequence_indices = torch.argmax(sequence, dim=1).cpu().numpy()\n",
    "sequence_chars = [index_to_char[idx] for idx in sequence_indices]\n",
    "\n",
    "target_char = index_to_char[torch.argmax(target).item()]\n",
    "\n",
    "sequence_str = ''.join(sequence_chars)\n",
    "escaped_sequence_str = escape_sequence(sequence_str)\n",
    "\n",
    "print(f\"Sequence: \\n{''.join(escaped_sequence_str)}\")\n",
    "print(f\"Target character: {target_char}\")\n",
    "\n",
    "# Also find the sequence in the original txt ebooks\n",
    "# and print the entire sequence with the next target character\n",
    "sequence_str = ''.join(sequence_chars)\n",
    "for book_idx, text in enumerate(text_list):\n",
    "    start_indices = [i for i in range(len(text)) if text.startswith(sequence_str, i)]\n",
    "    for start_idx in start_indices:\n",
    "        # Make sure the sequence is not at the end of the text\n",
    "        if start_idx + len(sequence_str) + 1 < len(text):\n",
    "            # Extract the sequence and the next character\n",
    "            excerpt = text[start_idx:start_idx + len(sequence_str) + 1]\n",
    "            escaped_excerpt = escape_sequence(excerpt)\n",
    "            print(f\"Find the sequence in book {book_idx + 1}, original complete sequence:\")\n",
    "            print(f\"{escaped_excerpt}\")"
   ]
  },
  {
   "cell_type": "code",
   "execution_count": 13,
   "id": "4c3b38fd80144a4c",
   "metadata": {
    "colab": {
     "base_uri": "https://localhost:8080/",
     "height": 384
    },
    "id": "4c3b38fd80144a4c",
    "outputId": "bc040813-dedc-4488-9e61-21e68017c642"
   },
   "outputs": [],
   "source": [
    "from IPython.display import clear_output\n",
    "import torch.optim.lr_scheduler as lr_scheduler\n",
    "\n",
    "# Hyperparameters\n",
    "hidden_size = 256\n",
    "learning_rate = 0.001\n",
    "num_epochs = 100 if 'google.colab' in str(get_ipython()) else 20\n",
    "batch_size = 64\n",
    "dropout = 0.2\n",
    "\n",
    "from torch.utils.data import DataLoader, RandomSampler, BatchSampler\n",
    "\n",
    "# Create samplers that allow replacement to ensure each batch has the same size\n",
    "train_sampler = RandomSampler(train_dataset, replacement=True, num_samples=len(train_dataset))\n",
    "val_sampler = RandomSampler(val_dataset, replacement=True, num_samples=len(val_dataset))\n",
    "\n",
    "# Create batch samplers with the same batch size and drop the last batch\n",
    "train_batch_sampler = BatchSampler(train_sampler, batch_size=batch_size, drop_last=True)\n",
    "val_batch_sampler = BatchSampler(val_sampler, batch_size=batch_size, drop_last=True)\n",
    "\n",
    "# Create DataLoader instances\n",
    "train_loader = DataLoader(dataset=train_dataset, batch_sampler=train_batch_sampler)\n",
    "val_loader = DataLoader(dataset=val_dataset, batch_sampler=val_batch_sampler)"
   ]
  },
  {
   "cell_type": "code",
   "execution_count": 15,
   "id": "52439b66",
   "metadata": {},
   "outputs": [
    {
     "name": "stderr",
     "output_type": "stream",
     "text": [
      "Training:   0%|          | 0/20 [00:00<?, ?it/s]"
     ]
    },
    {
     "name": "stdout",
     "output_type": "stream",
     "text": [
      "Update 0, Validation Loss: 4.650191339335048\n"
     ]
    },
    {
     "name": "stderr",
     "output_type": "stream",
     "text": [
      "Training:  45%|████▌     | 9/20 [00:46<00:55,  5.09s/it]"
     ]
    },
    {
     "name": "stdout",
     "output_type": "stream",
     "text": [
      "Update 10000, Validation Loss: 2.784788211485497\n"
     ]
    },
    {
     "name": "stderr",
     "output_type": "stream",
     "text": [
      "Training:  90%|█████████ | 18/20 [01:32<00:10,  5.14s/it]"
     ]
    },
    {
     "name": "stdout",
     "output_type": "stream",
     "text": [
      "Update 20000, Validation Loss: 2.713531034333365\n"
     ]
    },
    {
     "name": "stderr",
     "output_type": "stream",
     "text": [
      "Training: 100%|██████████| 20/20 [01:42<00:00,  5.15s/it]\n"
     ]
    }
   ],
   "source": [
    "# Initialize model, loss function, and optimizer\n",
    "model = CharRNN(vocab_size, sequence_length, hidden_size, dropout).to(device)\n",
    "criterion = nn.NLLLoss().to(device)\n",
    "optimizer = optim.Adam(model.parameters(), lr=learning_rate)\n",
    "scheduler = lr_scheduler.ExponentialLR(optimizer, gamma=0.95)  # Adjust gamma as needed\n",
    "\n",
    "# Training loop\n",
    "training_losses = []\n",
    "validation_losses = []\n",
    "update_counts = []\n",
    "update_cnt = 0\n",
    "for epoch in tqdm(range(num_epochs), desc=\"Training\"):\n",
    "    total_loss = 0\n",
    "    hidden = model.init_hidden(batch_size).to(device)\n",
    "    for input_seqs, target_seqs in train_loader:\n",
    "        model.train()\n",
    "        batch_size = input_seqs.size(0)\n",
    "        input_seqs, target_seqs = input_seqs.to(device), target_seqs.to(device)\n",
    "        hidden = repackage_hidden(hidden)\n",
    "        optimizer.zero_grad()\n",
    "        output, hidden = model(input_seqs.transpose(1, 2), hidden)\n",
    "        loss = criterion(output, torch.argmax(target_seqs, dim=1))\n",
    "        loss.backward()\n",
    "        nn.utils.clip_grad_norm_(model.parameters(), max_norm=5.0)  # Gradient clipping\n",
    "        optimizer.step()\n",
    "        total_loss += loss.item()\n",
    "\n",
    "        # Record training loss\n",
    "        training_losses.append(loss.item())\n",
    "        update_counts.append(update_cnt)\n",
    "\n",
    "        # Calculate accuracy\n",
    "        # print(output.shape)\n",
    "        # print(target_seqs.shape)\n",
    "        accuracy = (torch.argmax(output, dim=1) == torch.argmax(target_seqs, dim=1)).float().mean().item()\n",
    "\n",
    "        if update_cnt % 1000 == 0:\n",
    "            # Validation\n",
    "            model.eval()\n",
    "            with torch.no_grad():\n",
    "                val_loss = 0\n",
    "                for input_seqs, target_seqs in val_loader:\n",
    "                    batch_size = input_seqs.size(0)\n",
    "                    input_seqs, target_seqs = input_seqs.to(device), target_seqs.to(device)\n",
    "                    hidden = model.init_hidden(batch_size).to(device)\n",
    "                    hidden = repackage_hidden(hidden)\n",
    "                    output, hidden = model(input_seqs.transpose(1, 2), hidden)\n",
    "                    val_loss += criterion(output, torch.argmax(target_seqs, dim=1)).item()\n",
    "                    \n",
    "            avg_val_loss = val_loss / len(val_loader)\n",
    "            validation_losses.append(avg_val_loss)\n",
    "            if update_cnt % 10000 == 0:         \n",
    "                print(f'Update {update_cnt}, Validation Loss: {val_loss / len(val_loader)}')\n",
    "\n",
    "        update_cnt += 1\n",
    "    \n",
    "    scheduler.step()\n",
    "    "
   ]
  },
  {
   "cell_type": "code",
   "execution_count": 16,
   "id": "8580faa1",
   "metadata": {},
   "outputs": [
    {
     "data": {
      "text/plain": [
       "<matplotlib.legend.Legend at 0x1266dc46970>"
      ]
     },
     "execution_count": 16,
     "metadata": {},
     "output_type": "execute_result"
    },
    {
     "data": {
      "image/png": "[encoded data removed]",
      "text/plain": [
       "<Figure size 1000x500 with 1 Axes>"
      ]
     },
     "metadata": {},
     "output_type": "display_data"
    }
   ],
   "source": [
    "import matplotlib.pyplot as plt\n",
    "\n",
    "# Plot training and validation loss\n",
    "plt.figure(figsize=(10, 5))\n",
    "plt.plot(update_counts, training_losses, label='Training Loss')\n",
    "plt.plot(update_counts[::1000], validation_losses, label='Validation Loss')  # Plot validation loss every 1000 updates\n",
    "plt.xlabel('Weight Updates')\n",
    "plt.ylabel('Loss')\n",
    "plt.title('Training and Validation Loss vs. Weight Updates')\n",
    "plt.legend()"
   ]
  },
  {
   "cell_type": "code",
   "execution_count": 17,
   "id": "31c109614febf416",
   "metadata": {},
   "outputs": [
    {
     "name": "stdout",
     "output_type": "stream",
     "text": [
      "Model saved to ./char_rnn_model.pth\n"
     ]
    }
   ],
   "source": [
    "# Save the model\n",
    "model_path = f'{dir_root}/char_rnn_model.pth'\n",
    "torch.save(model.state_dict(), model_path)\n",
    "print(f\"Model saved to {model_path}\")"
   ]
  },
  {
   "cell_type": "code",
   "execution_count": 19,
   "id": "b3e976a5ab339735",
   "metadata": {},
   "outputs": [
    {
     "name": "stdout",
     "output_type": "stream",
     "text": [
      "Model loaded successfully\n"
     ]
    },
    {
     "name": "stderr",
     "output_type": "stream",
     "text": [
      "C:\\Users\\Bw Jiang\\AppData\\Local\\Temp\\ipykernel_30296\\1949074436.py:3: FutureWarning: You are using `torch.load` with `weights_only=False` (the current default value), which uses the default pickle module implicitly. It is possible to construct malicious pickle data which will execute arbitrary code during unpickling (See https://github.com/pytorch/pytorch/blob/main/SECURITY.md#untrusted-models for more details). In a future release, the default value for `weights_only` will be flipped to `True`. This limits the functions that could be executed during unpickling. Arbitrary objects will no longer be allowed to be loaded via this mode unless they are explicitly allowlisted by the user via `torch.serialization.add_safe_globals`. We recommend you start setting `weights_only=True` for any use case where you don't have full control of the loaded file. Please open an issue on GitHub for any issues related to this experimental feature.\n",
      "  model.load_state_dict(torch.load(model_path))\n"
     ]
    }
   ],
   "source": [
    "# Load the model\n",
    "model = CharRNN(vocab_size, sequence_length,hidden_size, dropout).to(device)\n",
    "model.load_state_dict(torch.load(model_path))\n",
    "model.eval()\n",
    "print(\"Model loaded successfully\")"
   ]
  },
  {
   "cell_type": "code",
   "execution_count": 22,
   "id": "7e5c69371b00f16",
   "metadata": {},
   "outputs": [],
   "source": [
    "def generate_text(model, start_text, char_to_index, index_to_char, max_length=1000, temperature=1.0):\n",
    "    model.eval()\n",
    "    with torch.no_grad():\n",
    "        hidden = model.init_hidden(1).to(device)\n",
    "        hidden = repackage_hidden(hidden)\n",
    "        input_seq = start_text\n",
    "        generated_text = start_text\n",
    "\n",
    "        for i in range(max_length):\n",
    "            input_seq_encoded = torch.tensor([one_hot_encode(c, char_to_index, len(char_to_index)) for c in input_seq], dtype=torch.float32).unsqueeze(0).to(device)\n",
    "            output, hidden = model(input_seq_encoded.transpose(1, 2), hidden)\n",
    "            output_dist = output.data.view(-1).div(temperature).exp()\n",
    "            top_char = torch.multinomial(output_dist, 1)[0]\n",
    "            \n",
    "            # Ensure the predicted index is within the valid range\n",
    "            if top_char.item() in index_to_char:\n",
    "                predicted_char = index_to_char[top_char.item()]\n",
    "            else:\n",
    "                predicted_char = ''  # Handle out-of-range index by skipping or using a placeholder\n",
    "\n",
    "            generated_text += predicted_char\n",
    "            input_seq = input_seq[1:] + predicted_char\n",
    "\n",
    "    return generated_text"
   ]
  },
  {
   "cell_type": "code",
   "execution_count": 23,
   "id": "c720fb045661f97b",
   "metadata": {},
   "outputs": [
    {
     "name": "stdout",
     "output_type": "stream",
     "text": [
      "I never shall forget that night.\n",
      "s t p I the her at the me thin he orere the are hinou our he the whe he n s the he the moI ne the t\n"
     ]
    }
   ],
   "source": [
    "# Generate text using the trained model\n",
    "start_text = 'I never shall forget that night.'\n",
    "generated_text = generate_text(model, start_text, char_to_index, index_to_char, max_length=100, temperature=0.3)\n",
    "print(generated_text)"
   ]
  },
  {
   "cell_type": "code",
   "execution_count": null,
   "id": "4119ac6153fba63d",
   "metadata": {},
   "outputs": [],
   "source": []
  }
 ],
 "metadata": {
  "accelerator": "GPU",
  "colab": {
   "gpuType": "T4",
   "machine_shape": "hm",
   "provenance": []
  },
  "kernelspec": {
   "display_name": ".venv",
   "language": "python",
   "name": "python3"
  },
  "language_info": {
   "codemirror_mode": {
    "name": "ipython",
    "version": 3
   },
   "file_extension": ".py",
   "mimetype": "text/x-python",
   "name": "python",
   "nbconvert_exporter": "python",
   "pygments_lexer": "ipython3",
   "version": "3.8.10"
  }
 },
 "nbformat": 4,
 "nbformat_minor": 5
}
