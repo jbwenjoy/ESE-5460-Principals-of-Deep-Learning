{
 "cells": [
  {
   "cell_type": "code",
   "execution_count": 1,
   "id": "1462a7a5d638814e",
   "metadata": {},
   "outputs": [
    {
     "name": "stdout",
     "output_type": "stream",
     "text": [
      ".\n"
     ]
    }
   ],
   "source": [
    "dir_root = '.'\n",
    "# If using google colab\n",
    "if 'google.colab' in str(get_ipython()):\n",
    "    from google.colab import drive\n",
    "    drive.mount('/content/drive/')\n",
    "    dir_root = '/content/drive/MyDrive/Colab Notebooks/ESE546/hw3'\n",
    "\n",
    "print(dir_root)"
   ]
  },
  {
   "cell_type": "code",
   "execution_count": 2,
   "id": "302b430103d02bbe",
   "metadata": {
    "colab": {
     "base_uri": "https://localhost:8080/"
    },
    "id": "302b430103d02bbe",
    "outputId": "baaf358c-4e61-453a-b1f6-262d1a218350"
   },
   "outputs": [
    {
     "name": "stdout",
     "output_type": "stream",
     "text": [
      "Loading text from file: pg100.txt\n",
      "Loading text from file: pg2600.txt\n",
      "Loading text from file: pg766.txt\n",
      "Vocabulary size for each text: [107, 112, 90]\n",
      "Unique characters for each text: [{'%', '(', 'â', 'G', 'g', 'z', ')', 'v', '\\t', 'I', 'é', 'ç', '\\n', 'H', ' ', '$', 'R', 'F', '#', 'M', '—', '1', 'A', 'à', 'À', ']', '2', 'a', 'f', 'b', '”', 'k', '.', 'C', 'd', 'q', '\\ufeff', 'ë', 'u', '’', 'j', 'T', '!', 'K', 'Q', 'è', 'y', 'œ', '™', 'Y', '&', 'r', 'S', '[', 'î', '8', '•', '*', '4', 'V', 'o', 'P', 'n', 'O', ',', ':', 'X', 'ê', 'U', '“', 'L', 'w', '0', 'N', 'Æ', '_', 'B', 'J', '/', '3', '6', 'É', 'h', '7', 'x', '…', '9', '-', 'E', 'e', 'm', 'p', 'Ç', 'l', '‘', '?', 'c', 'Z', 's', 'æ', 'D', 'W', \"'\", ';', 't', 'i', '5'}, {'ö', '%', 'ä', '(', 'ï', 'â', 'G', 'g', 'z', 'ý', ')', 'v', 'I', 'é', 'ç', 'í', '\\n', 'H', ' ', '$', 'R', 'F', 'M', '#', '—', '=', '1', 'ô', 'ó', 'A', 'à', 'À', ']', '2', 'a', 'ú', 'f', 'b', '”', 'k', '.', 'C', 'd', 'q', '\\ufeff', 'ë', 'Á', 'u', '’', 'j', 'T', '!', 'K', 'Q', 'è', 'y', 'œ', '™', 'Y', 'r', 'S', '[', 'î', '8', '•', '*', '4', 'V', 'o', 'P', 'n', 'O', ',', 'ü', ':', 'á', 'X', 'ê', 'U', '“', 'L', 'w', '0', 'N', 'B', 'J', '/', '3', '6', 'É', 'h', '7', 'x', '9', '-', 'E', 'e', 'm', 'p', 'l', '‘', '?', 'c', 'Z', 's', 'æ', 'D', 'W', ';', 't', 'i', '5'}, {'%', '(', 'G', 'g', 'z', ')', 'v', 'I', '\\n', 'H', ' ', '$', 'R', 'F', '#', 'M', '—', '1', 'A', ']', '2', 'a', 'f', 'b', '”', 'k', '.', 'C', 'd', 'q', '\\ufeff', 'u', '’', 'j', 'T', '!', 'K', 'Q', 'y', '™', 'Y', '&', 'r', 'S', '[', '8', '•', '*', '4', 'V', 'o', 'P', 'n', 'O', ',', ':', 'X', 'U', '“', 'L', 'w', '0', 'N', '_', 'B', 'J', '/', '3', '6', 'h', '7', 'x', '9', '-', 'E', 'e', 'm', 'p', 'l', '‘', '?', 'c', 'Z', 's', 'D', 'W', ';', 't', 'i', '5'}]\n"
     ]
    }
   ],
   "source": [
    "import requests\n",
    "\n",
    "# Load the text from a local file\n",
    "def load_text_from_file(file_path):\n",
    "    with open(file_path, 'r', encoding='utf-8') as file:\n",
    "        text = file.read()\n",
    "    return text\n",
    "\n",
    "# Load the text from a URL\n",
    "def load_text_from_url(url):\n",
    "    response = requests.get(url)\n",
    "    text = response.text.replace('\\r\\n', '\\n')  # Normalize line endings\n",
    "    return text\n",
    "\n",
    "# Count unique characters in the text\n",
    "def count_unique_chars(text):\n",
    "    unique_chars = set(text)\n",
    "    # Num of unique characters\n",
    "    vocab_size = len(unique_chars)\n",
    "    return vocab_size, unique_chars\n",
    "\n",
    "# List of file paths or URLs\n",
    "local_file_1 = 'pg100.txt'\n",
    "local_file_2 = 'pg2600.txt'\n",
    "local_file_3 = 'pg766.txt'\n",
    "url_file_1 = 'https://www.gutenberg.org/cache/epub/100/pg100.txt'\n",
    "url_file_2 = 'https://www.gutenberg.org/cache/epub/2600/pg2600.txt'\n",
    "url_file_3 = 'https://www.gutenberg.org/cache/epub/766/pg766.txt'\n",
    "\n",
    "if 'google.colab' in str(get_ipython()):\n",
    "    file_path_list = [url_file_1, url_file_2, url_file_3]\n",
    "else:\n",
    "    file_path_list = [local_file_1, local_file_2, local_file_3]\n",
    "text_list = []\n",
    "vocab_size_list = []\n",
    "unique_chars_list = []\n",
    "\n",
    "for file_path in file_path_list:\n",
    "    if file_path.startswith('http'):\n",
    "        print(f'Loading text from URL: {file_path}')\n",
    "        text = load_text_from_url(file_path)\n",
    "    else:\n",
    "        print(f'Loading text from file: {file_path}')\n",
    "        text = load_text_from_file(file_path)\n",
    "    vocab_size, unique_chars = count_unique_chars(text)\n",
    "    text_list.append(text)\n",
    "    vocab_size_list.append(vocab_size)\n",
    "    unique_chars_list.append(unique_chars)\n",
    "\n",
    "print(f'Vocabulary size for each text: {vocab_size_list}')\n",
    "print(f'Unique characters for each text: {unique_chars_list}')"
   ]
  },
  {
   "cell_type": "code",
   "execution_count": 3,
   "id": "29800fb8",
   "metadata": {},
   "outputs": [
    {
     "name": "stdout",
     "output_type": "stream",
     "text": [
      "The Project Gutenberg eBook of The Complete Works of William Shakespeare\n",
      "    \n",
      "This ebook is for the\n",
      "﻿The Project Gutenberg eBook of War and Peace\n",
      "    \n",
      "This ebook is for the use of anyone anywhere in t\n",
      "﻿The Project Gutenberg eBook of David Copperfield\n",
      "    \n",
      "This ebook is for the use of anyone anywhere \n"
     ]
    }
   ],
   "source": [
    "print(text_list[0][:100])\n",
    "print(text_list[1][:100])\n",
    "print(text_list[2][:100])"
   ]
  },
  {
   "cell_type": "code",
   "execution_count": 4,
   "id": "b1ba040297cb3e10",
   "metadata": {
    "id": "b1ba040297cb3e10"
   },
   "outputs": [],
   "source": [
    "# # Compare unique characters from local and URL text files\n",
    "# local_file_path = 'pg2600.txt'\n",
    "# url_file_path = 'https://www.gutenberg.org/cache/epub/2600/pg2600.txt'\n",
    "#\n",
    "# local_text = load_text_from_file(local_file_path)\n",
    "# local_vocab_size, local_unique_chars = count_unique_chars(local_text)\n",
    "# url_text = load_text_from_url(url_file_path)\n",
    "# url_vocab_size, url_unique_chars = count_unique_chars(url_text)\n",
    "#\n",
    "# # Find the extra character(s)\n",
    "# extra_chars_in_url = url_unique_chars - local_unique_chars\n",
    "# extra_chars_in_local = local_unique_chars - url_unique_chars\n",
    "# print(f'Extra characters in URL text: {extra_chars_in_url}')\n",
    "# print(f'Extra characters in local text: {extra_chars_in_local}')"
   ]
  },
  {
   "cell_type": "code",
   "execution_count": 5,
   "id": "9e595766dd8deb1b",
   "metadata": {
    "colab": {
     "base_uri": "https://localhost:8080/"
    },
    "id": "9e595766dd8deb1b",
    "outputId": "e4bba092-0ed1-4fb8-f5bb-712821c6766a"
   },
   "outputs": [
    {
     "name": "stdout",
     "output_type": "stream",
     "text": [
      "Character to index mapping for first text: {'%': 0, '(': 1, 'â': 2, 'G': 3, 'g': 4, 'z': 5, ')': 6, 'v': 7, '\\t': 8, 'I': 9, 'é': 10, 'ç': 11, '\\n': 12, 'H': 13, ' ': 14, '$': 15, 'R': 16, 'F': 17, '#': 18, 'M': 19, '—': 20, '1': 21, 'A': 22, 'à': 23, 'À': 24, ']': 25, '2': 26, 'a': 27, 'f': 28, 'b': 29, '”': 30, 'k': 31, '.': 32, 'C': 33, 'd': 34, 'q': 35, '\\ufeff': 36, 'ë': 37, 'u': 38, '’': 39, 'j': 40, 'T': 41, '!': 42, 'K': 43, 'Q': 44, 'è': 45, 'y': 46, 'œ': 47, '™': 48, 'Y': 49, '&': 50, 'r': 51, 'S': 52, '[': 53, 'î': 54, '8': 55, '•': 56, '*': 57, '4': 58, 'V': 59, 'o': 60, 'P': 61, 'n': 62, 'O': 63, ',': 64, ':': 65, 'X': 66, 'ê': 67, 'U': 68, '“': 69, 'L': 70, 'w': 71, '0': 72, 'N': 73, 'Æ': 74, '_': 75, 'B': 76, 'J': 77, '/': 78, '3': 79, '6': 80, 'É': 81, 'h': 82, '7': 83, 'x': 84, '…': 85, '9': 86, '-': 87, 'E': 88, 'e': 89, 'm': 90, 'p': 91, 'Ç': 92, 'l': 93, '‘': 94, '?': 95, 'c': 96, 'Z': 97, 's': 98, 'æ': 99, 'D': 100, 'W': 101, \"'\": 102, ';': 103, 't': 104, 'i': 105, '5': 106}\n",
      "Index to character mapping for first text: {0: '%', 1: '(', 2: 'â', 3: 'G', 4: 'g', 5: 'z', 6: ')', 7: 'v', 8: '\\t', 9: 'I', 10: 'é', 11: 'ç', 12: '\\n', 13: 'H', 14: ' ', 15: '$', 16: 'R', 17: 'F', 18: '#', 19: 'M', 20: '—', 21: '1', 22: 'A', 23: 'à', 24: 'À', 25: ']', 26: '2', 27: 'a', 28: 'f', 29: 'b', 30: '”', 31: 'k', 32: '.', 33: 'C', 34: 'd', 35: 'q', 36: '\\ufeff', 37: 'ë', 38: 'u', 39: '’', 40: 'j', 41: 'T', 42: '!', 43: 'K', 44: 'Q', 45: 'è', 46: 'y', 47: 'œ', 48: '™', 49: 'Y', 50: '&', 51: 'r', 52: 'S', 53: '[', 54: 'î', 55: '8', 56: '•', 57: '*', 58: '4', 59: 'V', 60: 'o', 61: 'P', 62: 'n', 63: 'O', 64: ',', 65: ':', 66: 'X', 67: 'ê', 68: 'U', 69: '“', 70: 'L', 71: 'w', 72: '0', 73: 'N', 74: 'Æ', 75: '_', 76: 'B', 77: 'J', 78: '/', 79: '3', 80: '6', 81: 'É', 82: 'h', 83: '7', 84: 'x', 85: '…', 86: '9', 87: '-', 88: 'E', 89: 'e', 90: 'm', 91: 'p', 92: 'Ç', 93: 'l', 94: '‘', 95: '?', 96: 'c', 97: 'Z', 98: 's', 99: 'æ', 100: 'D', 101: 'W', 102: \"'\", 103: ';', 104: 't', 105: 'i', 106: '5'}\n"
     ]
    }
   ],
   "source": [
    "# Create a dictionary to map characters to indices and vice-versa\n",
    "def create_char_mappings(unique_chars):\n",
    "    char_to_index = {char: idx for idx, char in enumerate(unique_chars)}\n",
    "    index_to_char = {idx: char for idx, char in enumerate(unique_chars)}\n",
    "    return char_to_index, index_to_char\n",
    "\n",
    "vocab_size, unique_chars = vocab_size_list[0], unique_chars_list[0]\n",
    "char_to_index, index_to_char = create_char_mappings(unique_chars)\n",
    "\n",
    "print(f\"Character to index mapping for first text: {char_to_index}\")\n",
    "print(f\"Index to character mapping for first text: {index_to_char}\")"
   ]
  },
  {
   "cell_type": "code",
   "execution_count": 6,
   "id": "cff240b4b6efa2ea",
   "metadata": {
    "colab": {
     "base_uri": "https://localhost:8080/"
    },
    "id": "cff240b4b6efa2ea",
    "outputId": "6b2b808a-d632-4e34-e632-cadd9f71be6e"
   },
   "outputs": [
    {
     "name": "stdout",
     "output_type": "stream",
     "text": [
      "One-hot encoding for 'a': [0. 0. 0. 0. 0. 0. 0. 0. 0. 0. 0. 0. 0. 0. 0. 0. 0. 0. 0. 0. 0. 0. 0. 0.\n",
      " 0. 0. 0. 1. 0. 0. 0. 0. 0. 0. 0. 0. 0. 0. 0. 0. 0. 0. 0. 0. 0. 0. 0. 0.\n",
      " 0. 0. 0. 0. 0. 0. 0. 0. 0. 0. 0. 0. 0. 0. 0. 0. 0. 0. 0. 0. 0. 0. 0. 0.\n",
      " 0. 0. 0. 0. 0. 0. 0. 0. 0. 0. 0. 0. 0. 0. 0. 0. 0. 0. 0. 0. 0. 0. 0. 0.\n",
      " 0. 0. 0. 0. 0. 0. 0. 0. 0. 0. 0.]\n"
     ]
    }
   ],
   "source": [
    "import numpy as np\n",
    "\n",
    "# One-hot encode a character based on the character index\n",
    "def one_hot_encode(char, char_to_index, vocab_size):\n",
    "    one_hot_vector = np.zeros(vocab_size)\n",
    "    one_hot_vector[char_to_index[char]] = 1\n",
    "    return one_hot_vector\n",
    "\n",
    "test_char_a = 'a'\n",
    "one_hot_vector = one_hot_encode(test_char_a, char_to_index, vocab_size)\n",
    "print(f\"One-hot encoding for '{test_char_a}': {one_hot_vector}\")"
   ]
  },
  {
   "cell_type": "code",
   "execution_count": 7,
   "id": "5ac26dff8806f1e0",
   "metadata": {
    "colab": {
     "base_uri": "https://localhost:8080/"
    },
    "id": "5ac26dff8806f1e0",
    "outputId": "2b139668-1682-45d1-aaf9-029a8f729b6f"
   },
   "outputs": [
    {
     "name": "stdout",
     "output_type": "stream",
     "text": [
      " ill:\n",
      "Some in their hawks and hounds, some in their horse.\n",
      "And every humour hath his adjunct pleasure,\n",
      "Wherein it finds a joy above the rest,\n",
      "But these particulars are not my measure,\n",
      "All these I better in one general best.\n",
      "Thy love is better than high birth to me,\n",
      "Richer than wealth, prouder than garments’ costs,\n",
      "Of more delight than hawks and horses be:\n",
      "And having thee, of all men’s pride I boast.\n",
      "  Wretched in this alone, that thou mayst take,\n",
      "  All this away, and me most wretched make.\n",
      "\n",
      "\n",
      "   \n"
     ]
    }
   ],
   "source": [
    "# Sample a short portion from the first book\n",
    "sample_text_500 = text_list[0][60000:60500]\n",
    "print(sample_text_500)"
   ]
  },
  {
   "cell_type": "code",
   "execution_count": 8,
   "id": "da41e402067fbaf5",
   "metadata": {},
   "outputs": [],
   "source": [
    "from tqdm import tqdm\n",
    "\n",
    "# # Generate sequences of 32 characters and the next character as the target\n",
    "# def generate_sequences(text, char_to_index, sequence_length=32, stride=1):\n",
    "#     input_sequences = []\n",
    "#     target_characters = []\n",
    "\n",
    "#     # for i in range(0, len(text) - sequence_length, stride):\n",
    "#     for i in tqdm(range(0, len(text) - sequence_length - 1, stride), desc=\"Generating sequences\"):\n",
    "#         input_seq = text[i:i+sequence_length]\n",
    "#         # Target/next character\n",
    "#         target_char = text[i+sequence_length]\n",
    "\n",
    "#         # Convert input sequence to one-hot encoded vectors\n",
    "#         input_seq_encoded = [one_hot_encode(c, char_to_index, len(char_to_index)) for c in input_seq]\n",
    "#         input_sequences.append(input_seq_encoded)\n",
    "\n",
    "#         # One-hot encoding for the target character\n",
    "#         target_char_encoded = one_hot_encode(target_char, char_to_index, len(char_to_index))\n",
    "#         target_characters.append(target_char_encoded)\n",
    "\n",
    "#     return np.array(input_sequences), np.array(target_characters)\n",
    "\n",
    "# Generate sequences of 32 characters and the next 32 after stride length as the target\n",
    "def generate_sequences(\n",
    "    text, char_to_index, input_seq_len=32, target_seq_len=32, stride=16, target_offset=1\n",
    "):\n",
    "    input_sequences = []\n",
    "    target_sequences = []\n",
    "\n",
    "    prevent_index_overflow = max(input_seq_len, target_seq_len + target_offset)\n",
    "\n",
    "    for i in tqdm(range(0, len(text) - prevent_index_overflow, stride), desc=\"Generating sequences\"):\n",
    "        input_seq = text[i : i + input_seq_len]\n",
    "        target_seq = text[i + target_offset : i + target_seq_len + target_offset]\n",
    "\n",
    "        # Convert to one-hot encoded vectors\n",
    "        input_seq_encoded = [\n",
    "            one_hot_encode(c, char_to_index, len(char_to_index)) for c in input_seq\n",
    "        ]\n",
    "        target_seq_encoded = [\n",
    "            one_hot_encode(c, char_to_index, len(char_to_index)) for c in target_seq\n",
    "        ]\n",
    "\n",
    "        input_sequences.append(input_seq_encoded)\n",
    "        target_sequences.append(target_seq_encoded)\n",
    "\n",
    "    return np.array(input_sequences), np.array(target_sequences)"
   ]
  },
  {
   "cell_type": "code",
   "execution_count": 9,
   "id": "b61dfa3f256a14a8",
   "metadata": {
    "colab": {
     "base_uri": "https://localhost:8080/"
    },
    "id": "b61dfa3f256a14a8",
    "outputId": "b88f80aa-823f-48d0-b5d4-3322bb313126"
   },
   "outputs": [
    {
     "name": "stderr",
     "output_type": "stream",
     "text": [
      "Generating sequences:   0%|          | 0/233 [00:00<?, ?it/s]"
     ]
    },
    {
     "name": "stderr",
     "output_type": "stream",
     "text": [
      "Generating sequences: 100%|██████████| 233/233 [00:00<00:00, 17454.11it/s]"
     ]
    },
    {
     "name": "stdout",
     "output_type": "stream",
     "text": [
      "Input sequences shape: (233, 32, 107)\n",
      "Target characters shape: (233, 32, 107)\n",
      "[[0. 0. 0. ... 0. 0. 0.]\n",
      " [0. 0. 0. ... 0. 0. 0.]\n",
      " [0. 0. 0. ... 0. 0. 0.]\n",
      " ...\n",
      " [0. 0. 0. ... 0. 0. 0.]\n",
      " [0. 0. 0. ... 0. 0. 0.]\n",
      " [0. 0. 0. ... 0. 0. 0.]]\n",
      "[[0. 0. 0. ... 0. 0. 0.]\n",
      " [0. 0. 0. ... 0. 0. 0.]\n",
      " [0. 0. 0. ... 0. 0. 0.]\n",
      " ...\n",
      " [0. 0. 0. ... 0. 0. 0.]\n",
      " [0. 0. 0. ... 0. 0. 0.]\n",
      " [0. 0. 0. ... 0. 0. 0.]]\n",
      ">Sample input sequence:\n",
      ",\n",
      "Of more delight than hawks and\n",
      ">Sample target sequence:\n",
      "Of more delight than hawks and h\n"
     ]
    },
    {
     "name": "stderr",
     "output_type": "stream",
     "text": [
      "\n"
     ]
    }
   ],
   "source": [
    "input_seqs, target_seqs = generate_sequences(sample_text_500, char_to_index, input_seq_len=32, target_seq_len=32, stride=2)\n",
    "print(f\"Input sequences shape: {input_seqs.shape}\")\n",
    "print(f\"Target characters shape: {target_seqs.shape}\")\n",
    "\n",
    "# randomly pick a sample input and target sequence\n",
    "idx = np.random.randint(0, input_seqs.shape[0])\n",
    "sample_input_seq = input_seqs[idx]\n",
    "sample_target_seq = target_seqs[idx]\n",
    "print(sample_input_seq)\n",
    "print(sample_target_seq)\n",
    "# print the sequence mapped to characters\n",
    "print(\">Sample input sequence:\")\n",
    "print(''.join([index_to_char[np.argmax(char)] for char in sample_input_seq]))\n",
    "print(\">Sample target sequence:\")\n",
    "print(''.join([index_to_char[np.argmax(char)] for char in sample_target_seq]))"
   ]
  },
  {
   "cell_type": "code",
   "execution_count": 10,
   "id": "6b61aff6c6ca7909",
   "metadata": {
    "colab": {
     "base_uri": "https://localhost:8080/"
    },
    "id": "6b61aff6c6ca7909",
    "outputId": "c9a4ddaa-39c9-4fb7-cf16-2b90e015c042"
   },
   "outputs": [
    {
     "name": "stdout",
     "output_type": "stream",
     "text": [
      "Device: cuda\n"
     ]
    }
   ],
   "source": [
    "import torch\n",
    "import torch.nn as nn\n",
    "import torch.nn.functional as F\n",
    "import torch.optim as optim\n",
    "import numpy as np\n",
    "from torch.utils.data import DataLoader, TensorDataset, random_split\n",
    "from tqdm import tqdm\n",
    "\n",
    "if torch.cuda.is_available():\n",
    "    device = torch.device(\"cuda\")\n",
    "else:\n",
    "    device = torch.device(\"cpu\")\n",
    "\n",
    "print(f\"Device: {device}\")\n",
    "\n",
    "class CharRNN(nn.Module):\n",
    "    def __init__(self, input_size, output_size, hidden_size, rnn_layers=1, device=device, dropout=0.2):\n",
    "        super(CharRNN, self).__init__()\n",
    "        self.input_size = input_size\n",
    "        self.hidden_size = hidden_size\n",
    "        self.output_size = output_size\n",
    "        self.rnn_layers = rnn_layers\n",
    "        self.device = device\n",
    "        self.dropout = dropout\n",
    "\n",
    "        self.rnn = nn.RNN(self.input_size, self.hidden_size, num_layers=self.rnn_layers, nonlinearity='tanh', batch_first=True)\n",
    "        self.dropout = nn.Dropout(self.dropout)\n",
    "        self.fc = nn.Linear(self.hidden_size, self.output_size)\n",
    "\n",
    "    def forward(self, x, hidden):\n",
    "        # batch_size = x.size(0)\n",
    "        # hidden = self.init_hidden(batch_size)\n",
    "        # hidden = hidden.to(self.device)\n",
    "\n",
    "        out, hidden = self.rnn(x, hidden)\n",
    "        out = out.contiguous()#.view(-1, self.hidden_size)\n",
    "        out = self.dropout(out)\n",
    "        out = self.fc(out)\n",
    "        # return F.log_softmax(out, dim=1), hidden\n",
    "        return out, hidden\n",
    "\n",
    "    def init_hidden(self, batch_size):\n",
    "        return torch.zeros(self.rnn_layers, batch_size, self.hidden_size).to(device)\n",
    "\n",
    "def repackage_hidden(hidden_layer):\n",
    "    # Detach hidden states from their history\n",
    "    if isinstance(hidden_layer, torch.Tensor):\n",
    "        return hidden_layer.detach()\n",
    "    else:\n",
    "        return tuple(repackage_hidden(v) for v in hidden_layer)\n"
   ]
  },
  {
   "cell_type": "code",
   "execution_count": 11,
   "id": "2b2895b85ad94231",
   "metadata": {},
   "outputs": [
    {
     "name": "stdout",
     "output_type": "stream",
     "text": [
      "Vocabulary size: 79\n"
     ]
    },
    {
     "name": "stderr",
     "output_type": "stream",
     "text": [
      "Generating sequences: 100%|██████████| 53753/53753 [00:02<00:00, 18046.35it/s]\n"
     ]
    },
    {
     "name": "stdout",
     "output_type": "stream",
     "text": [
      "Input seqs shape: torch.Size([53753, 32, 79])\n",
      "Target seqs shape: torch.Size([53753, 32, 79])\n"
     ]
    }
   ],
   "source": [
    "USE_ALL_BOOKS = False\n",
    "\n",
    "if 'google.colab' in str(get_ipython()):\n",
    "    USE_ALL_BOOKS = True\n",
    "\n",
    "sequence_length = 32\n",
    "stride = 1\n",
    "\n",
    "if USE_ALL_BOOKS:\n",
    "    # Load text and prepare data\n",
    "    all_texts = ''.join(text_list)  # Concatenate all texts\n",
    "    # Pick the first 1/30, mid 1/30, and last 1/30 for training\n",
    "    all_texts = all_texts[:len(all_texts)//30]\n",
    "    all_texts += all_texts[len(all_texts)//2:len(all_texts)//2 + len(all_texts)//30]\n",
    "    all_texts += all_texts[len(all_texts)//2 + len(all_texts)//30:]\n",
    "    vocab_size, unique_chars = count_unique_chars(all_texts)\n",
    "    char_to_index, index_to_char = create_char_mappings(unique_chars)\n",
    "    print(f\"Vocabulary size: {vocab_size}\")\n",
    "    input_seqs, target_seqs = generate_sequences(all_texts, char_to_index, input_seq_len=sequence_length, target_seq_len=sequence_length, stride=stride)\n",
    "else:\n",
    "    text = text_list[0]\n",
    "    # sample only the first 1/100 of the text\n",
    "    text = text[:len(text)//100]\n",
    "    vocab_size, unique_chars = count_unique_chars(text)\n",
    "    char_to_index, index_to_char = create_char_mappings(unique_chars)\n",
    "    print(f\"Vocabulary size: {vocab_size}\")\n",
    "    input_seqs, target_seqs = generate_sequences(text, char_to_index, input_seq_len=sequence_length, target_seq_len=sequence_length, stride=stride)\n",
    "\n",
    "input_seqs = torch.tensor(input_seqs, dtype=torch.float32).to(device)\n",
    "target_seqs = torch.tensor(target_seqs, dtype=torch.long).to(device)\n",
    "    \n",
    "dataset = TensorDataset(input_seqs, target_seqs)\n",
    "train_size = int(0.8 * len(dataset))\n",
    "train_dataset = TensorDataset(input_seqs[:train_size], target_seqs[:train_size])\n",
    "val_dataset = TensorDataset(input_seqs[train_size:], target_seqs[train_size:])\n",
    "    \n",
    "print(\"Input seqs shape:\", input_seqs.shape)\n",
    "print(\"Target seqs shape:\", target_seqs.shape)\n"
   ]
  },
  {
   "cell_type": "code",
   "execution_count": 12,
   "id": "600385dd",
   "metadata": {},
   "outputs": [
    {
     "ename": "TypeError",
     "evalue": "argmax(): argument 'input' (position 1) must be Tensor, not numpy.ndarray",
     "output_type": "error",
     "traceback": [
      "\u001b[1;31m---------------------------------------------------------------------------\u001b[0m",
      "\u001b[1;31mTypeError\u001b[0m                                 Traceback (most recent call last)",
      "Cell \u001b[1;32mIn[12], line 12\u001b[0m\n\u001b[0;32m      9\u001b[0m input_seq \u001b[38;5;241m=\u001b[39m input_seqs[sequence_idx]\n\u001b[0;32m     10\u001b[0m target_seq \u001b[38;5;241m=\u001b[39m target_seqs[sequence_idx]\n\u001b[1;32m---> 12\u001b[0m input_indices \u001b[38;5;241m=\u001b[39m \u001b[43mtorch\u001b[49m\u001b[38;5;241;43m.\u001b[39;49m\u001b[43margmax\u001b[49m\u001b[43m(\u001b[49m\u001b[43minput_seq\u001b[49m\u001b[43m,\u001b[49m\u001b[43m \u001b[49m\u001b[43mdim\u001b[49m\u001b[38;5;241;43m=\u001b[39;49m\u001b[38;5;241;43m1\u001b[39;49m\u001b[43m)\u001b[49m\u001b[38;5;241m.\u001b[39mcpu()\u001b[38;5;241m.\u001b[39mnumpy()\n\u001b[0;32m     13\u001b[0m input_chars \u001b[38;5;241m=\u001b[39m [index_to_char[idx] \u001b[38;5;28;01mfor\u001b[39;00m idx \u001b[38;5;129;01min\u001b[39;00m input_indices]\n\u001b[0;32m     14\u001b[0m target_indices \u001b[38;5;241m=\u001b[39m torch\u001b[38;5;241m.\u001b[39margmax(target_seq, dim\u001b[38;5;241m=\u001b[39m\u001b[38;5;241m1\u001b[39m)\u001b[38;5;241m.\u001b[39mcpu()\u001b[38;5;241m.\u001b[39mnumpy()\n",
      "\u001b[1;31mTypeError\u001b[0m: argmax(): argument 'input' (position 1) must be Tensor, not numpy.ndarray"
     ]
    }
   ],
   "source": [
    "def escape_sequence(seq):\n",
    "    return seq.replace(' ', '\\\\s').replace('\\n', '\\\\n')\n",
    "\n",
    "# Randomly pick a sequence and target sequence\n",
    "# convert them back to characters\n",
    "# and check if the conversion is correct\n",
    "sequence_idx = np.random.randint(0, len(input_seqs))\n",
    "input_seq = input_seqs[sequence_idx]\n",
    "target_seq = target_seqs[sequence_idx]\n",
    "\n",
    "input_indices = torch.argmax(input_seq, dim=1).cpu().numpy()\n",
    "input_chars = [index_to_char[idx] for idx in input_indices]\n",
    "target_indices = torch.argmax(target_seq, dim=1).cpu().numpy()\n",
    "target_chars = [index_to_char[idx] for idx in target_indices]\n",
    "\n",
    "input_str = ''.join(input_chars)\n",
    "target_str = ''.join(target_chars)\n",
    "escaped_input_str = escape_sequence(input_str)\n",
    "escaped_target_str = escape_sequence(target_str)\n",
    "\n",
    "print(f\">Input seq: \\n{escaped_input_str}\")\n",
    "print(f\">Target seq: \\n{escaped_target_str}\")\n",
    "\n",
    "# Also find the sequence in the original txt ebooks\n",
    "# and print the entire sequence with the next target character\n",
    "for book_idx, text in enumerate(text_list):\n",
    "    input_start_indices = [i for i in range(len(text)) if text.startswith(input_str, i)]\n",
    "    for input_start_idx in input_start_indices:\n",
    "        # Make sure the sequence is not at the end of the text\n",
    "        if input_start_idx + len(input_str) + len(target_str) < len(text):\n",
    "            # Extract the sequence and the next character\n",
    "            excerpt = text[input_start_idx:input_start_idx + max(len(input_str), len(target_str) + stride)]\n",
    "            escaped_excerpt = escape_sequence(excerpt)\n",
    "            print(f\">Found the sequence in book {book_idx + 1}, original complete sequence:\")\n",
    "            print(f\"{escaped_excerpt}\")"
   ]
  },
  {
   "cell_type": "code",
   "execution_count": 13,
   "id": "4c3b38fd80144a4c",
   "metadata": {
    "colab": {
     "base_uri": "https://localhost:8080/",
     "height": 384
    },
    "id": "4c3b38fd80144a4c",
    "outputId": "bc040813-dedc-4488-9e61-21e68017c642"
   },
   "outputs": [],
   "source": [
    "from IPython.display import clear_output\n",
    "import torch.optim.lr_scheduler as lr_scheduler\n",
    "\n",
    "# Hyperparameters\n",
    "hidden_size = 512\n",
    "learning_rate = 0.001\n",
    "dropout = 0.5\n",
    "num_epochs = 100 if 'google.colab' in str(get_ipython()) else 20\n",
    "batch_size = 64\n",
    "rnn_layers = 1\n",
    "\n",
    "from torch.utils.data import DataLoader, RandomSampler, BatchSampler\n",
    "\n",
    "# Create samplers that allow replacement to ensure each batch has the same size\n",
    "train_sampler = RandomSampler(train_dataset, replacement=True, num_samples=len(train_dataset))\n",
    "val_sampler = RandomSampler(val_dataset, replacement=True, num_samples=len(val_dataset))\n",
    "\n",
    "# Create batch samplers with the same batch size and drop the last batch\n",
    "train_batch_sampler = BatchSampler(train_sampler, batch_size=batch_size, drop_last=True)\n",
    "val_batch_sampler = BatchSampler(val_sampler, batch_size=batch_size, drop_last=True)\n",
    "\n",
    "# Create DataLoader instances\n",
    "train_loader = DataLoader(dataset=train_dataset, batch_sampler=train_batch_sampler)\n",
    "val_loader = DataLoader(dataset=val_dataset, batch_sampler=val_batch_sampler)"
   ]
  },
  {
   "cell_type": "code",
   "execution_count": 14,
   "id": "52439b66",
   "metadata": {},
   "outputs": [
    {
     "name": "stderr",
     "output_type": "stream",
     "text": [
      "Training:   0%|          | 0/20 [00:00<?, ?it/s]"
     ]
    },
    {
     "name": "stdout",
     "output_type": "stream",
     "text": [
      "Update 0, Training Loss: 4.387058734893799, Training Accuracy: 0.0000, Validation Loss: 4.3048, Validation Accuracy: 0.1971\n"
     ]
    },
    {
     "name": "stderr",
     "output_type": "stream",
     "text": [
      "Training:   5%|▌         | 1/20 [00:04<01:28,  4.63s/it]"
     ]
    },
    {
     "name": "stdout",
     "output_type": "stream",
     "text": [
      "Update 1000, Training Loss: 2.035681962966919, Training Accuracy: 0.4531, Validation Loss: 2.0051, Validation Accuracy: 0.4210\n"
     ]
    },
    {
     "name": "stderr",
     "output_type": "stream",
     "text": [
      "Training:  15%|█▌        | 3/20 [00:13<01:14,  4.36s/it]"
     ]
    },
    {
     "name": "stdout",
     "output_type": "stream",
     "text": [
      "Update 2000, Training Loss: 1.6375820636749268, Training Accuracy: 0.5625, Validation Loss: 1.9947, Validation Accuracy: 0.4299\n"
     ]
    },
    {
     "name": "stderr",
     "output_type": "stream",
     "text": [
      "Training:  20%|██        | 4/20 [00:16<01:05,  4.11s/it]"
     ]
    },
    {
     "name": "stdout",
     "output_type": "stream",
     "text": [
      "Update 3000, Training Loss: 1.5256078243255615, Training Accuracy: 0.7188, Validation Loss: 2.0635, Validation Accuracy: 0.4222\n"
     ]
    },
    {
     "name": "stderr",
     "output_type": "stream",
     "text": [
      "Training:  30%|███       | 6/20 [00:25<00:59,  4.24s/it]"
     ]
    },
    {
     "name": "stdout",
     "output_type": "stream",
     "text": [
      "Update 4000, Training Loss: 1.3631848096847534, Training Accuracy: 0.7500, Validation Loss: 2.1570, Validation Accuracy: 0.4205\n"
     ]
    },
    {
     "name": "stderr",
     "output_type": "stream",
     "text": [
      "Training:  35%|███▌      | 7/20 [00:29<00:53,  4.14s/it]"
     ]
    },
    {
     "name": "stdout",
     "output_type": "stream",
     "text": [
      "Update 5000, Training Loss: 1.2294031381607056, Training Accuracy: 0.8594, Validation Loss: 2.2053, Validation Accuracy: 0.4174\n"
     ]
    },
    {
     "name": "stderr",
     "output_type": "stream",
     "text": [
      "Training:  40%|████      | 8/20 [00:33<00:50,  4.19s/it]"
     ]
    },
    {
     "name": "stdout",
     "output_type": "stream",
     "text": [
      "Update 6000, Training Loss: 1.153340220451355, Training Accuracy: 0.8438, Validation Loss: 2.2455, Validation Accuracy: 0.4169\n"
     ]
    },
    {
     "name": "stderr",
     "output_type": "stream",
     "text": [
      "Training:  50%|█████     | 10/20 [00:41<00:40,  4.09s/it]"
     ]
    },
    {
     "name": "stdout",
     "output_type": "stream",
     "text": [
      "Update 7000, Training Loss: 1.1304265260696411, Training Accuracy: 0.8750, Validation Loss: 2.2877, Validation Accuracy: 0.4069\n"
     ]
    },
    {
     "name": "stderr",
     "output_type": "stream",
     "text": [
      "Training:  55%|█████▌    | 11/20 [00:46<00:37,  4.12s/it]"
     ]
    },
    {
     "name": "stdout",
     "output_type": "stream",
     "text": [
      "Update 8000, Training Loss: 1.0875108242034912, Training Accuracy: 0.9375, Validation Loss: 2.2866, Validation Accuracy: 0.4102\n"
     ]
    },
    {
     "name": "stderr",
     "output_type": "stream",
     "text": [
      "Training:  65%|██████▌   | 13/20 [00:54<00:28,  4.09s/it]"
     ]
    },
    {
     "name": "stdout",
     "output_type": "stream",
     "text": [
      "Update 9000, Training Loss: 1.02637779712677, Training Accuracy: 0.8438, Validation Loss: 2.3019, Validation Accuracy: 0.4251\n"
     ]
    },
    {
     "name": "stderr",
     "output_type": "stream",
     "text": [
      "Training:  70%|███████   | 14/20 [00:58<00:25,  4.18s/it]"
     ]
    },
    {
     "name": "stdout",
     "output_type": "stream",
     "text": [
      "Update 10000, Training Loss: 1.008704423904419, Training Accuracy: 0.9219, Validation Loss: 2.2962, Validation Accuracy: 0.4182\n"
     ]
    },
    {
     "name": "stderr",
     "output_type": "stream",
     "text": [
      "Training:  80%|████████  | 16/20 [01:07<00:16,  4.16s/it]"
     ]
    },
    {
     "name": "stdout",
     "output_type": "stream",
     "text": [
      "Update 11000, Training Loss: 0.9683035016059875, Training Accuracy: 0.9531, Validation Loss: 2.3134, Validation Accuracy: 0.4193\n"
     ]
    },
    {
     "name": "stderr",
     "output_type": "stream",
     "text": [
      "Training:  85%|████████▌ | 17/20 [01:11<00:12,  4.29s/it]"
     ]
    },
    {
     "name": "stdout",
     "output_type": "stream",
     "text": [
      "Update 12000, Training Loss: 0.9409401416778564, Training Accuracy: 0.9375, Validation Loss: 2.3116, Validation Accuracy: 0.4200\n"
     ]
    },
    {
     "name": "stderr",
     "output_type": "stream",
     "text": [
      "Training:  95%|█████████▌| 19/20 [01:19<00:04,  4.21s/it]"
     ]
    },
    {
     "name": "stdout",
     "output_type": "stream",
     "text": [
      "Update 13000, Training Loss: 0.9438182711601257, Training Accuracy: 0.9688, Validation Loss: 2.3101, Validation Accuracy: 0.4295\n"
     ]
    },
    {
     "name": "stderr",
     "output_type": "stream",
     "text": [
      "Training: 100%|██████████| 20/20 [01:24<00:00,  4.21s/it]\n"
     ]
    }
   ],
   "source": [
    "# Initialize model, loss function, and optimizer\n",
    "model = CharRNN(vocab_size, vocab_size, hidden_size, rnn_layers, device=device, dropout=dropout).to(device)\n",
    "# criterion = nn.NLLLoss().to(device)\n",
    "criterion = nn.CrossEntropyLoss().to(device)\n",
    "optimizer = optim.Adam(model.parameters(), lr=learning_rate)\n",
    "scheduler = lr_scheduler.ExponentialLR(optimizer, gamma=0.95)  # Adjust gamma as needed\n",
    "\n",
    "training_losses = []\n",
    "validation_losses = []\n",
    "training_accuracies = []\n",
    "validation_accuracies = []\n",
    "update_counts = []\n",
    "update_cnt = 0\n",
    "\n",
    "# Training loop\n",
    "for epoch in tqdm(range(num_epochs), desc=\"Training\"):\n",
    "    total_loss = 0\n",
    "    hidden = model.init_hidden(batch_size).to(device)\n",
    "    for input_seqs, target_seqs in train_loader:\n",
    "        model.train()\n",
    "        batch_size = input_seqs.size(0)\n",
    "        input_seqs, target_seqs = input_seqs.to(device), target_seqs.to(device)\n",
    "        \n",
    "        optimizer.zero_grad()\n",
    "        hidden = repackage_hidden(hidden)\n",
    "        output, hidden = model(input_seqs, hidden)\n",
    "        loss = criterion(output.transpose(1, 2), torch.argmax(target_seqs, dim=2))\n",
    "        loss.backward(retain_graph=True)\n",
    "        nn.utils.clip_grad_norm_(model.parameters(), max_norm=1.0)  # Gradient clipping\n",
    "        optimizer.step()\n",
    "        total_loss += loss.item()\n",
    "\n",
    "        # Record training loss and accuracy every 100 updates\n",
    "        if update_cnt % 100 == 0:\n",
    "            training_losses.append(loss.item())\n",
    "            update_counts.append(update_cnt)\n",
    "\n",
    "            training_accuracy = (torch.argmax(output[:, -1, :], dim=1) == torch.argmax(target_seqs[:, -1, :], dim=1)).float().mean().item()\n",
    "            training_accuracies.append(training_accuracy)\n",
    "\n",
    "        if update_cnt % 1000 == 0:\n",
    "            # Validation\n",
    "            model.eval()\n",
    "            with torch.no_grad():\n",
    "                val_loss = 0\n",
    "                correct_predictions = 0\n",
    "                total_predictions = 0\n",
    "                for input_seqs, target_seqs in val_loader:\n",
    "                    batch_size = input_seqs.size(0)\n",
    "                    input_seqs, target_seqs = input_seqs.to(device), target_seqs.to(device)\n",
    "                    hidden = model.init_hidden(batch_size).to(device)\n",
    "                    hidden = repackage_hidden(hidden)\n",
    "                    output, hidden = model(input_seqs, hidden)\n",
    "                    val_loss += criterion(output.transpose(1, 2), torch.argmax(target_seqs, dim=2)).item()\n",
    "                    \n",
    "                    correct_predictions += (torch.argmax(output[:, -1, :], dim=1) == torch.argmax(target_seqs[:, -1, :], dim=1)).sum().item()\n",
    "                    total_predictions += target_seqs.size(0)\n",
    "\n",
    "            avg_val_loss = val_loss / len(val_loader)\n",
    "            validation_losses.append(avg_val_loss)\n",
    "            validation_accuracy = correct_predictions / total_predictions\n",
    "            validation_accuracies.append(validation_accuracy)\n",
    "        \n",
    "            print(f'Update {update_cnt}, Training Loss: {loss}, Training Accuracy: {training_accuracy:.4f}, Validation Loss: {avg_val_loss:.4f}, Validation Accuracy: {validation_accuracy:.4f}')\n",
    "\n",
    "        update_cnt += 1\n",
    "    \n",
    "    scheduler.step()\n",
    "    "
   ]
  },
  {
   "cell_type": "code",
   "execution_count": 15,
   "id": "d2b1df5b",
   "metadata": {},
   "outputs": [
    {
     "name": "stdout",
     "output_type": "stream",
     "text": [
      "['b', 'B', '*', 'c', 'Y', 'e', 'N', 'a', ')', 'b', '#', '*', 'c', 'B', '*', 'c', ')', 'b', ')', 'c', 'f', 'j', ',', ';', 'B', 'n', 'j', 't', 'b', '(', 'c', 'b']\n",
      "['B', '*', 'c', 'Y', 'e', 'N', 'a', ')', 'b', '#', '*', 'c', 'B', '*', 'c', ')', 'b', ')', 'c', 'f', 'j', ',', ';', 'B', 'n', 'j', 't', 'b', '(', 'c', 'b', 'B']\n"
     ]
    }
   ],
   "source": [
    "temp_test_input = np.array([73, 62, 66, 67, 20, 41, 58, 51, 61, 73, 56, 66, 67, 62, 66, 67, 61, 73, 61, 67, 64, 72,  8, 37, 62, 52, 72, 45, 73, 40, 67, 73])\n",
    "temp_test_target = np.array([62, 66, 67, 20, 41, 58, 51, 61, 73, 56, 66, 67, 62, 66, 67, 61, 73, 61, 67, 64, 72,  8, 37, 62, 52, 72, 45, 73, 40, 67, 73, 62])\n",
    "temp_test_input_char = []\n",
    "temp_test_target_char = []\n",
    "for i in range(len(temp_test_input)):\n",
    "  temp_test_input_char.append(index_to_char[temp_test_input[i]])\n",
    "for i in range(len(temp_test_target)):\n",
    "  temp_test_target_char.append(index_to_char[temp_test_target[i]])\n",
    "print(\">Input:\")\n",
    "print(''.join(temp_test_input_char))\n",
    "print(\">Target:\")\n",
    "print(''.join(temp_test_target_char))"
   ]
  },
  {
   "cell_type": "code",
   "execution_count": 23,
   "id": "8580faa1",
   "metadata": {},
   "outputs": [
    {
     "data": {
      "image/png": "[encoded data removed]",
      "text/plain": [
       "<Figure size 1000x500 with 1 Axes>"
      ]
     },
     "metadata": {},
     "output_type": "display_data"
    },
    {
     "data": {
      "image/png": "[encoded data removed]",
      "text/plain": [
       "<Figure size 1000x500 with 1 Axes>"
      ]
     },
     "metadata": {},
     "output_type": "display_data"
    }
   ],
   "source": [
    "import matplotlib.pyplot as plt\n",
    "\n",
    "# Save the accuracies and errors and .npy file\n",
    "np.save(f'{dir_root}/training_losses.npy', training_losses)\n",
    "np.save(f'{dir_root}/validation_losses.npy', validation_losses)\n",
    "np.save(f'{dir_root}/training_accuracies.npy', training_accuracies)\n",
    "np.save(f'{dir_root}/validation_accuracies.npy', validation_accuracies)\n",
    "np.save(f'{dir_root}/update_counts.npy', update_counts)\n",
    "\n",
    "# Calculate errors: error = 1 - accuracy\n",
    "training_errors = [1 - acc for acc in training_accuracies]\n",
    "validation_errors = [1 - acc for acc in validation_accuracies]\n",
    "\n",
    "# Plot training and validation loss\n",
    "plt.figure(figsize=(10, 5))\n",
    "plt.plot(update_counts, training_losses, label='Training Loss')\n",
    "plt.plot(range(0, len(validation_losses) * 1000, 1000), validation_losses, label='Validation Loss') \n",
    "plt.xlabel('Weight Updates')\n",
    "plt.ylabel('Loss')\n",
    "plt.title('Training and Validation Loss vs. Weight Updates')\n",
    "plt.legend()\n",
    "\n",
    "# Plot training and validation error\n",
    "plt.figure(figsize=(10, 5))\n",
    "plt.plot(update_counts, training_errors, label='Training Error')\n",
    "plt.plot(range(0, len(validation_errors) * 1000, 1000), validation_errors, label='Validation Error')  \n",
    "plt.xlabel('Weight Updates')\n",
    "plt.ylabel('Error')\n",
    "plt.title('Training and Validation Error vs. Weight Updates')\n",
    "plt.legend()\n",
    "\n",
    "plt.show()"
   ]
  },
  {
   "cell_type": "code",
   "execution_count": 17,
   "id": "31c109614febf416",
   "metadata": {},
   "outputs": [
    {
     "name": "stdout",
     "output_type": "stream",
     "text": [
      "Model saved to ./char_rnn_model.pth\n"
     ]
    }
   ],
   "source": [
    "# Save the model\n",
    "model_path = f'{dir_root}/char_rnn_model.pth'\n",
    "torch.save(model.state_dict(), model_path)\n",
    "print(f\"Model saved to {model_path}\")"
   ]
  },
  {
   "cell_type": "code",
   "execution_count": 18,
   "id": "b3e976a5ab339735",
   "metadata": {},
   "outputs": [
    {
     "name": "stdout",
     "output_type": "stream",
     "text": [
      "Model loaded successfully\n"
     ]
    },
    {
     "name": "stderr",
     "output_type": "stream",
     "text": [
      "C:\\Users\\Bw Jiang\\AppData\\Local\\Temp\\ipykernel_17176\\478617132.py:3: FutureWarning: You are using `torch.load` with `weights_only=False` (the current default value), which uses the default pickle module implicitly. It is possible to construct malicious pickle data which will execute arbitrary code during unpickling (See https://github.com/pytorch/pytorch/blob/main/SECURITY.md#untrusted-models for more details). In a future release, the default value for `weights_only` will be flipped to `True`. This limits the functions that could be executed during unpickling. Arbitrary objects will no longer be allowed to be loaded via this mode unless they are explicitly allowlisted by the user via `torch.serialization.add_safe_globals`. We recommend you start setting `weights_only=True` for any use case where you don't have full control of the loaded file. Please open an issue on GitHub for any issues related to this experimental feature.\n",
      "  model.load_state_dict(torch.load(model_path))\n"
     ]
    }
   ],
   "source": [
    "# Load the model\n",
    "model = CharRNN(vocab_size, vocab_size, hidden_size).to(device)\n",
    "model.load_state_dict(torch.load(model_path))\n",
    "model.eval()\n",
    "print(\"Model loaded successfully\")"
   ]
  },
  {
   "cell_type": "code",
   "execution_count": 19,
   "id": "7e5c69371b00f16",
   "metadata": {},
   "outputs": [],
   "source": [
    "def generate_text(model, start_text, char_to_index, index_to_char, max_length=1000, temperature=1.0):\n",
    "    model.eval()\n",
    "    with torch.no_grad():\n",
    "        hidden = model.init_hidden(1).to(device)\n",
    "        hidden = repackage_hidden(hidden)\n",
    "        input_seq = start_text\n",
    "        generated_text = start_text\n",
    "\n",
    "        for i in range(max_length):\n",
    "            input_seq_encoded = torch.tensor([one_hot_encode(c, char_to_index, len(char_to_index)) for c in input_seq], dtype=torch.float32).unsqueeze(0).to(device)\n",
    "            output, hidden = model(input_seq_encoded, hidden)\n",
    "            output_dist = output.data.view(-1).div(temperature).exp()\n",
    "            top_char = torch.multinomial(output_dist, 1)[0]\n",
    "            \n",
    "            # Ensure the predicted index is within the valid range\n",
    "            if top_char.item() in index_to_char:\n",
    "                predicted_char = index_to_char[top_char.item()]\n",
    "            else:\n",
    "                predicted_char = ''  # Handle out-of-range index by skipping or using a placeholder\n",
    "\n",
    "            generated_text += predicted_char\n",
    "            input_seq = input_seq[1:] + predicted_char\n",
    "\n",
    "    return generated_text"
   ]
  },
  {
   "cell_type": "code",
   "execution_count": 20,
   "id": "c720fb045661f97b",
   "metadata": {},
   "outputs": [
    {
     "name": "stderr",
     "output_type": "stream",
     "text": [
      "C:\\Users\\Bw Jiang\\AppData\\Local\\Temp\\ipykernel_17176\\1710200499.py:10: UserWarning: Creating a tensor from a list of numpy.ndarrays is extremely slow. Please consider converting the list to a single numpy.ndarray with numpy.array() before converting to a tensor. (Triggered internally at C:\\actions-runner\\_work\\pytorch\\pytorch\\builder\\windows\\pytorch\\torch\\csrc\\utils\\tensor_new.cpp:281.)\n",
      "  input_seq_encoded = torch.tensor([one_hot_encode(c, char_to_index, len(char_to_index)) for c in input_seq], dtype=torch.float32).unsqueeze(0).to(device)\n"
     ]
    },
    {
     "name": "stdout",
     "output_type": "stream",
     "text": [
      "I never shall forget that night.e\n",
      "                    55\n",
      "\n",
      "Not marble, nor the gilded monuments\n",
      "Of pri\n"
     ]
    }
   ],
   "source": [
    "# Generate text using the trained model\n",
    "start_text = 'I never shall forget that night.'\n",
    "generated_text = generate_text(model, start_text, char_to_index, index_to_char, max_length=100, temperature=0.3)\n",
    "print(generated_text)"
   ]
  },
  {
   "cell_type": "code",
   "execution_count": null,
   "id": "2abf0f5f",
   "metadata": {},
   "outputs": [],
   "source": [
    "# Shut down if it's google colab\n",
    "# First sleep for a while so that changes to the notebook are saved\n",
    "import time\n",
    "time.sleep(10)\n",
    "\n",
    "if 'google.colab' in str(get_ipython()):\n",
    "    from google.colab import runtime\n",
    "    runtime.unassign()"
   ]
  }
 ],
 "metadata": {
  "accelerator": "GPU",
  "colab": {
   "gpuType": "T4",
   "machine_shape": "hm",
   "provenance": []
  },
  "kernelspec": {
   "display_name": ".venv",
   "language": "python",
   "name": "python3"
  },
  "language_info": {
   "codemirror_mode": {
    "name": "ipython",
    "version": 3
   },
   "file_extension": ".py",
   "mimetype": "text/x-python",
   "name": "python",
   "nbconvert_exporter": "python",
   "pygments_lexer": "ipython3",
   "version": "3.8.10"
  }
 },
 "nbformat": 4,
 "nbformat_minor": 5
}
