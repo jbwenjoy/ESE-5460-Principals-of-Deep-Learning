{
 "cells": [
  {
   "cell_type": "code",
   "execution_count": 1,
   "id": "1462a7a5d638814e",
   "metadata": {},
   "outputs": [
    {
     "name": "stdout",
     "output_type": "stream",
     "text": [
      ".\n"
     ]
    }
   ],
   "source": [
    "dir_root = '.'\n",
    "# If using google colab\n",
    "if 'google.colab' in str(get_ipython()):\n",
    "    from google.colab import drive\n",
    "    drive.mount('/content/drive/')\n",
    "    dir_root = '/content/drive/MyDrive/Colab Notebooks/ESE546/hw3'\n",
    "\n",
    "print(dir_root)"
   ]
  },
  {
   "cell_type": "code",
   "execution_count": 2,
   "id": "302b430103d02bbe",
   "metadata": {
    "colab": {
     "base_uri": "https://localhost:8080/"
    },
    "id": "302b430103d02bbe",
    "outputId": "baaf358c-4e61-453a-b1f6-262d1a218350"
   },
   "outputs": [
    {
     "name": "stdout",
     "output_type": "stream",
     "text": [
      "Loading text from file: pg100.txt\n",
      "Loading text from file: pg2600.txt\n",
      "Loading text from file: pg766.txt\n",
      "Vocabulary size for each text: [107, 112, 90]\n",
      "Unique characters for each text: [{'D', 'À', \"'\", 'B', 'i', 'Q', 'f', '”', 'M', '6', 'N', '5', 'u', '2', 'é', 'P', 'A', '4', '_', 'ê', 'b', '\\ufeff', '…', 'ë', 't', 'î', 'c', 'C', 'j', '/', 'à', 'k', 'e', '-', 'X', 'E', 'I', 'g', 'W', 'd', 'O', '$', '%', 'Ç', 'Y', '9', 'x', 'r', '8', '•', '\\n', '&', 'y', 'w', 'v', 'â', '[', 'p', '0', 'Z', 'J', ':', ']', '*', 'F', 'R', 'q', '?', 'è', 'L', '#', '!', 'a', '“', '—', ';', '™', 'S', ' ', '.', 'G', 'n', '’', 'É', 'U', '7', 'z', 'l', ')', 'æ', '(', 'V', ',', '‘', 'h', 'œ', 'o', 'm', 'ç', 'T', 'K', 'H', 's', '\\t', '3', '1', 'Æ'}, {'D', 'À', 'B', 'i', 'Q', 'f', '”', 'M', '6', 'N', '5', 'u', '2', 'é', 'P', 'á', 'A', '4', 'ê', 'b', '\\ufeff', 'ë', 't', 'î', 'c', 'ú', 'C', 'j', '/', 'à', 'k', 'e', '-', 'X', 'E', 'I', 'í', 'g', '=', 'W', 'd', 'O', '$', 'ï', '%', 'Y', '9', 'x', 'r', '8', '•', '\\n', 'ä', 'y', 'w', 'v', 'â', 'ý', '[', 'p', '0', 'ô', 'Z', 'J', ':', ']', '*', 'F', 'R', 'q', '?', 'è', 'L', '#', '!', 'a', '“', '—', ';', '™', 'S', ' ', 'ó', '.', 'G', 'n', '’', 'É', 'U', '7', ')', 'l', 'z', 'ö', 'æ', '(', 'V', ',', '‘', 'h', 'œ', 'ü', 'o', 'Á', 'm', 'ç', 'T', 'K', 'H', 's', '3', '1'}, {'D', 'B', 'i', 'Q', 'f', '”', 'M', '6', 'N', '5', 'u', '2', 'P', 'A', '4', '_', 'b', '\\ufeff', 't', 'c', 'C', 'j', '/', 'k', 'e', '-', 'X', 'E', 'I', 'g', 'W', 'd', 'O', '$', '%', 'Y', '9', 'x', 'r', '8', '•', '\\n', '&', 'y', 'v', 'w', '[', 'p', '0', 'Z', 'J', ':', ']', '*', 'F', 'R', 'q', '?', 'L', '#', '!', 'a', '“', '—', ';', '™', 'S', ' ', '.', 'G', 'n', '’', 'U', '7', ')', 'l', 'z', '(', 'V', ',', '‘', 'h', 'o', 'm', 'T', 'K', 'H', 's', '3', '1'}]\n"
     ]
    }
   ],
   "source": [
    "import requests\n",
    "\n",
    "# Load the text from a local file\n",
    "def load_text_from_file(file_path):\n",
    "    with open(file_path, 'r', encoding='utf-8') as file:\n",
    "        text = file.read()\n",
    "    return text\n",
    "\n",
    "# Load the text from a URL\n",
    "def load_text_from_url(url):\n",
    "    response = requests.get(url)\n",
    "    text = response.text.replace('\\r\\n', '\\n')  # Normalize line endings\n",
    "    return text\n",
    "\n",
    "# Count unique characters in the text\n",
    "def count_unique_chars(text):\n",
    "    unique_chars = set(text)\n",
    "    # Num of unique characters\n",
    "    vocab_size = len(unique_chars)\n",
    "    return vocab_size, unique_chars\n",
    "\n",
    "# List of file paths or URLs\n",
    "local_file_1 = 'pg100.txt'\n",
    "local_file_2 = 'pg2600.txt'\n",
    "local_file_3 = 'pg766.txt'\n",
    "url_file_1 = 'https://www.gutenberg.org/cache/epub/100/pg100.txt'\n",
    "url_file_2 = 'https://www.gutenberg.org/cache/epub/2600/pg2600.txt'\n",
    "url_file_3 = 'https://www.gutenberg.org/cache/epub/766/pg766.txt'\n",
    "\n",
    "if 'google.colab' in str(get_ipython()):\n",
    "    file_path_list = [url_file_1, url_file_2, url_file_3]\n",
    "else:\n",
    "    file_path_list = [local_file_1, local_file_2, local_file_3]\n",
    "text_list = []\n",
    "vocab_size_list = []\n",
    "unique_chars_list = []\n",
    "\n",
    "for file_path in file_path_list:\n",
    "    if file_path.startswith('http'):\n",
    "        print(f'Loading text from URL: {file_path}')\n",
    "        text = load_text_from_url(file_path)\n",
    "    else:\n",
    "        print(f'Loading text from file: {file_path}')\n",
    "        text = load_text_from_file(file_path)\n",
    "    vocab_size, unique_chars = count_unique_chars(text)\n",
    "    text_list.append(text)\n",
    "    vocab_size_list.append(vocab_size)\n",
    "    unique_chars_list.append(unique_chars)\n",
    "\n",
    "print(f'Vocabulary size for each text: {vocab_size_list}')\n",
    "print(f'Unique characters for each text: {unique_chars_list}')"
   ]
  },
  {
   "cell_type": "code",
   "execution_count": 3,
   "id": "29800fb8",
   "metadata": {},
   "outputs": [
    {
     "name": "stdout",
     "output_type": "stream",
     "text": [
      "The Project Gutenberg eBook of The Complete Works of William Shakespeare\n",
      "    \n",
      "This ebook is for the\n",
      "﻿The Project Gutenberg eBook of War and Peace\n",
      "    \n",
      "This ebook is for the use of anyone anywhere in t\n",
      "﻿The Project Gutenberg eBook of David Copperfield\n",
      "    \n",
      "This ebook is for the use of anyone anywhere \n"
     ]
    }
   ],
   "source": [
    "print(text_list[0][:100])\n",
    "print(text_list[1][:100])\n",
    "print(text_list[2][:100])"
   ]
  },
  {
   "cell_type": "code",
   "execution_count": 4,
   "id": "b1ba040297cb3e10",
   "metadata": {
    "id": "b1ba040297cb3e10"
   },
   "outputs": [],
   "source": [
    "# # Compare unique characters from local and URL text files\n",
    "# local_file_path = 'pg2600.txt'\n",
    "# url_file_path = 'https://www.gutenberg.org/cache/epub/2600/pg2600.txt'\n",
    "#\n",
    "# local_text = load_text_from_file(local_file_path)\n",
    "# local_vocab_size, local_unique_chars = count_unique_chars(local_text)\n",
    "# url_text = load_text_from_url(url_file_path)\n",
    "# url_vocab_size, url_unique_chars = count_unique_chars(url_text)\n",
    "#\n",
    "# # Find the extra character(s)\n",
    "# extra_chars_in_url = url_unique_chars - local_unique_chars\n",
    "# extra_chars_in_local = local_unique_chars - url_unique_chars\n",
    "# print(f'Extra characters in URL text: {extra_chars_in_url}')\n",
    "# print(f'Extra characters in local text: {extra_chars_in_local}')"
   ]
  },
  {
   "cell_type": "code",
   "execution_count": 5,
   "id": "9e595766dd8deb1b",
   "metadata": {
    "colab": {
     "base_uri": "https://localhost:8080/"
    },
    "id": "9e595766dd8deb1b",
    "outputId": "e4bba092-0ed1-4fb8-f5bb-712821c6766a"
   },
   "outputs": [
    {
     "name": "stdout",
     "output_type": "stream",
     "text": [
      "Character to index mapping for first text: {'D': 0, 'À': 1, \"'\": 2, 'B': 3, 'i': 4, 'Q': 5, 'f': 6, '”': 7, 'M': 8, '6': 9, 'N': 10, '5': 11, 'u': 12, '2': 13, 'é': 14, 'P': 15, 'A': 16, '4': 17, '_': 18, 'ê': 19, 'b': 20, '\\ufeff': 21, '…': 22, 'ë': 23, 't': 24, 'î': 25, 'c': 26, 'C': 27, 'j': 28, '/': 29, 'à': 30, 'k': 31, 'e': 32, '-': 33, 'X': 34, 'E': 35, 'I': 36, 'g': 37, 'W': 38, 'd': 39, 'O': 40, '$': 41, '%': 42, 'Ç': 43, 'Y': 44, '9': 45, 'x': 46, 'r': 47, '8': 48, '•': 49, '\\n': 50, '&': 51, 'y': 52, 'w': 53, 'v': 54, 'â': 55, '[': 56, 'p': 57, '0': 58, 'Z': 59, 'J': 60, ':': 61, ']': 62, '*': 63, 'F': 64, 'R': 65, 'q': 66, '?': 67, 'è': 68, 'L': 69, '#': 70, '!': 71, 'a': 72, '“': 73, '—': 74, ';': 75, '™': 76, 'S': 77, ' ': 78, '.': 79, 'G': 80, 'n': 81, '’': 82, 'É': 83, 'U': 84, '7': 85, 'z': 86, 'l': 87, ')': 88, 'æ': 89, '(': 90, 'V': 91, ',': 92, '‘': 93, 'h': 94, 'œ': 95, 'o': 96, 'm': 97, 'ç': 98, 'T': 99, 'K': 100, 'H': 101, 's': 102, '\\t': 103, '3': 104, '1': 105, 'Æ': 106}\n",
      "Index to character mapping for first text: {0: 'D', 1: 'À', 2: \"'\", 3: 'B', 4: 'i', 5: 'Q', 6: 'f', 7: '”', 8: 'M', 9: '6', 10: 'N', 11: '5', 12: 'u', 13: '2', 14: 'é', 15: 'P', 16: 'A', 17: '4', 18: '_', 19: 'ê', 20: 'b', 21: '\\ufeff', 22: '…', 23: 'ë', 24: 't', 25: 'î', 26: 'c', 27: 'C', 28: 'j', 29: '/', 30: 'à', 31: 'k', 32: 'e', 33: '-', 34: 'X', 35: 'E', 36: 'I', 37: 'g', 38: 'W', 39: 'd', 40: 'O', 41: '$', 42: '%', 43: 'Ç', 44: 'Y', 45: '9', 46: 'x', 47: 'r', 48: '8', 49: '•', 50: '\\n', 51: '&', 52: 'y', 53: 'w', 54: 'v', 55: 'â', 56: '[', 57: 'p', 58: '0', 59: 'Z', 60: 'J', 61: ':', 62: ']', 63: '*', 64: 'F', 65: 'R', 66: 'q', 67: '?', 68: 'è', 69: 'L', 70: '#', 71: '!', 72: 'a', 73: '“', 74: '—', 75: ';', 76: '™', 77: 'S', 78: ' ', 79: '.', 80: 'G', 81: 'n', 82: '’', 83: 'É', 84: 'U', 85: '7', 86: 'z', 87: 'l', 88: ')', 89: 'æ', 90: '(', 91: 'V', 92: ',', 93: '‘', 94: 'h', 95: 'œ', 96: 'o', 97: 'm', 98: 'ç', 99: 'T', 100: 'K', 101: 'H', 102: 's', 103: '\\t', 104: '3', 105: '1', 106: 'Æ'}\n"
     ]
    }
   ],
   "source": [
    "# Create a dictionary to map characters to indices and vice-versa\n",
    "def create_char_mappings(unique_chars):\n",
    "    char_to_index = {char: idx for idx, char in enumerate(unique_chars)}\n",
    "    index_to_char = {idx: char for idx, char in enumerate(unique_chars)}\n",
    "    return char_to_index, index_to_char\n",
    "\n",
    "vocab_size, unique_chars = vocab_size_list[0], unique_chars_list[0]\n",
    "char_to_index, index_to_char = create_char_mappings(unique_chars)\n",
    "\n",
    "print(f\"Character to index mapping for first text: {char_to_index}\")\n",
    "print(f\"Index to character mapping for first text: {index_to_char}\")"
   ]
  },
  {
   "cell_type": "code",
   "execution_count": 6,
   "id": "cff240b4b6efa2ea",
   "metadata": {
    "colab": {
     "base_uri": "https://localhost:8080/"
    },
    "id": "cff240b4b6efa2ea",
    "outputId": "6b2b808a-d632-4e34-e632-cadd9f71be6e"
   },
   "outputs": [
    {
     "name": "stdout",
     "output_type": "stream",
     "text": [
      "One-hot encoding for 'a': [0. 0. 0. 0. 0. 0. 0. 0. 0. 0. 0. 0. 0. 0. 0. 0. 0. 0. 0. 0. 0. 0. 0. 0.\n",
      " 0. 0. 0. 0. 0. 0. 0. 0. 0. 0. 0. 0. 0. 0. 0. 0. 0. 0. 0. 0. 0. 0. 0. 0.\n",
      " 0. 0. 0. 0. 0. 0. 0. 0. 0. 0. 0. 0. 0. 0. 0. 0. 0. 0. 0. 0. 0. 0. 0. 0.\n",
      " 1. 0. 0. 0. 0. 0. 0. 0. 0. 0. 0. 0. 0. 0. 0. 0. 0. 0. 0. 0. 0. 0. 0. 0.\n",
      " 0. 0. 0. 0. 0. 0. 0. 0. 0. 0. 0.]\n"
     ]
    }
   ],
   "source": [
    "import numpy as np\n",
    "\n",
    "# One-hot encode a character based on the character index\n",
    "def one_hot_encode(char, char_to_index, vocab_size):\n",
    "    one_hot_vector = np.zeros(vocab_size)\n",
    "    one_hot_vector[char_to_index[char]] = 1\n",
    "    return one_hot_vector\n",
    "\n",
    "test_char_a = 'a'\n",
    "one_hot_vector = one_hot_encode(test_char_a, char_to_index, vocab_size)\n",
    "print(f\"One-hot encoding for '{test_char_a}': {one_hot_vector}\")"
   ]
  },
  {
   "cell_type": "code",
   "execution_count": 7,
   "id": "5ac26dff8806f1e0",
   "metadata": {
    "colab": {
     "base_uri": "https://localhost:8080/"
    },
    "id": "5ac26dff8806f1e0",
    "outputId": "2b139668-1682-45d1-aaf9-029a8f729b6f"
   },
   "outputs": [
    {
     "name": "stdout",
     "output_type": "stream",
     "text": [
      " ill:\n",
      "Some in their hawks and hounds, some in their horse.\n",
      "And every humour hath his adjunct pleasure,\n",
      "Wherein it finds a joy above the rest,\n",
      "But these particulars are not my measure,\n",
      "All these I better in one general best.\n",
      "Thy love is better than high birth to me,\n",
      "Richer than wealth, prouder than garments’ costs,\n",
      "Of more delight than hawks and horses be:\n",
      "And having thee, of all men’s pride I boast.\n",
      "  Wretched in this alone, that thou mayst take,\n",
      "  All this away, and me most wretched make.\n",
      "\n",
      "\n",
      "   \n"
     ]
    }
   ],
   "source": [
    "# Sample a short portion from the first book\n",
    "text = text_list[0][60000:60500]\n",
    "print(text)"
   ]
  },
  {
   "cell_type": "code",
   "execution_count": 8,
   "id": "da41e402067fbaf5",
   "metadata": {},
   "outputs": [],
   "source": [
    "from tqdm import tqdm\n",
    "\n",
    "# Generate sequences of 32 characters and the next character as the target\n",
    "def generate_sequences(text, char_to_index, sequence_length=32, stride=1):\n",
    "    input_sequences = []\n",
    "    target_characters = []\n",
    "\n",
    "    # for i in range(0, len(text) - sequence_length, stride):\n",
    "    for i in tqdm(range(0, len(text) - sequence_length - 1, stride), desc=\"Generating sequences\"):\n",
    "        input_seq = text[i:i+sequence_length]\n",
    "        # Target/next character\n",
    "        target_char = text[i+sequence_length]\n",
    "\n",
    "        # Convert input sequence to one-hot encoded vectors\n",
    "        input_seq_encoded = [one_hot_encode(c, char_to_index, len(char_to_index)) for c in input_seq]\n",
    "        input_sequences.append(input_seq_encoded)\n",
    "\n",
    "        # One-hot encoding for the target character\n",
    "        target_char_encoded = one_hot_encode(target_char, char_to_index, len(char_to_index))\n",
    "        target_characters.append(target_char_encoded)\n",
    "\n",
    "    return np.array(input_sequences), np.array(target_characters)\n"
   ]
  },
  {
   "cell_type": "code",
   "execution_count": 9,
   "id": "b61dfa3f256a14a8",
   "metadata": {
    "colab": {
     "base_uri": "https://localhost:8080/"
    },
    "id": "b61dfa3f256a14a8",
    "outputId": "b88f80aa-823f-48d0-b5d4-3322bb313126"
   },
   "outputs": [
    {
     "name": "stderr",
     "output_type": "stream",
     "text": [
      "Generating sequences: 100%|██████████| 467/467 [00:00<00:00, 23310.29it/s]"
     ]
    },
    {
     "name": "stdout",
     "output_type": "stream",
     "text": [
      "Input sequences shape: (467, 32, 107)\n",
      "Target characters shape: (467, 107)\n",
      "[[0. 0. 0. ... 0. 0. 0.]\n",
      " [0. 0. 0. ... 0. 0. 0.]\n",
      " [0. 0. 0. ... 0. 0. 0.]\n",
      " ...\n",
      " [0. 0. 0. ... 0. 0. 0.]\n",
      " [0. 0. 0. ... 0. 0. 0.]\n",
      " [0. 0. 0. ... 0. 0. 0.]]\n",
      "[0. 0. 0. 0. 0. 0. 0. 0. 0. 0. 0. 0. 0. 0. 0. 0. 0. 0. 0. 0. 0. 0. 0. 0.\n",
      " 0. 0. 0. 0. 0. 0. 0. 0. 0. 0. 0. 0. 0. 0. 0. 0. 0. 0. 0. 0. 0. 0. 0. 0.\n",
      " 0. 0. 0. 0. 1. 0. 0. 0. 0. 0. 0. 0. 0. 0. 0. 0. 0. 0. 0. 0. 0. 0. 0. 0.\n",
      " 0. 0. 0. 0. 0. 0. 0. 0. 0. 0. 0. 0. 0. 0. 0. 0. 0. 0. 0. 0. 0. 0. 0. 0.\n",
      " 0. 0. 0. 0. 0. 0. 0. 0. 0. 0. 0.]\n"
     ]
    },
    {
     "name": "stderr",
     "output_type": "stream",
     "text": [
      "\n"
     ]
    }
   ],
   "source": [
    "input_sequences, target_characters = generate_sequences(text, char_to_index)\n",
    "print(f\"Input sequences shape: {input_sequences.shape}\")\n",
    "print(f\"Target characters shape: {target_characters.shape}\")\n",
    "print(input_sequences[2])\n",
    "print(target_characters[35])"
   ]
  },
  {
   "cell_type": "code",
   "execution_count": 15,
   "id": "6b61aff6c6ca7909",
   "metadata": {
    "colab": {
     "base_uri": "https://localhost:8080/"
    },
    "id": "6b61aff6c6ca7909",
    "outputId": "c9a4ddaa-39c9-4fb7-cf16-2b90e015c042"
   },
   "outputs": [
    {
     "name": "stdout",
     "output_type": "stream",
     "text": [
      "Device: cuda\n"
     ]
    }
   ],
   "source": [
    "import torch\n",
    "import torch.nn as nn\n",
    "import torch.nn.functional as F\n",
    "import torch.optim as optim\n",
    "import numpy as np\n",
    "from torch.utils.data import DataLoader, TensorDataset, random_split\n",
    "from tqdm import tqdm\n",
    "\n",
    "if torch.cuda.is_available():\n",
    "    device = torch.device(\"cuda\")\n",
    "else:\n",
    "    device = torch.device(\"cpu\")\n",
    "\n",
    "print(f\"Device: {device}\")\n",
    "\n",
    "class CharRNN(nn.Module):\n",
    "    def __init__(self, vocab_size, input_size, hidden_size, dropout=0.2):\n",
    "        super(CharRNN, self).__init__()\n",
    "        self.input_size = input_size\n",
    "        self.hidden_size = hidden_size\n",
    "        self.vocab_size = vocab_size\n",
    "        \n",
    "        self.rnn = nn.RNN(self.input_size, self.hidden_size, nonlinearity='tanh', batch_first=True)\n",
    "        self.dropout = nn.Dropout(dropout)\n",
    "        self.fc = nn.Linear(self.hidden_size, self.vocab_size)\n",
    "\n",
    "    def forward(self, x, hidden):\n",
    "        out, hidden = self.rnn(x, hidden)\n",
    "        out = self.dropout(out)\n",
    "        out = self.fc(out[:, -1, :])\n",
    "        # return F.log_softmax(out, dim=1), hidden\n",
    "        return out, hidden\n",
    "\n",
    "    def init_hidden(self, batch_size):\n",
    "        return torch.zeros(1, batch_size, self.hidden_size).to(device)\n",
    "\n",
    "def repackage_hidden(hidden_layer):\n",
    "    # Detach hidden states from their history\n",
    "    if isinstance(hidden_layer, torch.Tensor):\n",
    "        return hidden_layer.detach()\n",
    "    else:\n",
    "        return tuple(repackage_hidden(v) for v in hidden_layer)\n"
   ]
  },
  {
   "cell_type": "code",
   "execution_count": 11,
   "id": "2b2895b85ad94231",
   "metadata": {},
   "outputs": [
    {
     "name": "stdout",
     "output_type": "stream",
     "text": [
      "Vocabulary size: 107\n"
     ]
    },
    {
     "name": "stderr",
     "output_type": "stream",
     "text": [
      "Generating sequences: 100%|██████████| 85376/85376 [00:02<00:00, 29192.52it/s]\n"
     ]
    },
    {
     "name": "stdout",
     "output_type": "stream",
     "text": [
      "Input sequences shape: torch.Size([85376, 32, 107])\n",
      "Target characters shape: torch.Size([85376, 107])\n"
     ]
    }
   ],
   "source": [
    "USE_ALL_BOOKS = False\n",
    "\n",
    "if 'google.colab' in str(get_ipython()):\n",
    "    USE_ALL_BOOKS = True\n",
    "\n",
    "sequence_length = 32\n",
    "\n",
    "if USE_ALL_BOOKS:\n",
    "    # Load text and prepare data\n",
    "    all_texts = ''.join(text_list)  # Concatenate all texts\n",
    "    vocab_size, unique_chars = count_unique_chars(all_texts)\n",
    "    char_to_index, index_to_char = create_char_mappings(unique_chars)\n",
    "    print(f\"Vocabulary size: {vocab_size}\")\n",
    "    \n",
    "    # Generate sequences\n",
    "    input_sequences, target_characters = generate_sequences(all_texts, char_to_index, sequence_length=sequence_length, stride=24)\n",
    "    input_sequences = torch.tensor(input_sequences, dtype=torch.float32)\n",
    "    target_characters = torch.tensor(target_characters, dtype=torch.long)\n",
    "    \n",
    "    input_sequences = input_sequences.to(device)\n",
    "    target_characters = target_characters.to(device)\n",
    "    \n",
    "    # Create TensorDataset and DataLoader\n",
    "    dataset = TensorDataset(input_sequences, target_characters)\n",
    "    train_size = int(0.8 * len(dataset))\n",
    "    val_size = len(dataset) - train_size\n",
    "    train_dataset, val_dataset = random_split(dataset, [train_size, val_size])\n",
    "    \n",
    "    print(\"Input sequences shape:\", input_sequences.shape)\n",
    "    print(\"Target characters shape:\", target_characters.shape)\n",
    "else:\n",
    "    text = text_list[0]\n",
    "    vocab_size, unique_chars = vocab_size_list[0], unique_chars_list[0]\n",
    "    char_to_index, index_to_char = create_char_mappings(unique_chars)\n",
    "    print(f\"Vocabulary size: {vocab_size}\")\n",
    "    \n",
    "    input_sequences, target_characters = generate_sequences(text, char_to_index, sequence_length=sequence_length, stride=63)\n",
    "    input_sequences = torch.tensor(input_sequences, dtype=torch.float32)\n",
    "    target_characters = torch.tensor(target_characters, dtype=torch.long)\n",
    "    \n",
    "    input_sequences = input_sequences.to(device)\n",
    "    target_characters = target_characters.to(device)\n",
    "    \n",
    "    dataset = TensorDataset(input_sequences, target_characters)\n",
    "    train_size = int(0.8 * len(dataset))\n",
    "    val_size = len(dataset) - train_size\n",
    "    train_dataset, val_dataset = random_split(dataset, [train_size, val_size])\n",
    "    \n",
    "    print(\"Input sequences shape:\", input_sequences.shape)\n",
    "    print(\"Target characters shape:\", target_characters.shape)\n"
   ]
  },
  {
   "cell_type": "code",
   "execution_count": 12,
   "id": "600385dd",
   "metadata": {},
   "outputs": [
    {
     "name": "stdout",
     "output_type": "stream",
     "text": [
      "Sequence: \n",
      "ces\\sand\\smishaps.\\nHere\\slurks\\sno\\st\n",
      "Target character: r\n",
      "Find the sequence in book 1, original complete sequence:\n",
      "ces\\sand\\smishaps.\\nHere\\slurks\\sno\\str\n"
     ]
    }
   ],
   "source": [
    "def escape_sequence(seq):\n",
    "    return seq.replace(' ', '\\\\s').replace('\\n', '\\\\n')\n",
    "\n",
    "# Randomly pick a sequence and target character\n",
    "# convert them back to characters\n",
    "# and check if the conversion is correct\n",
    "sequence_idx = np.random.randint(0, len(input_sequences))\n",
    "sequence = input_sequences[sequence_idx]\n",
    "target = target_characters[sequence_idx]\n",
    "\n",
    "sequence_indices = torch.argmax(sequence, dim=1).cpu().numpy()\n",
    "sequence_chars = [index_to_char[idx] for idx in sequence_indices]\n",
    "\n",
    "target_char = index_to_char[torch.argmax(target).item()]\n",
    "\n",
    "sequence_str = ''.join(sequence_chars)\n",
    "escaped_sequence_str = escape_sequence(sequence_str)\n",
    "\n",
    "print(f\"Sequence: \\n{''.join(escaped_sequence_str)}\")\n",
    "print(f\"Target character: {target_char}\")\n",
    "\n",
    "# Also find the sequence in the original txt ebooks\n",
    "# and print the entire sequence with the next target character\n",
    "sequence_str = ''.join(sequence_chars)\n",
    "for book_idx, text in enumerate(text_list):\n",
    "    start_indices = [i for i in range(len(text)) if text.startswith(sequence_str, i)]\n",
    "    for start_idx in start_indices:\n",
    "        # Make sure the sequence is not at the end of the text\n",
    "        if start_idx + len(sequence_str) + 1 < len(text):\n",
    "            # Extract the sequence and the next character\n",
    "            excerpt = text[start_idx:start_idx + len(sequence_str) + 1]\n",
    "            escaped_excerpt = escape_sequence(excerpt)\n",
    "            print(f\"Find the sequence in book {book_idx + 1}, original complete sequence:\")\n",
    "            print(f\"{escaped_excerpt}\")"
   ]
  },
  {
   "cell_type": "code",
   "execution_count": 13,
   "id": "4c3b38fd80144a4c",
   "metadata": {
    "colab": {
     "base_uri": "https://localhost:8080/",
     "height": 384
    },
    "id": "4c3b38fd80144a4c",
    "outputId": "bc040813-dedc-4488-9e61-21e68017c642"
   },
   "outputs": [],
   "source": [
    "from IPython.display import clear_output\n",
    "import torch.optim.lr_scheduler as lr_scheduler\n",
    "\n",
    "# Hyperparameters\n",
    "hidden_size = 256\n",
    "learning_rate = 0.001\n",
    "num_epochs = 100 if 'google.colab' in str(get_ipython()) else 20\n",
    "batch_size = 64\n",
    "dropout = 0.2\n",
    "\n",
    "from torch.utils.data import DataLoader, RandomSampler, BatchSampler\n",
    "\n",
    "# Create samplers that allow replacement to ensure each batch has the same size\n",
    "train_sampler = RandomSampler(train_dataset, replacement=True, num_samples=len(train_dataset))\n",
    "val_sampler = RandomSampler(val_dataset, replacement=True, num_samples=len(val_dataset))\n",
    "\n",
    "# Create batch samplers with the same batch size and drop the last batch\n",
    "train_batch_sampler = BatchSampler(train_sampler, batch_size=batch_size, drop_last=True)\n",
    "val_batch_sampler = BatchSampler(val_sampler, batch_size=batch_size, drop_last=True)\n",
    "\n",
    "# Create DataLoader instances\n",
    "train_loader = DataLoader(dataset=train_dataset, batch_sampler=train_batch_sampler)\n",
    "val_loader = DataLoader(dataset=val_dataset, batch_sampler=val_batch_sampler)"
   ]
  },
  {
   "cell_type": "code",
   "execution_count": 16,
   "id": "52439b66",
   "metadata": {},
   "outputs": [
    {
     "name": "stderr",
     "output_type": "stream",
     "text": [
      "Training:   0%|          | 0/20 [00:00<?, ?it/s]"
     ]
    },
    {
     "name": "stdout",
     "output_type": "stream",
     "text": [
      "Update 0, Training Loss: 0.0047, Training Accuracy: 0.0000, Validation Loss: 4.6279, Validation Accuracy: 0.1582\n",
      "Update 1000, Training Loss: 3.3981, Training Accuracy: 0.1562, Validation Loss: 3.3766, Validation Accuracy: 0.1544\n"
     ]
    },
    {
     "name": "stderr",
     "output_type": "stream",
     "text": [
      "Training:   5%|▌         | 1/20 [00:06<01:56,  6.14s/it]"
     ]
    },
    {
     "name": "stdout",
     "output_type": "stream",
     "text": [
      "Update 2000, Training Loss: 3.1665, Training Accuracy: 0.1719, Validation Loss: 3.3839, Validation Accuracy: 0.1570\n"
     ]
    },
    {
     "name": "stderr",
     "output_type": "stream",
     "text": [
      "Training:  10%|█         | 2/20 [00:11<01:39,  5.55s/it]"
     ]
    },
    {
     "name": "stdout",
     "output_type": "stream",
     "text": [
      "Update 3000, Training Loss: 2.9274, Training Accuracy: 0.1406, Validation Loss: 3.3949, Validation Accuracy: 0.1514\n"
     ]
    },
    {
     "name": "stderr",
     "output_type": "stream",
     "text": [
      "Training:  15%|█▌        | 3/20 [00:16<01:31,  5.38s/it]"
     ]
    },
    {
     "name": "stdout",
     "output_type": "stream",
     "text": [
      "Update 4000, Training Loss: 2.6868, Training Accuracy: 0.2031, Validation Loss: 3.3700, Validation Accuracy: 0.1544\n"
     ]
    },
    {
     "name": "stderr",
     "output_type": "stream",
     "text": [
      "Training:  20%|██        | 4/20 [00:21<01:23,  5.25s/it]"
     ]
    },
    {
     "name": "stdout",
     "output_type": "stream",
     "text": [
      "Update 5000, Training Loss: 2.4790, Training Accuracy: 0.2188, Validation Loss: 3.3664, Validation Accuracy: 0.1560\n"
     ]
    },
    {
     "name": "stderr",
     "output_type": "stream",
     "text": [
      "Training:  25%|██▌       | 5/20 [00:26<01:16,  5.09s/it]"
     ]
    },
    {
     "name": "stdout",
     "output_type": "stream",
     "text": [
      "Update 6000, Training Loss: 2.2415, Training Accuracy: 0.0625, Validation Loss: 3.3950, Validation Accuracy: 0.1540\n"
     ]
    },
    {
     "name": "stderr",
     "output_type": "stream",
     "text": [
      "Training:  30%|███       | 6/20 [00:31<01:09,  4.99s/it]"
     ]
    },
    {
     "name": "stdout",
     "output_type": "stream",
     "text": [
      "Update 7000, Training Loss: 2.0091, Training Accuracy: 0.0938, Validation Loss: 3.3706, Validation Accuracy: 0.1535\n"
     ]
    },
    {
     "name": "stderr",
     "output_type": "stream",
     "text": [
      "Training:  35%|███▌      | 7/20 [00:36<01:05,  5.00s/it]"
     ]
    },
    {
     "name": "stdout",
     "output_type": "stream",
     "text": [
      "Update 8000, Training Loss: 1.7915, Training Accuracy: 0.1562, Validation Loss: 3.3579, Validation Accuracy: 0.1565\n"
     ]
    },
    {
     "name": "stderr",
     "output_type": "stream",
     "text": [
      "Training:  40%|████      | 8/20 [00:41<01:00,  5.04s/it]"
     ]
    },
    {
     "name": "stdout",
     "output_type": "stream",
     "text": [
      "Update 9000, Training Loss: 1.5602, Training Accuracy: 0.0938, Validation Loss: 3.3637, Validation Accuracy: 0.1548\n"
     ]
    },
    {
     "name": "stderr",
     "output_type": "stream",
     "text": [
      "Training:  45%|████▌     | 9/20 [00:46<00:55,  5.05s/it]"
     ]
    },
    {
     "name": "stdout",
     "output_type": "stream",
     "text": [
      "Update 10000, Training Loss: 1.3388, Training Accuracy: 0.0625, Validation Loss: 3.3486, Validation Accuracy: 0.1580\n"
     ]
    },
    {
     "name": "stderr",
     "output_type": "stream",
     "text": [
      "Training:  50%|█████     | 10/20 [00:51<00:49,  4.97s/it]"
     ]
    },
    {
     "name": "stdout",
     "output_type": "stream",
     "text": [
      "Update 11000, Training Loss: 1.1102, Training Accuracy: 0.0938, Validation Loss: 3.3570, Validation Accuracy: 0.1554\n"
     ]
    },
    {
     "name": "stderr",
     "output_type": "stream",
     "text": [
      "Training:  55%|█████▌    | 11/20 [00:55<00:44,  4.94s/it]"
     ]
    },
    {
     "name": "stdout",
     "output_type": "stream",
     "text": [
      "Update 12000, Training Loss: 0.8892, Training Accuracy: 0.1406, Validation Loss: 3.3452, Validation Accuracy: 0.1597\n"
     ]
    },
    {
     "name": "stderr",
     "output_type": "stream",
     "text": [
      "Training:  60%|██████    | 12/20 [01:00<00:39,  4.89s/it]"
     ]
    },
    {
     "name": "stdout",
     "output_type": "stream",
     "text": [
      "Update 13000, Training Loss: 0.6603, Training Accuracy: 0.1562, Validation Loss: 3.3543, Validation Accuracy: 0.1531\n"
     ]
    },
    {
     "name": "stderr",
     "output_type": "stream",
     "text": [
      "Training:  65%|██████▌   | 13/20 [01:05<00:34,  4.87s/it]"
     ]
    },
    {
     "name": "stdout",
     "output_type": "stream",
     "text": [
      "Update 14000, Training Loss: 0.4326, Training Accuracy: 0.1562, Validation Loss: 3.3406, Validation Accuracy: 0.1566\n"
     ]
    },
    {
     "name": "stderr",
     "output_type": "stream",
     "text": [
      "Training:  70%|███████   | 14/20 [01:10<00:29,  4.85s/it]"
     ]
    },
    {
     "name": "stdout",
     "output_type": "stream",
     "text": [
      "Update 15000, Training Loss: 0.2131, Training Accuracy: 0.1875, Validation Loss: 3.3347, Validation Accuracy: 0.1578\n"
     ]
    },
    {
     "name": "stderr",
     "output_type": "stream",
     "text": [
      "Training:  75%|███████▌  | 15/20 [01:15<00:24,  4.98s/it]"
     ]
    },
    {
     "name": "stdout",
     "output_type": "stream",
     "text": [
      "Update 16000, Training Loss: 3.5452, Training Accuracy: 0.1875, Validation Loss: 3.2768, Validation Accuracy: 0.1772\n",
      "Update 17000, Training Loss: 3.2345, Training Accuracy: 0.2188, Validation Loss: 3.0741, Validation Accuracy: 0.1969\n"
     ]
    },
    {
     "name": "stderr",
     "output_type": "stream",
     "text": [
      "Training:  80%|████████  | 16/20 [01:20<00:19,  4.92s/it]"
     ]
    },
    {
     "name": "stdout",
     "output_type": "stream",
     "text": [
      "Update 18000, Training Loss: 2.8339, Training Accuracy: 0.2031, Validation Loss: 2.8392, Validation Accuracy: 0.2454\n"
     ]
    },
    {
     "name": "stderr",
     "output_type": "stream",
     "text": [
      "Training:  85%|████████▌ | 17/20 [01:25<00:14,  4.89s/it]"
     ]
    },
    {
     "name": "stdout",
     "output_type": "stream",
     "text": [
      "Update 19000, Training Loss: 2.3699, Training Accuracy: 0.2031, Validation Loss: 2.7696, Validation Accuracy: 0.2463\n"
     ]
    },
    {
     "name": "stderr",
     "output_type": "stream",
     "text": [
      "Training:  90%|█████████ | 18/20 [01:30<00:09,  4.85s/it]"
     ]
    },
    {
     "name": "stdout",
     "output_type": "stream",
     "text": [
      "Update 20000, Training Loss: 2.4843, Training Accuracy: 0.2188, Validation Loss: 3.3883, Validation Accuracy: 0.1624\n"
     ]
    },
    {
     "name": "stderr",
     "output_type": "stream",
     "text": [
      "Training:  95%|█████████▌| 19/20 [01:34<00:04,  4.84s/it]"
     ]
    },
    {
     "name": "stdout",
     "output_type": "stream",
     "text": [
      "Update 21000, Training Loss: 2.1557, Training Accuracy: 0.2969, Validation Loss: 2.7379, Validation Accuracy: 0.2619\n"
     ]
    },
    {
     "name": "stderr",
     "output_type": "stream",
     "text": [
      "Training: 100%|██████████| 20/20 [01:39<00:00,  4.98s/it]\n"
     ]
    }
   ],
   "source": [
    "# Initialize model, loss function, and optimizer\n",
    "model = CharRNN(vocab_size, sequence_length, hidden_size, dropout).to(device)\n",
    "# criterion = nn.NLLLoss().to(device)\n",
    "criterion = nn.CrossEntropyLoss().to(device)\n",
    "optimizer = optim.Adam(model.parameters(), lr=learning_rate)\n",
    "scheduler = lr_scheduler.ExponentialLR(optimizer, gamma=0.95)  # Adjust gamma as needed\n",
    "\n",
    "training_losses = []\n",
    "validation_losses = []\n",
    "training_accuracies = []\n",
    "validation_accuracies = []\n",
    "update_counts = []\n",
    "update_cnt = 0\n",
    "\n",
    "# Training loop\n",
    "for epoch in tqdm(range(num_epochs), desc=\"Training\"):\n",
    "    total_loss = 0\n",
    "    hidden = model.init_hidden(batch_size).to(device)\n",
    "    for input_seqs, target_seqs in train_loader:\n",
    "        model.train()\n",
    "        batch_size = input_seqs.size(0)\n",
    "        input_seqs, target_seqs = input_seqs.to(device), target_seqs.to(device)\n",
    "        hidden = repackage_hidden(hidden)\n",
    "        optimizer.zero_grad()\n",
    "        output, hidden = model(input_seqs.transpose(1, 2), hidden)\n",
    "        loss = criterion(output, torch.argmax(target_seqs, dim=1))\n",
    "        loss.backward()\n",
    "        nn.utils.clip_grad_norm_(model.parameters(), max_norm=1.0)  # Gradient clipping\n",
    "        optimizer.step()\n",
    "        total_loss += loss.item()\n",
    "\n",
    "        # Record training loss\n",
    "        training_losses.append(loss.item())\n",
    "        update_counts.append(update_cnt)\n",
    "\n",
    "        # Calculate accuracy\n",
    "        # print(output.shape)\n",
    "        # print(target_seqs.shape)\n",
    "        training_accuracy = (torch.argmax(output, dim=1) == torch.argmax(target_seqs, dim=1)).float().mean().item()\n",
    "        training_accuracies.append(training_accuracy)\n",
    "\n",
    "        if update_cnt % 1000 == 0:\n",
    "            # Validation\n",
    "            model.eval()\n",
    "            with torch.no_grad():\n",
    "                val_loss = 0\n",
    "                correct_predictions = 0\n",
    "                total_predictions = 0\n",
    "                for input_seqs, target_seqs in val_loader:\n",
    "                    batch_size = input_seqs.size(0)\n",
    "                    input_seqs, target_seqs = input_seqs.to(device), target_seqs.to(device)\n",
    "                    hidden = model.init_hidden(batch_size).to(device)\n",
    "                    hidden = repackage_hidden(hidden)\n",
    "                    output, hidden = model(input_seqs.transpose(1, 2), hidden)\n",
    "                    val_loss += criterion(output, torch.argmax(target_seqs, dim=1)).item()\n",
    "                    \n",
    "                    correct_predictions += (torch.argmax(output, dim=1) == torch.argmax(target_seqs, dim=1)).sum().item()\n",
    "                    total_predictions += target_seqs.size(0)\n",
    "\n",
    "            avg_val_loss = val_loss / len(val_loader)\n",
    "            validation_losses.append(avg_val_loss)\n",
    "            validation_accuracy = correct_predictions / total_predictions\n",
    "            validation_accuracies.append(validation_accuracy)\n",
    "        \n",
    "            print(f'Update {update_cnt}, Training Loss: {total_loss / 1000:.4f}, Training Accuracy: {training_accuracy:.4f}, Validation Loss: {avg_val_loss:.4f}, Validation Accuracy: {validation_accuracy:.4f}')\n",
    "\n",
    "        update_cnt += 1\n",
    "    \n",
    "    scheduler.step()\n",
    "    "
   ]
  },
  {
   "cell_type": "code",
   "execution_count": 17,
   "id": "8580faa1",
   "metadata": {},
   "outputs": [
    {
     "data": {
      "image/png": "[encoded data removed]",
      "text/plain": [
       "<Figure size 1000x500 with 1 Axes>"
      ]
     },
     "metadata": {},
     "output_type": "display_data"
    },
    {
     "data": {
      "image/png": "[encoded data removed]",
      "text/plain": [
       "<Figure size 1000x500 with 1 Axes>"
      ]
     },
     "metadata": {},
     "output_type": "display_data"
    }
   ],
   "source": [
    "import matplotlib.pyplot as plt\n",
    "\n",
    "# Calculate errors: error = 1 - accuracy\n",
    "training_errors = [1 - acc for acc in training_accuracies]\n",
    "validation_errors = [1 - acc for acc in validation_accuracies]\n",
    "\n",
    "# Plot training and validation loss\n",
    "plt.figure(figsize=(10, 5))\n",
    "plt.plot(update_counts, training_losses, label='Training Loss')\n",
    "plt.plot(range(0, len(validation_losses) * 1000, 1000), validation_losses, label='Validation Loss') \n",
    "plt.xlabel('Weight Updates')\n",
    "plt.ylabel('Loss')\n",
    "plt.title('Training and Validation Loss vs. Weight Updates')\n",
    "plt.legend()\n",
    "\n",
    "# Plot training and validation error\n",
    "plt.figure(figsize=(10, 5))\n",
    "plt.plot(update_counts, training_errors, label='Training Error')\n",
    "plt.plot(range(0, len(validation_errors) * 1000, 1000), validation_errors, label='Validation Error')  \n",
    "plt.xlabel('Weight Updates')\n",
    "plt.ylabel('Error')\n",
    "plt.title('Training and Validation Error vs. Weight Updates')\n",
    "plt.legend()\n",
    "\n",
    "plt.show()"
   ]
  },
  {
   "cell_type": "code",
   "execution_count": 18,
   "id": "31c109614febf416",
   "metadata": {},
   "outputs": [
    {
     "name": "stdout",
     "output_type": "stream",
     "text": [
      "Model saved to ./char_rnn_model.pth\n"
     ]
    }
   ],
   "source": [
    "# Save the model\n",
    "model_path = f'{dir_root}/char_rnn_model.pth'\n",
    "torch.save(model.state_dict(), model_path)\n",
    "print(f\"Model saved to {model_path}\")"
   ]
  },
  {
   "cell_type": "code",
   "execution_count": 19,
   "id": "b3e976a5ab339735",
   "metadata": {},
   "outputs": [
    {
     "name": "stdout",
     "output_type": "stream",
     "text": [
      "Model loaded successfully\n"
     ]
    },
    {
     "name": "stderr",
     "output_type": "stream",
     "text": [
      "C:\\Users\\Bw Jiang\\AppData\\Local\\Temp\\ipykernel_28788\\1949074436.py:3: FutureWarning: You are using `torch.load` with `weights_only=False` (the current default value), which uses the default pickle module implicitly. It is possible to construct malicious pickle data which will execute arbitrary code during unpickling (See https://github.com/pytorch/pytorch/blob/main/SECURITY.md#untrusted-models for more details). In a future release, the default value for `weights_only` will be flipped to `True`. This limits the functions that could be executed during unpickling. Arbitrary objects will no longer be allowed to be loaded via this mode unless they are explicitly allowlisted by the user via `torch.serialization.add_safe_globals`. We recommend you start setting `weights_only=True` for any use case where you don't have full control of the loaded file. Please open an issue on GitHub for any issues related to this experimental feature.\n",
      "  model.load_state_dict(torch.load(model_path))\n"
     ]
    }
   ],
   "source": [
    "# Load the model\n",
    "model = CharRNN(vocab_size, sequence_length,hidden_size, dropout).to(device)\n",
    "model.load_state_dict(torch.load(model_path))\n",
    "model.eval()\n",
    "print(\"Model loaded successfully\")"
   ]
  },
  {
   "cell_type": "code",
   "execution_count": 20,
   "id": "7e5c69371b00f16",
   "metadata": {},
   "outputs": [],
   "source": [
    "def generate_text(model, start_text, char_to_index, index_to_char, max_length=1000, temperature=1.0):\n",
    "    model.eval()\n",
    "    with torch.no_grad():\n",
    "        hidden = model.init_hidden(1).to(device)\n",
    "        hidden = repackage_hidden(hidden)\n",
    "        input_seq = start_text\n",
    "        generated_text = start_text\n",
    "\n",
    "        for i in range(max_length):\n",
    "            input_seq_encoded = torch.tensor([one_hot_encode(c, char_to_index, len(char_to_index)) for c in input_seq], dtype=torch.float32).unsqueeze(0).to(device)\n",
    "            output, hidden = model(input_seq_encoded.transpose(1, 2), hidden)\n",
    "            output_dist = output.data.view(-1).div(temperature).exp()\n",
    "            top_char = torch.multinomial(output_dist, 1)[0]\n",
    "            \n",
    "            # Ensure the predicted index is within the valid range\n",
    "            if top_char.item() in index_to_char:\n",
    "                predicted_char = index_to_char[top_char.item()]\n",
    "            else:\n",
    "                predicted_char = ''  # Handle out-of-range index by skipping or using a placeholder\n",
    "\n",
    "            generated_text += predicted_char\n",
    "            input_seq = input_seq[1:] + predicted_char\n",
    "\n",
    "    return generated_text"
   ]
  },
  {
   "cell_type": "code",
   "execution_count": 21,
   "id": "c720fb045661f97b",
   "metadata": {},
   "outputs": [
    {
     "name": "stderr",
     "output_type": "stream",
     "text": [
      "C:\\Users\\Bw Jiang\\AppData\\Local\\Temp\\ipykernel_28788\\2158214449.py:10: UserWarning: Creating a tensor from a list of numpy.ndarrays is extremely slow. Please consider converting the list to a single numpy.ndarray with numpy.array() before converting to a tensor. (Triggered internally at C:\\actions-runner\\_work\\pytorch\\pytorch\\builder\\windows\\pytorch\\torch\\csrc\\utils\\tensor_new.cpp:281.)\n",
      "  input_seq_encoded = torch.tensor([one_hot_encode(c, char_to_index, len(char_to_index)) for c in input_seq], dtype=torch.float32).unsqueeze(0).to(device)\n"
     ]
    },
    {
     "name": "stdout",
     "output_type": "stream",
     "text": [
      "I never shall forget that night.\n",
      "\n",
      "S.\n",
      "\n",
      "I the the as the there the t s s the an t the atle s t po iller t atr t t the the thangore s m\n"
     ]
    }
   ],
   "source": [
    "# Generate text using the trained model\n",
    "start_text = 'I never shall forget that night.'\n",
    "generated_text = generate_text(model, start_text, char_to_index, index_to_char, max_length=100, temperature=0.3)\n",
    "print(generated_text)"
   ]
  },
  {
   "cell_type": "code",
   "execution_count": 24,
   "id": "4119ac6153fba63d",
   "metadata": {},
   "outputs": [],
   "source": [
    "## Self-Attention-Based NN for the same task"
   ]
  },
  {
   "cell_type": "code",
   "execution_count": 25,
   "id": "390024af",
   "metadata": {},
   "outputs": [
    {
     "name": "stderr",
     "output_type": "stream",
     "text": [
      "Generating sequences: 100%|██████████| 31015/31015 [00:07<00:00, 4169.58it/s]\n"
     ]
    },
    {
     "name": "stdout",
     "output_type": "stream",
     "text": [
      "Input sequences shape: torch.Size([31015, 128, 107])\n",
      "Target characters shape: torch.Size([31015, 107])\n"
     ]
    }
   ],
   "source": [
    "# Re-generation the dataset with sequence length 128\n",
    "sequence_length = 128\n",
    "\n",
    "if USE_ALL_BOOKS:\n",
    "    input_sequences, target_characters = generate_sequences(all_texts, char_to_index, sequence_length=sequence_length, stride=24)\n",
    "    input_sequences = torch.tensor(input_sequences, dtype=torch.float32)\n",
    "    target_characters = torch.tensor(target_characters, dtype=torch.long)\n",
    "    \n",
    "    input_sequences = input_sequences.to(device)\n",
    "    target_characters = target_characters.to(device)\n",
    "    \n",
    "    dataset = TensorDataset(input_sequences, target_characters)\n",
    "    train_size = int(0.8 * len(dataset))\n",
    "    val_size = len(dataset) - train_size\n",
    "    train_dataset, val_dataset = random_split(dataset, [train_size, val_size])\n",
    "    \n",
    "    print(\"Input sequences shape:\", input_sequences.shape)\n",
    "    print(\"Target characters shape:\", target_characters.shape)\n",
    "else:\n",
    "    input_sequences, target_characters = generate_sequences(text, char_to_index, sequence_length=sequence_length, stride=63)\n",
    "    input_sequences = torch.tensor(input_sequences, dtype=torch.float32)\n",
    "    target_characters = torch.tensor(target_characters, dtype=torch.long)\n",
    "    \n",
    "    input_sequences = input_sequences.to(device)\n",
    "    target_characters = target_characters.to(device)\n",
    "    \n",
    "    dataset = TensorDataset(input_sequences, target_characters)\n",
    "    train_size = int(0.8 * len(dataset))\n",
    "    val_size = len(dataset) - train_size\n",
    "    train_dataset, val_dataset = random_split(dataset, [train_size, val_size])\n",
    "    \n",
    "    print(\"Input sequences shape:\", input_sequences.shape)\n",
    "    print(\"Target characters shape:\", target_characters.shape)\n",
    "\n"
   ]
  },
  {
   "cell_type": "code",
   "execution_count": 28,
   "id": "55999b3b",
   "metadata": {},
   "outputs": [],
   "source": [
    "import torch\n",
    "import torch.nn as nn\n",
    "import torch.optim as optim\n",
    "from torch.utils.data import DataLoader, TensorDataset\n",
    "from tqdm import tqdm\n",
    "import numpy as np\n",
    "import matplotlib.pyplot as plt\n",
    "\n",
    "# Transformer Model Definition\n",
    "class TransformerModel(nn.Module):\n",
    "    def __init__(self, ntokens, ninp, nhead, nhid, nlayers, dropout=0.5):\n",
    "        super(TransformerModel, self).__init__()\n",
    "        self.model_type = 'Transformer'\n",
    "        self.src_mask = None\n",
    "        self.encoder = nn.TransformerEncoder(\n",
    "            nn.TransformerEncoderLayer(d_model=ninp, nhead=nhead, dim_feedforward=nhid, dropout=dropout),\n",
    "            num_layers=nlayers\n",
    "        )\n",
    "        self.input_emb = nn.Embedding(ntokens, ninp)\n",
    "        self.decoder = nn.Linear(ninp, ntokens)\n",
    "        self.init_weights()\n",
    "    \n",
    "    def init_weights(self):\n",
    "        initrange = 0.1\n",
    "        nn.init.uniform_(self.input_emb.weight, -initrange, initrange)\n",
    "        nn.init.zeros_(self.decoder.bias)\n",
    "        nn.init.uniform_(self.decoder.weight, -initrange, initrange)\n",
    "\n",
    "    def forward(self, src):\n",
    "        src = self.input_emb(src) * np.sqrt(self.input_emb.embedding_dim)\n",
    "        output = self.encoder(src)\n",
    "        output = self.decoder(output)\n",
    "        return output\n",
    "\n",
    "# Prepare the dataset\n",
    "def generate_sequences(text, char_to_index, sequence_length=128, stride=1):\n",
    "    input_sequences = []\n",
    "    target_characters = []\n",
    "\n",
    "    for i in range(0, len(text) - sequence_length, stride):\n",
    "        input_seq = text[i:i+sequence_length]\n",
    "        target_char = text[i+sequence_length]\n",
    "        input_seq_encoded = [char_to_index[c] for c in input_seq]\n",
    "        input_sequences.append(input_seq_encoded)\n",
    "        target_characters.append(char_to_index[target_char])\n",
    "\n",
    "    return np.array(input_sequences), np.array(target_characters)\n",
    "\n",
    "# Prepare data\n",
    "sequence_length = 128\n",
    "ntokens = len(char_to_index)\n",
    "\n",
    "input_sequences, target_characters = generate_sequences(text_list[0], char_to_index)\n",
    "input_sequences = torch.tensor(input_sequences, dtype=torch.long)\n",
    "target_characters = torch.tensor(target_characters, dtype=torch.long)\n",
    "\n",
    "dataset = TensorDataset(input_sequences, target_characters)\n",
    "train_size = int(0.8 * len(dataset))\n",
    "val_size = len(dataset) - train_size\n",
    "train_dataset, val_dataset = torch.utils.data.random_split(dataset, [train_size, val_size])\n",
    "\n",
    "train_loader = DataLoader(train_dataset, batch_size=64, shuffle=True)\n",
    "val_loader = DataLoader(val_dataset, batch_size=64, shuffle=False)\n",
    "\n",
    "# Model, Loss, Optimizer\n",
    "model = TransformerModel(ntokens, 512, 8, 2048, 6).to(device)\n",
    "criterion = nn.CrossEntropyLoss()\n",
    "optimizer = optim.Adam(model.parameters(), lr=0.001)\n",
    "\n",
    "# Training Loop\n",
    "def train_epoch(model, train_loader, criterion, optimizer):\n",
    "    model.train()\n",
    "    total_loss = 0\n",
    "    for inputs, targets in train_loader:\n",
    "        inputs, targets = inputs.to(device), targets.to(device)\n",
    "        optimizer.zero_grad()\n",
    "        output = model(inputs)\n",
    "        loss = criterion(output.view(-1, ntokens), targets)\n",
    "        loss.backward()\n",
    "        optimizer.step()\n",
    "        total_loss += loss.item()\n",
    "    return total_loss / len(train_loader)\n",
    "\n",
    "def evaluate(model, val_loader, criterion):\n",
    "    model.eval()\n",
    "    total_loss = 0\n",
    "    with torch.no_grad():\n",
    "        for inputs, targets in val_loader:\n",
    "            inputs, targets = inputs.to(device), targets.to(device)\n",
    "            output = model(inputs)\n",
    "            loss = criterion(output.view(-1, ntokens), targets)\n",
    "            total_loss += loss.item()\n",
    "    return total_loss / len(val_loader)\n",
    "\n",
    "# Training and evaluation\n",
    "num_epochs = 10\n",
    "train_losses, val_losses = [], []\n",
    "\n",
    "for epoch in range(num_epochs):\n",
    "    train_loss = train_epoch(model, train_loader, criterion, optimizer)\n",
    "    val_loss = evaluate(model, val_loader, criterion)\n",
    "    train_losses.append(train_loss)\n",
    "    val_losses.append(val_loss)\n",
    "    print(f'Epoch {epoch+1}, Train Loss: {train_loss:.4f}, Val Loss: {val_loss:.4f}')\n",
    "\n",
    "# Plotting\n",
    "plt.plot(train_losses, label='Train Loss')\n",
    "plt.plot(val_losses, label='Validation Loss')\n",
    "plt.xlabel('Epochs')\n",
    "plt.ylabel('Loss')\n",
    "plt.legend()\n",
    "plt.show()\n",
    "\n",
    "# Text Generation\n",
    "def generate_text(model, start_text, char_to_index, index_to_char, max_length=1024):\n",
    "    model.eval()\n",
    "    with torch.no_grad():\n",
    "        input_seq = torch.tensor([char_to_index[c] for c in start_text], dtype=torch.long).unsqueeze(0).to(device)\n",
    "        generated_text = start_text\n",
    "\n",
    "        for _ in range(max_length):\n",
    "            output = model(input_seq)\n",
    "            next_char_index = torch.argmax(output[:, -1, :]).item()\n",
    "            next_char = index_to_char[next_char_index]\n",
    "            generated_text += next_char\n",
    "            input_seq = torch.cat((input_seq, torch.tensor([[next_char_index]], device=device)), dim=1)\n",
    "\n",
    "    return generated_text\n",
    "\n",
    "start_text = 'Once upon a time,'\n",
    "generated_text = generate_text(model, start_text, char_to_index, index_to_char)\n",
    "print(generated_text)"
   ]
  },
  {
   "cell_type": "code",
   "execution_count": 30,
   "id": "c0c10b6d",
   "metadata": {},
   "outputs": [],
   "source": []
  },
  {
   "cell_type": "code",
   "execution_count": 33,
   "id": "f0f910d1",
   "metadata": {},
   "outputs": [
    {
     "name": "stderr",
     "output_type": "stream",
     "text": [
      "e:\\ESE-5460\\pythonProject\\.venv\\lib\\site-packages\\torch\\nn\\modules\\transformer.py:307: UserWarning: enable_nested_tensor is True, but self.use_nested_tensor is False because encoder_layer.self_attn.batch_first was not True(use batch_first for better inference performance)\n",
      "  warnings.warn(f\"enable_nested_tensor is True, but self.use_nested_tensor is False because {why_not_sparsity_fast_path}\")\n"
     ]
    }
   ],
   "source": []
  },
  {
   "cell_type": "code",
   "execution_count": 35,
   "id": "b4e300d5",
   "metadata": {},
   "outputs": [],
   "source": []
  },
  {
   "cell_type": "code",
   "execution_count": 37,
   "id": "7d9b7b56",
   "metadata": {},
   "outputs": [
    {
     "ename": "RuntimeError",
     "evalue": "permute(sparse_coo): number of dimensions in the tensor input does not match the length of the desired ordering of dimensions i.e. input.dim() = 2 is not equal to len(dims) = 3",
     "output_type": "error",
     "traceback": [
      "\u001b[1;31m---------------------------------------------------------------------------\u001b[0m",
      "\u001b[1;31mRuntimeError\u001b[0m                              Traceback (most recent call last)",
      "Cell \u001b[1;32mIn[37], line 39\u001b[0m\n\u001b[0;32m     37\u001b[0m \u001b[38;5;28;01mfor\u001b[39;00m epoch \u001b[38;5;129;01min\u001b[39;00m \u001b[38;5;28mrange\u001b[39m(\u001b[38;5;241m1\u001b[39m, epochs \u001b[38;5;241m+\u001b[39m \u001b[38;5;241m1\u001b[39m):\n\u001b[0;32m     38\u001b[0m     epoch_start_time \u001b[38;5;241m=\u001b[39m time\u001b[38;5;241m.\u001b[39mtime()\n\u001b[1;32m---> 39\u001b[0m     train_loss_list, train_acc_list \u001b[38;5;241m=\u001b[39m \u001b[43mtrain\u001b[49m\u001b[43m(\u001b[49m\u001b[43mmodel\u001b[49m\u001b[43m,\u001b[49m\u001b[43m \u001b[49m\u001b[43mcriterion\u001b[49m\u001b[43m,\u001b[49m\u001b[43m \u001b[49m\u001b[43moptimizer\u001b[49m\u001b[43m,\u001b[49m\u001b[43m \u001b[49m\u001b[43mtrain_loader\u001b[49m\u001b[43m,\u001b[49m\u001b[43m \u001b[49m\u001b[43mdevice\u001b[49m\u001b[43m,\u001b[49m\u001b[43m \u001b[49m\u001b[43mntokens\u001b[49m\u001b[43m,\u001b[49m\u001b[43m \u001b[49m\u001b[43msequence_length\u001b[49m\u001b[43m,\u001b[49m\u001b[43m \u001b[49m\u001b[43mepoch\u001b[49m\u001b[43m,\u001b[49m\u001b[43m \u001b[49m\u001b[43mtrain_loss_list\u001b[49m\u001b[43m,\u001b[49m\u001b[43m \u001b[49m\u001b[43mtrain_acc_list\u001b[49m\u001b[43m)\u001b[49m\n\u001b[0;32m     40\u001b[0m     val_loss, eval_loss_list, accuracy, eval_acc_list \u001b[38;5;241m=\u001b[39m evaluate(model, criterion, val_loader, device, ntokens, sequence_length, eval_loss_list, eval_acc_list)\n\u001b[0;32m     41\u001b[0m     \u001b[38;5;28mprint\u001b[39m(\u001b[38;5;124m'\u001b[39m\u001b[38;5;124m-\u001b[39m\u001b[38;5;124m'\u001b[39m \u001b[38;5;241m*\u001b[39m \u001b[38;5;241m89\u001b[39m)\n",
      "Cell \u001b[1;32mIn[35], line 19\u001b[0m, in \u001b[0;36mtrain\u001b[1;34m(model, criterion, optimizer, train_loader, device, ntokens, seq_len, epoch, train_loss_list, train_acc_list)\u001b[0m\n\u001b[0;32m     17\u001b[0m data \u001b[38;5;241m=\u001b[39m data\u001b[38;5;241m.\u001b[39mto(device)\n\u001b[0;32m     18\u001b[0m targets \u001b[38;5;241m=\u001b[39m targets\u001b[38;5;241m.\u001b[39mto(device)\n\u001b[1;32m---> 19\u001b[0m targets \u001b[38;5;241m=\u001b[39m \u001b[43mtorch\u001b[49m\u001b[38;5;241;43m.\u001b[39;49m\u001b[43mpermute\u001b[49m\u001b[43m(\u001b[49m\u001b[43mtargets\u001b[49m\u001b[43m,\u001b[49m\u001b[43m \u001b[49m\u001b[43m(\u001b[49m\u001b[38;5;241;43m1\u001b[39;49m\u001b[43m,\u001b[49m\u001b[43m \u001b[49m\u001b[38;5;241;43m0\u001b[39;49m\u001b[43m,\u001b[49m\u001b[43m \u001b[49m\u001b[38;5;241;43m2\u001b[39;49m\u001b[43m)\u001b[49m\u001b[43m)\u001b[49m\n\u001b[0;32m     20\u001b[0m data \u001b[38;5;241m=\u001b[39m torch\u001b[38;5;241m.\u001b[39mpermute(data, (\u001b[38;5;241m1\u001b[39m, \u001b[38;5;241m0\u001b[39m, \u001b[38;5;241m2\u001b[39m))\n\u001b[0;32m     21\u001b[0m _, labels \u001b[38;5;241m=\u001b[39m torch\u001b[38;5;241m.\u001b[39mmax(targets\u001b[38;5;241m.\u001b[39mreshape(\u001b[38;5;241m-\u001b[39m\u001b[38;5;241m1\u001b[39m, ntokens), \u001b[38;5;241m1\u001b[39m)\n",
      "\u001b[1;31mRuntimeError\u001b[0m: permute(sparse_coo): number of dimensions in the tensor input does not match the length of the desired ordering of dimensions i.e. input.dim() = 2 is not equal to len(dims) = 3"
     ]
    }
   ],
   "source": []
  }
 ],
 "metadata": {
  "accelerator": "GPU",
  "colab": {
   "gpuType": "T4",
   "machine_shape": "hm",
   "provenance": []
  },
  "kernelspec": {
   "display_name": ".venv",
   "language": "python",
   "name": "python3"
  },
  "language_info": {
   "codemirror_mode": {
    "name": "ipython",
    "version": 3
   },
   "file_extension": ".py",
   "mimetype": "text/x-python",
   "name": "python",
   "nbconvert_exporter": "python",
   "pygments_lexer": "ipython3",
   "version": "3.8.10"
  }
 },
 "nbformat": 4,
 "nbformat_minor": 5
}
