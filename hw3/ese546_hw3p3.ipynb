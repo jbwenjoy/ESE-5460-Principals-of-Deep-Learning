{
 "cells": [
  {
   "cell_type": "code",
   "execution_count": 1,
   "id": "1462a7a5d638814e",
   "metadata": {},
   "outputs": [
    {
     "name": "stdout",
     "output_type": "stream",
     "text": [
      ".\n"
     ]
    }
   ],
   "source": [
    "dir_root = '.'\n",
    "# If using google colab\n",
    "if 'google.colab' in str(get_ipython()):\n",
    "    from google.colab import drive\n",
    "    drive.mount('/content/drive/')\n",
    "    dir_root = '/content/drive/MyDrive/Colab Notebooks/ESE546/hw3'\n",
    "\n",
    "print(dir_root)"
   ]
  },
  {
   "cell_type": "code",
   "execution_count": 2,
   "id": "302b430103d02bbe",
   "metadata": {
    "colab": {
     "base_uri": "https://localhost:8080/"
    },
    "id": "302b430103d02bbe",
    "outputId": "baaf358c-4e61-453a-b1f6-262d1a218350"
   },
   "outputs": [
    {
     "name": "stdout",
     "output_type": "stream",
     "text": [
      "Loading text from file: pg100.txt\n",
      "Loading text from file: pg2600.txt\n",
      "Loading text from file: pg766.txt\n",
      "Vocabulary size for each text: [107, 112, 90]\n",
      "Unique characters for each text: [{'Ç', 'i', 'd', 'b', '#', '%', 'Y', '8', '\\ufeff', '\\n', 'ç', 'G', 'C', 'q', 'B', 'y', '“', '”', ' ', '7', 'c', '—', '.', 'a', 'N', ',', 'H', 'k', '5', ']', 'D', 'f', '9', 'R', 'o', 'g', '…', 'P', 'S', 'L', 'p', 'm', 'À', '4', 'I', '0', ';', 'Q', '™', 'K', 'r', '[', 'â', 'î', 'v', 'n', '’', 'U', 'X', 'T', '!', '/', ')', 'M', '?', 'A', 'E', 'O', 'x', 'l', \"'\", 'Æ', '\\t', 'Z', '&', 'u', 'F', 'h', '6', 'e', '2', '(', 's', 'J', 'W', '$', 't', 'à', '_', ':', 'è', 'æ', 'ë', '•', 'j', '3', 'ê', '-', '1', 'w', 'z', 'V', '*', 'É', '‘', 'é', 'œ'}, {'i', 'd', 'b', '#', '%', 'Y', 'ý', '8', '\\ufeff', '\\n', 'ç', 'G', 'C', 'q', 'B', 'y', 'ó', '“', '”', ' ', '7', 'c', '—', '.', 'a', 'N', '=', ',', 'H', 'k', '5', ']', 'D', 'f', '9', 'í', 'R', 'o', 'g', 'P', 'S', 'L', 'p', 'ä', 'm', 'À', '0', 'I', '4', ';', 'Q', '™', 'K', 'r', '[', 'â', 'î', 'ô', 'v', 'n', '’', 'U', 'X', 'T', '!', '/', ')', 'ú', 'M', '?', 'A', 'E', 'O', 'x', 'l', 'Z', 'ü', 'u', 'F', 'h', '6', 'e', '2', '(', 's', 'ï', 'J', 'W', 'á', '$', 't', 'à', 'ö', ':', 'è', 'æ', 'ë', '•', 'Á', 'j', '3', 'ê', '-', '1', 'w', 'z', 'V', '*', 'É', '‘', 'é', 'œ'}, {'i', 'd', 'b', '#', '%', 'Y', '8', '\\ufeff', '\\n', 'G', 'C', 'q', 'B', 'y', '“', '”', ' ', '7', 'c', '—', '.', 'a', 'N', ',', 'H', 'k', '5', 'D', ']', 'f', '9', 'R', 'o', 'g', 'P', 'S', 'L', 'p', 'm', '0', 'I', '4', ';', 'Q', '™', 'K', 'r', '[', 'v', 'n', '’', 'U', 'X', 'T', '!', '/', ')', 'M', '?', 'A', 'E', 'O', 'x', 'l', 'Z', '&', 'u', 'F', 'h', '6', 'e', '2', '(', 's', 'J', 'W', '$', 't', '_', ':', '•', 'j', '3', '-', '1', 'w', 'z', 'V', '*', '‘'}]\n"
     ]
    }
   ],
   "source": [
    "import requests\n",
    "\n",
    "# Load the text from a local file\n",
    "def load_text_from_file(file_path):\n",
    "    with open(file_path, 'r', encoding='utf-8') as file:\n",
    "        text = file.read()\n",
    "    return text\n",
    "\n",
    "# Load the text from a URL\n",
    "def load_text_from_url(url):\n",
    "    response = requests.get(url)\n",
    "    text = response.text.replace('\\r\\n', '\\n')  # Normalize line endings\n",
    "    return text\n",
    "\n",
    "# Count unique characters in the text\n",
    "def count_unique_chars(text):\n",
    "    unique_chars = set(text)\n",
    "    # Num of unique characters\n",
    "    vocab_size = len(unique_chars)\n",
    "    return vocab_size, unique_chars\n",
    "\n",
    "# List of file paths or URLs\n",
    "local_file_1 = 'pg100.txt'\n",
    "local_file_2 = 'pg2600.txt'\n",
    "local_file_3 = 'pg766.txt'\n",
    "url_file_1 = 'https://www.gutenberg.org/cache/epub/100/pg100.txt'\n",
    "url_file_2 = 'https://www.gutenberg.org/cache/epub/2600/pg2600.txt'\n",
    "url_file_3 = 'https://www.gutenberg.org/cache/epub/766/pg766.txt'\n",
    "\n",
    "if 'google.colab' in str(get_ipython()):\n",
    "    file_path_list = [url_file_1, url_file_2, url_file_3]\n",
    "else:\n",
    "    file_path_list = [local_file_1, local_file_2, local_file_3]\n",
    "text_list = []\n",
    "vocab_size_list = []\n",
    "unique_chars_list = []\n",
    "\n",
    "for file_path in file_path_list:\n",
    "    if file_path.startswith('http'):\n",
    "        print(f'Loading text from URL: {file_path}')\n",
    "        text = load_text_from_url(file_path)\n",
    "    else:\n",
    "        print(f'Loading text from file: {file_path}')\n",
    "        text = load_text_from_file(file_path)\n",
    "    vocab_size, unique_chars = count_unique_chars(text)\n",
    "    text_list.append(text)\n",
    "    vocab_size_list.append(vocab_size)\n",
    "    unique_chars_list.append(unique_chars)\n",
    "\n",
    "print(f'Vocabulary size for each text: {vocab_size_list}')\n",
    "print(f'Unique characters for each text: {unique_chars_list}')"
   ]
  },
  {
   "cell_type": "code",
   "execution_count": 3,
   "id": "29800fb8",
   "metadata": {},
   "outputs": [
    {
     "name": "stdout",
     "output_type": "stream",
     "text": [
      "The Project Gutenberg eBook of The Complete Works of William Shakespeare\n",
      "    \n",
      "This ebook is for the\n",
      "﻿The Project Gutenberg eBook of War and Peace\n",
      "    \n",
      "This ebook is for the use of anyone anywhere in t\n",
      "﻿The Project Gutenberg eBook of David Copperfield\n",
      "    \n",
      "This ebook is for the use of anyone anywhere \n"
     ]
    }
   ],
   "source": [
    "print(text_list[0][:100])\n",
    "print(text_list[1][:100])\n",
    "print(text_list[2][:100])"
   ]
  },
  {
   "cell_type": "code",
   "execution_count": 4,
   "id": "b1ba040297cb3e10",
   "metadata": {
    "id": "b1ba040297cb3e10"
   },
   "outputs": [],
   "source": [
    "# # Compare unique characters from local and URL text files\n",
    "# local_file_path = 'pg2600.txt'\n",
    "# url_file_path = 'https://www.gutenberg.org/cache/epub/2600/pg2600.txt'\n",
    "#\n",
    "# local_text = load_text_from_file(local_file_path)\n",
    "# local_vocab_size, local_unique_chars = count_unique_chars(local_text)\n",
    "# url_text = load_text_from_url(url_file_path)\n",
    "# url_vocab_size, url_unique_chars = count_unique_chars(url_text)\n",
    "#\n",
    "# # Find the extra character(s)\n",
    "# extra_chars_in_url = url_unique_chars - local_unique_chars\n",
    "# extra_chars_in_local = local_unique_chars - url_unique_chars\n",
    "# print(f'Extra characters in URL text: {extra_chars_in_url}')\n",
    "# print(f'Extra characters in local text: {extra_chars_in_local}')"
   ]
  },
  {
   "cell_type": "code",
   "execution_count": 5,
   "id": "9e595766dd8deb1b",
   "metadata": {
    "colab": {
     "base_uri": "https://localhost:8080/"
    },
    "id": "9e595766dd8deb1b",
    "outputId": "e4bba092-0ed1-4fb8-f5bb-712821c6766a"
   },
   "outputs": [
    {
     "name": "stdout",
     "output_type": "stream",
     "text": [
      "Character to index mapping for first text: {'Ç': 0, 'i': 1, 'd': 2, 'b': 3, '#': 4, '%': 5, 'Y': 6, '8': 7, '\\ufeff': 8, '\\n': 9, 'ç': 10, 'G': 11, 'C': 12, 'q': 13, 'B': 14, 'y': 15, '“': 16, '”': 17, ' ': 18, '7': 19, 'c': 20, '—': 21, '.': 22, 'a': 23, 'N': 24, ',': 25, 'H': 26, 'k': 27, '5': 28, ']': 29, 'D': 30, 'f': 31, '9': 32, 'R': 33, 'o': 34, 'g': 35, '…': 36, 'P': 37, 'S': 38, 'L': 39, 'p': 40, 'm': 41, 'À': 42, '4': 43, 'I': 44, '0': 45, ';': 46, 'Q': 47, '™': 48, 'K': 49, 'r': 50, '[': 51, 'â': 52, 'î': 53, 'v': 54, 'n': 55, '’': 56, 'U': 57, 'X': 58, 'T': 59, '!': 60, '/': 61, ')': 62, 'M': 63, '?': 64, 'A': 65, 'E': 66, 'O': 67, 'x': 68, 'l': 69, \"'\": 70, 'Æ': 71, '\\t': 72, 'Z': 73, '&': 74, 'u': 75, 'F': 76, 'h': 77, '6': 78, 'e': 79, '2': 80, '(': 81, 's': 82, 'J': 83, 'W': 84, '$': 85, 't': 86, 'à': 87, '_': 88, ':': 89, 'è': 90, 'æ': 91, 'ë': 92, '•': 93, 'j': 94, '3': 95, 'ê': 96, '-': 97, '1': 98, 'w': 99, 'z': 100, 'V': 101, '*': 102, 'É': 103, '‘': 104, 'é': 105, 'œ': 106}\n",
      "Index to character mapping for first text: {0: 'Ç', 1: 'i', 2: 'd', 3: 'b', 4: '#', 5: '%', 6: 'Y', 7: '8', 8: '\\ufeff', 9: '\\n', 10: 'ç', 11: 'G', 12: 'C', 13: 'q', 14: 'B', 15: 'y', 16: '“', 17: '”', 18: ' ', 19: '7', 20: 'c', 21: '—', 22: '.', 23: 'a', 24: 'N', 25: ',', 26: 'H', 27: 'k', 28: '5', 29: ']', 30: 'D', 31: 'f', 32: '9', 33: 'R', 34: 'o', 35: 'g', 36: '…', 37: 'P', 38: 'S', 39: 'L', 40: 'p', 41: 'm', 42: 'À', 43: '4', 44: 'I', 45: '0', 46: ';', 47: 'Q', 48: '™', 49: 'K', 50: 'r', 51: '[', 52: 'â', 53: 'î', 54: 'v', 55: 'n', 56: '’', 57: 'U', 58: 'X', 59: 'T', 60: '!', 61: '/', 62: ')', 63: 'M', 64: '?', 65: 'A', 66: 'E', 67: 'O', 68: 'x', 69: 'l', 70: \"'\", 71: 'Æ', 72: '\\t', 73: 'Z', 74: '&', 75: 'u', 76: 'F', 77: 'h', 78: '6', 79: 'e', 80: '2', 81: '(', 82: 's', 83: 'J', 84: 'W', 85: '$', 86: 't', 87: 'à', 88: '_', 89: ':', 90: 'è', 91: 'æ', 92: 'ë', 93: '•', 94: 'j', 95: '3', 96: 'ê', 97: '-', 98: '1', 99: 'w', 100: 'z', 101: 'V', 102: '*', 103: 'É', 104: '‘', 105: 'é', 106: 'œ'}\n"
     ]
    }
   ],
   "source": [
    "# Create a dictionary to map characters to indices and vice-versa\n",
    "def create_char_mappings(unique_chars):\n",
    "    char_to_index = {char: idx for idx, char in enumerate(unique_chars)}\n",
    "    index_to_char = {idx: char for idx, char in enumerate(unique_chars)}\n",
    "    return char_to_index, index_to_char\n",
    "\n",
    "vocab_size, unique_chars = vocab_size_list[0], unique_chars_list[0]\n",
    "char_to_index, index_to_char = create_char_mappings(unique_chars)\n",
    "\n",
    "print(f\"Character to index mapping for first text: {char_to_index}\")\n",
    "print(f\"Index to character mapping for first text: {index_to_char}\")"
   ]
  },
  {
   "cell_type": "code",
   "execution_count": 6,
   "id": "cff240b4b6efa2ea",
   "metadata": {
    "colab": {
     "base_uri": "https://localhost:8080/"
    },
    "id": "cff240b4b6efa2ea",
    "outputId": "6b2b808a-d632-4e34-e632-cadd9f71be6e"
   },
   "outputs": [
    {
     "name": "stdout",
     "output_type": "stream",
     "text": [
      "One-hot encoding for 'a': [0. 0. 0. 0. 0. 0. 0. 0. 0. 0. 0. 0. 0. 0. 0. 0. 0. 0. 0. 0. 0. 0. 0. 1.\n",
      " 0. 0. 0. 0. 0. 0. 0. 0. 0. 0. 0. 0. 0. 0. 0. 0. 0. 0. 0. 0. 0. 0. 0. 0.\n",
      " 0. 0. 0. 0. 0. 0. 0. 0. 0. 0. 0. 0. 0. 0. 0. 0. 0. 0. 0. 0. 0. 0. 0. 0.\n",
      " 0. 0. 0. 0. 0. 0. 0. 0. 0. 0. 0. 0. 0. 0. 0. 0. 0. 0. 0. 0. 0. 0. 0. 0.\n",
      " 0. 0. 0. 0. 0. 0. 0. 0. 0. 0. 0.]\n"
     ]
    }
   ],
   "source": [
    "import numpy as np\n",
    "\n",
    "# One-hot encode a character based on the character index\n",
    "def one_hot_encode(char, char_to_index, vocab_size):\n",
    "    one_hot_vector = np.zeros(vocab_size)\n",
    "    one_hot_vector[char_to_index[char]] = 1\n",
    "    return one_hot_vector\n",
    "\n",
    "test_char_a = 'a'\n",
    "one_hot_vector = one_hot_encode(test_char_a, char_to_index, vocab_size)\n",
    "print(f\"One-hot encoding for '{test_char_a}': {one_hot_vector}\")"
   ]
  },
  {
   "cell_type": "code",
   "execution_count": 7,
   "id": "5ac26dff8806f1e0",
   "metadata": {
    "colab": {
     "base_uri": "https://localhost:8080/"
    },
    "id": "5ac26dff8806f1e0",
    "outputId": "2b139668-1682-45d1-aaf9-029a8f729b6f"
   },
   "outputs": [
    {
     "name": "stdout",
     "output_type": "stream",
     "text": [
      " ill:\n",
      "Some in their hawks and hounds, some in their horse.\n",
      "And every humour hath his adjunct pleasure,\n",
      "Wherein it finds a joy above the rest,\n",
      "But these particulars are not my measure,\n",
      "All these I better in one general best.\n",
      "Thy love is better than high birth to me,\n",
      "Richer than wealth, prouder than garments’ costs,\n",
      "Of more delight than hawks and horses be:\n",
      "And having thee, of all men’s pride I boast.\n",
      "  Wretched in this alone, that thou mayst take,\n",
      "  All this away, and me most wretched make.\n",
      "\n",
      "\n",
      "   \n"
     ]
    }
   ],
   "source": [
    "# Sample a short portion from the first book\n",
    "sample_text_500 = text_list[0][60000:60500]\n",
    "print(sample_text_500)"
   ]
  },
  {
   "cell_type": "code",
   "execution_count": 8,
   "id": "da41e402067fbaf5",
   "metadata": {},
   "outputs": [],
   "source": [
    "from tqdm import tqdm\n",
    "\n",
    "# # Generate sequences of 32 characters and the next character as the target\n",
    "# def generate_sequences(text, char_to_index, sequence_length=32, stride=1):\n",
    "#     input_sequences = []\n",
    "#     target_characters = []\n",
    "\n",
    "#     # for i in range(0, len(text) - sequence_length, stride):\n",
    "#     for i in tqdm(range(0, len(text) - sequence_length - 1, stride), desc=\"Generating sequences\"):\n",
    "#         input_seq = text[i:i+sequence_length]\n",
    "#         # Target/next character\n",
    "#         target_char = text[i+sequence_length]\n",
    "\n",
    "#         # Convert input sequence to one-hot encoded vectors\n",
    "#         input_seq_encoded = [one_hot_encode(c, char_to_index, len(char_to_index)) for c in input_seq]\n",
    "#         input_sequences.append(input_seq_encoded)\n",
    "\n",
    "#         # One-hot encoding for the target character\n",
    "#         target_char_encoded = one_hot_encode(target_char, char_to_index, len(char_to_index))\n",
    "#         target_characters.append(target_char_encoded)\n",
    "\n",
    "#     return np.array(input_sequences), np.array(target_characters)\n",
    "\n",
    "# Generate sequences of 32 characters and the next 32 after stride length as the target\n",
    "def generate_sequences(\n",
    "    text, char_to_index, input_seq_len=32, target_seq_len=32, stride=16\n",
    "):\n",
    "    input_sequences = []\n",
    "    target_sequences = []\n",
    "\n",
    "    prevent_index_overflow = max(input_seq_len, target_seq_len + stride)\n",
    "\n",
    "    for i in tqdm(range(0, len(text) - prevent_index_overflow, stride), desc=\"Generating sequences\"):\n",
    "        input_seq = text[i : i + input_seq_len]\n",
    "        target_seq = text[i + stride : i + target_seq_len + stride]\n",
    "\n",
    "        # Convert to one-hot encoded vectors\n",
    "        input_seq_encoded = [\n",
    "            one_hot_encode(c, char_to_index, len(char_to_index)) for c in input_seq\n",
    "        ]\n",
    "        target_seq_encoded = [\n",
    "            one_hot_encode(c, char_to_index, len(char_to_index)) for c in target_seq\n",
    "        ]\n",
    "\n",
    "        input_sequences.append(input_seq_encoded)\n",
    "        target_sequences.append(target_seq_encoded)\n",
    "\n",
    "    return np.array(input_sequences), np.array(target_sequences)"
   ]
  },
  {
   "cell_type": "code",
   "execution_count": 9,
   "id": "b61dfa3f256a14a8",
   "metadata": {
    "colab": {
     "base_uri": "https://localhost:8080/"
    },
    "id": "b61dfa3f256a14a8",
    "outputId": "b88f80aa-823f-48d0-b5d4-3322bb313126"
   },
   "outputs": [
    {
     "name": "stderr",
     "output_type": "stream",
     "text": [
      "Generating sequences: 100%|██████████| 233/233 [00:00<00:00, 11783.88it/s]"
     ]
    },
    {
     "name": "stdout",
     "output_type": "stream",
     "text": [
      "Input sequences shape: (233, 32, 107)\n",
      "Target characters shape: (233, 32, 107)\n",
      "[[0. 0. 0. ... 0. 0. 0.]\n",
      " [0. 0. 0. ... 0. 0. 0.]\n",
      " [0. 0. 0. ... 0. 0. 0.]\n",
      " ...\n",
      " [0. 0. 0. ... 0. 0. 0.]\n",
      " [0. 0. 0. ... 0. 0. 0.]\n",
      " [0. 0. 0. ... 0. 0. 0.]]\n",
      "[[0. 0. 0. ... 0. 0. 0.]\n",
      " [0. 0. 0. ... 0. 0. 0.]\n",
      " [0. 0. 0. ... 0. 0. 0.]\n",
      " ...\n",
      " [0. 0. 0. ... 0. 0. 0.]\n",
      " [0. 0. 0. ... 0. 0. 0.]\n",
      " [0. 0. 1. ... 0. 0. 0.]]\n",
      ">Sample input sequence:\n",
      "ts,\n",
      "Of more delight than hawks a\n",
      ">Sample target sequence:\n",
      ",\n",
      "Of more delight than hawks and\n"
     ]
    },
    {
     "name": "stderr",
     "output_type": "stream",
     "text": [
      "\n"
     ]
    }
   ],
   "source": [
    "input_seqs, target_seqs = generate_sequences(sample_text_500, char_to_index, input_seq_len=32, target_seq_len=32, stride=2)\n",
    "print(f\"Input sequences shape: {input_seqs.shape}\")\n",
    "print(f\"Target characters shape: {target_seqs.shape}\")\n",
    "\n",
    "# randomly pick a sample input and target sequence\n",
    "idx = np.random.randint(0, input_seqs.shape[0])\n",
    "sample_input_seq = input_seqs[idx]\n",
    "sample_target_seq = target_seqs[idx]\n",
    "print(sample_input_seq)\n",
    "print(sample_target_seq)\n",
    "# print the sequence mapped to characters\n",
    "print(\">Sample input sequence:\")\n",
    "print(''.join([index_to_char[np.argmax(char)] for char in sample_input_seq]))\n",
    "print(\">Sample target sequence:\")\n",
    "print(''.join([index_to_char[np.argmax(char)] for char in sample_target_seq]))"
   ]
  },
  {
   "cell_type": "code",
   "execution_count": 10,
   "id": "6b61aff6c6ca7909",
   "metadata": {
    "colab": {
     "base_uri": "https://localhost:8080/"
    },
    "id": "6b61aff6c6ca7909",
    "outputId": "c9a4ddaa-39c9-4fb7-cf16-2b90e015c042"
   },
   "outputs": [
    {
     "name": "stdout",
     "output_type": "stream",
     "text": [
      "Device: cuda\n"
     ]
    }
   ],
   "source": [
    "import torch\n",
    "import torch.nn as nn\n",
    "import torch.nn.functional as F\n",
    "import torch.optim as optim\n",
    "import numpy as np\n",
    "from torch.utils.data import DataLoader, TensorDataset, random_split\n",
    "from tqdm import tqdm\n",
    "\n",
    "if torch.cuda.is_available():\n",
    "    device = torch.device(\"cuda\")\n",
    "else:\n",
    "    device = torch.device(\"cpu\")\n",
    "\n",
    "print(f\"Device: {device}\")\n",
    "\n",
    "class CharRNN(nn.Module):\n",
    "    def __init__(self, input_size, output_size, hidden_size, rnn_layers=1, device=device):\n",
    "        super(CharRNN, self).__init__()\n",
    "        self.input_size = input_size\n",
    "        self.hidden_size = hidden_size\n",
    "        self.output_size = output_size\n",
    "        self.rnn_layers = rnn_layers\n",
    "        self.device = device\n",
    "\n",
    "        self.rnn = nn.RNN(self.input_size, self.hidden_size, num_layers=self.rnn_layers, nonlinearity='tanh', batch_first=True)\n",
    "        self.fc = nn.Linear(self.hidden_size, self.output_size)\n",
    "\n",
    "    def forward(self, x, hidden):\n",
    "        # batch_size = x.size(0)\n",
    "        # hidden = self.init_hidden(batch_size)\n",
    "        # hidden = hidden.to(self.device)\n",
    "\n",
    "        out, hidden = self.rnn(x, hidden)\n",
    "        out = out.contiguous().view(-1, self.hidden_size)\n",
    "        out = self.fc(out)\n",
    "        # return F.log_softmax(out, dim=1), hidden\n",
    "        return out, hidden\n",
    "\n",
    "    def init_hidden(self, batch_size):\n",
    "        return torch.zeros(self.rnn_layers, batch_size, self.hidden_size).to(device)\n",
    "\n",
    "def repackage_hidden(hidden_layer):\n",
    "    # Detach hidden states from their history\n",
    "    if isinstance(hidden_layer, torch.Tensor):\n",
    "        return hidden_layer.detach()\n",
    "    else:\n",
    "        return tuple(repackage_hidden(v) for v in hidden_layer)\n"
   ]
  },
  {
   "cell_type": "code",
   "execution_count": 11,
   "id": "2b2895b85ad94231",
   "metadata": {},
   "outputs": [
    {
     "name": "stdout",
     "output_type": "stream",
     "text": [
      "Vocabulary size: 79\n"
     ]
    },
    {
     "name": "stderr",
     "output_type": "stream",
     "text": [
      "Generating sequences: 100%|██████████| 53753/53753 [00:02<00:00, 19048.07it/s]\n"
     ]
    },
    {
     "name": "stdout",
     "output_type": "stream",
     "text": [
      "Input seqs shape: torch.Size([53753, 32, 79])\n",
      "Target seqs shape: torch.Size([53753, 32, 79])\n"
     ]
    }
   ],
   "source": [
    "USE_ALL_BOOKS = False\n",
    "\n",
    "if 'google.colab' in str(get_ipython()):\n",
    "    USE_ALL_BOOKS = True\n",
    "\n",
    "sequence_length = 32\n",
    "stride = 1\n",
    "\n",
    "if USE_ALL_BOOKS:\n",
    "    # Load text and prepare data\n",
    "    all_texts = ''.join(text_list)  # Concatenate all texts\n",
    "    vocab_size, unique_chars = count_unique_chars(all_texts)\n",
    "    char_to_index, index_to_char = create_char_mappings(unique_chars)\n",
    "    print(f\"Vocabulary size: {vocab_size}\")\n",
    "    input_seqs, target_seqs = generate_sequences(all_texts, char_to_index, input_seq_len=sequence_length, target_seq_len=sequence_length, stride=stride)\n",
    "else:\n",
    "    text = text_list[0]\n",
    "    # sample only the first 1/100 of the text\n",
    "    text = text[:len(text)//100]\n",
    "    vocab_size, unique_chars = count_unique_chars(text)\n",
    "    char_to_index, index_to_char = create_char_mappings(unique_chars)\n",
    "    print(f\"Vocabulary size: {vocab_size}\")\n",
    "    input_seqs, target_seqs = generate_sequences(text, char_to_index, input_seq_len=sequence_length, target_seq_len=sequence_length, stride=stride)\n",
    "\n",
    "input_seqs = torch.tensor(input_seqs, dtype=torch.float32)\n",
    "target_seqs = torch.tensor(target_seqs, dtype=torch.long)\n",
    "\n",
    "input_seqs = input_seqs.to(device)\n",
    "target_seqs = target_seqs.to(device)\n",
    "    \n",
    "dataset = TensorDataset(input_seqs, target_seqs)\n",
    "train_size = int(0.8 * len(dataset))\n",
    "train_dataset = TensorDataset(input_seqs[:train_size], target_seqs[:train_size])\n",
    "val_dataset = TensorDataset(input_seqs[train_size:], target_seqs[train_size:])\n",
    "    \n",
    "print(\"Input seqs shape:\", input_seqs.shape)\n",
    "print(\"Target seqs shape:\", target_seqs.shape)\n"
   ]
  },
  {
   "cell_type": "code",
   "execution_count": 12,
   "id": "600385dd",
   "metadata": {},
   "outputs": [
    {
     "name": "stdout",
     "output_type": "stream",
     "text": [
      ">Input seq: \n",
      "ruth:\n",
      "  Hers by thy beauty tempt\n",
      ">Target seq: \n",
      "uth:\n",
      "  Hers by thy beauty tempti\n",
      ">Found the sequence in book 1, original complete sequence:\n",
      "ruth:\n",
      "  Hers by thy beauty tempti\n"
     ]
    }
   ],
   "source": [
    "def escape_sequence(seq):\n",
    "    return seq\n",
    "    # return seq.replace(' ', '\\\\s').replace('\\n', '\\\\n')\n",
    "\n",
    "# Randomly pick a sequence and target sequence\n",
    "# convert them back to characters\n",
    "# and check if the conversion is correct\n",
    "sequence_idx = np.random.randint(0, len(input_seqs))\n",
    "input_seq = input_seqs[sequence_idx]\n",
    "target_seq = target_seqs[sequence_idx]\n",
    "\n",
    "input_indices = torch.argmax(input_seq, dim=1).cpu().numpy()\n",
    "input_chars = [index_to_char[idx] for idx in input_indices]\n",
    "target_indices = torch.argmax(target_seq, dim=1).cpu().numpy()\n",
    "target_chars = [index_to_char[idx] for idx in target_indices]\n",
    "\n",
    "input_str = ''.join(input_chars)\n",
    "target_str = ''.join(target_chars)\n",
    "escaped_input_str = escape_sequence(input_str)\n",
    "escaped_target_str = escape_sequence(target_str)\n",
    "\n",
    "print(f\">Input seq: \\n{escaped_input_str}\")\n",
    "print(f\">Target seq: \\n{escaped_target_str}\")\n",
    "\n",
    "# Also find the sequence in the original txt ebooks\n",
    "# and print the entire sequence with the next target character\n",
    "for book_idx, text in enumerate(text_list):\n",
    "    input_start_indices = [i for i in range(len(text)) if text.startswith(input_str, i)]\n",
    "    for input_start_idx in input_start_indices:\n",
    "        # Make sure the sequence is not at the end of the text\n",
    "        if input_start_idx + len(input_str) + len(target_str) < len(text):\n",
    "            # Extract the sequence and the next character\n",
    "            excerpt = text[input_start_idx:input_start_idx + max(len(input_str), len(target_str) + stride)]\n",
    "            escaped_excerpt = escape_sequence(excerpt)\n",
    "            print(f\">Found the sequence in book {book_idx + 1}, original complete sequence:\")\n",
    "            print(f\"{escaped_excerpt}\")"
   ]
  },
  {
   "cell_type": "code",
   "execution_count": 27,
   "id": "4c3b38fd80144a4c",
   "metadata": {
    "colab": {
     "base_uri": "https://localhost:8080/",
     "height": 384
    },
    "id": "4c3b38fd80144a4c",
    "outputId": "bc040813-dedc-4488-9e61-21e68017c642"
   },
   "outputs": [],
   "source": [
    "from IPython.display import clear_output\n",
    "import torch.optim.lr_scheduler as lr_scheduler\n",
    "\n",
    "# Hyperparameters\n",
    "hidden_size = 256\n",
    "learning_rate = 0.001\n",
    "num_epochs = 100 if 'google.colab' in str(get_ipython()) else 20\n",
    "batch_size = 32\n",
    "rnn_layers = 1\n",
    "\n",
    "from torch.utils.data import DataLoader, RandomSampler, BatchSampler\n",
    "\n",
    "# Create samplers that allow replacement to ensure each batch has the same size\n",
    "train_sampler = RandomSampler(train_dataset, replacement=True, num_samples=len(train_dataset))\n",
    "val_sampler = RandomSampler(val_dataset, replacement=True, num_samples=len(val_dataset))\n",
    "\n",
    "# Create batch samplers with the same batch size and drop the last batch\n",
    "train_batch_sampler = BatchSampler(train_sampler, batch_size=batch_size, drop_last=True)\n",
    "val_batch_sampler = BatchSampler(val_sampler, batch_size=batch_size, drop_last=True)\n",
    "\n",
    "# Create DataLoader instances\n",
    "train_loader = DataLoader(dataset=train_dataset, batch_sampler=train_batch_sampler)\n",
    "val_loader = DataLoader(dataset=val_dataset, batch_sampler=val_batch_sampler)"
   ]
  },
  {
   "cell_type": "code",
   "execution_count": 28,
   "id": "52439b66",
   "metadata": {},
   "outputs": [
    {
     "name": "stderr",
     "output_type": "stream",
     "text": [
      "Training:   0%|          | 0/20 [00:00<?, ?it/s]"
     ]
    },
    {
     "name": "stdout",
     "output_type": "stream",
     "text": [
      "Update 0, Training Loss: 4.362167835235596, Training Accuracy: 0.0312, Validation Loss: 4.3080, Validation Accuracy: 0.0563\n",
      "Update 1000, Training Loss: 1.8560113906860352, Training Accuracy: 0.2188, Validation Loss: 1.9691, Validation Accuracy: 0.1001\n"
     ]
    },
    {
     "name": "stderr",
     "output_type": "stream",
     "text": [
      "Training:   5%|▌         | 1/20 [00:05<01:49,  5.77s/it]"
     ]
    },
    {
     "name": "stdout",
     "output_type": "stream",
     "text": [
      "Update 2000, Training Loss: 1.6477773189544678, Training Accuracy: 0.0000, Validation Loss: 1.8698, Validation Accuracy: 0.0935\n"
     ]
    },
    {
     "name": "stderr",
     "output_type": "stream",
     "text": [
      "Training:  10%|█         | 2/20 [00:10<01:36,  5.36s/it]"
     ]
    },
    {
     "name": "stdout",
     "output_type": "stream",
     "text": [
      "Update 3000, Training Loss: 1.4720574617385864, Training Accuracy: 0.0312, Validation Loss: 1.8896, Validation Accuracy: 0.1021\n"
     ]
    },
    {
     "name": "stderr",
     "output_type": "stream",
     "text": [
      "Training:  15%|█▌        | 3/20 [00:16<01:31,  5.41s/it]"
     ]
    },
    {
     "name": "stdout",
     "output_type": "stream",
     "text": [
      "Update 4000, Training Loss: 1.3087748289108276, Training Accuracy: 0.0625, Validation Loss: 1.9257, Validation Accuracy: 0.0856\n",
      "Update 5000, Training Loss: 1.2368003129959106, Training Accuracy: 0.0938, Validation Loss: 1.9861, Validation Accuracy: 0.0846\n"
     ]
    },
    {
     "name": "stderr",
     "output_type": "stream",
     "text": [
      "Training:  20%|██        | 4/20 [00:21<01:23,  5.24s/it]"
     ]
    },
    {
     "name": "stdout",
     "output_type": "stream",
     "text": [
      "Update 6000, Training Loss: 0.9920271039009094, Training Accuracy: 0.0312, Validation Loss: 2.0343, Validation Accuracy: 0.0967\n"
     ]
    },
    {
     "name": "stderr",
     "output_type": "stream",
     "text": [
      "Training:  25%|██▌       | 5/20 [00:26<01:17,  5.15s/it]"
     ]
    },
    {
     "name": "stdout",
     "output_type": "stream",
     "text": [
      "Update 7000, Training Loss: 1.0621036291122437, Training Accuracy: 0.1875, Validation Loss: 2.0676, Validation Accuracy: 0.0966\n",
      "Update 8000, Training Loss: 1.0307542085647583, Training Accuracy: 0.0938, Validation Loss: 2.1031, Validation Accuracy: 0.0949\n"
     ]
    },
    {
     "name": "stderr",
     "output_type": "stream",
     "text": [
      "Training:  30%|███       | 6/20 [00:31<01:13,  5.27s/it]"
     ]
    },
    {
     "name": "stdout",
     "output_type": "stream",
     "text": [
      "Update 9000, Training Loss: 1.09556245803833, Training Accuracy: 0.0938, Validation Loss: 2.1421, Validation Accuracy: 0.0851\n"
     ]
    },
    {
     "name": "stderr",
     "output_type": "stream",
     "text": [
      "Training:  35%|███▌      | 7/20 [00:36<01:07,  5.18s/it]"
     ]
    },
    {
     "name": "stdout",
     "output_type": "stream",
     "text": [
      "Update 10000, Training Loss: 0.9445815682411194, Training Accuracy: 0.0938, Validation Loss: 2.1682, Validation Accuracy: 0.0882\n"
     ]
    },
    {
     "name": "stderr",
     "output_type": "stream",
     "text": [
      "Training:  40%|████      | 8/20 [00:41<01:01,  5.15s/it]"
     ]
    },
    {
     "name": "stdout",
     "output_type": "stream",
     "text": [
      "Update 11000, Training Loss: 0.972567081451416, Training Accuracy: 0.1562, Validation Loss: 2.1852, Validation Accuracy: 0.0852\n",
      "Update 12000, Training Loss: 0.8354240655899048, Training Accuracy: 0.0625, Validation Loss: 2.2033, Validation Accuracy: 0.0924\n"
     ]
    },
    {
     "name": "stderr",
     "output_type": "stream",
     "text": [
      "Training:  45%|████▌     | 9/20 [00:47<00:58,  5.33s/it]"
     ]
    },
    {
     "name": "stdout",
     "output_type": "stream",
     "text": [
      "Update 13000, Training Loss: 0.9167197346687317, Training Accuracy: 0.0938, Validation Loss: 2.2162, Validation Accuracy: 0.0914\n"
     ]
    },
    {
     "name": "stderr",
     "output_type": "stream",
     "text": [
      "Training:  50%|█████     | 10/20 [00:52<00:53,  5.32s/it]"
     ]
    },
    {
     "name": "stdout",
     "output_type": "stream",
     "text": [
      "Update 14000, Training Loss: 0.9257343411445618, Training Accuracy: 0.2188, Validation Loss: 2.2196, Validation Accuracy: 0.0867\n"
     ]
    },
    {
     "name": "stderr",
     "output_type": "stream",
     "text": [
      "Training:  55%|█████▌    | 11/20 [00:58<00:47,  5.26s/it]"
     ]
    },
    {
     "name": "stdout",
     "output_type": "stream",
     "text": [
      "Update 15000, Training Loss: 0.9063364267349243, Training Accuracy: 0.2812, Validation Loss: 2.2434, Validation Accuracy: 0.0870\n",
      "Update 16000, Training Loss: 0.8408907651901245, Training Accuracy: 0.0938, Validation Loss: 2.2642, Validation Accuracy: 0.0956\n"
     ]
    },
    {
     "name": "stderr",
     "output_type": "stream",
     "text": [
      "Training:  60%|██████    | 12/20 [01:03<00:42,  5.34s/it]"
     ]
    },
    {
     "name": "stdout",
     "output_type": "stream",
     "text": [
      "Update 17000, Training Loss: 0.8815888166427612, Training Accuracy: 0.3125, Validation Loss: 2.2648, Validation Accuracy: 0.0900\n"
     ]
    },
    {
     "name": "stderr",
     "output_type": "stream",
     "text": [
      "Training:  65%|██████▌   | 13/20 [01:08<00:36,  5.28s/it]"
     ]
    },
    {
     "name": "stdout",
     "output_type": "stream",
     "text": [
      "Update 18000, Training Loss: 0.9223266839981079, Training Accuracy: 0.0312, Validation Loss: 2.2662, Validation Accuracy: 0.0849\n"
     ]
    },
    {
     "name": "stderr",
     "output_type": "stream",
     "text": [
      "Training:  70%|███████   | 14/20 [01:13<00:31,  5.24s/it]"
     ]
    },
    {
     "name": "stdout",
     "output_type": "stream",
     "text": [
      "Update 19000, Training Loss: 0.893520176410675, Training Accuracy: 0.0625, Validation Loss: 2.2750, Validation Accuracy: 0.0832\n",
      "Update 20000, Training Loss: 0.8247944712638855, Training Accuracy: 0.0312, Validation Loss: 2.2846, Validation Accuracy: 0.0922\n"
     ]
    },
    {
     "name": "stderr",
     "output_type": "stream",
     "text": [
      "Training:  75%|███████▌  | 15/20 [01:19<00:26,  5.32s/it]"
     ]
    },
    {
     "name": "stdout",
     "output_type": "stream",
     "text": [
      "Update 21000, Training Loss: 0.8472715616226196, Training Accuracy: 0.2812, Validation Loss: 2.2849, Validation Accuracy: 0.0896\n"
     ]
    },
    {
     "name": "stderr",
     "output_type": "stream",
     "text": [
      "Training:  80%|████████  | 16/20 [01:24<00:20,  5.22s/it]"
     ]
    },
    {
     "name": "stdout",
     "output_type": "stream",
     "text": [
      "Update 22000, Training Loss: 0.830694854259491, Training Accuracy: 0.1250, Validation Loss: 2.2909, Validation Accuracy: 0.0897\n"
     ]
    },
    {
     "name": "stderr",
     "output_type": "stream",
     "text": [
      "Training:  85%|████████▌ | 17/20 [01:29<00:15,  5.23s/it]"
     ]
    },
    {
     "name": "stdout",
     "output_type": "stream",
     "text": [
      "Update 23000, Training Loss: 0.7969329357147217, Training Accuracy: 0.0625, Validation Loss: 2.3003, Validation Accuracy: 0.0886\n",
      "Update 24000, Training Loss: 0.742901086807251, Training Accuracy: 0.0625, Validation Loss: 2.3058, Validation Accuracy: 0.0922\n"
     ]
    },
    {
     "name": "stderr",
     "output_type": "stream",
     "text": [
      "Training:  90%|█████████ | 18/20 [01:35<00:10,  5.36s/it]"
     ]
    },
    {
     "name": "stdout",
     "output_type": "stream",
     "text": [
      "Update 25000, Training Loss: 0.845669150352478, Training Accuracy: 0.0625, Validation Loss: 2.2987, Validation Accuracy: 0.0886\n"
     ]
    },
    {
     "name": "stderr",
     "output_type": "stream",
     "text": [
      "Training:  95%|█████████▌| 19/20 [01:40<00:05,  5.29s/it]"
     ]
    },
    {
     "name": "stdout",
     "output_type": "stream",
     "text": [
      "Update 26000, Training Loss: 0.7355824112892151, Training Accuracy: 0.0625, Validation Loss: 2.3169, Validation Accuracy: 0.0917\n"
     ]
    },
    {
     "name": "stderr",
     "output_type": "stream",
     "text": [
      "Training: 100%|██████████| 20/20 [01:45<00:00,  5.27s/it]\n"
     ]
    }
   ],
   "source": [
    "# Initialize model, loss function, and optimizer\n",
    "model = CharRNN(vocab_size, vocab_size, hidden_size, rnn_layers).to(device)\n",
    "# criterion = nn.NLLLoss().to(device)\n",
    "criterion = nn.CrossEntropyLoss().to(device)\n",
    "optimizer = optim.Adam(model.parameters(), lr=learning_rate)\n",
    "scheduler = lr_scheduler.ExponentialLR(optimizer, gamma=0.95)  # Adjust gamma as needed\n",
    "\n",
    "training_losses = []\n",
    "validation_losses = []\n",
    "training_accuracies = []\n",
    "validation_accuracies = []\n",
    "update_counts = []\n",
    "update_cnt = 0\n",
    "\n",
    "# Training loop\n",
    "for epoch in tqdm(range(num_epochs), desc=\"Training\"):\n",
    "    total_loss = 0\n",
    "    hidden = model.init_hidden(batch_size).to(device)\n",
    "    for input_seqs, target_seqs in train_loader:\n",
    "        model.train()\n",
    "        batch_size = input_seqs.size(0)\n",
    "        input_seqs, target_seqs = input_seqs.to(device), target_seqs.to(device)\n",
    "        \n",
    "        optimizer.zero_grad()\n",
    "        hidden = repackage_hidden(hidden)\n",
    "        output, hidden = model(input_seqs, hidden)\n",
    "        loss = criterion(output, torch.argmax(target_seqs, dim=2).view(-1))\n",
    "        loss.backward(retain_graph=True)\n",
    "        nn.utils.clip_grad_norm_(model.parameters(), max_norm=1.0)  # Gradient clipping\n",
    "        optimizer.step()\n",
    "        total_loss += loss.item()\n",
    "\n",
    "        # Record training loss and accuracy every 100 updates\n",
    "        if update_cnt % 100 == 0:\n",
    "            training_losses.append(loss.item())\n",
    "            update_counts.append(update_cnt)\n",
    "\n",
    "            training_accuracy = (torch.argmax(output[-1, :]) == torch.argmax(target_seqs[:, -1, :], dim=1)).float().mean().item()\n",
    "            training_accuracies.append(training_accuracy)\n",
    "\n",
    "        if update_cnt % 1000 == 0:\n",
    "            # Validation\n",
    "            model.eval()\n",
    "            with torch.no_grad():\n",
    "                val_loss = 0\n",
    "                correct_predictions = 0\n",
    "                total_predictions = 0\n",
    "                for input_seqs, target_seqs in val_loader:\n",
    "                    batch_size = input_seqs.size(0)\n",
    "                    input_seqs, target_seqs = input_seqs.to(device), target_seqs.to(device)\n",
    "                    hidden = model.init_hidden(batch_size).to(device)\n",
    "                    hidden = repackage_hidden(hidden)\n",
    "                    output, hidden = model(input_seqs, hidden)\n",
    "                    val_loss += criterion(output, torch.argmax(target_seqs, dim=2).view(-1)).item()\n",
    "                    \n",
    "                    correct_predictions += (torch.argmax(output[-1, :]) == torch.argmax(target_seqs[:, -1, :], dim=1)).sum().item()\n",
    "                    total_predictions += target_seqs.size(0)\n",
    "\n",
    "            avg_val_loss = val_loss / len(val_loader)\n",
    "            validation_losses.append(avg_val_loss)\n",
    "            validation_accuracy = correct_predictions / total_predictions\n",
    "            validation_accuracies.append(validation_accuracy)\n",
    "        \n",
    "            print(f'Update {update_cnt}, Training Loss: {loss}, Training Accuracy: {training_accuracy:.4f}, Validation Loss: {avg_val_loss:.4f}, Validation Accuracy: {validation_accuracy:.4f}')\n",
    "\n",
    "        update_cnt += 1\n",
    "    \n",
    "    scheduler.step()\n",
    "    "
   ]
  },
  {
   "cell_type": "code",
   "execution_count": null,
   "id": "d2b1df5b",
   "metadata": {},
   "outputs": [],
   "source": [
    "temp_test_input = np.array([73, 62, 66, 67, 20, 41, 58, 51, 61, 73, 56, 66, 67, 62, 66, 67, 61, 73, 61, 67, 64, 72,  8, 37, 62, 52, 72, 45, 73, 40, 67, 73])\n",
    "temp_test_target = np.array([62, 66, 67, 20, 41, 58, 51, 61, 73, 56, 66, 67, 62, 66, 67, 61, 73, 61, 67, 64, 72,  8, 37, 62, 52, 72, 45, 73, 40, 67, 73, 62])\n",
    "temp_test_input_char = []\n",
    "temp_test_target_char = []\n",
    "for i in range(len(temp_test_input)):\n",
    "  temp_test_input_char.append(index_to_char[temp_test_input[i]])\n",
    "for i in range(len(temp_test_target)):\n",
    "  temp_test_target_char.append(index_to_char[temp_test_target[i]])\n",
    "print(temp_test_input_char)\n",
    "print(temp_test_target_char)"
   ]
  },
  {
   "cell_type": "code",
   "execution_count": 29,
   "id": "8580faa1",
   "metadata": {},
   "outputs": [
    {
     "data": {
      "image/png": "[encoded data removed]",
      "text/plain": [
       "<Figure size 1000x500 with 1 Axes>"
      ]
     },
     "metadata": {},
     "output_type": "display_data"
    },
    {
     "data": {
      "image/png": "[encoded data removed]",
      "text/plain": [
       "<Figure size 1000x500 with 1 Axes>"
      ]
     },
     "metadata": {},
     "output_type": "display_data"
    }
   ],
   "source": [
    "import matplotlib.pyplot as plt\n",
    "\n",
    "# Calculate errors: error = 1 - accuracy\n",
    "training_errors = [1 - acc for acc in training_accuracies]\n",
    "validation_errors = [1 - acc for acc in validation_accuracies]\n",
    "\n",
    "# Plot training and validation loss\n",
    "plt.figure(figsize=(10, 5))\n",
    "plt.plot(update_counts, training_losses, label='Training Loss')\n",
    "plt.plot(range(0, len(validation_losses) * 1000, 1000), validation_losses, label='Validation Loss') \n",
    "plt.xlabel('Weight Updates')\n",
    "plt.ylabel('Loss')\n",
    "plt.title('Training and Validation Loss vs. Weight Updates')\n",
    "plt.legend()\n",
    "\n",
    "# Plot training and validation error\n",
    "plt.figure(figsize=(10, 5))\n",
    "plt.plot(update_counts, training_errors, label='Training Error')\n",
    "plt.plot(range(0, len(validation_errors) * 1000, 1000), validation_errors, label='Validation Error')  \n",
    "plt.xlabel('Weight Updates')\n",
    "plt.ylabel('Error')\n",
    "plt.title('Training and Validation Error vs. Weight Updates')\n",
    "plt.legend()\n",
    "\n",
    "plt.show()"
   ]
  },
  {
   "cell_type": "code",
   "execution_count": null,
   "id": "31c109614febf416",
   "metadata": {},
   "outputs": [],
   "source": [
    "# Save the model\n",
    "model_path = f'{dir_root}/char_rnn_model.pth'\n",
    "torch.save(model.state_dict(), model_path)\n",
    "print(f\"Model saved to {model_path}\")"
   ]
  },
  {
   "cell_type": "code",
   "execution_count": null,
   "id": "b3e976a5ab339735",
   "metadata": {},
   "outputs": [],
   "source": [
    "# Load the model\n",
    "model = CharRNN(vocab_size, vocab_size, hidden_size).to(device)\n",
    "model.load_state_dict(torch.load(model_path))\n",
    "model.eval()\n",
    "print(\"Model loaded successfully\")"
   ]
  },
  {
   "cell_type": "code",
   "execution_count": 32,
   "id": "7e5c69371b00f16",
   "metadata": {},
   "outputs": [],
   "source": [
    "def generate_text(model, start_text, char_to_index, index_to_char, max_length=1000, temperature=1.0):\n",
    "    model.eval()\n",
    "    with torch.no_grad():\n",
    "        hidden = model.init_hidden(1).to(device)\n",
    "        hidden = repackage_hidden(hidden)\n",
    "        input_seq = start_text\n",
    "        generated_text = start_text\n",
    "\n",
    "        for i in range(max_length):\n",
    "            input_seq_encoded = torch.tensor([one_hot_encode(c, char_to_index, len(char_to_index)) for c in input_seq], dtype=torch.float32).unsqueeze(0).to(device)\n",
    "            output, hidden = model(input_seq_encoded, hidden)\n",
    "            output_dist = output.data.view(-1).div(temperature).exp()\n",
    "            top_char = torch.multinomial(output_dist, 1)[0]\n",
    "            \n",
    "            # Ensure the predicted index is within the valid range\n",
    "            if top_char.item() in index_to_char:\n",
    "                predicted_char = index_to_char[top_char.item()]\n",
    "            else:\n",
    "                predicted_char = ''  # Handle out-of-range index by skipping or using a placeholder\n",
    "\n",
    "            generated_text += predicted_char\n",
    "            input_seq = input_seq[1:] + predicted_char\n",
    "\n",
    "    return generated_text"
   ]
  },
  {
   "cell_type": "code",
   "execution_count": 33,
   "id": "c720fb045661f97b",
   "metadata": {},
   "outputs": [
    {
     "name": "stdout",
     "output_type": "stream",
     "text": [
      "I never shall forget that night.e\n",
      "That when I sleep, thy picture’s sight with thy lucks for their raz\n"
     ]
    }
   ],
   "source": [
    "# Generate text using the trained model\n",
    "start_text = 'I never shall forget that night.'\n",
    "generated_text = generate_text(model, start_text, char_to_index, index_to_char, max_length=100, temperature=0.3)\n",
    "print(generated_text)"
   ]
  },
  {
   "cell_type": "code",
   "execution_count": 24,
   "id": "4119ac6153fba63d",
   "metadata": {},
   "outputs": [],
   "source": [
    "## Self-Attention-Based NN for the same task"
   ]
  },
  {
   "cell_type": "code",
   "execution_count": null,
   "id": "390024af",
   "metadata": {},
   "outputs": [],
   "source": [
    "# Re-generation the dataset with sequence length 128\n",
    "sequence_length = 128\n",
    "\n",
    "if USE_ALL_BOOKS:\n",
    "    input_seqs, target_seqs = generate_sequences(all_texts, char_to_index, sequence_length=sequence_length, stride=24)\n",
    "    input_seqs = torch.tensor(input_seqs, dtype=torch.float32)\n",
    "    target_seqs = torch.tensor(target_seqs, dtype=torch.long)\n",
    "    \n",
    "    input_seqs = input_seqs.to(device)\n",
    "    target_seqs = target_seqs.to(device)\n",
    "    \n",
    "    dataset = TensorDataset(input_seqs, target_seqs)\n",
    "    train_size = int(0.8 * len(dataset))\n",
    "    val_size = len(dataset) - train_size\n",
    "    train_dataset, val_dataset = random_split(dataset, [train_size, val_size])\n",
    "    \n",
    "    print(\"Input sequences shape:\", input_seqs.shape)\n",
    "    print(\"Target characters shape:\", target_seqs.shape)\n",
    "else:\n",
    "    input_seqs, target_seqs = generate_sequences(text, char_to_index, sequence_length=sequence_length, stride=63)\n",
    "    input_seqs = torch.tensor(input_seqs, dtype=torch.float32)\n",
    "    target_seqs = torch.tensor(target_seqs, dtype=torch.long)\n",
    "    \n",
    "    input_seqs = input_seqs.to(device)\n",
    "    target_seqs = target_seqs.to(device)\n",
    "    \n",
    "    dataset = TensorDataset(input_seqs, target_seqs)\n",
    "    train_size = int(0.8 * len(dataset))\n",
    "    val_size = len(dataset) - train_size\n",
    "    train_dataset, val_dataset = random_split(dataset, [train_size, val_size])\n",
    "    \n",
    "    print(\"Input sequences shape:\", input_seqs.shape)\n",
    "    print(\"Target characters shape:\", target_seqs.shape)\n",
    "\n"
   ]
  },
  {
   "cell_type": "code",
   "execution_count": 28,
   "id": "55999b3b",
   "metadata": {},
   "outputs": [],
   "source": [
    "import torch\n",
    "import torch.nn as nn\n",
    "import torch.optim as optim\n",
    "from torch.utils.data import DataLoader, TensorDataset\n",
    "from tqdm import tqdm\n",
    "import numpy as np\n",
    "import matplotlib.pyplot as plt\n",
    "\n",
    "# Transformer Model Definition\n",
    "class TransformerModel(nn.Module):\n",
    "    def __init__(self, ntokens, ninp, nhead, nhid, nlayers, dropout=0.5):\n",
    "        super(TransformerModel, self).__init__()\n",
    "        self.model_type = 'Transformer'\n",
    "        self.src_mask = None\n",
    "        self.encoder = nn.TransformerEncoder(\n",
    "            nn.TransformerEncoderLayer(d_model=ninp, nhead=nhead, dim_feedforward=nhid, dropout=dropout),\n",
    "            num_layers=nlayers\n",
    "        )\n",
    "        self.input_emb = nn.Embedding(ntokens, ninp)\n",
    "        self.decoder = nn.Linear(ninp, ntokens)\n",
    "        self.init_weights()\n",
    "    \n",
    "    def init_weights(self):\n",
    "        initrange = 0.1\n",
    "        nn.init.uniform_(self.input_emb.weight, -initrange, initrange)\n",
    "        nn.init.zeros_(self.decoder.bias)\n",
    "        nn.init.uniform_(self.decoder.weight, -initrange, initrange)\n",
    "\n",
    "    def forward(self, src):\n",
    "        src = self.input_emb(src) * np.sqrt(self.input_emb.embedding_dim)\n",
    "        output = self.encoder(src)\n",
    "        output = self.decoder(output)\n",
    "        return output\n",
    "\n",
    "# Prepare the dataset\n",
    "def generate_sequences(text, char_to_index, sequence_length=128, stride=1):\n",
    "    input_sequences = []\n",
    "    target_characters = []\n",
    "\n",
    "    for i in range(0, len(text) - sequence_length, stride):\n",
    "        input_seq = text[i:i+sequence_length]\n",
    "        target_char = text[i+sequence_length]\n",
    "        input_seq_encoded = [char_to_index[c] for c in input_seq]\n",
    "        input_sequences.append(input_seq_encoded)\n",
    "        target_characters.append(char_to_index[target_char])\n",
    "\n",
    "    return np.array(input_sequences), np.array(target_characters)\n",
    "\n",
    "# Prepare data\n",
    "sequence_length = 128\n",
    "ntokens = len(char_to_index)\n",
    "\n",
    "input_seqs, target_seqs = generate_sequences(text_list[0], char_to_index)\n",
    "input_seqs = torch.tensor(input_seqs, dtype=torch.long)\n",
    "target_seqs = torch.tensor(target_seqs, dtype=torch.long)\n",
    "\n",
    "dataset = TensorDataset(input_seqs, target_seqs)\n",
    "train_size = int(0.8 * len(dataset))\n",
    "val_size = len(dataset) - train_size\n",
    "train_dataset, val_dataset = torch.utils.data.random_split(dataset, [train_size, val_size])\n",
    "\n",
    "train_loader = DataLoader(train_dataset, batch_size=64, shuffle=True)\n",
    "val_loader = DataLoader(val_dataset, batch_size=64, shuffle=False)\n",
    "\n",
    "# Model, Loss, Optimizer\n",
    "model = TransformerModel(ntokens, 512, 8, 2048, 6).to(device)\n",
    "criterion = nn.CrossEntropyLoss()\n",
    "optimizer = optim.Adam(model.parameters(), lr=0.001)\n",
    "\n",
    "# Training Loop\n",
    "def train_epoch(model, train_loader, criterion, optimizer):\n",
    "    model.train()\n",
    "    total_loss = 0\n",
    "    for inputs, targets in train_loader:\n",
    "        inputs, targets = inputs.to(device), targets.to(device)\n",
    "        optimizer.zero_grad()\n",
    "        output = model(inputs)\n",
    "        loss = criterion(output.view(-1, ntokens), targets)\n",
    "        loss.backward()\n",
    "        optimizer.step()\n",
    "        total_loss += loss.item()\n",
    "    return total_loss / len(train_loader)\n",
    "\n",
    "def evaluate(model, val_loader, criterion):\n",
    "    model.eval()\n",
    "    total_loss = 0\n",
    "    with torch.no_grad():\n",
    "        for inputs, targets in val_loader:\n",
    "            inputs, targets = inputs.to(device), targets.to(device)\n",
    "            output = model(inputs)\n",
    "            loss = criterion(output.view(-1, ntokens), targets)\n",
    "            total_loss += loss.item()\n",
    "    return total_loss / len(val_loader)\n",
    "\n",
    "# Training and evaluation\n",
    "num_epochs = 10\n",
    "train_losses, val_losses = [], []\n",
    "\n",
    "for epoch in range(num_epochs):\n",
    "    train_loss = train_epoch(model, train_loader, criterion, optimizer)\n",
    "    val_loss = evaluate(model, val_loader, criterion)\n",
    "    train_losses.append(train_loss)\n",
    "    val_losses.append(val_loss)\n",
    "    print(f'Epoch {epoch+1}, Train Loss: {train_loss:.4f}, Val Loss: {val_loss:.4f}')\n",
    "\n",
    "# Plotting\n",
    "plt.plot(train_losses, label='Train Loss')\n",
    "plt.plot(val_losses, label='Validation Loss')\n",
    "plt.xlabel('Epochs')\n",
    "plt.ylabel('Loss')\n",
    "plt.legend()\n",
    "plt.show()\n",
    "\n",
    "# Text Generation\n",
    "def generate_text(model, start_text, char_to_index, index_to_char, max_length=1024):\n",
    "    model.eval()\n",
    "    with torch.no_grad():\n",
    "        input_seq = torch.tensor([char_to_index[c] for c in start_text], dtype=torch.long).unsqueeze(0).to(device)\n",
    "        generated_text = start_text\n",
    "\n",
    "        for _ in range(max_length):\n",
    "            output = model(input_seq)\n",
    "            next_char_index = torch.argmax(output[:, -1, :]).item()\n",
    "            next_char = index_to_char[next_char_index]\n",
    "            generated_text += next_char\n",
    "            input_seq = torch.cat((input_seq, torch.tensor([[next_char_index]], device=device)), dim=1)\n",
    "\n",
    "    return generated_text\n",
    "\n",
    "start_text = 'Once upon a time,'\n",
    "generated_text = generate_text(model, start_text, char_to_index, index_to_char)\n",
    "print(generated_text)"
   ]
  },
  {
   "cell_type": "code",
   "execution_count": 30,
   "id": "c0c10b6d",
   "metadata": {},
   "outputs": [],
   "source": []
  },
  {
   "cell_type": "code",
   "execution_count": null,
   "id": "f0f910d1",
   "metadata": {},
   "outputs": [],
   "source": []
  },
  {
   "cell_type": "code",
   "execution_count": 35,
   "id": "b4e300d5",
   "metadata": {},
   "outputs": [],
   "source": []
  },
  {
   "cell_type": "code",
   "execution_count": null,
   "id": "7d9b7b56",
   "metadata": {},
   "outputs": [],
   "source": []
  }
 ],
 "metadata": {
  "accelerator": "GPU",
  "colab": {
   "gpuType": "T4",
   "machine_shape": "hm",
   "provenance": []
  },
  "kernelspec": {
   "display_name": ".venv",
   "language": "python",
   "name": "python3"
  },
  "language_info": {
   "codemirror_mode": {
    "name": "ipython",
    "version": 3
   },
   "file_extension": ".py",
   "mimetype": "text/x-python",
   "name": "python",
   "nbconvert_exporter": "python",
   "pygments_lexer": "ipython3",
   "version": "3.8.10"
  }
 },
 "nbformat": 4,
 "nbformat_minor": 5
}
