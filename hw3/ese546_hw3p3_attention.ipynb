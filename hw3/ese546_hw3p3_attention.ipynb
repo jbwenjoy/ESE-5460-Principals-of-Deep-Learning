{
  "cells": [
    {
      "cell_type": "code",
      "execution_count": null,
      "id": "1462a7a5d638814e",
      "metadata": {
        "colab": {
          "base_uri": "https://localhost:8080/"
        },
        "id": "1462a7a5d638814e",
        "outputId": "6b149b28-6775-4287-ced2-a6e837ea8fac"
      },
      "outputs": [
        {
          "name": "stdout",
          "output_type": "stream",
          "text": [
            "Mounted at /content/drive/\n",
            "/content/drive/MyDrive/Colab Notebooks/ESE546/hw3\n"
          ]
        }
      ],
      "source": [
        "dir_root = '.'\n",
        "# If using google colab\n",
        "if 'google.colab' in str(get_ipython()):\n",
        "    from google.colab import drive\n",
        "    drive.mount('/content/drive/')\n",
        "    dir_root = '/content/drive/MyDrive/Colab Notebooks/ESE546/hw3'\n",
        "\n",
        "print(dir_root)"
      ]
    },
    {
      "cell_type": "code",
      "execution_count": null,
      "id": "302b430103d02bbe",
      "metadata": {
        "colab": {
          "base_uri": "https://localhost:8080/"
        },
        "id": "302b430103d02bbe",
        "outputId": "92f257e4-ca7a-4b93-fdf9-33a5af35f943"
      },
      "outputs": [
        {
          "name": "stdout",
          "output_type": "stream",
          "text": [
            "Loading text from URL: https://www.gutenberg.org/cache/epub/100/pg100.txt\n",
            "Loading text from URL: https://www.gutenberg.org/cache/epub/2600/pg2600.txt\n",
            "Loading text from URL: https://www.gutenberg.org/cache/epub/766/pg766.txt\n",
            "Vocabulary size for each text: [107, 112, 90]\n",
            "Unique characters for each text: [{'…', 's', 'Æ', '*', ' ', '1', '(', 'I', 'p', '&', 'y', 'À', 'à', 'U', 'L', '•', '\\ufeff', '/', '™', '4', '.', '6', 'W', '8', 'D', 'Q', '%', '3', ';', 'c', 'Y', 'r', '’', 'l', '!', '0', 't', 'v', 'j', 'æ', 'u', 'n', 'k', '2', '\\n', 'A', 'e', 'd', 'B', 'x', '‘', 'N', \"'\", 'b', 'V', 'ç', 'F', '5', 'P', '?', ':', 'œ', 'm', ']', 'ê', '#', ')', '”', '_', '7', 'X', 'a', 'K', 'É', 'C', '—', 'i', 'T', 'Z', 'é', ',', 'J', '-', 'M', '9', 'Ç', 'O', 'z', 'î', 'w', 'f', 'â', 'G', 'o', 'H', 'S', '“', 'h', 'è', 'R', '$', 'ë', 'E', '\\t', '[', 'g', 'q'}, {'s', '=', '*', ' ', '1', '(', 'I', 'p', 'y', 'À', 'à', 'U', 'L', '•', '\\ufeff', '/', '™', '4', '.', '6', 'W', '8', 'D', 'Q', '%', '3', 'c', 'Y', ';', 'r', '’', 'l', '!', 'ô', '0', 't', 'v', 'á', 'j', 'æ', 'u', 'n', 'k', '2', '\\n', 'A', 'e', 'Á', 'd', 'B', 'x', '‘', 'N', 'b', 'V', 'ç', 'F', '5', 'P', '?', ':', 'œ', 'ó', 'm', 'ú', ']', 'ê', 'ü', 'ä', '#', '”', ')', '7', 'X', 'a', 'K', 'É', 'C', '—', 'i', 'T', 'Z', 'ý', 'é', ',', 'J', '-', 'M', 'ö', '9', 'O', 'z', 'î', 'w', 'f', 'â', 'G', 'o', 'H', 'í', 'S', '“', 'ï', 'h', 'è', 'R', '$', 'ë', 'E', '[', 'g', 'q'}, {'s', '*', ' ', '1', '(', 'I', 'p', '&', 'y', 'U', 'L', '•', '\\ufeff', '/', '™', '4', '.', '6', 'W', '8', 'D', 'Q', '%', ';', 'c', 'Y', '3', 'r', '’', 'l', '!', '0', 't', 'v', 'j', 'u', 'n', 'k', '2', '\\n', 'A', 'e', 'd', 'B', 'x', '‘', 'N', 'b', 'V', 'F', '5', 'P', '?', ':', 'm', ']', '#', ')', '_', '”', '7', 'X', 'a', 'K', 'C', 'Z', 'i', 'T', '—', ',', 'J', '-', 'M', '9', 'O', 'z', 'w', 'f', 'G', 'o', 'H', 'S', '“', 'h', 'R', '$', 'E', '[', 'g', 'q'}]\n"
          ]
        }
      ],
      "source": [
        "import requests\n",
        "\n",
        "# Load the text from a local file\n",
        "def load_text_from_file(file_path):\n",
        "    with open(file_path, 'r', encoding='utf-8') as file:\n",
        "        text = file.read()\n",
        "    return text\n",
        "\n",
        "# Load the text from a URL\n",
        "def load_text_from_url(url):\n",
        "    response = requests.get(url)\n",
        "    text = response.text.replace('\\r\\n', '\\n')  # Normalize line endings\n",
        "    return text\n",
        "\n",
        "# Count unique characters in the text\n",
        "def count_unique_chars(text):\n",
        "    unique_chars = set(text)\n",
        "    # Num of unique characters\n",
        "    vocab_size = len(unique_chars)\n",
        "    return vocab_size, unique_chars\n",
        "\n",
        "# List of file paths or URLs\n",
        "local_file_1 = 'pg100.txt'\n",
        "local_file_2 = 'pg2600.txt'\n",
        "local_file_3 = 'pg766.txt'\n",
        "url_file_1 = 'https://www.gutenberg.org/cache/epub/100/pg100.txt'\n",
        "url_file_2 = 'https://www.gutenberg.org/cache/epub/2600/pg2600.txt'\n",
        "url_file_3 = 'https://www.gutenberg.org/cache/epub/766/pg766.txt'\n",
        "\n",
        "if 'google.colab' in str(get_ipython()):\n",
        "    file_path_list = [url_file_1, url_file_2, url_file_3]\n",
        "else:\n",
        "    file_path_list = [local_file_1, local_file_2, local_file_3]\n",
        "text_list = []\n",
        "vocab_size_list = []\n",
        "unique_chars_list = []\n",
        "\n",
        "for file_path in file_path_list:\n",
        "    if file_path.startswith('http'):\n",
        "        print(f'Loading text from URL: {file_path}')\n",
        "        text = load_text_from_url(file_path)\n",
        "    else:\n",
        "        print(f'Loading text from file: {file_path}')\n",
        "        text = load_text_from_file(file_path)\n",
        "    vocab_size, unique_chars = count_unique_chars(text)\n",
        "    text_list.append(text)\n",
        "    vocab_size_list.append(vocab_size)\n",
        "    unique_chars_list.append(unique_chars)\n",
        "\n",
        "print(f'Vocabulary size for each text: {vocab_size_list}')\n",
        "print(f'Unique characters for each text: {unique_chars_list}')"
      ]
    },
    {
      "cell_type": "code",
      "execution_count": null,
      "id": "b8be73ef",
      "metadata": {
        "colab": {
          "base_uri": "https://localhost:8080/"
        },
        "id": "b8be73ef",
        "outputId": "4ce54251-0642-4821-9da2-14946ee102b8"
      },
      "outputs": [
        {
          "name": "stdout",
          "output_type": "stream",
          "text": [
            "Character to index mapping for first text: {'…': 0, 's': 1, 'Æ': 2, '*': 3, ' ': 4, '1': 5, '(': 6, 'I': 7, 'p': 8, '&': 9, 'y': 10, 'À': 11, 'à': 12, 'U': 13, 'L': 14, '•': 15, '\\ufeff': 16, '/': 17, '™': 18, '4': 19, '.': 20, '6': 21, 'W': 22, '8': 23, 'D': 24, 'Q': 25, '%': 26, '3': 27, ';': 28, 'c': 29, 'Y': 30, 'r': 31, '’': 32, 'l': 33, '!': 34, '0': 35, 't': 36, 'v': 37, 'j': 38, 'æ': 39, 'u': 40, 'n': 41, 'k': 42, '2': 43, '\\n': 44, 'A': 45, 'e': 46, 'd': 47, 'B': 48, 'x': 49, '‘': 50, 'N': 51, \"'\": 52, 'b': 53, 'V': 54, 'ç': 55, 'F': 56, '5': 57, 'P': 58, '?': 59, ':': 60, 'œ': 61, 'm': 62, ']': 63, 'ê': 64, '#': 65, ')': 66, '”': 67, '_': 68, '7': 69, 'X': 70, 'a': 71, 'K': 72, 'É': 73, 'C': 74, '—': 75, 'i': 76, 'T': 77, 'Z': 78, 'é': 79, ',': 80, 'J': 81, '-': 82, 'M': 83, '9': 84, 'Ç': 85, 'O': 86, 'z': 87, 'î': 88, 'w': 89, 'f': 90, 'â': 91, 'G': 92, 'o': 93, 'H': 94, 'S': 95, '“': 96, 'h': 97, 'è': 98, 'R': 99, '$': 100, 'ë': 101, 'E': 102, '\\t': 103, '[': 104, 'g': 105, 'q': 106}\n",
            "Index to character mapping for first text: {0: '…', 1: 's', 2: 'Æ', 3: '*', 4: ' ', 5: '1', 6: '(', 7: 'I', 8: 'p', 9: '&', 10: 'y', 11: 'À', 12: 'à', 13: 'U', 14: 'L', 15: '•', 16: '\\ufeff', 17: '/', 18: '™', 19: '4', 20: '.', 21: '6', 22: 'W', 23: '8', 24: 'D', 25: 'Q', 26: '%', 27: '3', 28: ';', 29: 'c', 30: 'Y', 31: 'r', 32: '’', 33: 'l', 34: '!', 35: '0', 36: 't', 37: 'v', 38: 'j', 39: 'æ', 40: 'u', 41: 'n', 42: 'k', 43: '2', 44: '\\n', 45: 'A', 46: 'e', 47: 'd', 48: 'B', 49: 'x', 50: '‘', 51: 'N', 52: \"'\", 53: 'b', 54: 'V', 55: 'ç', 56: 'F', 57: '5', 58: 'P', 59: '?', 60: ':', 61: 'œ', 62: 'm', 63: ']', 64: 'ê', 65: '#', 66: ')', 67: '”', 68: '_', 69: '7', 70: 'X', 71: 'a', 72: 'K', 73: 'É', 74: 'C', 75: '—', 76: 'i', 77: 'T', 78: 'Z', 79: 'é', 80: ',', 81: 'J', 82: '-', 83: 'M', 84: '9', 85: 'Ç', 86: 'O', 87: 'z', 88: 'î', 89: 'w', 90: 'f', 91: 'â', 92: 'G', 93: 'o', 94: 'H', 95: 'S', 96: '“', 97: 'h', 98: 'è', 99: 'R', 100: '$', 101: 'ë', 102: 'E', 103: '\\t', 104: '[', 105: 'g', 106: 'q'}\n"
          ]
        }
      ],
      "source": [
        "# Create a dictionary to map characters to indices and vice-versa\n",
        "def create_char_mappings(unique_chars):\n",
        "    char_to_index = {char: idx for idx, char in enumerate(unique_chars)}\n",
        "    index_to_char = {idx: char for idx, char in enumerate(unique_chars)}\n",
        "    return char_to_index, index_to_char\n",
        "\n",
        "vocab_size, unique_chars = vocab_size_list[0], unique_chars_list[0]\n",
        "char_to_index, index_to_char = create_char_mappings(unique_chars)\n",
        "print(f\"Character to index mapping for first text: {char_to_index}\")\n",
        "print(f\"Index to character mapping for first text: {index_to_char}\")"
      ]
    },
    {
      "cell_type": "code",
      "execution_count": null,
      "id": "c64b0de9",
      "metadata": {
        "id": "c64b0de9"
      },
      "outputs": [],
      "source": [
        "from tqdm import tqdm\n",
        "import numpy as np\n",
        "\n",
        "def generate_sequences_for_transformer(text, char_to_index, seq_length=128, stride=16, target_offset=1):\n",
        "    \"\"\"\n",
        "    Generate sequences of indices for transformer training.\n",
        "    Returns input and target sequences as integer indices instead of one-hot vectors.\n",
        "    \"\"\"\n",
        "    input_sequences = []\n",
        "    target_sequences = []\n",
        "\n",
        "    for i in tqdm(range(0, len(text) - seq_length - target_offset, stride),\n",
        "                 desc=\"Generating sequences\"):\n",
        "        # Input sequence\n",
        "        input_seq = text[i:i + seq_length]\n",
        "        # Target sequence (shifted by 1 position)\n",
        "        target_seq = text[i + target_offset:i + target_offset + seq_length]\n",
        "\n",
        "        # Convert characters to indices\n",
        "        input_indices = [char_to_index[c] for c in input_seq]\n",
        "        target_indices = [char_to_index[c] for c in target_seq]\n",
        "\n",
        "        input_sequences.append(input_indices)\n",
        "        target_sequences.append(target_indices)\n",
        "\n",
        "    return np.array(input_sequences), np.array(target_sequences)\n",
        "\n",
        "def generate_sequences_for_transformer_(text, char_to_index, seq_length=128, stride=16, target_offset=1):\n",
        "    \"\"\"\n",
        "    Generate sequences where:\n",
        "    - input_sequences are characters 1-128\n",
        "    - target_sequences are characters 129-256\n",
        "    \"\"\"\n",
        "    input_sequences = []\n",
        "    target_sequences = []\n",
        "\n",
        "    for i in tqdm(range(0, len(text) - seq_length*2, stride)):\n",
        "        # Input sequence: first 128 characters\n",
        "        input_seq = text[i:i + seq_length]\n",
        "        # Target sequence: next 128 characters\n",
        "        target_seq = text[i + seq_length:i + seq_length*2]\n",
        "\n",
        "        input_indices = [char_to_index[c] for c in input_seq]\n",
        "        target_indices = [char_to_index[c] for c in target_seq]\n",
        "\n",
        "        input_sequences.append(input_indices)\n",
        "        target_sequences.append(target_indices)\n",
        "\n",
        "    return np.array(input_sequences), np.array(target_sequences)"
      ]
    },
    {
      "cell_type": "code",
      "execution_count": null,
      "id": "afb1944a",
      "metadata": {
        "colab": {
          "base_uri": "https://localhost:8080/"
        },
        "id": "afb1944a",
        "outputId": "69b56c04-a0dd-407f-cf38-52f8d27a1768"
      },
      "outputs": [
        {
          "name": "stdout",
          "output_type": "stream",
          "text": [
            "Device: cuda\n"
          ]
        }
      ],
      "source": [
        "import torch\n",
        "from torch.utils.data import DataLoader, Dataset, TensorDataset, random_split\n",
        "\n",
        "if torch.cuda.is_available():\n",
        "    device = torch.device(\"cuda\")\n",
        "else:\n",
        "    device = torch.device(\"cpu\")\n",
        "\n",
        "print(f\"Device: {device}\")"
      ]
    },
    {
      "cell_type": "code",
      "execution_count": null,
      "id": "b11ff0d1",
      "metadata": {
        "colab": {
          "base_uri": "https://localhost:8080/"
        },
        "id": "b11ff0d1",
        "outputId": "7d4b8997-cbb3-4740-c003-a31800136da5"
      },
      "outputs": [
        {
          "name": "stdout",
          "output_type": "stream",
          "text": [
            "Vocabulary size: 119\n"
          ]
        },
        {
          "name": "stderr",
          "output_type": "stream",
          "text": [
            "Generating sequences: 100%|██████████| 110002/110002 [00:02<00:00, 47181.43it/s]\n"
          ]
        },
        {
          "name": "stdout",
          "output_type": "stream",
          "text": [
            "Input sequences shape: torch.Size([110002, 128])\n",
            "Target sequences shape: torch.Size([110002, 128])\n"
          ]
        }
      ],
      "source": [
        "# Data preparation\n",
        "USE_ALL_BOOKS = False\n",
        "if 'google.colab' in str(get_ipython()):\n",
        "    USE_ALL_BOOKS = True\n",
        "\n",
        "sequence_length = 128\n",
        "stride = 96\n",
        "target_offset = 1\n",
        "\n",
        "if USE_ALL_BOOKS:\n",
        "    # Load text and prepare data\n",
        "    all_texts = ''.join(text_list)\n",
        "    # all_texts = all_texts[:len(all_texts)//10]\n",
        "    # all_texts += all_texts[len(all_texts)//2:len(all_texts)//2 + len(all_texts)//10]\n",
        "    # all_texts += all_texts[len(all_texts)//2 + len(all_texts)//10:]\n",
        "    vocab_size, unique_chars = count_unique_chars(all_texts)\n",
        "    char_to_index, index_to_char = create_char_mappings(unique_chars)\n",
        "    print(f\"Vocabulary size: {vocab_size}\")\n",
        "    input_seqs, target_seqs = generate_sequences_for_transformer(\n",
        "        all_texts, char_to_index, seq_length=sequence_length, stride=stride, target_offset=target_offset\n",
        "    )\n",
        "else:\n",
        "    text = text_list[0]\n",
        "    text = text[:len(text)//1]\n",
        "    vocab_size, unique_chars = count_unique_chars(text)\n",
        "    char_to_index, index_to_char = create_char_mappings(unique_chars)\n",
        "    print(f\"Vocabulary size: {vocab_size}\")\n",
        "    input_seqs, target_seqs = generate_sequences_for_transformer(\n",
        "        text, char_to_index, seq_length=sequence_length, stride=stride, target_offset=target_offset\n",
        "    )\n",
        "\n",
        "# Convert to PyTorch tensors\n",
        "input_seqs = torch.tensor(input_seqs, dtype=torch.long).to(device)\n",
        "target_seqs = torch.tensor(target_seqs, dtype=torch.long).to(device)\n",
        "\n",
        "# Create datasets\n",
        "dataset = TensorDataset(input_seqs, target_seqs)\n",
        "train_size = int(0.8 * len(dataset))\n",
        "train_dataset = TensorDataset(input_seqs[:train_size], target_seqs[:train_size])\n",
        "val_dataset = TensorDataset(input_seqs[train_size:], target_seqs[train_size:])\n",
        "\n",
        "print(\"Input sequences shape:\", input_seqs.shape)\n",
        "print(\"Target sequences shape:\", target_seqs.shape)\n",
        "\n",
        "# Create data loaders\n",
        "train_loader = DataLoader(train_dataset, batch_size=64, shuffle=True)\n",
        "val_loader = DataLoader(val_dataset, batch_size=64, shuffle=False)"
      ]
    },
    {
      "cell_type": "code",
      "execution_count": null,
      "id": "0eb274a6",
      "metadata": {
        "colab": {
          "base_uri": "https://localhost:8080/"
        },
        "id": "0eb274a6",
        "outputId": "468cc456-21c9-4b6c-c220-eff8bc24c532"
      },
      "outputs": [
        {
          "name": "stdout",
          "output_type": "stream",
          "text": [
            ">Example input sequence:\n",
            " ﻿The Project Gutenberg eBook of The Complete Works of William Shakespeare\n",
            "    \n",
            "This ebook is for the use of anyone anywhere in t\n",
            ">Example target sequence:\n",
            " The Project Gutenberg eBook of The Complete Works of William Shakespeare\n",
            "    \n",
            "This ebook is for the use of anyone anywhere in th\n",
            ">Example input sequence:\n",
            "  the use of anyone anywhere in the United States and\n",
            "most other parts of the world at no cost and with almost no restrictions\n",
            "wh\n",
            ">Example target sequence:\n",
            " the use of anyone anywhere in the United States and\n",
            "most other parts of the world at no cost and with almost no restrictions\n",
            "wha\n"
          ]
        }
      ],
      "source": [
        "temp_test_input_seq_0 = input_seqs[0].cpu().numpy()\n",
        "temp_test_target_seq_0 = target_seqs[0].cpu().numpy()\n",
        "print(\">Example input sequence:\\n\", ''.join([index_to_char[idx] for idx in temp_test_input_seq_0]))\n",
        "print(\">Example target sequence:\\n\", ''.join([index_to_char[idx] for idx in temp_test_target_seq_0]))\n",
        "temp_test_input_seq_1 = input_seqs[1].cpu().numpy()\n",
        "temp_test_target_seq_1 = target_seqs[1].cpu().numpy()\n",
        "print(\">Example input sequence:\\n\", ''.join([index_to_char[idx] for idx in temp_test_input_seq_1]))\n",
        "print(\">Example target sequence:\\n\", ''.join([index_to_char[idx] for idx in temp_test_target_seq_1]))"
      ]
    },
    {
      "cell_type": "code",
      "execution_count": null,
      "id": "f42f7c13",
      "metadata": {
        "id": "f42f7c13"
      },
      "outputs": [],
      "source": [
        "import torch.nn as nn\n",
        "import math\n",
        "\n",
        "class PositionalEncoding(nn.Module):\n",
        "    def __init__(self, d_model, max_len=128, dropout=0.1):\n",
        "        super().__init__()\n",
        "        self.dropout = nn.Dropout(p=dropout)\n",
        "\n",
        "        position = torch.arange(max_len).unsqueeze(1)\n",
        "        div_term = torch.exp(torch.arange(0, d_model, 2).float() * (-math.log(10000.0) / d_model))\n",
        "        pe = torch.zeros(max_len, d_model)\n",
        "        pe[:, 0::2] = torch.sin(position * div_term)\n",
        "        pe[:, 1::2] = torch.cos(position * div_term)\n",
        "        self.register_buffer('pe', pe)\n",
        "\n",
        "    def forward(self, x):\n",
        "        x = x + self.pe[:x.size(1)]\n",
        "        return self.dropout(x)\n",
        "\n",
        "class TransformerModel(nn.Module):\n",
        "    def __init__(self, vocab_size, d_model=256, nhead=8, num_layers=4,\n",
        "                 dim_feedforward=1024, dropout=0.2):\n",
        "        super().__init__()\n",
        "        self.d_model = d_model\n",
        "\n",
        "        self.embedding = nn.Embedding(vocab_size, d_model)\n",
        "        self.pos_encoder = PositionalEncoding(d_model, dropout=dropout)\n",
        "        encoder_layer = nn.TransformerEncoderLayer(\n",
        "            d_model=d_model,\n",
        "            nhead=nhead,\n",
        "            dim_feedforward=dim_feedforward,\n",
        "            dropout=dropout,\n",
        "            batch_first=True\n",
        "        )\n",
        "        self.transformer_encoder = nn.TransformerEncoder(encoder_layer, num_layers)\n",
        "        self.decoder = nn.Linear(d_model, vocab_size)\n",
        "\n",
        "        self.init_weights()\n",
        "\n",
        "    def init_weights(self):\n",
        "        initrange = 0.1\n",
        "        self.embedding.weight.data.uniform_(-initrange, initrange)\n",
        "        self.decoder.bias.data.zero_()\n",
        "        self.decoder.weight.data.uniform_(-initrange, initrange)\n",
        "\n",
        "    def forward(self, src):\n",
        "        mask = self._generate_square_subsequent_mask(src.size(1)).to(src.device)\n",
        "        src_mask = mask\n",
        "\n",
        "        src = self.embedding(src) * math.sqrt(self.d_model)\n",
        "        src = self.pos_encoder(src)\n",
        "        output = self.transformer_encoder(src, src_mask)\n",
        "        output = self.decoder(output)\n",
        "        return output\n",
        "\n",
        "    def _generate_square_subsequent_mask(self, sz):\n",
        "        mask = (torch.triu(torch.ones(sz, sz)) == 1).transpose(0, 1)\n",
        "        mask = mask.float().masked_fill(mask == 0, float('-inf')).masked_fill(mask == 1, float(0.0))\n",
        "        return mask\n",
        "\n",
        "class WarmupLR:\n",
        "    def __init__(self, optimizer, d_model, warmup_steps=4000):\n",
        "        self.optimizer = optimizer\n",
        "        self.d_model = d_model\n",
        "        self.warmup_steps = warmup_steps\n",
        "        self.step_num = 0\n",
        "\n",
        "    def step(self):\n",
        "        self.step_num += 1\n",
        "        lr = self.d_model ** (-0.5) * min(self.step_num ** (-0.5),\n",
        "                                        self.step_num * self.warmup_steps ** (-1.5))\n",
        "        for param_group in self.optimizer.param_groups:\n",
        "            param_group['lr'] = lr"
      ]
    },
    {
      "cell_type": "code",
      "execution_count": null,
      "id": "2370b455",
      "metadata": {
        "colab": {
          "base_uri": "https://localhost:8080/"
        },
        "id": "2370b455",
        "outputId": "36c30133-0809-4419-b3ad-3261187b618c"
      },
      "outputs": [
        {
          "name": "stderr",
          "output_type": "stream",
          "text": [
            "\r  0%|          | 0/20 [00:00<?, ?it/s]"
          ]
        },
        {
          "name": "stdout",
          "output_type": "stream",
          "text": [
            "Update 0, Train Loss: 5.7085, Train Acc: 0.0052, Val Loss: 5.7326, Val Acc: 0.0065, LR: 0.0000\n",
            "Update 1000, Train Loss: 2.0269, Train Acc: 0.4014, Val Loss: 2.0298, Val Acc: 0.4067, LR: 0.0002\n"
          ]
        },
        {
          "name": "stderr",
          "output_type": "stream",
          "text": [
            "\r  5%|▌         | 1/20 [04:28<1:24:58, 268.33s/it]"
          ]
        },
        {
          "name": "stdout",
          "output_type": "stream",
          "text": [
            "Epoch 1, Average loss: 2.3699\n",
            "Update 2000, Train Loss: 1.6568, Train Acc: 0.4927, Val Loss: 1.7426, Val Acc: 0.4913, LR: 0.0003\n"
          ]
        },
        {
          "name": "stderr",
          "output_type": "stream",
          "text": [
            "\r 10%|█         | 2/20 [08:32<1:16:17, 254.30s/it]"
          ]
        },
        {
          "name": "stdout",
          "output_type": "stream",
          "text": [
            "Epoch 2, Average loss: 1.6795\n",
            "Update 3000, Train Loss: 1.5833, Train Acc: 0.5171, Val Loss: 1.6349, Val Acc: 0.5167, LR: 0.0005\n",
            "Update 4000, Train Loss: 1.4895, Train Acc: 0.5424, Val Loss: 1.5918, Val Acc: 0.5304, LR: 0.0007\n"
          ]
        },
        {
          "name": "stderr",
          "output_type": "stream",
          "text": [
            "\r 15%|█▌        | 3/20 [12:55<1:13:11, 258.35s/it]"
          ]
        },
        {
          "name": "stdout",
          "output_type": "stream",
          "text": [
            "Epoch 3, Average loss: 1.5130\n",
            "Update 5000, Train Loss: 1.4133, Train Acc: 0.5692, Val Loss: 1.5559, Val Acc: 0.5409, LR: 0.0006\n"
          ]
        },
        {
          "name": "stderr",
          "output_type": "stream",
          "text": [
            "\r 20%|██        | 4/20 [16:57<1:07:05, 251.61s/it]"
          ]
        },
        {
          "name": "stdout",
          "output_type": "stream",
          "text": [
            "Epoch 4, Average loss: 1.4305\n",
            "Update 6000, Train Loss: 1.4079, Train Acc: 0.5607, Val Loss: 1.5210, Val Acc: 0.5504, LR: 0.0006\n"
          ]
        },
        {
          "name": "stderr",
          "output_type": "stream",
          "text": [
            "\r 25%|██▌       | 5/20 [20:58<1:01:57, 247.84s/it]"
          ]
        },
        {
          "name": "stdout",
          "output_type": "stream",
          "text": [
            "Epoch 5, Average loss: 1.3734\n",
            "Update 7000, Train Loss: 1.3294, Train Acc: 0.5801, Val Loss: 1.5084, Val Acc: 0.5563, LR: 0.0005\n",
            "Update 8000, Train Loss: 1.3957, Train Acc: 0.5687, Val Loss: 1.4884, Val Acc: 0.5613, LR: 0.0005\n"
          ]
        },
        {
          "name": "stderr",
          "output_type": "stream",
          "text": [
            "\r 30%|███       | 6/20 [25:19<58:53, 252.38s/it]  "
          ]
        },
        {
          "name": "stdout",
          "output_type": "stream",
          "text": [
            "Epoch 6, Average loss: 1.3367\n",
            "Update 9000, Train Loss: 1.3131, Train Acc: 0.5894, Val Loss: 1.4753, Val Acc: 0.5650, LR: 0.0005\n"
          ]
        },
        {
          "name": "stderr",
          "output_type": "stream",
          "text": [
            "\r 35%|███▌      | 7/20 [29:20<53:52, 248.66s/it]"
          ]
        },
        {
          "name": "stdout",
          "output_type": "stream",
          "text": [
            "Epoch 7, Average loss: 1.3108\n",
            "Update 10000, Train Loss: 1.3085, Train Acc: 0.5906, Val Loss: 1.4718, Val Acc: 0.5687, LR: 0.0004\n",
            "Update 11000, Train Loss: 1.2853, Train Acc: 0.6014, Val Loss: 1.4602, Val Acc: 0.5715, LR: 0.0004\n"
          ]
        },
        {
          "name": "stderr",
          "output_type": "stream",
          "text": [
            "\r 40%|████      | 8/20 [33:41<50:31, 252.58s/it]"
          ]
        },
        {
          "name": "stdout",
          "output_type": "stream",
          "text": [
            "Epoch 8, Average loss: 1.2907\n",
            "Update 12000, Train Loss: 1.2627, Train Acc: 0.6028, Val Loss: 1.4562, Val Acc: 0.5742, LR: 0.0004\n"
          ]
        },
        {
          "name": "stderr",
          "output_type": "stream",
          "text": [
            "\r 45%|████▌     | 9/20 [37:42<45:37, 248.89s/it]"
          ]
        },
        {
          "name": "stdout",
          "output_type": "stream",
          "text": [
            "Epoch 9, Average loss: 1.2742\n",
            "Update 13000, Train Loss: 1.2312, Train Acc: 0.6108, Val Loss: 1.4439, Val Acc: 0.5768, LR: 0.0004\n"
          ]
        },
        {
          "name": "stderr",
          "output_type": "stream",
          "text": [
            "\r 50%|█████     | 10/20 [41:42<41:03, 246.34s/it]"
          ]
        },
        {
          "name": "stdout",
          "output_type": "stream",
          "text": [
            "Epoch 10, Average loss: 1.2603\n",
            "Update 14000, Train Loss: 1.2221, Train Acc: 0.6145, Val Loss: 1.4427, Val Acc: 0.5796, LR: 0.0004\n",
            "Update 15000, Train Loss: 1.2646, Train Acc: 0.6068, Val Loss: 1.4299, Val Acc: 0.5819, LR: 0.0004\n"
          ]
        },
        {
          "name": "stderr",
          "output_type": "stream",
          "text": [
            "\r 55%|█████▌    | 11/20 [46:04<37:37, 250.87s/it]"
          ]
        },
        {
          "name": "stdout",
          "output_type": "stream",
          "text": [
            "Epoch 11, Average loss: 1.2493\n",
            "Update 16000, Train Loss: 1.2158, Train Acc: 0.6162, Val Loss: 1.4410, Val Acc: 0.5799, LR: 0.0003\n"
          ]
        },
        {
          "name": "stderr",
          "output_type": "stream",
          "text": [
            "\r 60%|██████    | 12/20 [50:04<33:01, 247.74s/it]"
          ]
        },
        {
          "name": "stdout",
          "output_type": "stream",
          "text": [
            "Epoch 12, Average loss: 1.2391\n",
            "Update 17000, Train Loss: 1.2179, Train Acc: 0.6182, Val Loss: 1.4263, Val Acc: 0.5834, LR: 0.0003\n"
          ]
        },
        {
          "name": "stderr",
          "output_type": "stream",
          "text": [
            "\r 65%|██████▌   | 13/20 [54:05<28:39, 245.59s/it]"
          ]
        },
        {
          "name": "stdout",
          "output_type": "stream",
          "text": [
            "Epoch 13, Average loss: 1.2305\n",
            "Update 18000, Train Loss: 1.2129, Train Acc: 0.6151, Val Loss: 1.4319, Val Acc: 0.5836, LR: 0.0003\n",
            "Update 19000, Train Loss: 1.2081, Train Acc: 0.6118, Val Loss: 1.4287, Val Acc: 0.5847, LR: 0.0003\n"
          ]
        },
        {
          "name": "stderr",
          "output_type": "stream",
          "text": [
            "\r 70%|███████   | 14/20 [58:26<25:01, 250.24s/it]"
          ]
        },
        {
          "name": "stdout",
          "output_type": "stream",
          "text": [
            "Epoch 14, Average loss: 1.2221\n",
            "Update 20000, Train Loss: 1.2429, Train Acc: 0.6151, Val Loss: 1.4327, Val Acc: 0.5855, LR: 0.0003\n"
          ]
        },
        {
          "name": "stderr",
          "output_type": "stream",
          "text": [
            "\r 75%|███████▌  | 15/20 [1:02:26<20:36, 247.33s/it]"
          ]
        },
        {
          "name": "stdout",
          "output_type": "stream",
          "text": [
            "Epoch 15, Average loss: 1.2150\n",
            "Update 21000, Train Loss: 1.2221, Train Acc: 0.6147, Val Loss: 1.4251, Val Acc: 0.5860, LR: 0.0003\n",
            "Update 22000, Train Loss: 1.1856, Train Acc: 0.6287, Val Loss: 1.4234, Val Acc: 0.5879, LR: 0.0003\n"
          ]
        },
        {
          "name": "stderr",
          "output_type": "stream",
          "text": [
            "\r 80%|████████  | 16/20 [1:06:47<16:45, 251.41s/it]"
          ]
        },
        {
          "name": "stdout",
          "output_type": "stream",
          "text": [
            "Epoch 16, Average loss: 1.2086\n",
            "Update 23000, Train Loss: 1.1744, Train Acc: 0.6306, Val Loss: 1.4239, Val Acc: 0.5878, LR: 0.0003\n"
          ]
        },
        {
          "name": "stderr",
          "output_type": "stream",
          "text": [
            "\r 85%|████████▌ | 17/20 [1:10:48<12:24, 248.12s/it]"
          ]
        },
        {
          "name": "stdout",
          "output_type": "stream",
          "text": [
            "Epoch 17, Average loss: 1.2028\n",
            "Update 24000, Train Loss: 1.2015, Train Acc: 0.6226, Val Loss: 1.4196, Val Acc: 0.5885, LR: 0.0003\n"
          ]
        },
        {
          "name": "stderr",
          "output_type": "stream",
          "text": [
            "\r 90%|█████████ | 18/20 [1:14:48<08:11, 245.86s/it]"
          ]
        },
        {
          "name": "stdout",
          "output_type": "stream",
          "text": [
            "Epoch 18, Average loss: 1.1973\n",
            "Update 25000, Train Loss: 1.1860, Train Acc: 0.6256, Val Loss: 1.4167, Val Acc: 0.5886, LR: 0.0003\n",
            "Update 26000, Train Loss: 1.1450, Train Acc: 0.6367, Val Loss: 1.4205, Val Acc: 0.5894, LR: 0.0003\n"
          ]
        },
        {
          "name": "stderr",
          "output_type": "stream",
          "text": [
            "\r 95%|█████████▌| 19/20 [1:19:09<04:10, 250.39s/it]"
          ]
        },
        {
          "name": "stdout",
          "output_type": "stream",
          "text": [
            "Epoch 19, Average loss: 1.1924\n",
            "Update 27000, Train Loss: 1.2090, Train Acc: 0.6198, Val Loss: 1.4126, Val Acc: 0.5892, LR: 0.0003\n"
          ]
        },
        {
          "name": "stderr",
          "output_type": "stream",
          "text": [
            "100%|██████████| 20/20 [1:23:10<00:00, 249.51s/it]"
          ]
        },
        {
          "name": "stdout",
          "output_type": "stream",
          "text": [
            "Epoch 20, Average loss: 1.1877\n"
          ]
        },
        {
          "name": "stderr",
          "output_type": "stream",
          "text": [
            "\n"
          ]
        }
      ],
      "source": [
        "# Training setup\n",
        "model = TransformerModel(\n",
        "    vocab_size,\n",
        "    d_model=512,\n",
        "    nhead=16,\n",
        "    num_layers=6,\n",
        "    dim_feedforward=2048,\n",
        "    dropout=0.2\n",
        ").to(device)\n",
        "criterion = nn.CrossEntropyLoss()\n",
        "optimizer = torch.optim.Adam(model.parameters(), lr=0, betas=(0.9, 0.98), eps=1e-9)\n",
        "scheduler = WarmupLR(optimizer, d_model=512)\n",
        "\n",
        "# Training and validation tracking\n",
        "training_losses = []\n",
        "validation_losses = []\n",
        "training_accuracies = []\n",
        "validation_accuracies = []\n",
        "update_counts = []\n",
        "update_cnt = 0\n",
        "\n",
        "# Training loop\n",
        "num_epochs = 20\n",
        "for epoch in tqdm(range(num_epochs)):\n",
        "    model.train()\n",
        "    total_loss = 0\n",
        "\n",
        "    for batch_idx, (input_seq, target_seq) in enumerate(train_loader):\n",
        "        input_seq, target_seq = input_seq.to(device), target_seq.to(device)\n",
        "        seq_len = input_seq.size(1)\n",
        "        # src_mask = generate_square_subsequent_mask(seq_len).to(device)\n",
        "\n",
        "        optimizer.zero_grad()\n",
        "        output = model(input_seq)\n",
        "        loss = criterion(output.view(-1, vocab_size), target_seq.view(-1))\n",
        "\n",
        "        loss.backward()\n",
        "        torch.nn.utils.clip_grad_norm_(model.parameters(), 0.5)\n",
        "        optimizer.step()\n",
        "        scheduler.step()\n",
        "\n",
        "        total_loss += loss.item()\n",
        "\n",
        "        # Record metrics every 100 updates\n",
        "        if update_cnt % 100 == 0:\n",
        "            training_losses.append(loss.item())\n",
        "            update_counts.append(update_cnt)\n",
        "\n",
        "            with torch.no_grad():\n",
        "                pred = output.argmax(dim=-1)\n",
        "                accuracy = (pred == target_seq).float().mean().item()\n",
        "                training_accuracies.append(accuracy)\n",
        "\n",
        "        # Validation every 1000 updates\n",
        "        if update_cnt % 1000 == 0:\n",
        "            model.eval()\n",
        "            val_loss = 0\n",
        "            val_accuracy = 0\n",
        "            num_batches = 0\n",
        "\n",
        "            with torch.no_grad():\n",
        "                for val_input, val_target in val_loader:\n",
        "                    val_input, val_target = val_input.to(device), val_target.to(device)\n",
        "                    # val_mask = generate_square_subsequent_mask(seq_len).to(device)\n",
        "\n",
        "                    # Predict next 128 characters\n",
        "                    pred_output = model(val_input)\n",
        "\n",
        "                    # Calculate loss on the future sequence\n",
        "                    val_loss += criterion(pred_output.view(-1, vocab_size), val_target.view(-1)).item()\n",
        "\n",
        "                    # For accuracy\n",
        "                    val_pred = pred_output.argmax(dim=-1)\n",
        "                    val_accuracy += (val_pred == val_target).float().mean().item()\n",
        "                    num_batches += 1\n",
        "\n",
        "            avg_val_loss = val_loss / num_batches\n",
        "            avg_val_accuracy = val_accuracy / num_batches\n",
        "            validation_losses.append(avg_val_loss)\n",
        "            validation_accuracies.append(avg_val_accuracy)\n",
        "\n",
        "            print(f'Update {update_cnt}, Train Loss: {loss.item():.4f}, '\n",
        "                  f'Train Acc: {accuracy:.4f}, Val Loss: {avg_val_loss:.4f}, '\n",
        "                  f'Val Acc: {avg_val_accuracy:.4f}, '\n",
        "                  f'LR: {optimizer.param_groups[0][\"lr\"]:.4f}')\n",
        "\n",
        "            model.train()\n",
        "\n",
        "        update_cnt += 1\n",
        "\n",
        "    print(f'Epoch {epoch+1}, Average loss: {total_loss/len(train_loader):.4f}')"
      ]
    },
    {
      "cell_type": "code",
      "execution_count": null,
      "id": "e089b6b4",
      "metadata": {
        "id": "e089b6b4"
      },
      "outputs": [],
      "source": [
        "# temp_test_input = np.array([58,  9, 41, 55, 27, 93, 41,  9, 68,  6, 55,  6,  1, 72, 66, 66, 82, 41,\n",
        "#         55, 73, 77, 30, 78, 72, 55, 62, 14, 72, 55, 77, 73,  9, 83,  6, 48, 55,\n",
        "#         30, 31, 55, 43, 30, 31, 64, 74, 14, 72, 55, 10, 31, 72,  6,  6, 55, 30,\n",
        "#         43, 55, 77, 30, 73, 62,  6, 55, 30, 31, 55, 10, 31, 79, 41, 72, 21, 55,\n",
        "#         58, 55, 10, 79, 72, 75, 72, 55, 30, 43, 55,  1, 30, 31, 83, 64, 45, 30,\n",
        "#         55, 77, 31, 73, 78, 72, 66, 93, 55, 41, 30,  9, 72, 48, 55,  6, 30, 55,\n",
        "#         31, 79, 75, 14, 48, 55, 62, 14, 73, 62, 55, 79, 62, 55, 41, 79, 41, 55,\n",
        "#          6, 62])\n",
        "# temp_test_target = np.array([31, 79, 78, 72, 64, 19,  9, 55,  1, 30, 31, 83, 57, 73,  9,  6, 14, 79,\n",
        "#         10, 55, 73,  9, 41, 55, 78, 73, 66, 68, 72, 80, 55,  1, 14, 79, 75, 14,\n",
        "#         55, 19, 55,  1, 30,  9, 41, 72, 31, 82, 41, 64, 27, 30, 68, 66, 41, 55,\n",
        "#         77, 72, 55,  6, 30, 55, 31, 73, 31, 72, 66, 93, 55, 73,  9, 41, 55, 72,\n",
        "#         50, 73, 75, 62, 66, 93, 55,  1, 31, 30, 68, 51, 14, 62, 48, 64, 45, 79,\n",
        "#          9, 75, 72, 55, 62, 14, 72, 55, 62, 31, 68, 72, 55, 66, 79, 43, 72, 55,\n",
        "#         30,  9, 82, 62, 55,  1, 73,  6, 92, 64, 64, 39, 42, 45, 74, 52, 53, 90,\n",
        "#         53, 45])\n",
        "# temp_test_input_char = []\n",
        "# temp_test_target_char = []\n",
        "# for i in range(len(temp_test_input)):\n",
        "#     temp_test_input_char.append(index_to_char[temp_test_input[i]])\n",
        "# for i in range(len(temp_test_target)):\n",
        "#     temp_test_target_char.append(index_to_char[temp_test_target[i]])\n",
        "# print(\">Input:\")\n",
        "# print(''.join(temp_test_input_char))\n",
        "# print(\">Target:\")\n",
        "# print(''.join(temp_test_target_char))"
      ]
    },
    {
      "cell_type": "code",
      "execution_count": null,
      "id": "8580faa1",
      "metadata": {
        "colab": {
          "base_uri": "https://localhost:8080/",
          "height": 957
        },
        "id": "8580faa1",
        "outputId": "4375684a-33e9-4142-8a44-afe10cb788d2"
      },
      "outputs": [
        {
          "data": {
            "image/png": "[encoded data removed]",
            "text/plain": [
              "<Figure size 1000x500 with 1 Axes>"
            ]
          },
          "metadata": {},
          "output_type": "display_data"
        },
        {
          "data": {
            "image/png": "[encoded data removed]",
            "text/plain": [
              "<Figure size 1000x500 with 1 Axes>"
            ]
          },
          "metadata": {},
          "output_type": "display_data"
        }
      ],
      "source": [
        "import matplotlib.pyplot as plt\n",
        "\n",
        "# Save the accuracies and errors and .npy file\n",
        "np.save(f'{dir_root}/attention_training_losses.npy', training_losses)\n",
        "np.save(f'{dir_root}/attention_validation_losses.npy', validation_losses)\n",
        "np.save(f'{dir_root}/attention_training_accuracies.npy', training_accuracies)\n",
        "np.save(f'{dir_root}/attention_validation_accuracies.npy', validation_accuracies)\n",
        "np.save(f'{dir_root}/attention_update_counts.npy', update_counts)\n",
        "\n",
        "# Calculate errors: error = 1 - accuracy\n",
        "training_errors = [1 - acc for acc in training_accuracies]\n",
        "validation_errors = [1 - acc for acc in validation_accuracies]\n",
        "\n",
        "# Plot training and validation loss\n",
        "plt.figure(figsize=(10, 5))\n",
        "plt.plot(update_counts, training_losses, label='Training Loss')\n",
        "plt.plot(range(0, len(validation_losses) * 1000, 1000), validation_losses, label='Validation Loss')\n",
        "plt.xlabel('Weight Updates')\n",
        "plt.ylabel('Loss')\n",
        "plt.title('Training and Validation Loss vs. Weight Updates')\n",
        "plt.legend()\n",
        "\n",
        "# Plot training and validation error\n",
        "plt.figure(figsize=(10, 5))\n",
        "plt.plot(update_counts, training_errors, label='Training Error')\n",
        "plt.plot(range(0, len(validation_errors) * 1000, 1000), validation_errors, label='Validation Error')\n",
        "plt.xlabel('Weight Updates')\n",
        "plt.ylabel('Error')\n",
        "plt.title('Training and Validation Error vs. Weight Updates')\n",
        "plt.legend()\n",
        "\n",
        "plt.show()"
      ]
    },
    {
      "cell_type": "code",
      "execution_count": null,
      "id": "31c109614febf416",
      "metadata": {
        "colab": {
          "base_uri": "https://localhost:8080/",
          "height": 216
        },
        "id": "31c109614febf416",
        "outputId": "4ea3b194-ad68-4065-edd6-2794dcbd37b7"
      },
      "outputs": [
        {
          "ename": "NameError",
          "evalue": "name 'model' is not defined",
          "output_type": "error",
          "traceback": [
            "\u001b[0;31m---------------------------------------------------------------------------\u001b[0m",
            "\u001b[0;31mNameError\u001b[0m                                 Traceback (most recent call last)",
            "\u001b[0;32m<ipython-input-5-f316e7ba06bc>\u001b[0m in \u001b[0;36m<cell line: 3>\u001b[0;34m()\u001b[0m\n\u001b[1;32m      2\u001b[0m \u001b[0mmodel_path\u001b[0m \u001b[0;34m=\u001b[0m \u001b[0;34mf'{dir_root}/char_attention_model.pth'\u001b[0m\u001b[0;34m\u001b[0m\u001b[0;34m\u001b[0m\u001b[0m\n\u001b[1;32m      3\u001b[0m torch.save({\n\u001b[0;32m----> 4\u001b[0;31m     \u001b[0;34m'model_state_dict'\u001b[0m\u001b[0;34m:\u001b[0m \u001b[0mmodel\u001b[0m\u001b[0;34m.\u001b[0m\u001b[0mstate_dict\u001b[0m\u001b[0;34m(\u001b[0m\u001b[0;34m)\u001b[0m\u001b[0;34m,\u001b[0m\u001b[0;34m\u001b[0m\u001b[0;34m\u001b[0m\u001b[0m\n\u001b[0m\u001b[1;32m      5\u001b[0m     \u001b[0;34m'optimizer_state_dict'\u001b[0m\u001b[0;34m:\u001b[0m \u001b[0moptimizer\u001b[0m\u001b[0;34m.\u001b[0m\u001b[0mstate_dict\u001b[0m\u001b[0;34m(\u001b[0m\u001b[0;34m)\u001b[0m\u001b[0;34m,\u001b[0m\u001b[0;34m\u001b[0m\u001b[0;34m\u001b[0m\u001b[0m\n\u001b[1;32m      6\u001b[0m     \u001b[0;34m'vocab_size'\u001b[0m\u001b[0;34m:\u001b[0m \u001b[0mvocab_size\u001b[0m\u001b[0;34m,\u001b[0m\u001b[0;34m\u001b[0m\u001b[0;34m\u001b[0m\u001b[0m\n",
            "\u001b[0;31mNameError\u001b[0m: name 'model' is not defined"
          ]
        }
      ],
      "source": [
        "# Save the trained model\n",
        "model_path = f'{dir_root}/char_attention_model.pth'\n",
        "torch.save({\n",
        "    'model_state_dict': model.state_dict(),\n",
        "    'optimizer_state_dict': optimizer.state_dict(),\n",
        "    'vocab_size': vocab_size,\n",
        "    'char_to_index': char_to_index,\n",
        "    'index_to_char': index_to_char\n",
        "}, model_path)\n",
        "print(f\"Model saved to {model_path}\")"
      ]
    },
    {
      "cell_type": "code",
      "execution_count": null,
      "id": "b3e976a5ab339735",
      "metadata": {
        "colab": {
          "base_uri": "https://localhost:8080/"
        },
        "id": "b3e976a5ab339735",
        "outputId": "fdc263e2-6583-41c3-d246-e7cf9fcd3c40"
      },
      "outputs": [
        {
          "name": "stderr",
          "output_type": "stream",
          "text": [
            "<ipython-input-9-a3c2f9b3ec2f>:4: FutureWarning: You are using `torch.load` with `weights_only=False` (the current default value), which uses the default pickle module implicitly. It is possible to construct malicious pickle data which will execute arbitrary code during unpickling (See https://github.com/pytorch/pytorch/blob/main/SECURITY.md#untrusted-models for more details). In a future release, the default value for `weights_only` will be flipped to `True`. This limits the functions that could be executed during unpickling. Arbitrary objects will no longer be allowed to be loaded via this mode unless they are explicitly allowlisted by the user via `torch.serialization.add_safe_globals`. We recommend you start setting `weights_only=True` for any use case where you don't have full control of the loaded file. Please open an issue on GitHub for any issues related to this experimental feature.\n",
            "  checkpoint = torch.load(model_path)\n"
          ]
        }
      ],
      "source": [
        "# Load the model for generation\n",
        "vocab_size = 119\n",
        "def load_model_for_generation(model_path):\n",
        "    checkpoint = torch.load(model_path)\n",
        "    model = TransformerModel(\n",
        "        vocab_size,\n",
        "        d_model=512,\n",
        "        nhead=16,\n",
        "        num_layers=6,\n",
        "        dim_feedforward=2048,\n",
        "        dropout=0.2\n",
        "    ).to(device)\n",
        "    model.load_state_dict(checkpoint['model_state_dict'])\n",
        "    model.eval()\n",
        "    return model, checkpoint['char_to_index'], checkpoint['index_to_char']\n",
        "\n",
        "# Load model and generate text\n",
        "model_path = f'{dir_root}/char_attention_model.pth'\n",
        "loaded_model, loaded_char_to_index, loaded_index_to_char = load_model_for_generation(model_path)"
      ]
    },
    {
      "cell_type": "code",
      "execution_count": null,
      "id": "9cc2f74e",
      "metadata": {
        "colab": {
          "base_uri": "https://localhost:8080/"
        },
        "id": "9cc2f74e",
        "outputId": "214722bd-736f-43df-9c31-2c70f43d5c6d"
      },
      "outputs": [
        {
          "name": "stdout",
          "output_type": "stream",
          "text": [
            "\n",
            "Generating text with different temperatures:\n",
            "\n",
            "Prompt: Heads up! The tr\n",
            "\n",
            "Temperature 0.1:\n",
            "Heads up! The truth is the strange thing that the strange thing is\n",
            "the stranger of the strange thing that the strange thing is the strange\n",
            "thing that the strength of the strength of the matter is the strength of\n",
            "the strength of the truth of the strength of the strength of the troops\n",
            "and the strength of the strength of the streets of the troops and the\n",
            "streets of the streets were standing in the streets of the streets,\n",
            "and the streets were standing in the streets of the streets where they\n",
            "were standing at the streets were standing by the streets. The streets\n",
            "were standing in the streets and the streets were standing at the streets\n",
            "and the streets were standing in the streets and the streets were\n",
            "standing in the streets. The streets were standing at the streets and\n",
            "the streets were standing in the streets and the streets were standing\n",
            "in the streets of the streets and the streets were standing in the\n",
            "streets. The streets were standing in the streets and the streets were\n",
            "standing at the streets and the streets w\n",
            "--------------------------------------------------------------------------------\n",
            "Generated text saved to /content/drive/MyDrive/Colab Notebooks/ESE546/hw3/generated_text_attention_Heads_temp_0.1.txt\n",
            "\n",
            "Temperature 0.5:\n",
            "Heads up! The travelling and the bridge of the two sunshine\n",
            "is a sun and the enemy of the sunshine of the ranks of the commander in\n",
            "chief. The commander in chief’s commander in chief and the sun was\n",
            "not there a drawing room. The march was a strange feeling of his house\n",
            "and the marches showed him the ballroom.\n",
            "\n",
            "“The count is a man of the countess’ with my face,” answered her husband,\n",
            "and struck her head and shrugged her hand. “There is a man of many footsteps\n",
            "in her hands and the other shadows of her passions and the carriages of\n",
            "the shoulders. It was the sun who seemed to her handsome face was\n",
            "glad to see the sound of the three storms and the passages were still\n",
            "with her.\n",
            "\n",
            "“What a business is the matter?” he asked.\n",
            "\n",
            "“What is the matter?” he asked.\n",
            "\n",
            "“And I have said to him as if you have a reply when I am angry, I have\n",
            "a special officer to my wife and I have to be a pleasant man. The same\n",
            "time is a blessing of a man and the man is a man that I left my heart\n",
            "and the great aim of my father’s part, and I will say\n",
            "--------------------------------------------------------------------------------\n",
            "Generated text saved to /content/drive/MyDrive/Colab Notebooks/ESE546/hw3/generated_text_attention_Heads_temp_0.5.txt\n",
            "\n",
            "Temperature 1.0:\n",
            "Heads up! The traitors do not find.\n",
            "When they cried “interrupt Ophelia;\n",
            "They cover the heart earth and ravine.\n",
            "I did it not to you that, and enjoin your hands.\n",
            "What, hast thou come through this king, I’ll bring her room?\n",
            "\n",
            "WOOER.\n",
            "Clapplete pain, my lord, I’ll bring you to thy love,\n",
            "And draw ’em into thy heart.\n",
            "\n",
            "HAMLET.\n",
            "You shall stay back. Then I understand thee at that day whereof I\n",
            "know the subject, and my father’s magnificence and proportion is in\n",
            "last to be feared in Mariana silence. (It mugges himself it’s not for\n",
            "late, but thereupon I must needs be one dare, that I must see my birth,\n",
            "I hight not to forestall a beast; if it shall seem to pay the play of\n",
            "thee to bring thee the play of all thine: truly more than I do attend\n",
            "for thy own debts. What news o’ th’ world! The play lies comfortably\n",
            "with goodness from thy brother, and every weak thy power so long\n",
            "about it, that thou say’st so.\n",
            "\n",
            "HAMLET.\n",
            "Madam, bring me not. But good madam, I am children in afternoon.\n",
            "\n",
            "[_Drum._]\n",
            "\n",
            "ACHILLES.\n",
            "Now, sweet dog is happy! th\n",
            "--------------------------------------------------------------------------------\n",
            "Generated text saved to /content/drive/MyDrive/Colab Notebooks/ESE546/hw3/generated_text_attention_Heads_temp_1.0.txt\n",
            "\n",
            "Prompt: You are my sunsh\n",
            "\n",
            "Temperature 0.1:\n",
            "You are my sunshine.\n",
            "\n",
            "PROTEUS.\n",
            "What say you to your lordship?\n",
            "\n",
            "VALENTINE.\n",
            "Why, then, sir, I am so much as you are.\n",
            "\n",
            "PROTEUS.\n",
            "Then shall I say the world with your lordship?\n",
            "\n",
            "VALENTINE.\n",
            "The world is a world that you have seen your lordship.\n",
            "\n",
            "PROTEUS.\n",
            "The world is a world to see your lordship.\n",
            "\n",
            "VALENTINE.\n",
            "The world is a world that you have seen your lordship.\n",
            "\n",
            "PROTEUS.\n",
            "The world is a world to be so strange as your lordship.\n",
            "\n",
            "VALENTINE.\n",
            "What would you have the world to your lordship?\n",
            "\n",
            "PROTEUS.\n",
            "Ay, my lord.\n",
            "\n",
            "VALENTINE.\n",
            "What would you have the matter?\n",
            "\n",
            "VALENTINE.\n",
            "Ay, my lord.\n",
            "\n",
            "PROTEUS.\n",
            "The matter is a man that the matter is a man in the matter.\n",
            "\n",
            "VALENTINE.\n",
            "The matter is a man that has a man in the matter.\n",
            "\n",
            "VALENTINE.\n",
            "What says you to the matter?\n",
            "\n",
            "VALENTINE.\n",
            "A man in the matter.\n",
            "\n",
            "VALENTINE.\n",
            "I do not know what I do.\n",
            "\n",
            "VALENTINE.\n",
            "I do not know what I have done to hear the matter.\n",
            "\n",
            "VALENTINE.\n",
            "I do not know what I have done to have the same to have the matter.\n",
            "\n",
            "VIOLA.\n",
            "I do not know what I have done to have the same to ha\n",
            "--------------------------------------------------------------------------------\n",
            "Generated text saved to /content/drive/MyDrive/Colab Notebooks/ESE546/hw3/generated_text_attention_You a_temp_0.1.txt\n",
            "\n",
            "Temperature 0.5:\n",
            "You are my sunshine, and the gods will be so short that I am there,\n",
            "and my lord is no more father than your son. I am not so sorry to be\n",
            "father for your good honour. I am not the part of the King, nor the\n",
            "King is not the good truth. I am not sorry for you, but I think you would\n",
            "be a man of man that you have in the commonwealth. I have not seen you\n",
            "there.” And then she went to the countess, looking at her in a front,\n",
            "she saw that the countess was a strange tender body of her father and\n",
            "a sword who had been already sent to her. She saw the sky and saw the\n",
            "soldier who had been supposed to her son in the army and Natásha took\n",
            "part of her hat and entered the sky. When he had been drowned and the\n",
            "princess for it, Prince Andrew looked at the same time to him. He\n",
            "saw him in his arms and was standing in a sight of sight for his father’s\n",
            "reports and instantly starting the little princess, and at the last\n",
            "time the princess was still there was no longer than the little prince\n",
            "and the maid who had been seen to the bridge \n",
            "--------------------------------------------------------------------------------\n",
            "Generated text saved to /content/drive/MyDrive/Colab Notebooks/ESE546/hw3/generated_text_attention_You a_temp_0.5.txt\n",
            "\n",
            "Temperature 1.0:\n",
            "You are my sunshine—\n",
            "\n",
            "PAGE.\n",
            "So say you were my master by my safety—I fought and have not aught unto\n",
            "my door. If I do go, I shall not live. Do not speak that?\n",
            "\n",
            "MALVOLIO.\n",
            "Forsooth, it was. He was not only afraid, though a fine, I see. I saw\n",
            "it all the same. At your same plan the greatness of France he thought\n",
            "to move that the Emperor would have been flapped to Prince Andrew’s work,\n",
            "and in his little passage correct his horse with his horse eking with\n",
            "him, then he knew that he was going to go away from Prince Andrew and\n",
            "that was a good voice. Meaning a word as he knew, the contemplation of a\n",
            "manner was sitting amongst the mystery.\n",
            "\n",
            "“I don’t till I should be light... Young lads, wrong on yourself!”\n",
            "\n",
            "And the princess began to die, turning up, frowning to Pierre and\n",
            "his hands were going toward him and, ontimidly kissing her, she leaned from her\n",
            "eyes for light.\n",
            "\n",
            "Then rose at Pierre felt in the study before him. His own way studying\n",
            "her change struck hairs and roe nearer to the study. Balashëv stood a\n",
            "ticture annoyan\n",
            "--------------------------------------------------------------------------------\n",
            "Generated text saved to /content/drive/MyDrive/Colab Notebooks/ESE546/hw3/generated_text_attention_You a_temp_1.0.txt\n",
            "\n",
            "Prompt: She was more like a beauty queen from a movie scene.\n",
            "\n",
            "Temperature 0.1:\n",
            "She was more like a beauty queen from a movie scene. The countess\n",
            "was a strange thing that she was a strange thing to be a strange and\n",
            "a strange thing that she was a strange and a strange and a strange and\n",
            "a strange strange and a strange and a strange strange and a strange strange\n",
            "strength of the strength of the strength of the strength of the streets\n",
            "of the streets and the streets of the streets and the streets of the\n",
            "streets were standing in the streets of the streets and the streets\n",
            "were standing at the streets and the streets were standing at the streets\n",
            "and the streets were standing in the streets and the streets were\n",
            "standing in the streets and the streets were standing in the streets.\n",
            "\n",
            "The streets were standing in the streets and the streets were standing\n",
            "in the streets of the streets which he had been seen the streets of\n",
            "the staff and the staff officers were standing by the staff officers,\n",
            "and the staff officers were standing at the staff officers and the\n",
            "staff officers were standing at the staff offi\n",
            "--------------------------------------------------------------------------------\n",
            "Generated text saved to /content/drive/MyDrive/Colab Notebooks/ESE546/hw3/generated_text_attention_She w_temp_0.1.txt\n",
            "\n",
            "Temperature 0.5:\n",
            "She was more like a beauty queen from a movie scene. She\n",
            "felt that the man was in a long time that she was sitting down by the\n",
            "sound, she saw the sight of the room and saw the commander in chief of\n",
            "the staff conversation. The two months of the sounds and sounds of\n",
            "great terrors were sent to them. They were to leave the commanders in\n",
            "chief’s arm and the services to the general commander in chief and\n",
            "disposition of the latter to the Russian army, the campaign were\n",
            "taken place of the regiment where the campaign was not at the other army\n",
            "with the two of the men who was already sitting down and saw one of the\n",
            "two months of the guests, and one of the two months and the states of the\n",
            "whole regiment he had not been degreed on the side of the countess’ house\n",
            "with the men who had been given to the face of the details and the\n",
            "great subject of the service who had left the room and his voice were\n",
            "already considering the enemy and the troops of the conversation and\n",
            "his presence for the house of the time they had been heard\n",
            "--------------------------------------------------------------------------------\n",
            "Generated text saved to /content/drive/MyDrive/Colab Notebooks/ESE546/hw3/generated_text_attention_She w_temp_0.5.txt\n",
            "\n",
            "Temperature 1.0:\n",
            "She was more like a beauty queen from a movie scene.\n",
            "\n",
            "Now following her for it.\n",
            "\n",
            "Pierre’s body came into her hand than her wife and had pitied her: in\n",
            "her hand the rest before she left him her maid, expecting silence\n",
            "that she felt his story not turned out to her way to the castle.\n",
            "But from the dinner the room (the princess loved her, placed her from Prince\n",
            "Vasíli with a smile before. “Eh, it’s a brief great young lady,\n",
            "she heard him at Austria of his father’s elf-... the great day with\n",
            "all the sounds of the beautiful thought of men.”\n",
            "\n",
            "The French stars had waited the same cause, and a cannon brightened,\n",
            "expressed his husband to strute. “Go to, if I should tell myself\n",
            "talk to him. And will I do the master—what woman should have done! How\n",
            "should I remember him? I beseech you, fair sir; let me get it in.\n",
            "\n",
            "DOGBERRY.\n",
            "I am so heavy.\n",
            "\n",
            "BARDOLPH.\n",
            "You should not have spoke of. I will be here of rash and stoop. Will you\n",
            "till there be some most way?\n",
            "\n",
            "PRINCE.\n",
            "We’ll see you are too barbarous.\n",
            "\n",
            "FALSTAFF.\n",
            "Let my heart?\n",
            "\n",
            "HOST.\n",
            "--------------------------------------------------------------------------------\n",
            "Generated text saved to /content/drive/MyDrive/Colab Notebooks/ESE546/hw3/generated_text_attention_She w_temp_1.0.txt\n",
            "\n",
            "Prompt: The dominant sequence transduction models are based on complex recurrent or convolutional neural networks \n",
            "\n",
            "Temperature 0.1:\n",
            "The dominant sequence transduction models are based on complex recurrent or convolutional neural networks of\n",
            "the sounds of the state of the state of the state of the state of the\n",
            "two months and the state of the state of the state of the state of the\n",
            "state of the state of the French army and the state of the state of the\n",
            "Russian army and the army was standing in the state of the French army\n",
            "and the army was already sent to the Russian army. The staff officers\n",
            "were standing at the staff officers and the staff officers were standing\n",
            "in the staff officers, and the staff officers were standing in the\n",
            "streets and the staff officers were standing at the staff officers, and\n",
            "the staff officers were taking the staff officers and the staff officers\n",
            "who had been sent to the staff officers and the staff officers were\n",
            "standing at the staff officers, and the staff officers were standing in\n",
            "the staff officers and the staff officers were standing in the staff\n",
            "officers. The soldiers were standing at the staff officers and the\n",
            "\n",
            "--------------------------------------------------------------------------------\n",
            "Generated text saved to /content/drive/MyDrive/Colab Notebooks/ESE546/hw3/generated_text_attention_The d_temp_0.1.txt\n",
            "\n",
            "Temperature 0.5:\n",
            "The dominant sequence transduction models are based on complex recurrent or convolutional neural networks on\n",
            "the streets of the war, the former wind of the contrary and the gun.\n",
            "\n",
            "The regiment came into the field of the war, and the contrary to be\n",
            "seen the regiment of the order to have been drawn the room to the battlefield\n",
            "and to the princess’ guide of his son, and he was suddenly still since\n",
            "the house was seeing the staff officer and the other princess.\n",
            "\n",
            "“I am a guilty position of powers and you are coming to the Emperor and\n",
            "the other regiment that have been seen.”\n",
            "\n",
            "“Well, what are you thinking of the troops?” said Pierre.\n",
            "\n",
            "“Oh, you have been seen the way of one another man’s son’s house, but\n",
            "what a same time?”\n",
            "\n",
            "“No! No, Natásha is not that same and that he doesn’t know what I have\n",
            "done and what I have done to say to the consciousness of the same time\n",
            "of my father’s thoughts, and I am not here with the good young man,\n",
            "and that I will speak to him and have the cause to do it. The good youth\n",
            "is all said to him\n",
            "--------------------------------------------------------------------------------\n",
            "Generated text saved to /content/drive/MyDrive/Colab Notebooks/ESE546/hw3/generated_text_attention_The d_temp_0.5.txt\n",
            "\n",
            "Temperature 1.0:\n",
            "The dominant sequence transduction models are based on complex recurrent or convolutional neural networks a\n",
            "servant to the conductions of Bezúkhov’s order.\n",
            "\n",
            "She let no longer be of the country! Kutúzov let me stand boast\n",
            "and constantly and consider what she has said, why then I am now ready\n",
            "to attack you, my friend was telling me where I seemed to say what you\n",
            "wanted?”\n",
            "\n",
            "“You are not a basis-walled friend; though only you are a round-man,\n",
            "yet I was not spent,” replied Bolkónski. “You know a same society\n",
            "that you entered from the bridge and thinking of distinction—to the\n",
            "delight pocket, to the conversation of the fourteenth a hundred rule of\n",
            "his presences and the other inspiring where he had flown it about the\n",
            "house.\n",
            "\n",
            "Dólokhov recognized Nesvítski, with his careful prompting influence\n",
            "like wounded day zeal and the flight of his face with traveled his\n",
            "boots then closed the door, and only he continued the staff officer to\n",
            "restore them more and could be told now than the first hundred thousand\n",
            "nurses. Prince Andre\n",
            "--------------------------------------------------------------------------------\n",
            "Generated text saved to /content/drive/MyDrive/Colab Notebooks/ESE546/hw3/generated_text_attention_The d_temp_1.0.txt\n"
          ]
        }
      ],
      "source": [
        "def generate_text_transformer(model, start_text, char_to_index, index_to_char, max_length=1024, temperature=1.0):\n",
        "    model.eval()\n",
        "    with torch.no_grad():\n",
        "        # Convert start text to indices\n",
        "        context = torch.tensor([[char_to_index[c] for c in start_text]], dtype=torch.long).to(device)\n",
        "        generated_text = start_text\n",
        "\n",
        "        # Generate one character at a time\n",
        "        for i in range(max_length - len(start_text)):\n",
        "            # # Create attention mask\n",
        "            # seq_len = context.size(1)\n",
        "            # src_mask = generate_square_subsequent_mask(seq_len).to(device)\n",
        "\n",
        "            # Get model predictions\n",
        "            output = model(context)\n",
        "\n",
        "            # Get predictions for the next character\n",
        "            next_token_logits = output[0, -1, :] / temperature\n",
        "            # Apply softmax to convert logits to probabilities\n",
        "            next_token_probs = torch.softmax(next_token_logits, dim=-1)\n",
        "            # Sample from the distribution\n",
        "            next_token = torch.multinomial(next_token_probs, 1)[0]\n",
        "\n",
        "            # Convert to character and append to result\n",
        "            if next_token.item() in index_to_char:\n",
        "                next_char = index_to_char[next_token.item()]\n",
        "                generated_text += next_char\n",
        "\n",
        "                # Append the new token to the context\n",
        "                context = torch.cat([context, next_token.unsqueeze(0).unsqueeze(0)], dim=1)\n",
        "\n",
        "                # Optional: Truncate context if it gets too long\n",
        "                if context.size(1) >= 128:  # Keep last 128 characters as context\n",
        "                    context = context[:, -128:]\n",
        "\n",
        "    return generated_text\n",
        "\n",
        "def save_text_to_file(text, filename):\n",
        "    with open(filename, 'w', encoding='utf-8') as f:\n",
        "        f.write(text)\n",
        "\n",
        "# Generate text with different temperatures\n",
        "test_prompts = [\n",
        "    \"Heads up! The tr\",\n",
        "    \"You are my sunsh\",\n",
        "    \"She was more like a beauty queen from a movie scene.\",\n",
        "    \"The dominant sequence transduction models are based on complex recurrent or convolutional neural networks \",\n",
        "]\n",
        "\n",
        "print(\"\\nGenerating text with different temperatures:\")\n",
        "temperatures = [0.1, 0.5, 1.0]\n",
        "\n",
        "for prompt in test_prompts:\n",
        "    print(f\"\\nPrompt: {prompt}\")\n",
        "    for temp in temperatures:\n",
        "        generated = generate_text_transformer(\n",
        "            loaded_model,\n",
        "            prompt,\n",
        "            loaded_char_to_index,\n",
        "            loaded_index_to_char,\n",
        "            max_length=1024,\n",
        "            temperature=temp\n",
        "        )\n",
        "        print(f\"\\nTemperature {temp}:\")\n",
        "        print(generated)\n",
        "        print(\"-\" * 80)\n",
        "\n",
        "        # Save generated text to file\n",
        "        filename = f\"{dir_root}/generated_text_attention_{prompt[:5]}_temp_{temp}.txt\"\n",
        "        save_text_to_file(generated, filename)\n",
        "        print(f\"Generated text saved to {filename}\")"
      ]
    },
    {
      "cell_type": "code",
      "execution_count": null,
      "id": "2abf0f5f",
      "metadata": {
        "id": "2abf0f5f"
      },
      "outputs": [],
      "source": [
        "# Shut down if it's google colab\n",
        "# First sleep for a while so that changes to the notebook are saved\n",
        "import time\n",
        "time.sleep(10)\n",
        "\n",
        "if 'google.colab' in str(get_ipython()):\n",
        "    from google.colab import runtime\n",
        "    runtime.unassign()"
      ]
    }
  ],
  "metadata": {
    "accelerator": "GPU",
    "colab": {
      "gpuType": "L4",
      "machine_shape": "hm",
      "provenance": []
    },
    "kernelspec": {
      "display_name": ".venv",
      "language": "python",
      "name": "python3"
    },
    "language_info": {
      "codemirror_mode": {
        "name": "ipython",
        "version": 3
      },
      "file_extension": ".py",
      "mimetype": "text/x-python",
      "name": "python",
      "nbconvert_exporter": "python",
      "pygments_lexer": "ipython3",
      "version": "3.8.10"
    }
  },
  "nbformat": 4,
  "nbformat_minor": 5
}
